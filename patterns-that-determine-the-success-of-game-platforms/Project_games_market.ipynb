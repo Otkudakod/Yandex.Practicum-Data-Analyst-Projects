{
 "cells": [
  {
   "cell_type": "markdown",
   "metadata": {},
   "source": [
    "# Проект.   Изучение рынка компьтерных игр и перспективных платформ за 2016 год"
   ]
  },
  {
   "cell_type": "markdown",
   "metadata": {},
   "source": [
    "<b>Целью проекта является выявление закономерностей, определяющих успех компьютерной игры на различных платформах с перспективой построения успешной рекламной компании, а так же определения трендов на рынке на 2017 год.</b>"
   ]
  },
  {
   "cell_type": "markdown",
   "metadata": {},
   "source": [
    "<style>\n",
    "ul li ul li {\n",
    "    margin-left: 10px;\n",
    "    list-style-type: circle;\n",
    "}\n",
    "</style>\n",
    "\n",
    "<a id='top'></a>\n",
    "<h1>Содержание</h1>\n",
    "<ul>\n",
    "<li><a href=\"#section1\">1. Изучим данные</a></li>\n",
    "<li><a href=\"#section2\">2. Предобработка данных</a></li>\n",
    "<li><a href=\"#section3\">3. Исследовательский анализ данных</a>\n",
    "    <ul><li><a href=\"#subheading1\">Сколько игр выпускалось в разные годы</a></li></ul>\n",
    "    <ul><li><a href=\"#subheading2\">Продажи по платформам</a></li></ul>\n",
    "    <ul><li><a href=\"#subheading3\">Продажи по популярным платформам</a></li></ul>\n",
    "    <ul><li><a href=\"#subheading4\">Анализ PS4</a></li></ul>\n",
    "    <ul><li><a href=\"#subheading5\">Зависимость продаж от отзывов на всех популярнх платформах</a></li></ul>\n",
    "    <ul><li><a href=\"#subheading6\">Распределение игр по жанрам</a></li></ul>\n",
    "     \n",
    "</li>\n",
    "<li><a href=\"#section4\">4. Потрет пользователя по регионам</a></li>\n",
    "<li><a href=\"#section5\">5. Проверка гипотез</a></li>\n",
    "<li><a href=\"#section6\">6. Общий вывод</a></li>\n",
    "</ul>"
   ]
  },
  {
   "cell_type": "markdown",
   "metadata": {},
   "source": [
    "# Изучим данные\n",
    "<a id='section1'></a>\n",
    "<ul>\n",
    "<a href=\"#top\">К содержанию</a>\n",
    "</ul>"
   ]
  },
  {
   "cell_type": "markdown",
   "metadata": {},
   "source": [
    "У нас в распоряжении датасет с данными до 2016 года. Подобный анализ возможно проводить и для других лет, алгоритм универсален."
   ]
  },
  {
   "cell_type": "code",
   "execution_count": 1,
   "metadata": {},
   "outputs": [],
   "source": [
    "import pandas as pd\n",
    "import numpy as np\n",
    "import matplotlib.pyplot as plt\n",
    "import seaborn as sns\n",
    "from scipy import stats as st\n",
    "import scipy.stats"
   ]
  },
  {
   "cell_type": "code",
   "execution_count": 2,
   "metadata": {},
   "outputs": [],
   "source": [
    "df = pd.read_csv('/datasets/games.csv')"
   ]
  },
  {
   "cell_type": "code",
   "execution_count": 3,
   "metadata": {},
   "outputs": [
    {
     "data": {
      "text/html": [
       "<div>\n",
       "<style scoped>\n",
       "    .dataframe tbody tr th:only-of-type {\n",
       "        vertical-align: middle;\n",
       "    }\n",
       "\n",
       "    .dataframe tbody tr th {\n",
       "        vertical-align: top;\n",
       "    }\n",
       "\n",
       "    .dataframe thead th {\n",
       "        text-align: right;\n",
       "    }\n",
       "</style>\n",
       "<table border=\"1\" class=\"dataframe\">\n",
       "  <thead>\n",
       "    <tr style=\"text-align: right;\">\n",
       "      <th></th>\n",
       "      <th>Name</th>\n",
       "      <th>Platform</th>\n",
       "      <th>Year_of_Release</th>\n",
       "      <th>Genre</th>\n",
       "      <th>NA_sales</th>\n",
       "      <th>EU_sales</th>\n",
       "      <th>JP_sales</th>\n",
       "      <th>Other_sales</th>\n",
       "      <th>Critic_Score</th>\n",
       "      <th>User_Score</th>\n",
       "      <th>Rating</th>\n",
       "    </tr>\n",
       "  </thead>\n",
       "  <tbody>\n",
       "    <tr>\n",
       "      <th>0</th>\n",
       "      <td>Wii Sports</td>\n",
       "      <td>Wii</td>\n",
       "      <td>2006.0</td>\n",
       "      <td>Sports</td>\n",
       "      <td>41.36</td>\n",
       "      <td>28.96</td>\n",
       "      <td>3.77</td>\n",
       "      <td>8.45</td>\n",
       "      <td>76.0</td>\n",
       "      <td>8</td>\n",
       "      <td>E</td>\n",
       "    </tr>\n",
       "    <tr>\n",
       "      <th>1</th>\n",
       "      <td>Super Mario Bros.</td>\n",
       "      <td>NES</td>\n",
       "      <td>1985.0</td>\n",
       "      <td>Platform</td>\n",
       "      <td>29.08</td>\n",
       "      <td>3.58</td>\n",
       "      <td>6.81</td>\n",
       "      <td>0.77</td>\n",
       "      <td>NaN</td>\n",
       "      <td>NaN</td>\n",
       "      <td>NaN</td>\n",
       "    </tr>\n",
       "    <tr>\n",
       "      <th>2</th>\n",
       "      <td>Mario Kart Wii</td>\n",
       "      <td>Wii</td>\n",
       "      <td>2008.0</td>\n",
       "      <td>Racing</td>\n",
       "      <td>15.68</td>\n",
       "      <td>12.76</td>\n",
       "      <td>3.79</td>\n",
       "      <td>3.29</td>\n",
       "      <td>82.0</td>\n",
       "      <td>8.3</td>\n",
       "      <td>E</td>\n",
       "    </tr>\n",
       "    <tr>\n",
       "      <th>3</th>\n",
       "      <td>Wii Sports Resort</td>\n",
       "      <td>Wii</td>\n",
       "      <td>2009.0</td>\n",
       "      <td>Sports</td>\n",
       "      <td>15.61</td>\n",
       "      <td>10.93</td>\n",
       "      <td>3.28</td>\n",
       "      <td>2.95</td>\n",
       "      <td>80.0</td>\n",
       "      <td>8</td>\n",
       "      <td>E</td>\n",
       "    </tr>\n",
       "    <tr>\n",
       "      <th>4</th>\n",
       "      <td>Pokemon Red/Pokemon Blue</td>\n",
       "      <td>GB</td>\n",
       "      <td>1996.0</td>\n",
       "      <td>Role-Playing</td>\n",
       "      <td>11.27</td>\n",
       "      <td>8.89</td>\n",
       "      <td>10.22</td>\n",
       "      <td>1.00</td>\n",
       "      <td>NaN</td>\n",
       "      <td>NaN</td>\n",
       "      <td>NaN</td>\n",
       "    </tr>\n",
       "  </tbody>\n",
       "</table>\n",
       "</div>"
      ],
      "text/plain": [
       "                       Name Platform  Year_of_Release         Genre  NA_sales  \\\n",
       "0                Wii Sports      Wii           2006.0        Sports     41.36   \n",
       "1         Super Mario Bros.      NES           1985.0      Platform     29.08   \n",
       "2            Mario Kart Wii      Wii           2008.0        Racing     15.68   \n",
       "3         Wii Sports Resort      Wii           2009.0        Sports     15.61   \n",
       "4  Pokemon Red/Pokemon Blue       GB           1996.0  Role-Playing     11.27   \n",
       "\n",
       "   EU_sales  JP_sales  Other_sales  Critic_Score User_Score Rating  \n",
       "0     28.96      3.77         8.45          76.0          8      E  \n",
       "1      3.58      6.81         0.77           NaN        NaN    NaN  \n",
       "2     12.76      3.79         3.29          82.0        8.3      E  \n",
       "3     10.93      3.28         2.95          80.0          8      E  \n",
       "4      8.89     10.22         1.00           NaN        NaN    NaN  "
      ]
     },
     "execution_count": 3,
     "metadata": {},
     "output_type": "execute_result"
    }
   ],
   "source": [
    "df.head()"
   ]
  },
  {
   "cell_type": "code",
   "execution_count": 4,
   "metadata": {},
   "outputs": [
    {
     "name": "stdout",
     "output_type": "stream",
     "text": [
      "<class 'pandas.core.frame.DataFrame'>\n",
      "RangeIndex: 16715 entries, 0 to 16714\n",
      "Data columns (total 11 columns):\n",
      " #   Column           Non-Null Count  Dtype  \n",
      "---  ------           --------------  -----  \n",
      " 0   Name             16713 non-null  object \n",
      " 1   Platform         16715 non-null  object \n",
      " 2   Year_of_Release  16446 non-null  float64\n",
      " 3   Genre            16713 non-null  object \n",
      " 4   NA_sales         16715 non-null  float64\n",
      " 5   EU_sales         16715 non-null  float64\n",
      " 6   JP_sales         16715 non-null  float64\n",
      " 7   Other_sales      16715 non-null  float64\n",
      " 8   Critic_Score     8137 non-null   float64\n",
      " 9   User_Score       10014 non-null  object \n",
      " 10  Rating           9949 non-null   object \n",
      "dtypes: float64(6), object(5)\n",
      "memory usage: 1.4+ MB\n"
     ]
    }
   ],
   "source": [
    "df.info()"
   ]
  },
  {
   "cell_type": "code",
   "execution_count": 5,
   "metadata": {},
   "outputs": [
    {
     "data": {
      "text/plain": [
       "Name                  2\n",
       "Platform              0\n",
       "Year_of_Release     269\n",
       "Genre                 2\n",
       "NA_sales              0\n",
       "EU_sales              0\n",
       "JP_sales              0\n",
       "Other_sales           0\n",
       "Critic_Score       8578\n",
       "User_Score         6701\n",
       "Rating             6766\n",
       "dtype: int64"
      ]
     },
     "execution_count": 5,
     "metadata": {},
     "output_type": "execute_result"
    }
   ],
   "source": [
    "df.isna().sum()"
   ]
  },
  {
   "cell_type": "markdown",
   "metadata": {},
   "source": [
    "# Предобработка данных\n",
    "<a id='section2'></a>\n",
    "<ul>\n",
    "<a href=\"#top\">К содержанию</a>\n",
    "</ul>"
   ]
  },
  {
   "cell_type": "code",
   "execution_count": 7,
   "metadata": {},
   "outputs": [
    {
     "data": {
      "text/plain": [
       "Index(['name', 'platform', 'year_of_release', 'genre', 'na_sales', 'eu_sales',\n",
       "       'jp_sales', 'other_sales', 'critic_score', 'user_score', 'rating'],\n",
       "      dtype='object')"
      ]
     },
     "execution_count": 7,
     "metadata": {},
     "output_type": "execute_result"
    }
   ],
   "source": [
    "#заменим названия столбцов (приведем к нижнему регистру)\n",
    "df.columns = df.columns.str.lower()\n",
    "#проверим замену\n",
    "df.columns"
   ]
  },
  {
   "cell_type": "code",
   "execution_count": 8,
   "metadata": {},
   "outputs": [],
   "source": [
    "#заменим типы данных\n",
    "#год - всегда целое значение\n",
    "df['year_of_release'] = df['year_of_release'].astype(pd.Int64Dtype())"
   ]
  },
  {
   "cell_type": "code",
   "execution_count": 9,
   "metadata": {},
   "outputs": [
    {
     "data": {
      "text/plain": [
       "array(['8', nan, '8.3', '8.5', '6.6', '8.4', '8.6', '7.7', '6.3', '7.4',\n",
       "       '8.2', '9', '7.9', '8.1', '8.7', '7.1', '3.4', '5.3', '4.8', '3.2',\n",
       "       '8.9', '6.4', '7.8', '7.5', '2.6', '7.2', '9.2', '7', '7.3', '4.3',\n",
       "       '7.6', '5.7', '5', '9.1', '6.5', 'tbd', '8.8', '6.9', '9.4', '6.8',\n",
       "       '6.1', '6.7', '5.4', '4', '4.9', '4.5', '9.3', '6.2', '4.2', '6',\n",
       "       '3.7', '4.1', '5.8', '5.6', '5.5', '4.4', '4.6', '5.9', '3.9',\n",
       "       '3.1', '2.9', '5.2', '3.3', '4.7', '5.1', '3.5', '2.5', '1.9', '3',\n",
       "       '2.7', '2.2', '2', '9.5', '2.1', '3.6', '2.8', '1.8', '3.8', '0',\n",
       "       '1.6', '9.6', '2.4', '1.7', '1.1', '0.3', '1.5', '0.7', '1.2',\n",
       "       '2.3', '0.5', '1.3', '0.2', '0.6', '1.4', '0.9', '1', '9.7'],\n",
       "      dtype=object)"
      ]
     },
     "execution_count": 9,
     "metadata": {},
     "output_type": "execute_result"
    }
   ],
   "source": [
    "#рейтинг пользователей  - преобразуем в тип Float, при попытке преобразовать тип появилось значение 'tbd',\n",
    "#рассмотрим детально что это такое \n",
    "df['user_score'].unique()"
   ]
  },
  {
   "cell_type": "code",
   "execution_count": 10,
   "metadata": {},
   "outputs": [
    {
     "data": {
      "text/html": [
       "<div>\n",
       "<style scoped>\n",
       "    .dataframe tbody tr th:only-of-type {\n",
       "        vertical-align: middle;\n",
       "    }\n",
       "\n",
       "    .dataframe tbody tr th {\n",
       "        vertical-align: top;\n",
       "    }\n",
       "\n",
       "    .dataframe thead th {\n",
       "        text-align: right;\n",
       "    }\n",
       "</style>\n",
       "<table border=\"1\" class=\"dataframe\">\n",
       "  <thead>\n",
       "    <tr style=\"text-align: right;\">\n",
       "      <th></th>\n",
       "      <th>name</th>\n",
       "      <th>platform</th>\n",
       "      <th>year_of_release</th>\n",
       "      <th>genre</th>\n",
       "      <th>na_sales</th>\n",
       "      <th>eu_sales</th>\n",
       "      <th>jp_sales</th>\n",
       "      <th>other_sales</th>\n",
       "      <th>critic_score</th>\n",
       "      <th>user_score</th>\n",
       "      <th>rating</th>\n",
       "    </tr>\n",
       "  </thead>\n",
       "  <tbody>\n",
       "    <tr>\n",
       "      <th>119</th>\n",
       "      <td>Zumba Fitness</td>\n",
       "      <td>Wii</td>\n",
       "      <td>2010</td>\n",
       "      <td>Sports</td>\n",
       "      <td>3.45</td>\n",
       "      <td>2.59</td>\n",
       "      <td>0.0</td>\n",
       "      <td>0.66</td>\n",
       "      <td>NaN</td>\n",
       "      <td>tbd</td>\n",
       "      <td>E</td>\n",
       "    </tr>\n",
       "    <tr>\n",
       "      <th>301</th>\n",
       "      <td>Namco Museum: 50th Anniversary</td>\n",
       "      <td>PS2</td>\n",
       "      <td>2005</td>\n",
       "      <td>Misc</td>\n",
       "      <td>2.08</td>\n",
       "      <td>1.35</td>\n",
       "      <td>0.0</td>\n",
       "      <td>0.54</td>\n",
       "      <td>61.0</td>\n",
       "      <td>tbd</td>\n",
       "      <td>E10+</td>\n",
       "    </tr>\n",
       "    <tr>\n",
       "      <th>520</th>\n",
       "      <td>Zumba Fitness 2</td>\n",
       "      <td>Wii</td>\n",
       "      <td>2011</td>\n",
       "      <td>Sports</td>\n",
       "      <td>1.51</td>\n",
       "      <td>1.03</td>\n",
       "      <td>0.0</td>\n",
       "      <td>0.27</td>\n",
       "      <td>NaN</td>\n",
       "      <td>tbd</td>\n",
       "      <td>T</td>\n",
       "    </tr>\n",
       "    <tr>\n",
       "      <th>645</th>\n",
       "      <td>uDraw Studio</td>\n",
       "      <td>Wii</td>\n",
       "      <td>2010</td>\n",
       "      <td>Misc</td>\n",
       "      <td>1.65</td>\n",
       "      <td>0.57</td>\n",
       "      <td>0.0</td>\n",
       "      <td>0.20</td>\n",
       "      <td>71.0</td>\n",
       "      <td>tbd</td>\n",
       "      <td>E</td>\n",
       "    </tr>\n",
       "    <tr>\n",
       "      <th>657</th>\n",
       "      <td>Frogger's Adventures: Temple of the Frog</td>\n",
       "      <td>GBA</td>\n",
       "      <td>&lt;NA&gt;</td>\n",
       "      <td>Adventure</td>\n",
       "      <td>2.15</td>\n",
       "      <td>0.18</td>\n",
       "      <td>0.0</td>\n",
       "      <td>0.07</td>\n",
       "      <td>73.0</td>\n",
       "      <td>tbd</td>\n",
       "      <td>E</td>\n",
       "    </tr>\n",
       "    <tr>\n",
       "      <th>...</th>\n",
       "      <td>...</td>\n",
       "      <td>...</td>\n",
       "      <td>...</td>\n",
       "      <td>...</td>\n",
       "      <td>...</td>\n",
       "      <td>...</td>\n",
       "      <td>...</td>\n",
       "      <td>...</td>\n",
       "      <td>...</td>\n",
       "      <td>...</td>\n",
       "      <td>...</td>\n",
       "    </tr>\n",
       "    <tr>\n",
       "      <th>16695</th>\n",
       "      <td>Planet Monsters</td>\n",
       "      <td>GBA</td>\n",
       "      <td>2001</td>\n",
       "      <td>Action</td>\n",
       "      <td>0.01</td>\n",
       "      <td>0.00</td>\n",
       "      <td>0.0</td>\n",
       "      <td>0.00</td>\n",
       "      <td>67.0</td>\n",
       "      <td>tbd</td>\n",
       "      <td>E</td>\n",
       "    </tr>\n",
       "    <tr>\n",
       "      <th>16697</th>\n",
       "      <td>Bust-A-Move 3000</td>\n",
       "      <td>GC</td>\n",
       "      <td>2003</td>\n",
       "      <td>Puzzle</td>\n",
       "      <td>0.01</td>\n",
       "      <td>0.00</td>\n",
       "      <td>0.0</td>\n",
       "      <td>0.00</td>\n",
       "      <td>53.0</td>\n",
       "      <td>tbd</td>\n",
       "      <td>E</td>\n",
       "    </tr>\n",
       "    <tr>\n",
       "      <th>16698</th>\n",
       "      <td>Mega Brain Boost</td>\n",
       "      <td>DS</td>\n",
       "      <td>2008</td>\n",
       "      <td>Puzzle</td>\n",
       "      <td>0.01</td>\n",
       "      <td>0.00</td>\n",
       "      <td>0.0</td>\n",
       "      <td>0.00</td>\n",
       "      <td>48.0</td>\n",
       "      <td>tbd</td>\n",
       "      <td>E</td>\n",
       "    </tr>\n",
       "    <tr>\n",
       "      <th>16704</th>\n",
       "      <td>Plushees</td>\n",
       "      <td>DS</td>\n",
       "      <td>2008</td>\n",
       "      <td>Simulation</td>\n",
       "      <td>0.01</td>\n",
       "      <td>0.00</td>\n",
       "      <td>0.0</td>\n",
       "      <td>0.00</td>\n",
       "      <td>NaN</td>\n",
       "      <td>tbd</td>\n",
       "      <td>E</td>\n",
       "    </tr>\n",
       "    <tr>\n",
       "      <th>16706</th>\n",
       "      <td>Men in Black II: Alien Escape</td>\n",
       "      <td>GC</td>\n",
       "      <td>2003</td>\n",
       "      <td>Shooter</td>\n",
       "      <td>0.01</td>\n",
       "      <td>0.00</td>\n",
       "      <td>0.0</td>\n",
       "      <td>0.00</td>\n",
       "      <td>NaN</td>\n",
       "      <td>tbd</td>\n",
       "      <td>T</td>\n",
       "    </tr>\n",
       "  </tbody>\n",
       "</table>\n",
       "<p>2424 rows × 11 columns</p>\n",
       "</div>"
      ],
      "text/plain": [
       "                                           name platform  year_of_release  \\\n",
       "119                               Zumba Fitness      Wii             2010   \n",
       "301              Namco Museum: 50th Anniversary      PS2             2005   \n",
       "520                             Zumba Fitness 2      Wii             2011   \n",
       "645                                uDraw Studio      Wii             2010   \n",
       "657    Frogger's Adventures: Temple of the Frog      GBA             <NA>   \n",
       "...                                         ...      ...              ...   \n",
       "16695                           Planet Monsters      GBA             2001   \n",
       "16697                          Bust-A-Move 3000       GC             2003   \n",
       "16698                          Mega Brain Boost       DS             2008   \n",
       "16704                                  Plushees       DS             2008   \n",
       "16706             Men in Black II: Alien Escape       GC             2003   \n",
       "\n",
       "            genre  na_sales  eu_sales  jp_sales  other_sales  critic_score  \\\n",
       "119        Sports      3.45      2.59       0.0         0.66           NaN   \n",
       "301          Misc      2.08      1.35       0.0         0.54          61.0   \n",
       "520        Sports      1.51      1.03       0.0         0.27           NaN   \n",
       "645          Misc      1.65      0.57       0.0         0.20          71.0   \n",
       "657     Adventure      2.15      0.18       0.0         0.07          73.0   \n",
       "...           ...       ...       ...       ...          ...           ...   \n",
       "16695      Action      0.01      0.00       0.0         0.00          67.0   \n",
       "16697      Puzzle      0.01      0.00       0.0         0.00          53.0   \n",
       "16698      Puzzle      0.01      0.00       0.0         0.00          48.0   \n",
       "16704  Simulation      0.01      0.00       0.0         0.00           NaN   \n",
       "16706     Shooter      0.01      0.00       0.0         0.00           NaN   \n",
       "\n",
       "      user_score rating  \n",
       "119          tbd      E  \n",
       "301          tbd   E10+  \n",
       "520          tbd      T  \n",
       "645          tbd      E  \n",
       "657          tbd      E  \n",
       "...          ...    ...  \n",
       "16695        tbd      E  \n",
       "16697        tbd      E  \n",
       "16698        tbd      E  \n",
       "16704        tbd      E  \n",
       "16706        tbd      T  \n",
       "\n",
       "[2424 rows x 11 columns]"
      ]
     },
     "execution_count": 10,
     "metadata": {},
     "output_type": "execute_result"
    }
   ],
   "source": [
    "df[df['user_score'] == 'tbd']"
   ]
  },
  {
   "cell_type": "code",
   "execution_count": 11,
   "metadata": {},
   "outputs": [],
   "source": [
    "# заменим значения на nan\n",
    "df.loc[df['user_score'] == 'tbd', 'user_score'] = np.nan"
   ]
  },
  {
   "cell_type": "code",
   "execution_count": 12,
   "metadata": {},
   "outputs": [],
   "source": [
    "#конвертируем в тип float\n",
    "df['user_score'] = df['user_score'].astype('float')"
   ]
  },
  {
   "cell_type": "code",
   "execution_count": 13,
   "metadata": {},
   "outputs": [],
   "source": [
    "#заполним пропуски в столбце рейтинга пользователя нулями\n",
    "df['user_score'] = df['user_score'].fillna(0)"
   ]
  },
  {
   "cell_type": "code",
   "execution_count": 14,
   "metadata": {},
   "outputs": [],
   "source": [
    "#заполним пропуски в столбце рейтинга критиков нулями\n",
    "df['critic_score'] = df['critic_score'].fillna(0)"
   ]
  },
  {
   "cell_type": "code",
   "execution_count": 15,
   "metadata": {},
   "outputs": [],
   "source": [
    "#заполним пропуски в столбце возрастного рейтинга нулями\n",
    "df['rating'] = df['rating'].fillna('no_rating')"
   ]
  },
  {
   "cell_type": "markdown",
   "metadata": {},
   "source": [
    "<div class=\"alert-success\"> \n",
    "\n",
    "Рейтинг ползователей и рейтинг критиков достаточно изменчивое поннятие, одна и та же игра на разных игровых платформах может иметь диаметрально противоположные рейтинги.   \n",
    " </div>"
   ]
  },
  {
   "cell_type": "markdown",
   "metadata": {},
   "source": [
    "Заменим все пропуски на нули, чтобы не потерять остальные данные. Заменять данные средними значениями нет никакого смысла. Возрастной рейтинг поменяем на значение-заглушку \"no_rating\"   "
   ]
  },
  {
   "cell_type": "code",
   "execution_count": 16,
   "metadata": {},
   "outputs": [
    {
     "data": {
      "text/html": [
       "<div>\n",
       "<style scoped>\n",
       "    .dataframe tbody tr th:only-of-type {\n",
       "        vertical-align: middle;\n",
       "    }\n",
       "\n",
       "    .dataframe tbody tr th {\n",
       "        vertical-align: top;\n",
       "    }\n",
       "\n",
       "    .dataframe thead th {\n",
       "        text-align: right;\n",
       "    }\n",
       "</style>\n",
       "<table border=\"1\" class=\"dataframe\">\n",
       "  <thead>\n",
       "    <tr style=\"text-align: right;\">\n",
       "      <th></th>\n",
       "      <th>name</th>\n",
       "      <th>platform</th>\n",
       "      <th>year_of_release</th>\n",
       "      <th>genre</th>\n",
       "      <th>na_sales</th>\n",
       "      <th>eu_sales</th>\n",
       "      <th>jp_sales</th>\n",
       "      <th>other_sales</th>\n",
       "      <th>critic_score</th>\n",
       "      <th>user_score</th>\n",
       "      <th>rating</th>\n",
       "    </tr>\n",
       "  </thead>\n",
       "  <tbody>\n",
       "    <tr>\n",
       "      <th>659</th>\n",
       "      <td>NaN</td>\n",
       "      <td>GEN</td>\n",
       "      <td>1993</td>\n",
       "      <td>NaN</td>\n",
       "      <td>1.78</td>\n",
       "      <td>0.53</td>\n",
       "      <td>0.00</td>\n",
       "      <td>0.08</td>\n",
       "      <td>0.0</td>\n",
       "      <td>0.0</td>\n",
       "      <td>no_rating</td>\n",
       "    </tr>\n",
       "    <tr>\n",
       "      <th>14244</th>\n",
       "      <td>NaN</td>\n",
       "      <td>GEN</td>\n",
       "      <td>1993</td>\n",
       "      <td>NaN</td>\n",
       "      <td>0.00</td>\n",
       "      <td>0.00</td>\n",
       "      <td>0.03</td>\n",
       "      <td>0.00</td>\n",
       "      <td>0.0</td>\n",
       "      <td>0.0</td>\n",
       "      <td>no_rating</td>\n",
       "    </tr>\n",
       "  </tbody>\n",
       "</table>\n",
       "</div>"
      ],
      "text/plain": [
       "      name platform  year_of_release genre  na_sales  eu_sales  jp_sales  \\\n",
       "659    NaN      GEN             1993   NaN      1.78      0.53      0.00   \n",
       "14244  NaN      GEN             1993   NaN      0.00      0.00      0.03   \n",
       "\n",
       "       other_sales  critic_score  user_score     rating  \n",
       "659           0.08           0.0         0.0  no_rating  \n",
       "14244         0.00           0.0         0.0  no_rating  "
      ]
     },
     "execution_count": 16,
     "metadata": {},
     "output_type": "execute_result"
    }
   ],
   "source": [
    "#посомтрим на пропуски в названии\n",
    "df[df['name'].isna()]"
   ]
  },
  {
   "cell_type": "code",
   "execution_count": 17,
   "metadata": {},
   "outputs": [],
   "source": [
    "#два пропуска в названии и жанре,а так же в играх с отсутствующим годом выпуска\n",
    "df = df.dropna()"
   ]
  },
  {
   "cell_type": "code",
   "execution_count": 18,
   "metadata": {},
   "outputs": [
    {
     "name": "stdout",
     "output_type": "stream",
     "text": [
      "<class 'pandas.core.frame.DataFrame'>\n",
      "Int64Index: 16444 entries, 0 to 16714\n",
      "Data columns (total 11 columns):\n",
      " #   Column           Non-Null Count  Dtype  \n",
      "---  ------           --------------  -----  \n",
      " 0   name             16444 non-null  object \n",
      " 1   platform         16444 non-null  object \n",
      " 2   year_of_release  16444 non-null  Int64  \n",
      " 3   genre            16444 non-null  object \n",
      " 4   na_sales         16444 non-null  float64\n",
      " 5   eu_sales         16444 non-null  float64\n",
      " 6   jp_sales         16444 non-null  float64\n",
      " 7   other_sales      16444 non-null  float64\n",
      " 8   critic_score     16444 non-null  float64\n",
      " 9   user_score       16444 non-null  float64\n",
      " 10  rating           16444 non-null  object \n",
      "dtypes: Int64(1), float64(6), object(4)\n",
      "memory usage: 1.5+ MB\n"
     ]
    }
   ],
   "source": [
    "df.info()"
   ]
  },
  {
   "cell_type": "code",
   "execution_count": 19,
   "metadata": {},
   "outputs": [
    {
     "name": "stdout",
     "output_type": "stream",
     "text": [
      "<class 'pandas.core.frame.DataFrame'>\n",
      "Int64Index: 16444 entries, 0 to 16714\n",
      "Data columns (total 11 columns):\n",
      " #   Column           Non-Null Count  Dtype  \n",
      "---  ------           --------------  -----  \n",
      " 0   name             16444 non-null  object \n",
      " 1   platform         16444 non-null  object \n",
      " 2   year_of_release  16444 non-null  Int64  \n",
      " 3   genre            16444 non-null  object \n",
      " 4   na_sales         16444 non-null  float64\n",
      " 5   eu_sales         16444 non-null  float64\n",
      " 6   jp_sales         16444 non-null  float64\n",
      " 7   other_sales      16444 non-null  float64\n",
      " 8   critic_score     16444 non-null  float64\n",
      " 9   user_score       16444 non-null  float64\n",
      " 10  rating           16444 non-null  object \n",
      "dtypes: Int64(1), float64(6), object(4)\n",
      "memory usage: 1.5+ MB\n"
     ]
    }
   ],
   "source": [
    "df.info()"
   ]
  },
  {
   "cell_type": "code",
   "execution_count": 20,
   "metadata": {},
   "outputs": [],
   "source": [
    "#посчитаем сумаррные продажи во всех регионах и запишем их в отдельны столбец\n",
    "df['total_sales'] = df['na_sales'] + \\\n",
    "df['eu_sales'] + \\\n",
    "df['jp_sales'] + \\\n",
    "df['other_sales']"
   ]
  },
  {
   "cell_type": "markdown",
   "metadata": {},
   "source": [
    "# Исследовательский анализ данных\n",
    "<a id='section3'></a>\n",
    "<ul>\n",
    "<a href=\"#top\">К содержанию</a>\n",
    "</ul>"
   ]
  },
  {
   "cell_type": "markdown",
   "metadata": {},
   "source": [
    "## Изучим, сколько игр выпускалось в разные годы\n",
    "<a id='subheading1'></a>\n",
    "<ul>\n",
    "<a href=\"#top\">К содержанию</a>\n",
    "</ul>"
   ]
  },
  {
   "cell_type": "code",
   "execution_count": 21,
   "metadata": {},
   "outputs": [],
   "source": [
    "games_per_year = df.groupby(['year_of_release']).agg(qty=('year_of_release','count'))"
   ]
  },
  {
   "cell_type": "code",
   "execution_count": 22,
   "metadata": {
    "scrolled": false
   },
   "outputs": [
    {
     "data": {
      "image/png": "[encoded data removed]",
      "text/plain": [
       "<Figure size 1440x576 with 1 Axes>"
      ]
     },
     "metadata": {
      "needs_background": "light"
     },
     "output_type": "display_data"
    }
   ],
   "source": [
    "games_per_year.plot(figsize=(20,8), marker  = \"o\", fontsize = 16)\n",
    "plt.xlabel('Год выпуска', fontsize = 16)\n",
    "plt.ylabel('Количество игр',fontsize = 16)\n",
    "plt.title('Количество игр, выпускаемых по годам',fontsize = 16 )\n",
    "plt.legend(fontsize = 16)\n",
    "plt.show()"
   ]
  },
  {
   "cell_type": "markdown",
   "metadata": {},
   "source": [
    "<div class=\"alert-success\"> \n",
    "\n",
    "Данные за все периоды не важны, так как тенденции, способ разработки и способ потребления игр у пользователей меняется очень стремительно, актуальными данными можно считать период с 2012 года, когда мы имеем \"плато\"    </div>"
   ]
  },
  {
   "cell_type": "markdown",
   "metadata": {},
   "source": [
    "## Продажи по платформам\n",
    "<a id='subheading2'></a>\n",
    "<ul>\n",
    "<a href=\"#top\">К содержанию</a>\n",
    "</ul>"
   ]
  },
  {
   "cell_type": "markdown",
   "metadata": {},
   "source": [
    "Посмотрим, как менялись продажи по платформам. Выберем платформы с наибольшими суммарными продажами и построим распределение по годам. Изучим, за какой характерный срок появляются новые и исчезают старые платформы."
   ]
  },
  {
   "cell_type": "code",
   "execution_count": 23,
   "metadata": {},
   "outputs": [],
   "source": [
    "#найдем платформы с наибольшими сумарными продажами\n",
    "top_platforms = (df.groupby(['platform']).\n",
    "                 agg(sales = ('total_sales','sum')).\n",
    "                 sort_values(by = 'sales', ascending = False)\n",
    "                )"
   ]
  },
  {
   "cell_type": "code",
   "execution_count": 24,
   "metadata": {
    "scrolled": false
   },
   "outputs": [],
   "source": [
    "#выведем распределение платформ по годам\n",
    "platforms_by_years = df.pivot_table(index = 'platform', values = 'year_of_release', aggfunc = ['min','max']).reset_index()\n",
    "platforms_by_years.columns = ['platform', 'first_year', 'last_year']"
   ]
  },
  {
   "cell_type": "code",
   "execution_count": 25,
   "metadata": {},
   "outputs": [
    {
     "data": {
      "text/html": [
       "<div>\n",
       "<style scoped>\n",
       "    .dataframe tbody tr th:only-of-type {\n",
       "        vertical-align: middle;\n",
       "    }\n",
       "\n",
       "    .dataframe tbody tr th {\n",
       "        vertical-align: top;\n",
       "    }\n",
       "\n",
       "    .dataframe thead th {\n",
       "        text-align: right;\n",
       "    }\n",
       "</style>\n",
       "<table border=\"1\" class=\"dataframe\">\n",
       "  <thead>\n",
       "    <tr style=\"text-align: right;\">\n",
       "      <th></th>\n",
       "      <th>platform</th>\n",
       "      <th>first_year</th>\n",
       "      <th>last_year</th>\n",
       "    </tr>\n",
       "  </thead>\n",
       "  <tbody>\n",
       "    <tr>\n",
       "      <th>0</th>\n",
       "      <td>2600</td>\n",
       "      <td>1980</td>\n",
       "      <td>1989</td>\n",
       "    </tr>\n",
       "    <tr>\n",
       "      <th>11</th>\n",
       "      <td>NES</td>\n",
       "      <td>1983</td>\n",
       "      <td>1994</td>\n",
       "    </tr>\n",
       "    <tr>\n",
       "      <th>4</th>\n",
       "      <td>DS</td>\n",
       "      <td>1985</td>\n",
       "      <td>2013</td>\n",
       "    </tr>\n",
       "    <tr>\n",
       "      <th>13</th>\n",
       "      <td>PC</td>\n",
       "      <td>1985</td>\n",
       "      <td>2016</td>\n",
       "    </tr>\n",
       "    <tr>\n",
       "      <th>5</th>\n",
       "      <td>GB</td>\n",
       "      <td>1988</td>\n",
       "      <td>2001</td>\n",
       "    </tr>\n",
       "    <tr>\n",
       "      <th>23</th>\n",
       "      <td>SNES</td>\n",
       "      <td>1990</td>\n",
       "      <td>1999</td>\n",
       "    </tr>\n",
       "    <tr>\n",
       "      <th>8</th>\n",
       "      <td>GEN</td>\n",
       "      <td>1990</td>\n",
       "      <td>1994</td>\n",
       "    </tr>\n",
       "    <tr>\n",
       "      <th>9</th>\n",
       "      <td>GG</td>\n",
       "      <td>1992</td>\n",
       "      <td>1992</td>\n",
       "    </tr>\n",
       "    <tr>\n",
       "      <th>22</th>\n",
       "      <td>SCD</td>\n",
       "      <td>1993</td>\n",
       "      <td>1994</td>\n",
       "    </tr>\n",
       "    <tr>\n",
       "      <th>12</th>\n",
       "      <td>NG</td>\n",
       "      <td>1993</td>\n",
       "      <td>1996</td>\n",
       "    </tr>\n",
       "    <tr>\n",
       "      <th>21</th>\n",
       "      <td>SAT</td>\n",
       "      <td>1994</td>\n",
       "      <td>1999</td>\n",
       "    </tr>\n",
       "    <tr>\n",
       "      <th>15</th>\n",
       "      <td>PS</td>\n",
       "      <td>1994</td>\n",
       "      <td>2003</td>\n",
       "    </tr>\n",
       "    <tr>\n",
       "      <th>1</th>\n",
       "      <td>3DO</td>\n",
       "      <td>1994</td>\n",
       "      <td>1995</td>\n",
       "    </tr>\n",
       "    <tr>\n",
       "      <th>24</th>\n",
       "      <td>TG16</td>\n",
       "      <td>1995</td>\n",
       "      <td>1995</td>\n",
       "    </tr>\n",
       "    <tr>\n",
       "      <th>14</th>\n",
       "      <td>PCFX</td>\n",
       "      <td>1996</td>\n",
       "      <td>1996</td>\n",
       "    </tr>\n",
       "    <tr>\n",
       "      <th>10</th>\n",
       "      <td>N64</td>\n",
       "      <td>1996</td>\n",
       "      <td>2002</td>\n",
       "    </tr>\n",
       "    <tr>\n",
       "      <th>3</th>\n",
       "      <td>DC</td>\n",
       "      <td>1998</td>\n",
       "      <td>2008</td>\n",
       "    </tr>\n",
       "    <tr>\n",
       "      <th>25</th>\n",
       "      <td>WS</td>\n",
       "      <td>1999</td>\n",
       "      <td>2001</td>\n",
       "    </tr>\n",
       "    <tr>\n",
       "      <th>6</th>\n",
       "      <td>GBA</td>\n",
       "      <td>2000</td>\n",
       "      <td>2007</td>\n",
       "    </tr>\n",
       "    <tr>\n",
       "      <th>29</th>\n",
       "      <td>XB</td>\n",
       "      <td>2000</td>\n",
       "      <td>2008</td>\n",
       "    </tr>\n",
       "    <tr>\n",
       "      <th>16</th>\n",
       "      <td>PS2</td>\n",
       "      <td>2000</td>\n",
       "      <td>2011</td>\n",
       "    </tr>\n",
       "    <tr>\n",
       "      <th>7</th>\n",
       "      <td>GC</td>\n",
       "      <td>2001</td>\n",
       "      <td>2007</td>\n",
       "    </tr>\n",
       "    <tr>\n",
       "      <th>19</th>\n",
       "      <td>PSP</td>\n",
       "      <td>2004</td>\n",
       "      <td>2015</td>\n",
       "    </tr>\n",
       "    <tr>\n",
       "      <th>28</th>\n",
       "      <td>X360</td>\n",
       "      <td>2005</td>\n",
       "      <td>2016</td>\n",
       "    </tr>\n",
       "    <tr>\n",
       "      <th>17</th>\n",
       "      <td>PS3</td>\n",
       "      <td>2006</td>\n",
       "      <td>2016</td>\n",
       "    </tr>\n",
       "    <tr>\n",
       "      <th>26</th>\n",
       "      <td>Wii</td>\n",
       "      <td>2006</td>\n",
       "      <td>2016</td>\n",
       "    </tr>\n",
       "    <tr>\n",
       "      <th>2</th>\n",
       "      <td>3DS</td>\n",
       "      <td>2011</td>\n",
       "      <td>2016</td>\n",
       "    </tr>\n",
       "    <tr>\n",
       "      <th>20</th>\n",
       "      <td>PSV</td>\n",
       "      <td>2011</td>\n",
       "      <td>2016</td>\n",
       "    </tr>\n",
       "    <tr>\n",
       "      <th>27</th>\n",
       "      <td>WiiU</td>\n",
       "      <td>2012</td>\n",
       "      <td>2016</td>\n",
       "    </tr>\n",
       "    <tr>\n",
       "      <th>18</th>\n",
       "      <td>PS4</td>\n",
       "      <td>2013</td>\n",
       "      <td>2016</td>\n",
       "    </tr>\n",
       "    <tr>\n",
       "      <th>30</th>\n",
       "      <td>XOne</td>\n",
       "      <td>2013</td>\n",
       "      <td>2016</td>\n",
       "    </tr>\n",
       "  </tbody>\n",
       "</table>\n",
       "</div>"
      ],
      "text/plain": [
       "   platform  first_year  last_year\n",
       "0      2600        1980       1989\n",
       "11      NES        1983       1994\n",
       "4        DS        1985       2013\n",
       "13       PC        1985       2016\n",
       "5        GB        1988       2001\n",
       "23     SNES        1990       1999\n",
       "8       GEN        1990       1994\n",
       "9        GG        1992       1992\n",
       "22      SCD        1993       1994\n",
       "12       NG        1993       1996\n",
       "21      SAT        1994       1999\n",
       "15       PS        1994       2003\n",
       "1       3DO        1994       1995\n",
       "24     TG16        1995       1995\n",
       "14     PCFX        1996       1996\n",
       "10      N64        1996       2002\n",
       "3        DC        1998       2008\n",
       "25       WS        1999       2001\n",
       "6       GBA        2000       2007\n",
       "29       XB        2000       2008\n",
       "16      PS2        2000       2011\n",
       "7        GC        2001       2007\n",
       "19      PSP        2004       2015\n",
       "28     X360        2005       2016\n",
       "17      PS3        2006       2016\n",
       "26      Wii        2006       2016\n",
       "2       3DS        2011       2016\n",
       "20      PSV        2011       2016\n",
       "27     WiiU        2012       2016\n",
       "18      PS4        2013       2016\n",
       "30     XOne        2013       2016"
      ]
     },
     "execution_count": 25,
     "metadata": {},
     "output_type": "execute_result"
    }
   ],
   "source": [
    "platforms_by_years.sort_values(by = 'first_year')"
   ]
  },
  {
   "cell_type": "code",
   "execution_count": 26,
   "metadata": {},
   "outputs": [
    {
     "data": {
      "text/html": [
       "<div>\n",
       "<style scoped>\n",
       "    .dataframe tbody tr th:only-of-type {\n",
       "        vertical-align: middle;\n",
       "    }\n",
       "\n",
       "    .dataframe tbody tr th {\n",
       "        vertical-align: top;\n",
       "    }\n",
       "\n",
       "    .dataframe thead th {\n",
       "        text-align: right;\n",
       "    }\n",
       "</style>\n",
       "<table border=\"1\" class=\"dataframe\">\n",
       "  <thead>\n",
       "    <tr style=\"text-align: right;\">\n",
       "      <th></th>\n",
       "      <th>sales</th>\n",
       "    </tr>\n",
       "    <tr>\n",
       "      <th>platform</th>\n",
       "      <th></th>\n",
       "    </tr>\n",
       "  </thead>\n",
       "  <tbody>\n",
       "    <tr>\n",
       "      <th>PS2</th>\n",
       "      <td>1233.56</td>\n",
       "    </tr>\n",
       "    <tr>\n",
       "      <th>X360</th>\n",
       "      <td>961.24</td>\n",
       "    </tr>\n",
       "    <tr>\n",
       "      <th>PS3</th>\n",
       "      <td>931.34</td>\n",
       "    </tr>\n",
       "    <tr>\n",
       "      <th>Wii</th>\n",
       "      <td>891.18</td>\n",
       "    </tr>\n",
       "    <tr>\n",
       "      <th>DS</th>\n",
       "      <td>802.78</td>\n",
       "    </tr>\n",
       "  </tbody>\n",
       "</table>\n",
       "</div>"
      ],
      "text/plain": [
       "            sales\n",
       "platform         \n",
       "PS2       1233.56\n",
       "X360       961.24\n",
       "PS3        931.34\n",
       "Wii        891.18\n",
       "DS         802.78"
      ]
     },
     "execution_count": 26,
     "metadata": {},
     "output_type": "execute_result"
    }
   ],
   "source": [
    "#выведем топ платформ на экран\n",
    "top_platforms.head(5)"
   ]
  },
  {
   "cell_type": "code",
   "execution_count": 27,
   "metadata": {},
   "outputs": [],
   "source": [
    "platforms_by_years['years_of_existance'] = platforms_by_years['last_year'] - platforms_by_years['first_year']"
   ]
  },
  {
   "cell_type": "code",
   "execution_count": 28,
   "metadata": {},
   "outputs": [
    {
     "data": {
      "text/html": [
       "<div>\n",
       "<style scoped>\n",
       "    .dataframe tbody tr th:only-of-type {\n",
       "        vertical-align: middle;\n",
       "    }\n",
       "\n",
       "    .dataframe tbody tr th {\n",
       "        vertical-align: top;\n",
       "    }\n",
       "\n",
       "    .dataframe thead th {\n",
       "        text-align: right;\n",
       "    }\n",
       "</style>\n",
       "<table border=\"1\" class=\"dataframe\">\n",
       "  <thead>\n",
       "    <tr style=\"text-align: right;\">\n",
       "      <th></th>\n",
       "      <th>platform</th>\n",
       "      <th>first_year</th>\n",
       "      <th>last_year</th>\n",
       "      <th>years_of_existance</th>\n",
       "    </tr>\n",
       "  </thead>\n",
       "  <tbody>\n",
       "    <tr>\n",
       "      <th>0</th>\n",
       "      <td>2600</td>\n",
       "      <td>1980</td>\n",
       "      <td>1989</td>\n",
       "      <td>9</td>\n",
       "    </tr>\n",
       "    <tr>\n",
       "      <th>11</th>\n",
       "      <td>NES</td>\n",
       "      <td>1983</td>\n",
       "      <td>1994</td>\n",
       "      <td>11</td>\n",
       "    </tr>\n",
       "    <tr>\n",
       "      <th>4</th>\n",
       "      <td>DS</td>\n",
       "      <td>1985</td>\n",
       "      <td>2013</td>\n",
       "      <td>28</td>\n",
       "    </tr>\n",
       "    <tr>\n",
       "      <th>13</th>\n",
       "      <td>PC</td>\n",
       "      <td>1985</td>\n",
       "      <td>2016</td>\n",
       "      <td>31</td>\n",
       "    </tr>\n",
       "    <tr>\n",
       "      <th>5</th>\n",
       "      <td>GB</td>\n",
       "      <td>1988</td>\n",
       "      <td>2001</td>\n",
       "      <td>13</td>\n",
       "    </tr>\n",
       "    <tr>\n",
       "      <th>23</th>\n",
       "      <td>SNES</td>\n",
       "      <td>1990</td>\n",
       "      <td>1999</td>\n",
       "      <td>9</td>\n",
       "    </tr>\n",
       "    <tr>\n",
       "      <th>8</th>\n",
       "      <td>GEN</td>\n",
       "      <td>1990</td>\n",
       "      <td>1994</td>\n",
       "      <td>4</td>\n",
       "    </tr>\n",
       "    <tr>\n",
       "      <th>9</th>\n",
       "      <td>GG</td>\n",
       "      <td>1992</td>\n",
       "      <td>1992</td>\n",
       "      <td>0</td>\n",
       "    </tr>\n",
       "    <tr>\n",
       "      <th>22</th>\n",
       "      <td>SCD</td>\n",
       "      <td>1993</td>\n",
       "      <td>1994</td>\n",
       "      <td>1</td>\n",
       "    </tr>\n",
       "    <tr>\n",
       "      <th>12</th>\n",
       "      <td>NG</td>\n",
       "      <td>1993</td>\n",
       "      <td>1996</td>\n",
       "      <td>3</td>\n",
       "    </tr>\n",
       "    <tr>\n",
       "      <th>21</th>\n",
       "      <td>SAT</td>\n",
       "      <td>1994</td>\n",
       "      <td>1999</td>\n",
       "      <td>5</td>\n",
       "    </tr>\n",
       "    <tr>\n",
       "      <th>15</th>\n",
       "      <td>PS</td>\n",
       "      <td>1994</td>\n",
       "      <td>2003</td>\n",
       "      <td>9</td>\n",
       "    </tr>\n",
       "    <tr>\n",
       "      <th>1</th>\n",
       "      <td>3DO</td>\n",
       "      <td>1994</td>\n",
       "      <td>1995</td>\n",
       "      <td>1</td>\n",
       "    </tr>\n",
       "    <tr>\n",
       "      <th>24</th>\n",
       "      <td>TG16</td>\n",
       "      <td>1995</td>\n",
       "      <td>1995</td>\n",
       "      <td>0</td>\n",
       "    </tr>\n",
       "    <tr>\n",
       "      <th>14</th>\n",
       "      <td>PCFX</td>\n",
       "      <td>1996</td>\n",
       "      <td>1996</td>\n",
       "      <td>0</td>\n",
       "    </tr>\n",
       "    <tr>\n",
       "      <th>10</th>\n",
       "      <td>N64</td>\n",
       "      <td>1996</td>\n",
       "      <td>2002</td>\n",
       "      <td>6</td>\n",
       "    </tr>\n",
       "    <tr>\n",
       "      <th>3</th>\n",
       "      <td>DC</td>\n",
       "      <td>1998</td>\n",
       "      <td>2008</td>\n",
       "      <td>10</td>\n",
       "    </tr>\n",
       "    <tr>\n",
       "      <th>25</th>\n",
       "      <td>WS</td>\n",
       "      <td>1999</td>\n",
       "      <td>2001</td>\n",
       "      <td>2</td>\n",
       "    </tr>\n",
       "    <tr>\n",
       "      <th>6</th>\n",
       "      <td>GBA</td>\n",
       "      <td>2000</td>\n",
       "      <td>2007</td>\n",
       "      <td>7</td>\n",
       "    </tr>\n",
       "    <tr>\n",
       "      <th>29</th>\n",
       "      <td>XB</td>\n",
       "      <td>2000</td>\n",
       "      <td>2008</td>\n",
       "      <td>8</td>\n",
       "    </tr>\n",
       "    <tr>\n",
       "      <th>16</th>\n",
       "      <td>PS2</td>\n",
       "      <td>2000</td>\n",
       "      <td>2011</td>\n",
       "      <td>11</td>\n",
       "    </tr>\n",
       "    <tr>\n",
       "      <th>7</th>\n",
       "      <td>GC</td>\n",
       "      <td>2001</td>\n",
       "      <td>2007</td>\n",
       "      <td>6</td>\n",
       "    </tr>\n",
       "    <tr>\n",
       "      <th>19</th>\n",
       "      <td>PSP</td>\n",
       "      <td>2004</td>\n",
       "      <td>2015</td>\n",
       "      <td>11</td>\n",
       "    </tr>\n",
       "    <tr>\n",
       "      <th>28</th>\n",
       "      <td>X360</td>\n",
       "      <td>2005</td>\n",
       "      <td>2016</td>\n",
       "      <td>11</td>\n",
       "    </tr>\n",
       "    <tr>\n",
       "      <th>17</th>\n",
       "      <td>PS3</td>\n",
       "      <td>2006</td>\n",
       "      <td>2016</td>\n",
       "      <td>10</td>\n",
       "    </tr>\n",
       "    <tr>\n",
       "      <th>26</th>\n",
       "      <td>Wii</td>\n",
       "      <td>2006</td>\n",
       "      <td>2016</td>\n",
       "      <td>10</td>\n",
       "    </tr>\n",
       "    <tr>\n",
       "      <th>2</th>\n",
       "      <td>3DS</td>\n",
       "      <td>2011</td>\n",
       "      <td>2016</td>\n",
       "      <td>5</td>\n",
       "    </tr>\n",
       "    <tr>\n",
       "      <th>20</th>\n",
       "      <td>PSV</td>\n",
       "      <td>2011</td>\n",
       "      <td>2016</td>\n",
       "      <td>5</td>\n",
       "    </tr>\n",
       "    <tr>\n",
       "      <th>27</th>\n",
       "      <td>WiiU</td>\n",
       "      <td>2012</td>\n",
       "      <td>2016</td>\n",
       "      <td>4</td>\n",
       "    </tr>\n",
       "    <tr>\n",
       "      <th>18</th>\n",
       "      <td>PS4</td>\n",
       "      <td>2013</td>\n",
       "      <td>2016</td>\n",
       "      <td>3</td>\n",
       "    </tr>\n",
       "    <tr>\n",
       "      <th>30</th>\n",
       "      <td>XOne</td>\n",
       "      <td>2013</td>\n",
       "      <td>2016</td>\n",
       "      <td>3</td>\n",
       "    </tr>\n",
       "  </tbody>\n",
       "</table>\n",
       "</div>"
      ],
      "text/plain": [
       "   platform  first_year  last_year  years_of_existance\n",
       "0      2600        1980       1989                   9\n",
       "11      NES        1983       1994                  11\n",
       "4        DS        1985       2013                  28\n",
       "13       PC        1985       2016                  31\n",
       "5        GB        1988       2001                  13\n",
       "23     SNES        1990       1999                   9\n",
       "8       GEN        1990       1994                   4\n",
       "9        GG        1992       1992                   0\n",
       "22      SCD        1993       1994                   1\n",
       "12       NG        1993       1996                   3\n",
       "21      SAT        1994       1999                   5\n",
       "15       PS        1994       2003                   9\n",
       "1       3DO        1994       1995                   1\n",
       "24     TG16        1995       1995                   0\n",
       "14     PCFX        1996       1996                   0\n",
       "10      N64        1996       2002                   6\n",
       "3        DC        1998       2008                  10\n",
       "25       WS        1999       2001                   2\n",
       "6       GBA        2000       2007                   7\n",
       "29       XB        2000       2008                   8\n",
       "16      PS2        2000       2011                  11\n",
       "7        GC        2001       2007                   6\n",
       "19      PSP        2004       2015                  11\n",
       "28     X360        2005       2016                  11\n",
       "17      PS3        2006       2016                  10\n",
       "26      Wii        2006       2016                  10\n",
       "2       3DS        2011       2016                   5\n",
       "20      PSV        2011       2016                   5\n",
       "27     WiiU        2012       2016                   4\n",
       "18      PS4        2013       2016                   3\n",
       "30     XOne        2013       2016                   3"
      ]
     },
     "execution_count": 28,
     "metadata": {},
     "output_type": "execute_result"
    }
   ],
   "source": [
    "platforms_by_years.sort_values(by = 'first_year')"
   ]
  },
  {
   "cell_type": "markdown",
   "metadata": {},
   "source": [
    "<div class=\"alert-success\"> \n",
    "Про жизненный цикл платформы можно сделать практически однозначный вывод, все популярные игровые платформы живут порядка 10 лет. </div>"
   ]
  },
  {
   "cell_type": "markdown",
   "metadata": {},
   "source": [
    "## Проанализируем продажи по популярным платформам по годам PS2, X360, PS3, Wii, DS\n",
    "<a id='subheading3'></a>\n",
    "<ul>\n",
    "<a href=\"#top\">К содержанию</a>\n",
    "</ul>"
   ]
  },
  {
   "cell_type": "code",
   "execution_count": 29,
   "metadata": {},
   "outputs": [
    {
     "data": {
      "image/png": "[encoded data removed]",
      "text/plain": [
       "<Figure size 1440x576 with 1 Axes>"
      ]
     },
     "metadata": {
      "needs_background": "light"
     },
     "output_type": "display_data"
    }
   ],
   "source": [
    "df.query('platform == [\"PS2\", \"X360\", \"PS3\", \"Wii\", \"DS\"] & year_of_release > 1999').\\\n",
    "pivot_table(index = 'year_of_release', columns = 'platform', values = 'total_sales', aggfunc = 'count').\\\n",
    "plot(figsize=(20,8), fontsize = 16)\n",
    "plt.xlabel('Год выпуска', fontsize = 16)\n",
    "plt.ylabel('Суммарные продажи',fontsize = 16)\n",
    "plt.title('Продажи по годам',fontsize = 16 )\n",
    "plt.legend(fontsize = 16)\n",
    "plt.show()"
   ]
  },
  {
   "cell_type": "markdown",
   "metadata": {},
   "source": [
    "Возьмем данные за соответствующий актуальный период. Актуальный период будем считать с 2011 года, так как жизненный цикл платформ выпущенных начиная с этого периода ещё не закончился."
   ]
  },
  {
   "cell_type": "code",
   "execution_count": 30,
   "metadata": {},
   "outputs": [
    {
     "data": {
      "text/html": [
       "<div>\n",
       "<style scoped>\n",
       "    .dataframe tbody tr th:only-of-type {\n",
       "        vertical-align: middle;\n",
       "    }\n",
       "\n",
       "    .dataframe tbody tr th {\n",
       "        vertical-align: top;\n",
       "    }\n",
       "\n",
       "    .dataframe thead th {\n",
       "        text-align: right;\n",
       "    }\n",
       "</style>\n",
       "<table border=\"1\" class=\"dataframe\">\n",
       "  <thead>\n",
       "    <tr style=\"text-align: right;\">\n",
       "      <th></th>\n",
       "      <th>name</th>\n",
       "      <th>platform</th>\n",
       "      <th>year_of_release</th>\n",
       "      <th>genre</th>\n",
       "      <th>na_sales</th>\n",
       "      <th>eu_sales</th>\n",
       "      <th>jp_sales</th>\n",
       "      <th>other_sales</th>\n",
       "      <th>critic_score</th>\n",
       "      <th>user_score</th>\n",
       "      <th>rating</th>\n",
       "      <th>total_sales</th>\n",
       "    </tr>\n",
       "  </thead>\n",
       "  <tbody>\n",
       "    <tr>\n",
       "      <th>31</th>\n",
       "      <td>Call of Duty: Black Ops 3</td>\n",
       "      <td>PS4</td>\n",
       "      <td>2015</td>\n",
       "      <td>Shooter</td>\n",
       "      <td>6.03</td>\n",
       "      <td>5.86</td>\n",
       "      <td>0.36</td>\n",
       "      <td>2.38</td>\n",
       "      <td>0.0</td>\n",
       "      <td>0.0</td>\n",
       "      <td>no_rating</td>\n",
       "      <td>14.63</td>\n",
       "    </tr>\n",
       "    <tr>\n",
       "      <th>42</th>\n",
       "      <td>Grand Theft Auto V</td>\n",
       "      <td>PS4</td>\n",
       "      <td>2014</td>\n",
       "      <td>Action</td>\n",
       "      <td>3.96</td>\n",
       "      <td>6.31</td>\n",
       "      <td>0.38</td>\n",
       "      <td>1.97</td>\n",
       "      <td>97.0</td>\n",
       "      <td>8.3</td>\n",
       "      <td>M</td>\n",
       "      <td>12.62</td>\n",
       "    </tr>\n",
       "    <tr>\n",
       "      <th>47</th>\n",
       "      <td>Pokemon Omega Ruby/Pokemon Alpha Sapphire</td>\n",
       "      <td>3DS</td>\n",
       "      <td>2014</td>\n",
       "      <td>Role-Playing</td>\n",
       "      <td>4.35</td>\n",
       "      <td>3.49</td>\n",
       "      <td>3.10</td>\n",
       "      <td>0.74</td>\n",
       "      <td>0.0</td>\n",
       "      <td>0.0</td>\n",
       "      <td>no_rating</td>\n",
       "      <td>11.68</td>\n",
       "    </tr>\n",
       "    <tr>\n",
       "      <th>77</th>\n",
       "      <td>FIFA 16</td>\n",
       "      <td>PS4</td>\n",
       "      <td>2015</td>\n",
       "      <td>Sports</td>\n",
       "      <td>1.12</td>\n",
       "      <td>6.12</td>\n",
       "      <td>0.06</td>\n",
       "      <td>1.28</td>\n",
       "      <td>82.0</td>\n",
       "      <td>4.3</td>\n",
       "      <td>E</td>\n",
       "      <td>8.58</td>\n",
       "    </tr>\n",
       "    <tr>\n",
       "      <th>87</th>\n",
       "      <td>Star Wars Battlefront (2015)</td>\n",
       "      <td>PS4</td>\n",
       "      <td>2015</td>\n",
       "      <td>Shooter</td>\n",
       "      <td>2.99</td>\n",
       "      <td>3.49</td>\n",
       "      <td>0.22</td>\n",
       "      <td>1.28</td>\n",
       "      <td>0.0</td>\n",
       "      <td>0.0</td>\n",
       "      <td>no_rating</td>\n",
       "      <td>7.98</td>\n",
       "    </tr>\n",
       "    <tr>\n",
       "      <th>92</th>\n",
       "      <td>Call of Duty: Advanced Warfare</td>\n",
       "      <td>PS4</td>\n",
       "      <td>2014</td>\n",
       "      <td>Shooter</td>\n",
       "      <td>2.81</td>\n",
       "      <td>3.48</td>\n",
       "      <td>0.14</td>\n",
       "      <td>1.23</td>\n",
       "      <td>83.0</td>\n",
       "      <td>5.7</td>\n",
       "      <td>M</td>\n",
       "      <td>7.66</td>\n",
       "    </tr>\n",
       "    <tr>\n",
       "      <th>94</th>\n",
       "      <td>FIFA 17</td>\n",
       "      <td>PS4</td>\n",
       "      <td>2016</td>\n",
       "      <td>Sports</td>\n",
       "      <td>0.66</td>\n",
       "      <td>5.75</td>\n",
       "      <td>0.08</td>\n",
       "      <td>1.11</td>\n",
       "      <td>85.0</td>\n",
       "      <td>5.0</td>\n",
       "      <td>E</td>\n",
       "      <td>7.60</td>\n",
       "    </tr>\n",
       "    <tr>\n",
       "      <th>96</th>\n",
       "      <td>Super Smash Bros. for Wii U and 3DS</td>\n",
       "      <td>3DS</td>\n",
       "      <td>2014</td>\n",
       "      <td>Fighting</td>\n",
       "      <td>3.27</td>\n",
       "      <td>1.37</td>\n",
       "      <td>2.43</td>\n",
       "      <td>0.48</td>\n",
       "      <td>0.0</td>\n",
       "      <td>0.0</td>\n",
       "      <td>no_rating</td>\n",
       "      <td>7.55</td>\n",
       "    </tr>\n",
       "    <tr>\n",
       "      <th>99</th>\n",
       "      <td>Call of Duty: Black Ops 3</td>\n",
       "      <td>XOne</td>\n",
       "      <td>2015</td>\n",
       "      <td>Shooter</td>\n",
       "      <td>4.59</td>\n",
       "      <td>2.11</td>\n",
       "      <td>0.01</td>\n",
       "      <td>0.68</td>\n",
       "      <td>0.0</td>\n",
       "      <td>0.0</td>\n",
       "      <td>no_rating</td>\n",
       "      <td>7.39</td>\n",
       "    </tr>\n",
       "    <tr>\n",
       "      <th>105</th>\n",
       "      <td>Fallout 4</td>\n",
       "      <td>PS4</td>\n",
       "      <td>2015</td>\n",
       "      <td>Role-Playing</td>\n",
       "      <td>2.53</td>\n",
       "      <td>3.27</td>\n",
       "      <td>0.24</td>\n",
       "      <td>1.13</td>\n",
       "      <td>87.0</td>\n",
       "      <td>6.5</td>\n",
       "      <td>M</td>\n",
       "      <td>7.17</td>\n",
       "    </tr>\n",
       "  </tbody>\n",
       "</table>\n",
       "</div>"
      ],
      "text/plain": [
       "                                          name platform  year_of_release  \\\n",
       "31                   Call of Duty: Black Ops 3      PS4             2015   \n",
       "42                          Grand Theft Auto V      PS4             2014   \n",
       "47   Pokemon Omega Ruby/Pokemon Alpha Sapphire      3DS             2014   \n",
       "77                                     FIFA 16      PS4             2015   \n",
       "87                Star Wars Battlefront (2015)      PS4             2015   \n",
       "92              Call of Duty: Advanced Warfare      PS4             2014   \n",
       "94                                     FIFA 17      PS4             2016   \n",
       "96         Super Smash Bros. for Wii U and 3DS      3DS             2014   \n",
       "99                   Call of Duty: Black Ops 3     XOne             2015   \n",
       "105                                  Fallout 4      PS4             2015   \n",
       "\n",
       "            genre  na_sales  eu_sales  jp_sales  other_sales  critic_score  \\\n",
       "31        Shooter      6.03      5.86      0.36         2.38           0.0   \n",
       "42         Action      3.96      6.31      0.38         1.97          97.0   \n",
       "47   Role-Playing      4.35      3.49      3.10         0.74           0.0   \n",
       "77         Sports      1.12      6.12      0.06         1.28          82.0   \n",
       "87        Shooter      2.99      3.49      0.22         1.28           0.0   \n",
       "92        Shooter      2.81      3.48      0.14         1.23          83.0   \n",
       "94         Sports      0.66      5.75      0.08         1.11          85.0   \n",
       "96       Fighting      3.27      1.37      2.43         0.48           0.0   \n",
       "99        Shooter      4.59      2.11      0.01         0.68           0.0   \n",
       "105  Role-Playing      2.53      3.27      0.24         1.13          87.0   \n",
       "\n",
       "     user_score     rating  total_sales  \n",
       "31          0.0  no_rating        14.63  \n",
       "42          8.3          M        12.62  \n",
       "47          0.0  no_rating        11.68  \n",
       "77          4.3          E         8.58  \n",
       "87          0.0  no_rating         7.98  \n",
       "92          5.7          M         7.66  \n",
       "94          5.0          E         7.60  \n",
       "96          0.0  no_rating         7.55  \n",
       "99          0.0  no_rating         7.39  \n",
       "105         6.5          M         7.17  "
      ]
     },
     "execution_count": 30,
     "metadata": {},
     "output_type": "execute_result"
    }
   ],
   "source": [
    "#создадим новый датафрейм с актуальной ифнормацией по платформам\n",
    "\n",
    "actual_data = df.query('year_of_release >= 2014')\n",
    "actual_data.head(10)"
   ]
  },
  {
   "cell_type": "code",
   "execution_count": 31,
   "metadata": {},
   "outputs": [
    {
     "data": {
      "text/html": [
       "<div>\n",
       "<style scoped>\n",
       "    .dataframe tbody tr th:only-of-type {\n",
       "        vertical-align: middle;\n",
       "    }\n",
       "\n",
       "    .dataframe tbody tr th {\n",
       "        vertical-align: top;\n",
       "    }\n",
       "\n",
       "    .dataframe thead th {\n",
       "        text-align: right;\n",
       "    }\n",
       "</style>\n",
       "<table border=\"1\" class=\"dataframe\">\n",
       "  <thead>\n",
       "    <tr style=\"text-align: right;\">\n",
       "      <th></th>\n",
       "      <th>sales</th>\n",
       "    </tr>\n",
       "    <tr>\n",
       "      <th>platform</th>\n",
       "      <th></th>\n",
       "    </tr>\n",
       "  </thead>\n",
       "  <tbody>\n",
       "    <tr>\n",
       "      <th>PS4</th>\n",
       "      <td>288.15</td>\n",
       "    </tr>\n",
       "    <tr>\n",
       "      <th>XOne</th>\n",
       "      <td>140.36</td>\n",
       "    </tr>\n",
       "    <tr>\n",
       "      <th>3DS</th>\n",
       "      <td>86.68</td>\n",
       "    </tr>\n",
       "    <tr>\n",
       "      <th>PS3</th>\n",
       "      <td>68.18</td>\n",
       "    </tr>\n",
       "    <tr>\n",
       "      <th>X360</th>\n",
       "      <td>48.22</td>\n",
       "    </tr>\n",
       "    <tr>\n",
       "      <th>WiiU</th>\n",
       "      <td>42.98</td>\n",
       "    </tr>\n",
       "    <tr>\n",
       "      <th>PC</th>\n",
       "      <td>27.05</td>\n",
       "    </tr>\n",
       "    <tr>\n",
       "      <th>PSV</th>\n",
       "      <td>22.40</td>\n",
       "    </tr>\n",
       "    <tr>\n",
       "      <th>Wii</th>\n",
       "      <td>5.07</td>\n",
       "    </tr>\n",
       "    <tr>\n",
       "      <th>PSP</th>\n",
       "      <td>0.36</td>\n",
       "    </tr>\n",
       "  </tbody>\n",
       "</table>\n",
       "</div>"
      ],
      "text/plain": [
       "           sales\n",
       "platform        \n",
       "PS4       288.15\n",
       "XOne      140.36\n",
       "3DS        86.68\n",
       "PS3        68.18\n",
       "X360       48.22\n",
       "WiiU       42.98\n",
       "PC         27.05\n",
       "PSV        22.40\n",
       "Wii         5.07\n",
       "PSP         0.36"
      ]
     },
     "execution_count": 31,
     "metadata": {},
     "output_type": "execute_result"
    }
   ],
   "source": [
    "global_sales = actual_data.groupby(['platform']).\\\n",
    "agg(sales = ('total_sales','sum')).\\\n",
    "sort_values(by = 'sales', ascending = False)\n",
    "global_sales"
   ]
  },
  {
   "cell_type": "markdown",
   "metadata": {},
   "source": [
    "<div class=\"alert-success\"> \n",
    "Лидерами продаж акутального периода можно выбрать PS4,3DS,XOne,PC"
   ]
  },
  {
   "cell_type": "markdown",
   "metadata": {},
   "source": [
    "Определим, какие платформы растут по продажам а какие падают, и определим потенциально прибыльные платформы\n"
   ]
  },
  {
   "cell_type": "code",
   "execution_count": 32,
   "metadata": {},
   "outputs": [
    {
     "data": {
      "text/html": [
       "<div>\n",
       "<style scoped>\n",
       "    .dataframe tbody tr th:only-of-type {\n",
       "        vertical-align: middle;\n",
       "    }\n",
       "\n",
       "    .dataframe tbody tr th {\n",
       "        vertical-align: top;\n",
       "    }\n",
       "\n",
       "    .dataframe thead th {\n",
       "        text-align: right;\n",
       "    }\n",
       "</style>\n",
       "<table border=\"1\" class=\"dataframe\">\n",
       "  <thead>\n",
       "    <tr style=\"text-align: right;\">\n",
       "      <th>year_of_release</th>\n",
       "      <th>2014</th>\n",
       "      <th>2015</th>\n",
       "      <th>2016</th>\n",
       "    </tr>\n",
       "    <tr>\n",
       "      <th>platform</th>\n",
       "      <th></th>\n",
       "      <th></th>\n",
       "      <th></th>\n",
       "    </tr>\n",
       "  </thead>\n",
       "  <tbody>\n",
       "    <tr>\n",
       "      <th>3DS</th>\n",
       "      <td>80.0</td>\n",
       "      <td>86.0</td>\n",
       "      <td>46.0</td>\n",
       "    </tr>\n",
       "    <tr>\n",
       "      <th>PC</th>\n",
       "      <td>47.0</td>\n",
       "      <td>50.0</td>\n",
       "      <td>54.0</td>\n",
       "    </tr>\n",
       "    <tr>\n",
       "      <th>PS3</th>\n",
       "      <td>108.0</td>\n",
       "      <td>73.0</td>\n",
       "      <td>38.0</td>\n",
       "    </tr>\n",
       "    <tr>\n",
       "      <th>PS4</th>\n",
       "      <td>75.0</td>\n",
       "      <td>137.0</td>\n",
       "      <td>164.0</td>\n",
       "    </tr>\n",
       "    <tr>\n",
       "      <th>PSP</th>\n",
       "      <td>10.0</td>\n",
       "      <td>3.0</td>\n",
       "      <td>NaN</td>\n",
       "    </tr>\n",
       "    <tr>\n",
       "      <th>PSV</th>\n",
       "      <td>100.0</td>\n",
       "      <td>110.0</td>\n",
       "      <td>85.0</td>\n",
       "    </tr>\n",
       "    <tr>\n",
       "      <th>Wii</th>\n",
       "      <td>6.0</td>\n",
       "      <td>4.0</td>\n",
       "      <td>1.0</td>\n",
       "    </tr>\n",
       "    <tr>\n",
       "      <th>WiiU</th>\n",
       "      <td>31.0</td>\n",
       "      <td>28.0</td>\n",
       "      <td>14.0</td>\n",
       "    </tr>\n",
       "    <tr>\n",
       "      <th>X360</th>\n",
       "      <td>63.0</td>\n",
       "      <td>35.0</td>\n",
       "      <td>13.0</td>\n",
       "    </tr>\n",
       "    <tr>\n",
       "      <th>XOne</th>\n",
       "      <td>61.0</td>\n",
       "      <td>80.0</td>\n",
       "      <td>87.0</td>\n",
       "    </tr>\n",
       "  </tbody>\n",
       "</table>\n",
       "</div>"
      ],
      "text/plain": [
       "year_of_release   2014   2015   2016\n",
       "platform                            \n",
       "3DS               80.0   86.0   46.0\n",
       "PC                47.0   50.0   54.0\n",
       "PS3              108.0   73.0   38.0\n",
       "PS4               75.0  137.0  164.0\n",
       "PSP               10.0    3.0    NaN\n",
       "PSV              100.0  110.0   85.0\n",
       "Wii                6.0    4.0    1.0\n",
       "WiiU              31.0   28.0   14.0\n",
       "X360              63.0   35.0   13.0\n",
       "XOne              61.0   80.0   87.0"
      ]
     },
     "execution_count": 32,
     "metadata": {},
     "output_type": "execute_result"
    }
   ],
   "source": [
    "global_sales_by_years = (actual_data.pivot_table(index = 'platform', \n",
    "                                                 columns = 'year_of_release', \n",
    "                                                 values = 'total_sales', \n",
    "                                                 aggfunc = 'count')\n",
    "                        )\n",
    "global_sales_by_years"
   ]
  },
  {
   "cell_type": "markdown",
   "metadata": {},
   "source": [
    "<div class=\"alert-success\"> \n",
    "Проанализировав информацию по продажам, можно сделать вывод что потенциалоьно прибыльными платформами будут\n",
    "PC, PS4, XOne, так как только эти платформы имеют восходящий тренд продаж, так же возможно стоит сделать ставку на 3DS, так как она показывает стабтльные продажи, пускай и в снижающемся тренде. </div>"
   ]
  },
  {
   "cell_type": "code",
   "execution_count": 33,
   "metadata": {
    "scrolled": false
   },
   "outputs": [
    {
     "data": {
      "image/png": "[encoded data removed]",
      "text/plain": [
       "<Figure size 1440x576 with 1 Axes>"
      ]
     },
     "metadata": {
      "needs_background": "light"
     },
     "output_type": "display_data"
    }
   ],
   "source": [
    "#построим диаграмму размаха\n",
    "global_sales_by_years = (actual_data.pivot_table(index = 'year_of_release', \n",
    "                                                 columns = 'platform', \n",
    "                                                 values = 'total_sales', \n",
    "                                                 aggfunc = 'count').\n",
    "                         boxplot(figsize =(20,8), patch_artist=True, grid=False)\n",
    "                        )"
   ]
  },
  {
   "cell_type": "markdown",
   "metadata": {},
   "source": [
    "## Анализ PS4\n",
    "<a id='subheading4'></a>\n",
    "<ul>\n",
    "<a href=\"#top\">К содержанию</a>\n",
    "</ul>"
   ]
  },
  {
   "cell_type": "markdown",
   "metadata": {},
   "source": [
    "Посмотрим, как влияют на продажи внутри одной популярной платформы отзывы пользователей и критиков. Построим диаграмму рассеяния и посчитаем корреляцию между отзывами и продажами."
   ]
  },
  {
   "cell_type": "markdown",
   "metadata": {},
   "source": [
    "Для анализа возьмём самую популарную платформу PS4.На ее примере проверим как связаны продажи игр в зависимости от отзывов"
   ]
  },
  {
   "cell_type": "code",
   "execution_count": 34,
   "metadata": {},
   "outputs": [
    {
     "data": {
      "text/html": [
       "<div>\n",
       "<style scoped>\n",
       "    .dataframe tbody tr th:only-of-type {\n",
       "        vertical-align: middle;\n",
       "    }\n",
       "\n",
       "    .dataframe tbody tr th {\n",
       "        vertical-align: top;\n",
       "    }\n",
       "\n",
       "    .dataframe thead th {\n",
       "        text-align: right;\n",
       "    }\n",
       "</style>\n",
       "<table border=\"1\" class=\"dataframe\">\n",
       "  <thead>\n",
       "    <tr style=\"text-align: right;\">\n",
       "      <th></th>\n",
       "      <th>name</th>\n",
       "      <th>platform</th>\n",
       "      <th>year_of_release</th>\n",
       "      <th>genre</th>\n",
       "      <th>na_sales</th>\n",
       "      <th>eu_sales</th>\n",
       "      <th>jp_sales</th>\n",
       "      <th>other_sales</th>\n",
       "      <th>critic_score</th>\n",
       "      <th>user_score</th>\n",
       "      <th>rating</th>\n",
       "      <th>total_sales</th>\n",
       "    </tr>\n",
       "  </thead>\n",
       "  <tbody>\n",
       "    <tr>\n",
       "      <th>42</th>\n",
       "      <td>Grand Theft Auto V</td>\n",
       "      <td>PS4</td>\n",
       "      <td>2014</td>\n",
       "      <td>Action</td>\n",
       "      <td>3.96</td>\n",
       "      <td>6.31</td>\n",
       "      <td>0.38</td>\n",
       "      <td>1.97</td>\n",
       "      <td>97.0</td>\n",
       "      <td>8.3</td>\n",
       "      <td>M</td>\n",
       "      <td>12.62</td>\n",
       "    </tr>\n",
       "    <tr>\n",
       "      <th>77</th>\n",
       "      <td>FIFA 16</td>\n",
       "      <td>PS4</td>\n",
       "      <td>2015</td>\n",
       "      <td>Sports</td>\n",
       "      <td>1.12</td>\n",
       "      <td>6.12</td>\n",
       "      <td>0.06</td>\n",
       "      <td>1.28</td>\n",
       "      <td>82.0</td>\n",
       "      <td>4.3</td>\n",
       "      <td>E</td>\n",
       "      <td>8.58</td>\n",
       "    </tr>\n",
       "    <tr>\n",
       "      <th>92</th>\n",
       "      <td>Call of Duty: Advanced Warfare</td>\n",
       "      <td>PS4</td>\n",
       "      <td>2014</td>\n",
       "      <td>Shooter</td>\n",
       "      <td>2.81</td>\n",
       "      <td>3.48</td>\n",
       "      <td>0.14</td>\n",
       "      <td>1.23</td>\n",
       "      <td>83.0</td>\n",
       "      <td>5.7</td>\n",
       "      <td>M</td>\n",
       "      <td>7.66</td>\n",
       "    </tr>\n",
       "    <tr>\n",
       "      <th>94</th>\n",
       "      <td>FIFA 17</td>\n",
       "      <td>PS4</td>\n",
       "      <td>2016</td>\n",
       "      <td>Sports</td>\n",
       "      <td>0.66</td>\n",
       "      <td>5.75</td>\n",
       "      <td>0.08</td>\n",
       "      <td>1.11</td>\n",
       "      <td>85.0</td>\n",
       "      <td>5.0</td>\n",
       "      <td>E</td>\n",
       "      <td>7.60</td>\n",
       "    </tr>\n",
       "    <tr>\n",
       "      <th>105</th>\n",
       "      <td>Fallout 4</td>\n",
       "      <td>PS4</td>\n",
       "      <td>2015</td>\n",
       "      <td>Role-Playing</td>\n",
       "      <td>2.53</td>\n",
       "      <td>3.27</td>\n",
       "      <td>0.24</td>\n",
       "      <td>1.13</td>\n",
       "      <td>87.0</td>\n",
       "      <td>6.5</td>\n",
       "      <td>M</td>\n",
       "      <td>7.17</td>\n",
       "    </tr>\n",
       "    <tr>\n",
       "      <th>...</th>\n",
       "      <td>...</td>\n",
       "      <td>...</td>\n",
       "      <td>...</td>\n",
       "      <td>...</td>\n",
       "      <td>...</td>\n",
       "      <td>...</td>\n",
       "      <td>...</td>\n",
       "      <td>...</td>\n",
       "      <td>...</td>\n",
       "      <td>...</td>\n",
       "      <td>...</td>\n",
       "      <td>...</td>\n",
       "    </tr>\n",
       "    <tr>\n",
       "      <th>16486</th>\n",
       "      <td>Super Dungeon Bros</td>\n",
       "      <td>PS4</td>\n",
       "      <td>2016</td>\n",
       "      <td>Action</td>\n",
       "      <td>0.01</td>\n",
       "      <td>0.00</td>\n",
       "      <td>0.00</td>\n",
       "      <td>0.00</td>\n",
       "      <td>42.0</td>\n",
       "      <td>2.3</td>\n",
       "      <td>E10+</td>\n",
       "      <td>0.01</td>\n",
       "    </tr>\n",
       "    <tr>\n",
       "      <th>16499</th>\n",
       "      <td>Sherlock Holmes: The Devil's Daughter</td>\n",
       "      <td>PS4</td>\n",
       "      <td>2016</td>\n",
       "      <td>Adventure</td>\n",
       "      <td>0.01</td>\n",
       "      <td>0.00</td>\n",
       "      <td>0.00</td>\n",
       "      <td>0.00</td>\n",
       "      <td>70.0</td>\n",
       "      <td>6.8</td>\n",
       "      <td>T</td>\n",
       "      <td>0.01</td>\n",
       "    </tr>\n",
       "    <tr>\n",
       "      <th>16500</th>\n",
       "      <td>Root Letter</td>\n",
       "      <td>PS4</td>\n",
       "      <td>2016</td>\n",
       "      <td>Adventure</td>\n",
       "      <td>0.00</td>\n",
       "      <td>0.00</td>\n",
       "      <td>0.01</td>\n",
       "      <td>0.00</td>\n",
       "      <td>69.0</td>\n",
       "      <td>7.5</td>\n",
       "      <td>no_rating</td>\n",
       "      <td>0.01</td>\n",
       "    </tr>\n",
       "    <tr>\n",
       "      <th>16526</th>\n",
       "      <td>Dungeons 2</td>\n",
       "      <td>PS4</td>\n",
       "      <td>2016</td>\n",
       "      <td>Role-Playing</td>\n",
       "      <td>0.01</td>\n",
       "      <td>0.00</td>\n",
       "      <td>0.00</td>\n",
       "      <td>0.00</td>\n",
       "      <td>61.0</td>\n",
       "      <td>7.9</td>\n",
       "      <td>T</td>\n",
       "      <td>0.01</td>\n",
       "    </tr>\n",
       "    <tr>\n",
       "      <th>16530</th>\n",
       "      <td>Carmageddon: Max Damage</td>\n",
       "      <td>PS4</td>\n",
       "      <td>2016</td>\n",
       "      <td>Action</td>\n",
       "      <td>0.01</td>\n",
       "      <td>0.00</td>\n",
       "      <td>0.00</td>\n",
       "      <td>0.00</td>\n",
       "      <td>51.0</td>\n",
       "      <td>5.5</td>\n",
       "      <td>M</td>\n",
       "      <td>0.01</td>\n",
       "    </tr>\n",
       "  </tbody>\n",
       "</table>\n",
       "<p>242 rows × 12 columns</p>\n",
       "</div>"
      ],
      "text/plain": [
       "                                        name platform  year_of_release  \\\n",
       "42                        Grand Theft Auto V      PS4             2014   \n",
       "77                                   FIFA 16      PS4             2015   \n",
       "92            Call of Duty: Advanced Warfare      PS4             2014   \n",
       "94                                   FIFA 17      PS4             2016   \n",
       "105                                Fallout 4      PS4             2015   \n",
       "...                                      ...      ...              ...   \n",
       "16486                     Super Dungeon Bros      PS4             2016   \n",
       "16499  Sherlock Holmes: The Devil's Daughter      PS4             2016   \n",
       "16500                            Root Letter      PS4             2016   \n",
       "16526                             Dungeons 2      PS4             2016   \n",
       "16530                Carmageddon: Max Damage      PS4             2016   \n",
       "\n",
       "              genre  na_sales  eu_sales  jp_sales  other_sales  critic_score  \\\n",
       "42           Action      3.96      6.31      0.38         1.97          97.0   \n",
       "77           Sports      1.12      6.12      0.06         1.28          82.0   \n",
       "92          Shooter      2.81      3.48      0.14         1.23          83.0   \n",
       "94           Sports      0.66      5.75      0.08         1.11          85.0   \n",
       "105    Role-Playing      2.53      3.27      0.24         1.13          87.0   \n",
       "...             ...       ...       ...       ...          ...           ...   \n",
       "16486        Action      0.01      0.00      0.00         0.00          42.0   \n",
       "16499     Adventure      0.01      0.00      0.00         0.00          70.0   \n",
       "16500     Adventure      0.00      0.00      0.01         0.00          69.0   \n",
       "16526  Role-Playing      0.01      0.00      0.00         0.00          61.0   \n",
       "16530        Action      0.01      0.00      0.00         0.00          51.0   \n",
       "\n",
       "       user_score     rating  total_sales  \n",
       "42            8.3          M        12.62  \n",
       "77            4.3          E         8.58  \n",
       "92            5.7          M         7.66  \n",
       "94            5.0          E         7.60  \n",
       "105           6.5          M         7.17  \n",
       "...           ...        ...          ...  \n",
       "16486         2.3       E10+         0.01  \n",
       "16499         6.8          T         0.01  \n",
       "16500         7.5  no_rating         0.01  \n",
       "16526         7.9          T         0.01  \n",
       "16530         5.5          M         0.01  \n",
       "\n",
       "[242 rows x 12 columns]"
      ]
     },
     "execution_count": 34,
     "metadata": {},
     "output_type": "execute_result"
    }
   ],
   "source": [
    "ps4 = actual_data.query('platform == \"PS4\" & user_score != 0 ')\n",
    "ps4"
   ]
  },
  {
   "cell_type": "code",
   "execution_count": 35,
   "metadata": {
    "scrolled": false
   },
   "outputs": [
    {
     "data": {
      "image/png": "[encoded data removed]",
      "text/plain": [
       "<Figure size 720x720 with 1 Axes>"
      ]
     },
     "metadata": {
      "needs_background": "light"
     },
     "output_type": "display_data"
    }
   ],
   "source": [
    "fig1, ax1 = plt.subplots(figsize=(10, 10))\n",
    "sns.scatterplot(data = ps4, \n",
    "                x = 'user_score', \n",
    "                y = 'total_sales',\n",
    "                size = 'total_sales', \n",
    "                hue = 'total_sales', \n",
    "                sizes=(20, 200))\n",
    "plt.xlabel('Рейтинг пользователя', fontsize = 16)\n",
    "plt.ylabel('Продажи',fontsize = 16)\n",
    "plt.title('Продажи в зависимости от рейтинга пользователей',fontsize = 16 )\n",
    "plt.show()"
   ]
  },
  {
   "cell_type": "code",
   "execution_count": 36,
   "metadata": {},
   "outputs": [
    {
     "data": {
      "image/png": "[encoded data removed]",
      "text/plain": [
       "<Figure size 720x720 with 1 Axes>"
      ]
     },
     "metadata": {
      "needs_background": "light"
     },
     "output_type": "display_data"
    }
   ],
   "source": [
    "fig1, ax1 = plt.subplots(figsize=(10, 10))\n",
    "sns.scatterplot(data = ps4, \n",
    "                x = 'critic_score', \n",
    "                y = 'total_sales',\n",
    "                size = 'total_sales', \n",
    "                hue = 'total_sales', \n",
    "                sizes=(20, 200))\n",
    "plt.xlabel('Рейтинг критиков', fontsize = 16)\n",
    "plt.ylabel('Продажи',fontsize = 16)\n",
    "plt.title('Продажи в зависимости от рейтинга критиков',fontsize = 16 )\n",
    "plt.show()"
   ]
  },
  {
   "cell_type": "markdown",
   "metadata": {},
   "source": [
    "<div class=\"alert-success\"> \n",
    "\n",
    "Зависимости продаж от рейтинга пользователей не наблюдается, хорошие результаты показывают игры и с низкими пользовательскими рейтингами, однако в случае с оценкой критиков, дела обстоят иначе, почти нет игр с высокими продажами, которые низко оценили критики. </div>"
   ]
  },
  {
   "cell_type": "code",
   "execution_count": 37,
   "metadata": {},
   "outputs": [
    {
     "data": {
      "text/plain": [
       "0.34140356191608023"
      ]
     },
     "execution_count": 37,
     "metadata": {},
     "output_type": "execute_result"
    }
   ],
   "source": [
    "ps4['critic_score'].corr(ps4['total_sales'])"
   ]
  },
  {
   "cell_type": "code",
   "execution_count": 38,
   "metadata": {},
   "outputs": [
    {
     "data": {
      "text/plain": [
       "-0.040131589472697356"
      ]
     },
     "execution_count": 38,
     "metadata": {},
     "output_type": "execute_result"
    }
   ],
   "source": [
    "ps4['user_score'].corr(ps4['total_sales'])"
   ]
  },
  {
   "cell_type": "markdown",
   "metadata": {},
   "source": [
    "## Зависимость продаж от отзывов на всех популярнх платформах \n",
    "<a id='subheading5'></a>\n",
    "<ul>\n",
    "<a href=\"#top\">К содержанию</a>\n",
    "</ul>"
   ]
  },
  {
   "cell_type": "code",
   "execution_count": 39,
   "metadata": {},
   "outputs": [],
   "source": [
    "#напишем функцию для расчёта кореляции по палтформам\n",
    "def cor (data):\n",
    "    for i in actual_data['platform'].unique():\n",
    "        fx = actual_data.query('platform == @i')\n",
    "        print('Кореляция оценки пользователей',i,':', fx.user_score.corr(fx.total_sales))\n",
    "        print('Кореляция оценки критиков',i,':', fx.critic_score.corr(fx.total_sales))\n",
    "        print()"
   ]
  },
  {
   "cell_type": "code",
   "execution_count": 40,
   "metadata": {},
   "outputs": [
    {
     "name": "stdout",
     "output_type": "stream",
     "text": [
      "Кореляция оценки пользователей PS4 : 0.10144814376783853\n",
      "Кореляция оценки критиков PS4 : 0.2118368183044837\n",
      "\n",
      "Кореляция оценки пользователей 3DS : 0.05492175714040346\n",
      "Кореляция оценки критиков 3DS : 0.05325522817191302\n",
      "\n",
      "Кореляция оценки пользователей XOne : 0.10207401748014336\n",
      "Кореляция оценки критиков XOne : 0.27251772512134903\n",
      "\n",
      "Кореляция оценки пользователей WiiU : 0.2646313950420228\n",
      "Кореляция оценки критиков WiiU : 0.29222225366893145\n",
      "\n",
      "Кореляция оценки пользователей PS3 : 0.19669962340037422\n",
      "Кореляция оценки критиков PS3 : 0.02390708896046414\n",
      "\n",
      "Кореляция оценки пользователей X360 : 0.071266511310844\n",
      "Кореляция оценки критиков X360 : 0.004687018080577021\n",
      "\n",
      "Кореляция оценки пользователей PC : 0.061709354418852926\n",
      "Кореляция оценки критиков PC : 0.18431151197970436\n",
      "\n",
      "Кореляция оценки пользователей Wii : 0.7877830657240429\n",
      "Кореляция оценки критиков Wii : nan\n",
      "\n",
      "Кореляция оценки пользователей PSV : 0.2752875270324686\n",
      "Кореляция оценки критиков PSV : 0.2439013566877441\n",
      "\n",
      "Кореляция оценки пользователей PSP : nan\n",
      "Кореляция оценки критиков PSP : nan\n",
      "\n"
     ]
    }
   ],
   "source": [
    "cor(actual_data)"
   ]
  },
  {
   "cell_type": "markdown",
   "metadata": {},
   "source": [
    "<div class=\"alert-success\"> \n",
    "\n",
    "Наиболее сильная кареляция между отзывами и продажами у Wii"
   ]
  },
  {
   "cell_type": "markdown",
   "metadata": {},
   "source": [
    "## Посмотрим на общее распределение игр по жанрам. Определим самые прибыльные жанры. Выделяются ли жанры с высокими и низкими продажами?\n",
    "<a id='subheading6'></a>\n",
    "<ul>\n",
    "<a href=\"#top\">К содержанию</a>\n",
    "</ul>"
   ]
  },
  {
   "cell_type": "code",
   "execution_count": 41,
   "metadata": {},
   "outputs": [],
   "source": [
    "genre_sales_median = actual_data.groupby(['genre']).\\\n",
    "agg(sales = ('total_sales','median')).\\\n",
    "sort_values(by = 'sales', ascending = False)\n",
    "genre_sales_median = genre_sales_median.reset_index()"
   ]
  },
  {
   "cell_type": "code",
   "execution_count": 42,
   "metadata": {},
   "outputs": [
    {
     "data": {
      "image/png": "[encoded data removed]",
      "text/plain": [
       "<Figure size 720x720 with 1 Axes>"
      ]
     },
     "metadata": {},
     "output_type": "display_data"
    }
   ],
   "source": [
    "fig1, ax1 = plt.subplots(figsize=(10, 10))\n",
    "plt.pie(genre_sales_median['sales'],labels =genre_sales_median['genre'])\n",
    "plt.title('Медианные продажи игр по жанрам',fontsize = 16 )\n",
    "plt.show()"
   ]
  },
  {
   "cell_type": "code",
   "execution_count": 43,
   "metadata": {},
   "outputs": [],
   "source": [
    "genre_sales_mean = actual_data.groupby(['genre']).\\\n",
    "agg(sales = ('total_sales','mean')).\\\n",
    "sort_values(by = 'sales', ascending = False)\n",
    "genre_sales_mean = genre_sales_mean.reset_index()"
   ]
  },
  {
   "cell_type": "code",
   "execution_count": 44,
   "metadata": {},
   "outputs": [
    {
     "data": {
      "image/png": "[encoded data removed]",
      "text/plain": [
       "<Figure size 720x720 with 1 Axes>"
      ]
     },
     "metadata": {},
     "output_type": "display_data"
    }
   ],
   "source": [
    "fig1, ax1 = plt.subplots(figsize=(10, 10))\n",
    "plt.pie(genre_sales_mean['sales'],labels =genre_sales_mean['genre'])\n",
    "plt.title('Средние продажи игр по жанрам',fontsize = 16 )\n",
    "plt.show()"
   ]
  },
  {
   "cell_type": "code",
   "execution_count": 45,
   "metadata": {},
   "outputs": [],
   "source": [
    "genre_qty = actual_data.groupby(['genre']).\\\n",
    "agg(number_of_games = ('total_sales','sum')).\\\n",
    "sort_values(by = 'number_of_games', ascending = False)\n",
    "genre_qty = genre_qty.reset_index()"
   ]
  },
  {
   "cell_type": "code",
   "execution_count": 46,
   "metadata": {},
   "outputs": [
    {
     "data": {
      "image/png": "[encoded data removed]",
      "text/plain": [
       "<Figure size 720x720 with 1 Axes>"
      ]
     },
     "metadata": {},
     "output_type": "display_data"
    }
   ],
   "source": [
    "fig1, ax1 = plt.subplots(figsize=(10, 10))\n",
    "plt.pie(genre_qty['number_of_games'],labels = genre_qty['genre'])\n",
    "plt.title('Количество игр по жанрам',fontsize = 16 )\n",
    "plt.show()"
   ]
  },
  {
   "cell_type": "markdown",
   "metadata": {},
   "source": [
    "<div class=\"alert-success\"> \n",
    "\n",
    "Жанрами,которые стабильно приносят высокий доход яаляются шутер, спортивные симуляторы и платформеры. Жанры с самым низким доходом - приключения, стратегия и пазл. Экшн и шутер являются самыми массовыми ко поличеству игр жанрами."
   ]
  },
  {
   "cell_type": "markdown",
   "metadata": {},
   "source": [
    "# Составим потрет пользователя по регионам\n",
    "<a id='section4'></a>\n",
    "<ul>\n",
    "<a href=\"#top\">К содержанию</a>\n",
    "</ul>"
   ]
  },
  {
   "cell_type": "markdown",
   "metadata": {},
   "source": [
    " Определим для пользователей каждого региона(NA, EU, JP):\n",
    "\n",
    "    -Самые популярные платформы (топ-5). Опишем различия в долях продаж.\n",
    "    -Самые популярные жанры (топ-5). \n",
    "    -Влияет ли рейтинг ESRB на продажи в отдельном регионе?"
   ]
  },
  {
   "cell_type": "code",
   "execution_count": 47,
   "metadata": {
    "scrolled": false
   },
   "outputs": [
    {
     "data": {
      "text/html": [
       "<div>\n",
       "<style scoped>\n",
       "    .dataframe tbody tr th:only-of-type {\n",
       "        vertical-align: middle;\n",
       "    }\n",
       "\n",
       "    .dataframe tbody tr th {\n",
       "        vertical-align: top;\n",
       "    }\n",
       "\n",
       "    .dataframe thead th {\n",
       "        text-align: right;\n",
       "    }\n",
       "</style>\n",
       "<table border=\"1\" class=\"dataframe\">\n",
       "  <thead>\n",
       "    <tr style=\"text-align: right;\">\n",
       "      <th></th>\n",
       "      <th>eu_sales</th>\n",
       "    </tr>\n",
       "    <tr>\n",
       "      <th>platform</th>\n",
       "      <th></th>\n",
       "    </tr>\n",
       "  </thead>\n",
       "  <tbody>\n",
       "    <tr>\n",
       "      <th>PS4</th>\n",
       "      <td>130.04</td>\n",
       "    </tr>\n",
       "    <tr>\n",
       "      <th>XOne</th>\n",
       "      <td>46.25</td>\n",
       "    </tr>\n",
       "    <tr>\n",
       "      <th>PS3</th>\n",
       "      <td>25.54</td>\n",
       "    </tr>\n",
       "    <tr>\n",
       "      <th>PC</th>\n",
       "      <td>17.97</td>\n",
       "    </tr>\n",
       "    <tr>\n",
       "      <th>3DS</th>\n",
       "      <td>16.12</td>\n",
       "    </tr>\n",
       "  </tbody>\n",
       "</table>\n",
       "</div>"
      ],
      "text/plain": [
       "          eu_sales\n",
       "platform          \n",
       "PS4         130.04\n",
       "XOne         46.25\n",
       "PS3          25.54\n",
       "PC           17.97\n",
       "3DS          16.12"
      ]
     },
     "metadata": {},
     "output_type": "display_data"
    },
    {
     "data": {
      "text/html": [
       "<div>\n",
       "<style scoped>\n",
       "    .dataframe tbody tr th:only-of-type {\n",
       "        vertical-align: middle;\n",
       "    }\n",
       "\n",
       "    .dataframe tbody tr th {\n",
       "        vertical-align: top;\n",
       "    }\n",
       "\n",
       "    .dataframe thead th {\n",
       "        text-align: right;\n",
       "    }\n",
       "</style>\n",
       "<table border=\"1\" class=\"dataframe\">\n",
       "  <thead>\n",
       "    <tr style=\"text-align: right;\">\n",
       "      <th></th>\n",
       "      <th>eu_sales</th>\n",
       "    </tr>\n",
       "    <tr>\n",
       "      <th>genre</th>\n",
       "      <th></th>\n",
       "    </tr>\n",
       "  </thead>\n",
       "  <tbody>\n",
       "    <tr>\n",
       "      <th>Action</th>\n",
       "      <td>74.68</td>\n",
       "    </tr>\n",
       "    <tr>\n",
       "      <th>Shooter</th>\n",
       "      <td>65.52</td>\n",
       "    </tr>\n",
       "    <tr>\n",
       "      <th>Sports</th>\n",
       "      <td>45.73</td>\n",
       "    </tr>\n",
       "    <tr>\n",
       "      <th>Role-Playing</th>\n",
       "      <td>28.17</td>\n",
       "    </tr>\n",
       "    <tr>\n",
       "      <th>Racing</th>\n",
       "      <td>14.13</td>\n",
       "    </tr>\n",
       "  </tbody>\n",
       "</table>\n",
       "</div>"
      ],
      "text/plain": [
       "              eu_sales\n",
       "genre                 \n",
       "Action           74.68\n",
       "Shooter          65.52\n",
       "Sports           45.73\n",
       "Role-Playing     28.17\n",
       "Racing           14.13"
      ]
     },
     "execution_count": 47,
     "metadata": {},
     "output_type": "execute_result"
    }
   ],
   "source": [
    "#найдем тоа 5 платформ и жанров для EU\n",
    "display(actual_data.pivot_table(index = 'platform', \n",
    "                        values = 'eu_sales',\n",
    "                        aggfunc = 'sum').\\\n",
    "            sort_values(by = 'eu_sales', ascending = False).head(5))\n",
    "\n",
    "actual_data.pivot_table(index = 'genre', \n",
    "                        values = 'eu_sales',\n",
    "                        aggfunc = 'sum').\\\n",
    "            sort_values(by = 'eu_sales', ascending = False).head(5)\n"
   ]
  },
  {
   "cell_type": "markdown",
   "metadata": {},
   "source": [
    "<div class=\"alert-success\"> \n",
    "\n",
    "Популярными платформами в европе традиционно яаляются консоли семейства PS, популярные жанры - Экшн, Шутер и Спортивные симуляторы"
   ]
  },
  {
   "cell_type": "code",
   "execution_count": 48,
   "metadata": {},
   "outputs": [
    {
     "data": {
      "text/html": [
       "<div>\n",
       "<style scoped>\n",
       "    .dataframe tbody tr th:only-of-type {\n",
       "        vertical-align: middle;\n",
       "    }\n",
       "\n",
       "    .dataframe tbody tr th {\n",
       "        vertical-align: top;\n",
       "    }\n",
       "\n",
       "    .dataframe thead th {\n",
       "        text-align: right;\n",
       "    }\n",
       "</style>\n",
       "<table border=\"1\" class=\"dataframe\">\n",
       "  <thead>\n",
       "    <tr style=\"text-align: right;\">\n",
       "      <th></th>\n",
       "      <th>na_sales</th>\n",
       "    </tr>\n",
       "    <tr>\n",
       "      <th>platform</th>\n",
       "      <th></th>\n",
       "    </tr>\n",
       "  </thead>\n",
       "  <tbody>\n",
       "    <tr>\n",
       "      <th>PS4</th>\n",
       "      <td>98.61</td>\n",
       "    </tr>\n",
       "    <tr>\n",
       "      <th>XOne</th>\n",
       "      <td>81.27</td>\n",
       "    </tr>\n",
       "    <tr>\n",
       "      <th>X360</th>\n",
       "      <td>28.30</td>\n",
       "    </tr>\n",
       "    <tr>\n",
       "      <th>3DS</th>\n",
       "      <td>22.64</td>\n",
       "    </tr>\n",
       "    <tr>\n",
       "      <th>PS3</th>\n",
       "      <td>22.05</td>\n",
       "    </tr>\n",
       "  </tbody>\n",
       "</table>\n",
       "</div>"
      ],
      "text/plain": [
       "          na_sales\n",
       "platform          \n",
       "PS4          98.61\n",
       "XOne         81.27\n",
       "X360         28.30\n",
       "3DS          22.64\n",
       "PS3          22.05"
      ]
     },
     "metadata": {},
     "output_type": "display_data"
    },
    {
     "data": {
      "text/html": [
       "<div>\n",
       "<style scoped>\n",
       "    .dataframe tbody tr th:only-of-type {\n",
       "        vertical-align: middle;\n",
       "    }\n",
       "\n",
       "    .dataframe tbody tr th {\n",
       "        vertical-align: top;\n",
       "    }\n",
       "\n",
       "    .dataframe thead th {\n",
       "        text-align: right;\n",
       "    }\n",
       "</style>\n",
       "<table border=\"1\" class=\"dataframe\">\n",
       "  <thead>\n",
       "    <tr style=\"text-align: right;\">\n",
       "      <th></th>\n",
       "      <th>na_sales</th>\n",
       "    </tr>\n",
       "    <tr>\n",
       "      <th>genre</th>\n",
       "      <th></th>\n",
       "    </tr>\n",
       "  </thead>\n",
       "  <tbody>\n",
       "    <tr>\n",
       "      <th>Shooter</th>\n",
       "      <td>79.02</td>\n",
       "    </tr>\n",
       "    <tr>\n",
       "      <th>Action</th>\n",
       "      <td>72.53</td>\n",
       "    </tr>\n",
       "    <tr>\n",
       "      <th>Sports</th>\n",
       "      <td>46.13</td>\n",
       "    </tr>\n",
       "    <tr>\n",
       "      <th>Role-Playing</th>\n",
       "      <td>33.47</td>\n",
       "    </tr>\n",
       "    <tr>\n",
       "      <th>Misc</th>\n",
       "      <td>15.05</td>\n",
       "    </tr>\n",
       "  </tbody>\n",
       "</table>\n",
       "</div>"
      ],
      "text/plain": [
       "              na_sales\n",
       "genre                 \n",
       "Shooter          79.02\n",
       "Action           72.53\n",
       "Sports           46.13\n",
       "Role-Playing     33.47\n",
       "Misc             15.05"
      ]
     },
     "execution_count": 48,
     "metadata": {},
     "output_type": "execute_result"
    }
   ],
   "source": [
    "#аналогично найдем топ 5 для NA\n",
    "display(actual_data.pivot_table(index = 'platform', \n",
    "                        values = 'na_sales',\n",
    "                        aggfunc = 'sum').\\\n",
    "            sort_values(by = 'na_sales', ascending = False).head(5))\n",
    "\n",
    "actual_data.pivot_table(index = 'genre', \n",
    "                        values = 'na_sales',\n",
    "                        aggfunc = 'sum').\\\n",
    "            sort_values(by = 'na_sales', ascending = False).head(5)\n"
   ]
  },
  {
   "cell_type": "markdown",
   "metadata": {},
   "source": [
    "<div class=\"alert-success\"> \n",
    "\n",
    "На рынке северной америки лидирует PS4, но разрыв с XBOX тут не такой уж и большой. У Xbox есть все шансы занять лидируещие позиции. популярные жанры - Экшн, Шутер и Спортивные симуляторы"
   ]
  },
  {
   "cell_type": "code",
   "execution_count": 49,
   "metadata": {},
   "outputs": [
    {
     "data": {
      "text/html": [
       "<div>\n",
       "<style scoped>\n",
       "    .dataframe tbody tr th:only-of-type {\n",
       "        vertical-align: middle;\n",
       "    }\n",
       "\n",
       "    .dataframe tbody tr th {\n",
       "        vertical-align: top;\n",
       "    }\n",
       "\n",
       "    .dataframe thead th {\n",
       "        text-align: right;\n",
       "    }\n",
       "</style>\n",
       "<table border=\"1\" class=\"dataframe\">\n",
       "  <thead>\n",
       "    <tr style=\"text-align: right;\">\n",
       "      <th></th>\n",
       "      <th>jp_sales</th>\n",
       "    </tr>\n",
       "    <tr>\n",
       "      <th>platform</th>\n",
       "      <th></th>\n",
       "    </tr>\n",
       "  </thead>\n",
       "  <tbody>\n",
       "    <tr>\n",
       "      <th>3DS</th>\n",
       "      <td>44.24</td>\n",
       "    </tr>\n",
       "    <tr>\n",
       "      <th>PS4</th>\n",
       "      <td>15.02</td>\n",
       "    </tr>\n",
       "    <tr>\n",
       "      <th>PSV</th>\n",
       "      <td>14.54</td>\n",
       "    </tr>\n",
       "    <tr>\n",
       "      <th>PS3</th>\n",
       "      <td>11.22</td>\n",
       "    </tr>\n",
       "    <tr>\n",
       "      <th>WiiU</th>\n",
       "      <td>7.31</td>\n",
       "    </tr>\n",
       "  </tbody>\n",
       "</table>\n",
       "</div>"
      ],
      "text/plain": [
       "          jp_sales\n",
       "platform          \n",
       "3DS          44.24\n",
       "PS4          15.02\n",
       "PSV          14.54\n",
       "PS3          11.22\n",
       "WiiU          7.31"
      ]
     },
     "metadata": {},
     "output_type": "display_data"
    },
    {
     "data": {
      "text/html": [
       "<div>\n",
       "<style scoped>\n",
       "    .dataframe tbody tr th:only-of-type {\n",
       "        vertical-align: middle;\n",
       "    }\n",
       "\n",
       "    .dataframe tbody tr th {\n",
       "        vertical-align: top;\n",
       "    }\n",
       "\n",
       "    .dataframe thead th {\n",
       "        text-align: right;\n",
       "    }\n",
       "</style>\n",
       "<table border=\"1\" class=\"dataframe\">\n",
       "  <thead>\n",
       "    <tr style=\"text-align: right;\">\n",
       "      <th></th>\n",
       "      <th>jp_sales</th>\n",
       "    </tr>\n",
       "    <tr>\n",
       "      <th>genre</th>\n",
       "      <th></th>\n",
       "    </tr>\n",
       "  </thead>\n",
       "  <tbody>\n",
       "    <tr>\n",
       "      <th>Role-Playing</th>\n",
       "      <td>31.16</td>\n",
       "    </tr>\n",
       "    <tr>\n",
       "      <th>Action</th>\n",
       "      <td>29.58</td>\n",
       "    </tr>\n",
       "    <tr>\n",
       "      <th>Fighting</th>\n",
       "      <td>6.37</td>\n",
       "    </tr>\n",
       "    <tr>\n",
       "      <th>Misc</th>\n",
       "      <td>5.61</td>\n",
       "    </tr>\n",
       "    <tr>\n",
       "      <th>Shooter</th>\n",
       "      <td>4.87</td>\n",
       "    </tr>\n",
       "  </tbody>\n",
       "</table>\n",
       "</div>"
      ],
      "text/plain": [
       "              jp_sales\n",
       "genre                 \n",
       "Role-Playing     31.16\n",
       "Action           29.58\n",
       "Fighting          6.37\n",
       "Misc              5.61\n",
       "Shooter           4.87"
      ]
     },
     "execution_count": 49,
     "metadata": {},
     "output_type": "execute_result"
    }
   ],
   "source": [
    "#аналогично найдем топ 5 для JP\n",
    "display(actual_data.pivot_table(index = 'platform', \n",
    "                        values = 'jp_sales',\n",
    "                        aggfunc = 'sum').\\\n",
    "            sort_values(by = 'jp_sales', ascending = False).head(5))\n",
    "\n",
    "actual_data.pivot_table(index = 'genre', \n",
    "                        values = 'jp_sales',\n",
    "                        aggfunc = 'sum').\\\n",
    "            sort_values(by = 'jp_sales', ascending = False).head(5)\n"
   ]
  },
  {
   "cell_type": "markdown",
   "metadata": {},
   "source": [
    "<div class=\"alert-success\"> \n",
    "\n",
    "Рынок Японии всегда был самобытным, пользовательские предпочтения очень сильно отличаются от других регионов. Значительную долю рынка занимают консоли нинтендо, в частности портатианая консоль 3DS, что в свою очередь сильно сказывается на игровых предпочтениях пользователей,тройка жанровых лидеров отличается от Европы и Севрерной Америки, лидируюшую позицию тут занимают роливые игры и экшн."
   ]
  },
  {
   "cell_type": "code",
   "execution_count": 50,
   "metadata": {},
   "outputs": [
    {
     "data": {
      "text/html": [
       "<div>\n",
       "<style scoped>\n",
       "    .dataframe tbody tr th:only-of-type {\n",
       "        vertical-align: middle;\n",
       "    }\n",
       "\n",
       "    .dataframe tbody tr th {\n",
       "        vertical-align: top;\n",
       "    }\n",
       "\n",
       "    .dataframe thead th {\n",
       "        text-align: right;\n",
       "    }\n",
       "</style>\n",
       "<table border=\"1\" class=\"dataframe\">\n",
       "  <thead>\n",
       "    <tr style=\"text-align: right;\">\n",
       "      <th></th>\n",
       "      <th>EU</th>\n",
       "      <th>US</th>\n",
       "      <th>JP</th>\n",
       "      <th>Total</th>\n",
       "    </tr>\n",
       "    <tr>\n",
       "      <th>rating</th>\n",
       "      <th></th>\n",
       "      <th></th>\n",
       "      <th></th>\n",
       "      <th></th>\n",
       "    </tr>\n",
       "  </thead>\n",
       "  <tbody>\n",
       "    <tr>\n",
       "      <th>M</th>\n",
       "      <td>93.44</td>\n",
       "      <td>96.42</td>\n",
       "      <td>8.01</td>\n",
       "      <td>286.28</td>\n",
       "    </tr>\n",
       "    <tr>\n",
       "      <th>no_rating</th>\n",
       "      <td>58.95</td>\n",
       "      <td>64.72</td>\n",
       "      <td>56.90</td>\n",
       "      <td>188.39</td>\n",
       "    </tr>\n",
       "    <tr>\n",
       "      <th>E</th>\n",
       "      <td>58.06</td>\n",
       "      <td>50.74</td>\n",
       "      <td>8.94</td>\n",
       "      <td>159.54</td>\n",
       "    </tr>\n",
       "    <tr>\n",
       "      <th>T</th>\n",
       "      <td>34.07</td>\n",
       "      <td>38.95</td>\n",
       "      <td>14.78</td>\n",
       "      <td>111.97</td>\n",
       "    </tr>\n",
       "    <tr>\n",
       "      <th>E10+</th>\n",
       "      <td>26.16</td>\n",
       "      <td>33.23</td>\n",
       "      <td>4.46</td>\n",
       "      <td>92.62</td>\n",
       "    </tr>\n",
       "  </tbody>\n",
       "</table>\n",
       "</div>"
      ],
      "text/plain": [
       "              EU     US     JP   Total\n",
       "rating                                \n",
       "M          93.44  96.42   8.01  286.28\n",
       "no_rating  58.95  64.72  56.90  188.39\n",
       "E          58.06  50.74   8.94  159.54\n",
       "T          34.07  38.95  14.78  111.97\n",
       "E10+       26.16  33.23   4.46   92.62"
      ]
     },
     "execution_count": 50,
     "metadata": {},
     "output_type": "execute_result"
    }
   ],
   "source": [
    "#теперь посомтрим как влияет рейтинг ESRB на продажи в отдельных регионах\n",
    "esrb_sales = actual_data.query('rating != 0').\\\n",
    "            groupby(['rating']).\\\n",
    "            agg(EU=('eu_sales','sum'), \n",
    "                US = ('na_sales','sum'), \n",
    "                JP = ('jp_sales','sum'))\n",
    "esrb_sales['Total'] = esrb_sales['EU']+esrb_sales['US']+esrb_sales['US']\n",
    "esrb_sales.sort_values(by = 'Total', ascending = False)"
   ]
  },
  {
   "cell_type": "markdown",
   "metadata": {},
   "source": [
    "<div class=\"alert-success\"> \n",
    "\n",
    "Рейтинг продаж игр в Европе и Северноей Америке совпадает лидерами продаж являются игры с рейтингом M, то есть игры для взрослой аудитории 17+, на втором месте идут продажи игр для всех возрастов, традиционно в аутсайдерах находятся игры для подростков. И в этом срезе выделяется Япония. В Японии выделяются игры с отсутствущим рейтингом, так как япония использует свою систему рейтингов."
   ]
  },
  {
   "cell_type": "markdown",
   "metadata": {},
   "source": [
    "# Проверка гипотез\n",
    "<a id='section5'></a>\n",
    "<ul>\n",
    "<a href=\"#top\">К содержанию</a>\n",
    "</ul>"
   ]
  },
  {
   "cell_type": "markdown",
   "metadata": {},
   "source": [
    "### Средние пользовательские рейтинги платформ Xbox One и PC одинаковые"
   ]
  },
  {
   "cell_type": "markdown",
   "metadata": {},
   "source": [
    "Сформулируем нулевую и альтернативную гипотезы\n",
    "\n",
    "H0:Средние пользовательские рейтинги платформ Xbox One и PC равны\n",
    "\n",
    "HA:Средние пользовательские рейтинги платформ Xbox One и PC не равны"
   ]
  },
  {
   "cell_type": "code",
   "execution_count": 51,
   "metadata": {},
   "outputs": [
    {
     "name": "stdout",
     "output_type": "stream",
     "text": [
      "p-value: [0.31981092]\n",
      "не получилось отвергнуть нулевую гипотезу\n"
     ]
    }
   ],
   "source": [
    "user_rating_xbox = actual_data.query('platform == \"XOne\"').loc[:,['user_score']]\n",
    "user_rating_pc = actual_data.query('platform == \"PC\"').loc[:,['user_score']]\n",
    "\n",
    "alpha = .05\n",
    "results = scipy.stats.ttest_ind(user_rating_xbox, user_rating_pc, equal_var = False)\n",
    " \n",
    "print('p-value:', results.pvalue)\n",
    "if results.pvalue < alpha:\n",
    "    print ('отвергаем нулевую гипотезу')\n",
    "else:\n",
    "    print ('не получилось отвергнуть нулевую гипотезу')"
   ]
  },
  {
   "cell_type": "markdown",
   "metadata": {},
   "source": [
    "### Средние пользовательские рейтинги жанров Action (англ. «действие», экшен-игры) и Sports (англ. «спортивные соревнования») разные."
   ]
  },
  {
   "cell_type": "markdown",
   "metadata": {},
   "source": [
    "Сформулируем нулевую и альтернативную гипотезы\n",
    "\n",
    "H0:Средние пользовательские рейтинги жанров Action и Sports равны\n",
    "\n",
    "HA:Средние пользовательские рейтинги жанров Action и Sports не равны"
   ]
  },
  {
   "cell_type": "code",
   "execution_count": 53,
   "metadata": {},
   "outputs": [
    {
     "name": "stdout",
     "output_type": "stream",
     "text": [
      "p-value: [0.03035028]\n",
      "отвергаем нулевую гипотезу\n"
     ]
    }
   ],
   "source": [
    "action_rating_xbox = actual_data.query('genre == \"Action\"').loc[:,['user_score']]\n",
    "user_rating_pc = actual_data.query('genre == \"Sports\"').loc[:,['user_score']]\n",
    "\n",
    "alpha = .05\n",
    "results = scipy.stats.ttest_ind(user_rating_xbox, user_rating_pc, equal_var = False)\n",
    " \n",
    "print('p-value:', results.pvalue)\n",
    "if results.pvalue < alpha:\n",
    "    print ('отвергаем нулевую гипотезу')\n",
    "else:\n",
    "    print ('не получилось отвергнуть нулевую гипотезу')"
   ]
  },
  {
   "cell_type": "markdown",
   "metadata": {},
   "source": [
    "<div class=\"alert-success\"> \n",
    "\n",
    "Для проврерки гипотез я выбрал уровень значимости равный 5%. Значение уровня значимости обозначил за Alpha. Это достаточный уровень значимости для проверки гипотез, так как большой уровень значимости дает большую уверенность в истинности альтернативной гипотезы. Но при этом возрастает риск не отвергнуть ложную нулевую гипотезу. В нашем случае 5% достаточно. \n",
    "\n",
    "Поскольку нам неоходимо сравнить средние значения двух выборок не связаных между собой мы использовали T тест стьюдента, тесты делаем с параметром equal_var = False, так как наши выборки не равны между собой.\n"
   ]
  },
  {
   "cell_type": "markdown",
   "metadata": {},
   "source": [
    "# Общий вывод \n",
    "<a id='section6'></a>\n",
    "<ul>\n",
    "<a href=\"#top\">К содержанию</a>\n",
    "</ul>"
   ]
  },
  {
   "cell_type": "markdown",
   "metadata": {},
   "source": [
    "Игровые предпочтения Европы и Северной америки очень похожи, люди на 2 континентах выбирают одинаековые жанры в играх, но в плане платформ предпочтения пользователей совершенно разные, в Европе предпочитают PS в Северной Америке XBOX. Особняком стоит Япония, рынок японии очень сильно отличается от рынков EU и NA, здесь сформировалась своя самобытная культура потребления игрового контента здесь популярны совершенно другие жанры, а так же особой популярностью пользуются консоли Nintendo. в Японии пользователи предпочитают инди игры.\n",
    "\n",
    "Делая общий вывод хочу скаать что основную ставку стоит делать на консоли нового поколения Xbox и PS, так же не стоит забывать об альтернативах вроде Nintendo и PC"
   ]
  }
 ],
 "metadata": {
  "ExecuteTimeLog": [
   {
    "duration": 386,
    "start_time": "2022-08-08T07:42:15.312Z"
   },
   {
    "duration": 61,
    "start_time": "2022-08-08T07:42:48.580Z"
   },
   {
    "duration": 99,
    "start_time": "2022-08-08T07:42:54.270Z"
   },
   {
    "duration": 23,
    "start_time": "2022-08-08T07:42:58.629Z"
   },
   {
    "duration": 15,
    "start_time": "2022-08-08T07:43:13.899Z"
   },
   {
    "duration": 14,
    "start_time": "2022-08-08T07:43:31.052Z"
   },
   {
    "duration": 13,
    "start_time": "2022-08-08T07:43:36.944Z"
   },
   {
    "duration": 368,
    "start_time": "2022-08-08T07:43:46.427Z"
   },
   {
    "duration": 54,
    "start_time": "2022-08-08T07:43:46.797Z"
   },
   {
    "duration": 21,
    "start_time": "2022-08-08T07:43:46.852Z"
   },
   {
    "duration": 15,
    "start_time": "2022-08-08T07:43:46.874Z"
   },
   {
    "duration": 17,
    "start_time": "2022-08-08T07:44:41.589Z"
   },
   {
    "duration": 9,
    "start_time": "2022-08-08T07:44:48.192Z"
   },
   {
    "duration": 400,
    "start_time": "2022-08-10T09:08:40.778Z"
   },
   {
    "duration": 90,
    "start_time": "2022-08-10T09:08:41.181Z"
   },
   {
    "duration": 20,
    "start_time": "2022-08-10T09:08:41.272Z"
   },
   {
    "duration": 13,
    "start_time": "2022-08-10T09:08:41.294Z"
   },
   {
    "duration": 10,
    "start_time": "2022-08-10T09:08:41.309Z"
   },
   {
    "duration": 8,
    "start_time": "2022-08-10T09:08:41.321Z"
   },
   {
    "duration": 76,
    "start_time": "2022-08-10T09:11:37.398Z"
   },
   {
    "duration": 4,
    "start_time": "2022-08-10T09:11:59.598Z"
   },
   {
    "duration": 6,
    "start_time": "2022-08-10T09:12:20.309Z"
   },
   {
    "duration": 14,
    "start_time": "2022-08-10T09:13:58.806Z"
   },
   {
    "duration": 12,
    "start_time": "2022-08-10T09:14:27.356Z"
   },
   {
    "duration": 5,
    "start_time": "2022-08-10T09:18:14.626Z"
   },
   {
    "duration": 15,
    "start_time": "2022-08-10T09:20:07.626Z"
   },
   {
    "duration": 357,
    "start_time": "2022-08-10T09:20:26.348Z"
   },
   {
    "duration": 48,
    "start_time": "2022-08-10T09:20:26.707Z"
   },
   {
    "duration": 18,
    "start_time": "2022-08-10T09:20:26.758Z"
   },
   {
    "duration": 16,
    "start_time": "2022-08-10T09:20:26.778Z"
   },
   {
    "duration": 8,
    "start_time": "2022-08-10T09:20:26.796Z"
   },
   {
    "duration": 6,
    "start_time": "2022-08-10T09:20:26.806Z"
   },
   {
    "duration": 72,
    "start_time": "2022-08-10T09:20:26.813Z"
   },
   {
    "duration": 383,
    "start_time": "2022-08-10T09:20:42.919Z"
   },
   {
    "duration": 61,
    "start_time": "2022-08-10T09:20:43.304Z"
   },
   {
    "duration": 18,
    "start_time": "2022-08-10T09:20:43.367Z"
   },
   {
    "duration": 16,
    "start_time": "2022-08-10T09:20:43.386Z"
   },
   {
    "duration": 8,
    "start_time": "2022-08-10T09:20:43.404Z"
   },
   {
    "duration": 10,
    "start_time": "2022-08-10T09:20:43.414Z"
   },
   {
    "duration": 7,
    "start_time": "2022-08-10T09:20:43.426Z"
   },
   {
    "duration": 76,
    "start_time": "2022-08-10T09:20:43.434Z"
   },
   {
    "duration": 12,
    "start_time": "2022-08-10T09:27:20.050Z"
   },
   {
    "duration": 8,
    "start_time": "2022-08-10T09:29:18.336Z"
   },
   {
    "duration": 8,
    "start_time": "2022-08-10T09:29:35.288Z"
   },
   {
    "duration": 5,
    "start_time": "2022-08-10T09:29:44.187Z"
   },
   {
    "duration": 12,
    "start_time": "2022-08-10T09:29:55.798Z"
   },
   {
    "duration": 5,
    "start_time": "2022-08-10T09:30:50.274Z"
   },
   {
    "duration": 380,
    "start_time": "2022-08-10T09:31:03.039Z"
   },
   {
    "duration": 50,
    "start_time": "2022-08-10T09:31:03.421Z"
   },
   {
    "duration": 19,
    "start_time": "2022-08-10T09:31:03.472Z"
   },
   {
    "duration": 13,
    "start_time": "2022-08-10T09:31:03.493Z"
   },
   {
    "duration": 18,
    "start_time": "2022-08-10T09:31:03.507Z"
   },
   {
    "duration": 8,
    "start_time": "2022-08-10T09:31:03.526Z"
   },
   {
    "duration": 8,
    "start_time": "2022-08-10T09:31:03.535Z"
   },
   {
    "duration": 21,
    "start_time": "2022-08-10T09:31:03.544Z"
   },
   {
    "duration": 57,
    "start_time": "2022-08-10T09:33:32.514Z"
   },
   {
    "duration": 21,
    "start_time": "2022-08-10T09:33:36.041Z"
   },
   {
    "duration": 60,
    "start_time": "2022-08-10T09:36:11.652Z"
   },
   {
    "duration": 363,
    "start_time": "2022-08-10T09:36:32.549Z"
   },
   {
    "duration": 50,
    "start_time": "2022-08-10T09:36:32.914Z"
   },
   {
    "duration": 20,
    "start_time": "2022-08-10T09:36:32.966Z"
   },
   {
    "duration": 16,
    "start_time": "2022-08-10T09:36:32.987Z"
   },
   {
    "duration": 8,
    "start_time": "2022-08-10T09:36:33.006Z"
   },
   {
    "duration": 9,
    "start_time": "2022-08-10T09:36:33.015Z"
   },
   {
    "duration": 8,
    "start_time": "2022-08-10T09:36:33.025Z"
   },
   {
    "duration": 7,
    "start_time": "2022-08-10T09:36:33.035Z"
   },
   {
    "duration": 25,
    "start_time": "2022-08-10T09:36:33.043Z"
   },
   {
    "duration": 4,
    "start_time": "2022-08-10T09:36:33.070Z"
   },
   {
    "duration": 6,
    "start_time": "2022-08-10T09:40:01.018Z"
   },
   {
    "duration": 28,
    "start_time": "2022-08-10T09:53:03.430Z"
   },
   {
    "duration": 4,
    "start_time": "2022-08-10T10:04:28.206Z"
   },
   {
    "duration": 3,
    "start_time": "2022-08-10T10:04:43.403Z"
   },
   {
    "duration": 9,
    "start_time": "2022-08-10T10:07:03.367Z"
   },
   {
    "duration": 13,
    "start_time": "2022-08-10T10:07:18.624Z"
   },
   {
    "duration": 9,
    "start_time": "2022-08-10T10:07:29.803Z"
   },
   {
    "duration": 3,
    "start_time": "2022-08-10T11:14:41.736Z"
   },
   {
    "duration": 5,
    "start_time": "2022-08-10T11:14:56.879Z"
   },
   {
    "duration": 417,
    "start_time": "2022-08-10T11:15:05.606Z"
   },
   {
    "duration": 56,
    "start_time": "2022-08-10T11:15:06.026Z"
   },
   {
    "duration": 19,
    "start_time": "2022-08-10T11:15:06.084Z"
   },
   {
    "duration": 32,
    "start_time": "2022-08-10T11:15:06.105Z"
   },
   {
    "duration": 9,
    "start_time": "2022-08-10T11:15:06.139Z"
   },
   {
    "duration": 13,
    "start_time": "2022-08-10T11:15:06.149Z"
   },
   {
    "duration": 18,
    "start_time": "2022-08-10T11:15:06.163Z"
   },
   {
    "duration": 5,
    "start_time": "2022-08-10T11:15:06.182Z"
   },
   {
    "duration": 25,
    "start_time": "2022-08-10T11:15:06.189Z"
   },
   {
    "duration": 5,
    "start_time": "2022-08-10T11:15:06.215Z"
   },
   {
    "duration": 13,
    "start_time": "2022-08-10T11:15:06.221Z"
   },
   {
    "duration": 8,
    "start_time": "2022-08-10T11:15:06.236Z"
   },
   {
    "duration": 39,
    "start_time": "2022-08-10T11:15:06.245Z"
   },
   {
    "duration": 30,
    "start_time": "2022-08-10T11:15:06.286Z"
   },
   {
    "duration": 7,
    "start_time": "2022-08-10T11:16:48.779Z"
   },
   {
    "duration": 17,
    "start_time": "2022-08-10T11:16:56.080Z"
   },
   {
    "duration": 59,
    "start_time": "2022-08-10T11:20:23.099Z"
   },
   {
    "duration": 361,
    "start_time": "2022-08-10T11:20:51.551Z"
   },
   {
    "duration": 55,
    "start_time": "2022-08-10T11:20:51.914Z"
   },
   {
    "duration": 22,
    "start_time": "2022-08-10T11:20:51.971Z"
   },
   {
    "duration": 16,
    "start_time": "2022-08-10T11:20:51.995Z"
   },
   {
    "duration": 9,
    "start_time": "2022-08-10T11:20:52.013Z"
   },
   {
    "duration": 11,
    "start_time": "2022-08-10T11:20:52.023Z"
   },
   {
    "duration": 9,
    "start_time": "2022-08-10T11:20:52.035Z"
   },
   {
    "duration": 10,
    "start_time": "2022-08-10T11:20:52.046Z"
   },
   {
    "duration": 24,
    "start_time": "2022-08-10T11:20:52.057Z"
   },
   {
    "duration": 5,
    "start_time": "2022-08-10T11:20:52.082Z"
   },
   {
    "duration": 21,
    "start_time": "2022-08-10T11:20:52.088Z"
   },
   {
    "duration": 11,
    "start_time": "2022-08-10T11:20:52.110Z"
   },
   {
    "duration": 16,
    "start_time": "2022-08-10T11:20:52.123Z"
   },
   {
    "duration": 13,
    "start_time": "2022-08-10T11:20:52.141Z"
   },
   {
    "duration": 29,
    "start_time": "2022-08-10T11:20:52.156Z"
   },
   {
    "duration": 73,
    "start_time": "2022-08-10T11:20:52.187Z"
   },
   {
    "duration": 71,
    "start_time": "2022-08-10T11:22:22.399Z"
   },
   {
    "duration": 12,
    "start_time": "2022-08-10T11:22:38.294Z"
   },
   {
    "duration": 10,
    "start_time": "2022-08-10T11:23:32.231Z"
   },
   {
    "duration": 10,
    "start_time": "2022-08-10T11:25:07.765Z"
   },
   {
    "duration": 12,
    "start_time": "2022-08-10T11:25:28.133Z"
   },
   {
    "duration": 398,
    "start_time": "2022-08-10T11:26:18.502Z"
   },
   {
    "duration": 54,
    "start_time": "2022-08-10T11:26:18.902Z"
   },
   {
    "duration": 18,
    "start_time": "2022-08-10T11:26:18.958Z"
   },
   {
    "duration": 13,
    "start_time": "2022-08-10T11:26:18.977Z"
   },
   {
    "duration": 9,
    "start_time": "2022-08-10T11:26:18.992Z"
   },
   {
    "duration": 10,
    "start_time": "2022-08-10T11:26:19.002Z"
   },
   {
    "duration": 6,
    "start_time": "2022-08-10T11:26:19.013Z"
   },
   {
    "duration": 7,
    "start_time": "2022-08-10T11:26:19.020Z"
   },
   {
    "duration": 25,
    "start_time": "2022-08-10T11:26:19.028Z"
   },
   {
    "duration": 5,
    "start_time": "2022-08-10T11:26:19.054Z"
   },
   {
    "duration": 15,
    "start_time": "2022-08-10T11:26:19.060Z"
   },
   {
    "duration": 5,
    "start_time": "2022-08-10T11:26:19.076Z"
   },
   {
    "duration": 7,
    "start_time": "2022-08-10T11:26:19.082Z"
   },
   {
    "duration": 17,
    "start_time": "2022-08-10T11:26:19.092Z"
   },
   {
    "duration": 15,
    "start_time": "2022-08-10T11:26:19.110Z"
   },
   {
    "duration": 2,
    "start_time": "2022-08-10T11:26:19.127Z"
   },
   {
    "duration": 13,
    "start_time": "2022-08-10T11:26:19.131Z"
   },
   {
    "duration": 18,
    "start_time": "2022-08-10T11:26:36.385Z"
   },
   {
    "duration": 8,
    "start_time": "2022-08-10T11:26:41.747Z"
   },
   {
    "duration": 51,
    "start_time": "2022-08-10T11:27:38.140Z"
   },
   {
    "duration": 3,
    "start_time": "2022-08-10T11:27:49.199Z"
   },
   {
    "duration": 12,
    "start_time": "2022-08-10T11:27:51.799Z"
   },
   {
    "duration": 2,
    "start_time": "2022-08-10T11:27:52.043Z"
   },
   {
    "duration": 9,
    "start_time": "2022-08-10T11:27:52.710Z"
   },
   {
    "duration": 35,
    "start_time": "2022-08-10T11:28:07.360Z"
   },
   {
    "duration": 10,
    "start_time": "2022-08-10T11:28:16.190Z"
   },
   {
    "duration": 14,
    "start_time": "2022-08-10T11:28:17.555Z"
   },
   {
    "duration": 11,
    "start_time": "2022-08-10T11:28:39.366Z"
   },
   {
    "duration": 5,
    "start_time": "2022-08-10T11:29:30.608Z"
   },
   {
    "duration": 172,
    "start_time": "2022-08-10T11:29:44.242Z"
   },
   {
    "duration": 5,
    "start_time": "2022-08-10T11:29:48.347Z"
   },
   {
    "duration": 13,
    "start_time": "2022-08-10T11:30:21.429Z"
   },
   {
    "duration": 6,
    "start_time": "2022-08-10T11:43:40.393Z"
   },
   {
    "duration": 4,
    "start_time": "2022-08-10T11:43:45.363Z"
   },
   {
    "duration": 22,
    "start_time": "2022-08-10T11:43:54.715Z"
   },
   {
    "duration": 4,
    "start_time": "2022-08-10T11:44:31.462Z"
   },
   {
    "duration": 23,
    "start_time": "2022-08-10T11:44:31.698Z"
   },
   {
    "duration": 9,
    "start_time": "2022-08-10T11:53:33.283Z"
   },
   {
    "duration": 15,
    "start_time": "2022-08-10T11:53:34.021Z"
   },
   {
    "duration": 411,
    "start_time": "2022-08-10T11:53:44.479Z"
   },
   {
    "duration": 69,
    "start_time": "2022-08-10T11:53:44.893Z"
   },
   {
    "duration": 22,
    "start_time": "2022-08-10T11:53:44.965Z"
   },
   {
    "duration": 17,
    "start_time": "2022-08-10T11:53:44.990Z"
   },
   {
    "duration": 30,
    "start_time": "2022-08-10T11:53:45.009Z"
   },
   {
    "duration": 18,
    "start_time": "2022-08-10T11:53:45.041Z"
   },
   {
    "duration": 9,
    "start_time": "2022-08-10T11:53:45.060Z"
   },
   {
    "duration": 15,
    "start_time": "2022-08-10T11:53:45.070Z"
   },
   {
    "duration": 42,
    "start_time": "2022-08-10T11:53:45.087Z"
   },
   {
    "duration": 6,
    "start_time": "2022-08-10T11:53:45.132Z"
   },
   {
    "duration": 17,
    "start_time": "2022-08-10T11:53:45.140Z"
   },
   {
    "duration": 12,
    "start_time": "2022-08-10T11:53:45.159Z"
   },
   {
    "duration": 6,
    "start_time": "2022-08-10T11:53:45.173Z"
   },
   {
    "duration": 17,
    "start_time": "2022-08-10T11:53:45.180Z"
   },
   {
    "duration": 21,
    "start_time": "2022-08-10T11:53:45.199Z"
   },
   {
    "duration": 15,
    "start_time": "2022-08-10T11:53:45.222Z"
   },
   {
    "duration": 18,
    "start_time": "2022-08-10T11:53:45.239Z"
   },
   {
    "duration": 13,
    "start_time": "2022-08-10T11:53:45.259Z"
   },
   {
    "duration": 11,
    "start_time": "2022-08-10T11:53:45.274Z"
   },
   {
    "duration": 67,
    "start_time": "2022-08-11T09:16:09.528Z"
   },
   {
    "duration": 440,
    "start_time": "2022-08-11T09:16:26.734Z"
   },
   {
    "duration": 193,
    "start_time": "2022-08-11T09:16:27.176Z"
   },
   {
    "duration": 27,
    "start_time": "2022-08-11T09:16:27.371Z"
   },
   {
    "duration": 15,
    "start_time": "2022-08-11T09:16:27.400Z"
   },
   {
    "duration": 10,
    "start_time": "2022-08-11T09:16:27.417Z"
   },
   {
    "duration": 39,
    "start_time": "2022-08-11T09:16:27.429Z"
   },
   {
    "duration": 6,
    "start_time": "2022-08-11T09:16:27.470Z"
   },
   {
    "duration": 36,
    "start_time": "2022-08-11T09:16:27.478Z"
   },
   {
    "duration": 40,
    "start_time": "2022-08-11T09:16:27.516Z"
   },
   {
    "duration": 5,
    "start_time": "2022-08-11T09:16:27.558Z"
   },
   {
    "duration": 16,
    "start_time": "2022-08-11T09:16:27.565Z"
   },
   {
    "duration": 16,
    "start_time": "2022-08-11T09:16:27.583Z"
   },
   {
    "duration": 11,
    "start_time": "2022-08-11T09:16:27.600Z"
   },
   {
    "duration": 7,
    "start_time": "2022-08-11T09:16:27.614Z"
   },
   {
    "duration": 20,
    "start_time": "2022-08-11T09:16:27.623Z"
   },
   {
    "duration": 9,
    "start_time": "2022-08-11T09:16:27.645Z"
   },
   {
    "duration": 23,
    "start_time": "2022-08-11T09:16:27.656Z"
   },
   {
    "duration": 18,
    "start_time": "2022-08-11T09:16:27.681Z"
   },
   {
    "duration": 39,
    "start_time": "2022-08-11T09:16:27.701Z"
   },
   {
    "duration": 14,
    "start_time": "2022-08-11T09:16:32.589Z"
   },
   {
    "duration": 8,
    "start_time": "2022-08-11T09:16:37.951Z"
   },
   {
    "duration": 53,
    "start_time": "2022-08-11T09:21:56.152Z"
   },
   {
    "duration": 939,
    "start_time": "2022-08-11T09:22:05.453Z"
   },
   {
    "duration": 55,
    "start_time": "2022-08-11T09:22:06.394Z"
   },
   {
    "duration": 27,
    "start_time": "2022-08-11T09:22:06.451Z"
   },
   {
    "duration": 23,
    "start_time": "2022-08-11T09:22:06.480Z"
   },
   {
    "duration": 11,
    "start_time": "2022-08-11T09:22:06.507Z"
   },
   {
    "duration": 9,
    "start_time": "2022-08-11T09:22:06.520Z"
   },
   {
    "duration": 8,
    "start_time": "2022-08-11T09:22:06.531Z"
   },
   {
    "duration": 29,
    "start_time": "2022-08-11T09:22:06.541Z"
   },
   {
    "duration": 53,
    "start_time": "2022-08-11T09:22:06.577Z"
   },
   {
    "duration": 6,
    "start_time": "2022-08-11T09:22:06.632Z"
   },
   {
    "duration": 24,
    "start_time": "2022-08-11T09:22:06.640Z"
   },
   {
    "duration": 20,
    "start_time": "2022-08-11T09:22:06.666Z"
   },
   {
    "duration": 22,
    "start_time": "2022-08-11T09:22:06.692Z"
   },
   {
    "duration": 10,
    "start_time": "2022-08-11T09:22:06.718Z"
   },
   {
    "duration": 25,
    "start_time": "2022-08-11T09:22:06.730Z"
   },
   {
    "duration": 13,
    "start_time": "2022-08-11T09:22:06.757Z"
   },
   {
    "duration": 33,
    "start_time": "2022-08-11T09:22:06.772Z"
   },
   {
    "duration": 28,
    "start_time": "2022-08-11T09:22:06.808Z"
   },
   {
    "duration": 8,
    "start_time": "2022-08-11T09:22:06.838Z"
   },
   {
    "duration": 25,
    "start_time": "2022-08-11T09:22:06.848Z"
   },
   {
    "duration": 273,
    "start_time": "2022-08-11T09:22:06.876Z"
   },
   {
    "duration": 229,
    "start_time": "2022-08-11T09:22:18.543Z"
   },
   {
    "duration": 7,
    "start_time": "2022-08-11T09:22:48.790Z"
   },
   {
    "duration": 167,
    "start_time": "2022-08-11T09:22:54.444Z"
   },
   {
    "duration": 12,
    "start_time": "2022-08-11T09:25:38.481Z"
   },
   {
    "duration": 263,
    "start_time": "2022-08-11T09:25:39.554Z"
   },
   {
    "duration": 9,
    "start_time": "2022-08-11T09:25:50.161Z"
   },
   {
    "duration": 12,
    "start_time": "2022-08-11T09:30:04.973Z"
   },
   {
    "duration": 9,
    "start_time": "2022-08-11T09:30:06.083Z"
   },
   {
    "duration": 213,
    "start_time": "2022-08-11T09:30:14.720Z"
   },
   {
    "duration": 152,
    "start_time": "2022-08-11T09:31:17.112Z"
   },
   {
    "duration": 160,
    "start_time": "2022-08-11T09:36:00.786Z"
   },
   {
    "duration": 162,
    "start_time": "2022-08-11T09:36:08.052Z"
   },
   {
    "duration": 223,
    "start_time": "2022-08-11T09:36:19.785Z"
   },
   {
    "duration": 246,
    "start_time": "2022-08-11T09:38:39.502Z"
   },
   {
    "duration": 249,
    "start_time": "2022-08-11T09:39:32.572Z"
   },
   {
    "duration": 220,
    "start_time": "2022-08-11T09:39:53.309Z"
   },
   {
    "duration": 305,
    "start_time": "2022-08-11T09:40:37.185Z"
   },
   {
    "duration": 198,
    "start_time": "2022-08-11T09:43:17.765Z"
   },
   {
    "duration": 249,
    "start_time": "2022-08-11T09:44:13.035Z"
   },
   {
    "duration": 328,
    "start_time": "2022-08-11T09:44:27.785Z"
   },
   {
    "duration": 279,
    "start_time": "2022-08-11T09:44:36.074Z"
   },
   {
    "duration": 229,
    "start_time": "2022-08-11T09:44:44.807Z"
   },
   {
    "duration": 261,
    "start_time": "2022-08-11T09:44:54.375Z"
   },
   {
    "duration": 233,
    "start_time": "2022-08-11T09:45:03.618Z"
   },
   {
    "duration": 259,
    "start_time": "2022-08-11T09:48:05.140Z"
   },
   {
    "duration": 285,
    "start_time": "2022-08-11T09:49:09.236Z"
   },
   {
    "duration": 254,
    "start_time": "2022-08-11T09:59:20.862Z"
   },
   {
    "duration": 243,
    "start_time": "2022-08-11T10:00:25.660Z"
   },
   {
    "duration": 8,
    "start_time": "2022-08-11T10:37:39.353Z"
   },
   {
    "duration": 13,
    "start_time": "2022-08-11T10:40:25.766Z"
   },
   {
    "duration": 13,
    "start_time": "2022-08-11T10:40:29.965Z"
   },
   {
    "duration": 12,
    "start_time": "2022-08-11T10:41:30.902Z"
   },
   {
    "duration": 9,
    "start_time": "2022-08-11T10:41:32.112Z"
   },
   {
    "duration": 11,
    "start_time": "2022-08-11T10:42:06.245Z"
   },
   {
    "duration": 9,
    "start_time": "2022-08-11T10:42:07.231Z"
   },
   {
    "duration": 14,
    "start_time": "2022-08-11T10:42:21.081Z"
   },
   {
    "duration": 70,
    "start_time": "2022-08-11T10:42:29.793Z"
   },
   {
    "duration": 11,
    "start_time": "2022-08-11T10:43:42.006Z"
   },
   {
    "duration": 9,
    "start_time": "2022-08-11T10:43:42.648Z"
   },
   {
    "duration": 162,
    "start_time": "2022-08-11T10:44:04.650Z"
   },
   {
    "duration": 10,
    "start_time": "2022-08-11T10:44:10.573Z"
   },
   {
    "duration": 8,
    "start_time": "2022-08-11T10:45:56.047Z"
   },
   {
    "duration": 16,
    "start_time": "2022-08-11T11:24:09.557Z"
   },
   {
    "duration": 4,
    "start_time": "2022-08-11T11:24:19.805Z"
   },
   {
    "duration": 15,
    "start_time": "2022-08-11T11:24:57.017Z"
   },
   {
    "duration": 12,
    "start_time": "2022-08-11T11:25:06.136Z"
   },
   {
    "duration": 23,
    "start_time": "2022-08-11T11:25:21.513Z"
   },
   {
    "duration": 1227,
    "start_time": "2022-08-11T11:26:48.829Z"
   },
   {
    "duration": 11,
    "start_time": "2022-08-11T11:29:09.156Z"
   },
   {
    "duration": 667,
    "start_time": "2022-08-11T11:29:23.127Z"
   },
   {
    "duration": 56,
    "start_time": "2022-08-11T11:29:23.797Z"
   },
   {
    "duration": 18,
    "start_time": "2022-08-11T11:29:23.854Z"
   },
   {
    "duration": 18,
    "start_time": "2022-08-11T11:29:23.874Z"
   },
   {
    "duration": 9,
    "start_time": "2022-08-11T11:29:23.896Z"
   },
   {
    "duration": 10,
    "start_time": "2022-08-11T11:29:23.906Z"
   },
   {
    "duration": 5,
    "start_time": "2022-08-11T11:29:23.917Z"
   },
   {
    "duration": 6,
    "start_time": "2022-08-11T11:29:23.924Z"
   },
   {
    "duration": 56,
    "start_time": "2022-08-11T11:29:23.932Z"
   },
   {
    "duration": 5,
    "start_time": "2022-08-11T11:29:23.990Z"
   },
   {
    "duration": 11,
    "start_time": "2022-08-11T11:29:23.997Z"
   },
   {
    "duration": 9,
    "start_time": "2022-08-11T11:29:24.010Z"
   },
   {
    "duration": 9,
    "start_time": "2022-08-11T11:29:24.021Z"
   },
   {
    "duration": 5,
    "start_time": "2022-08-11T11:29:24.032Z"
   },
   {
    "duration": 38,
    "start_time": "2022-08-11T11:29:24.038Z"
   },
   {
    "duration": 9,
    "start_time": "2022-08-11T11:29:24.078Z"
   },
   {
    "duration": 20,
    "start_time": "2022-08-11T11:29:24.089Z"
   },
   {
    "duration": 11,
    "start_time": "2022-08-11T11:29:24.111Z"
   },
   {
    "duration": 4,
    "start_time": "2022-08-11T11:29:24.124Z"
   },
   {
    "duration": 39,
    "start_time": "2022-08-11T11:29:24.130Z"
   },
   {
    "duration": 248,
    "start_time": "2022-08-11T11:29:24.171Z"
   },
   {
    "duration": 11,
    "start_time": "2022-08-11T11:29:24.421Z"
   },
   {
    "duration": 93,
    "start_time": "2022-08-11T11:29:24.433Z"
   },
   {
    "duration": 0,
    "start_time": "2022-08-11T11:29:24.528Z"
   },
   {
    "duration": 12,
    "start_time": "2022-08-11T11:31:34.989Z"
   },
   {
    "duration": 10,
    "start_time": "2022-08-11T11:31:40.563Z"
   },
   {
    "duration": 795,
    "start_time": "2022-08-11T11:35:23.350Z"
   },
   {
    "duration": 494,
    "start_time": "2022-08-11T11:35:29.577Z"
   },
   {
    "duration": 8,
    "start_time": "2022-08-11T11:35:52.029Z"
   },
   {
    "duration": 26,
    "start_time": "2022-08-11T11:36:05.194Z"
   },
   {
    "duration": 30,
    "start_time": "2022-08-11T11:36:39.044Z"
   },
   {
    "duration": 19,
    "start_time": "2022-08-11T11:37:45.115Z"
   },
   {
    "duration": 19,
    "start_time": "2022-08-11T11:38:02.814Z"
   },
   {
    "duration": 736,
    "start_time": "2022-08-11T11:38:09.697Z"
   },
   {
    "duration": 62,
    "start_time": "2022-08-11T11:38:10.436Z"
   },
   {
    "duration": 21,
    "start_time": "2022-08-11T11:38:10.500Z"
   },
   {
    "duration": 16,
    "start_time": "2022-08-11T11:38:10.523Z"
   },
   {
    "duration": 29,
    "start_time": "2022-08-11T11:38:10.541Z"
   },
   {
    "duration": 18,
    "start_time": "2022-08-11T11:38:10.573Z"
   },
   {
    "duration": 6,
    "start_time": "2022-08-11T11:38:10.593Z"
   },
   {
    "duration": 13,
    "start_time": "2022-08-11T11:38:10.601Z"
   },
   {
    "duration": 42,
    "start_time": "2022-08-11T11:38:10.616Z"
   },
   {
    "duration": 11,
    "start_time": "2022-08-11T11:38:10.659Z"
   },
   {
    "duration": 14,
    "start_time": "2022-08-11T11:38:10.673Z"
   },
   {
    "duration": 10,
    "start_time": "2022-08-11T11:38:10.689Z"
   },
   {
    "duration": 9,
    "start_time": "2022-08-11T11:38:10.701Z"
   },
   {
    "duration": 5,
    "start_time": "2022-08-11T11:38:10.714Z"
   },
   {
    "duration": 20,
    "start_time": "2022-08-11T11:38:10.722Z"
   },
   {
    "duration": 33,
    "start_time": "2022-08-11T11:38:10.745Z"
   },
   {
    "duration": 26,
    "start_time": "2022-08-11T11:38:10.780Z"
   },
   {
    "duration": 16,
    "start_time": "2022-08-11T11:38:10.808Z"
   },
   {
    "duration": 7,
    "start_time": "2022-08-11T11:38:10.826Z"
   },
   {
    "duration": 38,
    "start_time": "2022-08-11T11:38:10.836Z"
   },
   {
    "duration": 275,
    "start_time": "2022-08-11T11:38:10.876Z"
   },
   {
    "duration": 23,
    "start_time": "2022-08-11T11:38:11.153Z"
   },
   {
    "duration": 21,
    "start_time": "2022-08-11T11:38:11.179Z"
   },
   {
    "duration": 8,
    "start_time": "2022-08-11T11:38:11.202Z"
   },
   {
    "duration": 11,
    "start_time": "2022-08-11T11:38:26.007Z"
   },
   {
    "duration": 18,
    "start_time": "2022-08-11T11:38:40.966Z"
   },
   {
    "duration": 12,
    "start_time": "2022-08-11T11:38:50.993Z"
   },
   {
    "duration": 21,
    "start_time": "2022-08-11T12:50:33.282Z"
   },
   {
    "duration": 11,
    "start_time": "2022-08-11T12:50:33.784Z"
   },
   {
    "duration": 15,
    "start_time": "2022-08-11T12:51:06.639Z"
   },
   {
    "duration": 953,
    "start_time": "2022-08-14T07:40:23.920Z"
   },
   {
    "duration": 187,
    "start_time": "2022-08-14T07:40:24.875Z"
   },
   {
    "duration": 17,
    "start_time": "2022-08-14T07:40:25.064Z"
   },
   {
    "duration": 18,
    "start_time": "2022-08-14T07:40:25.082Z"
   },
   {
    "duration": 8,
    "start_time": "2022-08-14T07:40:25.102Z"
   },
   {
    "duration": 17,
    "start_time": "2022-08-14T07:40:25.112Z"
   },
   {
    "duration": 5,
    "start_time": "2022-08-14T07:40:25.131Z"
   },
   {
    "duration": 9,
    "start_time": "2022-08-14T07:40:25.137Z"
   },
   {
    "duration": 21,
    "start_time": "2022-08-14T07:40:25.147Z"
   },
   {
    "duration": 5,
    "start_time": "2022-08-14T07:40:25.170Z"
   },
   {
    "duration": 29,
    "start_time": "2022-08-14T07:40:25.177Z"
   },
   {
    "duration": 4,
    "start_time": "2022-08-14T07:40:25.207Z"
   },
   {
    "duration": 6,
    "start_time": "2022-08-14T07:40:25.212Z"
   },
   {
    "duration": 4,
    "start_time": "2022-08-14T07:40:25.220Z"
   },
   {
    "duration": 16,
    "start_time": "2022-08-14T07:40:25.226Z"
   },
   {
    "duration": 8,
    "start_time": "2022-08-14T07:40:25.243Z"
   },
   {
    "duration": 12,
    "start_time": "2022-08-14T07:40:25.253Z"
   },
   {
    "duration": 11,
    "start_time": "2022-08-14T07:40:25.266Z"
   },
   {
    "duration": 4,
    "start_time": "2022-08-14T07:40:25.305Z"
   },
   {
    "duration": 10,
    "start_time": "2022-08-14T07:40:25.311Z"
   },
   {
    "duration": 225,
    "start_time": "2022-08-14T07:40:25.323Z"
   },
   {
    "duration": 10,
    "start_time": "2022-08-14T07:40:25.550Z"
   },
   {
    "duration": 17,
    "start_time": "2022-08-14T07:40:25.562Z"
   },
   {
    "duration": 27,
    "start_time": "2022-08-14T07:40:25.580Z"
   },
   {
    "duration": 7,
    "start_time": "2022-08-14T07:40:25.608Z"
   },
   {
    "duration": 3,
    "start_time": "2022-08-14T07:41:57.992Z"
   },
   {
    "duration": 9,
    "start_time": "2022-08-14T07:42:02.217Z"
   },
   {
    "duration": 10,
    "start_time": "2022-08-14T07:46:45.118Z"
   },
   {
    "duration": 11,
    "start_time": "2022-08-14T07:46:58.969Z"
   },
   {
    "duration": 7,
    "start_time": "2022-08-14T08:26:37.103Z"
   },
   {
    "duration": 732,
    "start_time": "2022-08-14T08:33:27.483Z"
   },
   {
    "duration": 23,
    "start_time": "2022-08-14T08:34:43.969Z"
   },
   {
    "duration": 18,
    "start_time": "2022-08-14T08:37:18.694Z"
   },
   {
    "duration": 53,
    "start_time": "2022-08-14T08:37:44.671Z"
   },
   {
    "duration": 100,
    "start_time": "2022-08-14T08:42:22.475Z"
   },
   {
    "duration": 33,
    "start_time": "2022-08-14T08:42:27.977Z"
   },
   {
    "duration": 30,
    "start_time": "2022-08-14T08:46:45.196Z"
   },
   {
    "duration": 394,
    "start_time": "2022-08-14T08:51:26.486Z"
   },
   {
    "duration": 234,
    "start_time": "2022-08-14T08:51:55.803Z"
   },
   {
    "duration": 247,
    "start_time": "2022-08-14T08:52:23.417Z"
   },
   {
    "duration": 211,
    "start_time": "2022-08-14T08:53:37.712Z"
   },
   {
    "duration": 228,
    "start_time": "2022-08-14T08:55:08.787Z"
   },
   {
    "duration": 240,
    "start_time": "2022-08-14T08:55:20.425Z"
   },
   {
    "duration": 995,
    "start_time": "2022-08-15T09:27:07.269Z"
   },
   {
    "duration": 116,
    "start_time": "2022-08-15T09:27:08.269Z"
   },
   {
    "duration": 28,
    "start_time": "2022-08-15T09:27:08.387Z"
   },
   {
    "duration": 22,
    "start_time": "2022-08-15T09:27:08.417Z"
   },
   {
    "duration": 15,
    "start_time": "2022-08-15T09:27:08.441Z"
   },
   {
    "duration": 8,
    "start_time": "2022-08-15T09:27:08.458Z"
   },
   {
    "duration": 12,
    "start_time": "2022-08-15T09:27:08.468Z"
   },
   {
    "duration": 34,
    "start_time": "2022-08-15T09:27:08.482Z"
   },
   {
    "duration": 28,
    "start_time": "2022-08-15T09:27:08.519Z"
   },
   {
    "duration": 6,
    "start_time": "2022-08-15T09:27:08.550Z"
   },
   {
    "duration": 14,
    "start_time": "2022-08-15T09:27:08.558Z"
   },
   {
    "duration": 11,
    "start_time": "2022-08-15T09:27:08.574Z"
   },
   {
    "duration": 9,
    "start_time": "2022-08-15T09:27:08.587Z"
   },
   {
    "duration": 6,
    "start_time": "2022-08-15T09:27:08.609Z"
   },
   {
    "duration": 28,
    "start_time": "2022-08-15T09:27:08.617Z"
   },
   {
    "duration": 15,
    "start_time": "2022-08-15T09:27:08.647Z"
   },
   {
    "duration": 21,
    "start_time": "2022-08-15T09:27:08.665Z"
   },
   {
    "duration": 19,
    "start_time": "2022-08-15T09:27:08.708Z"
   },
   {
    "duration": 5,
    "start_time": "2022-08-15T09:27:08.729Z"
   },
   {
    "duration": 15,
    "start_time": "2022-08-15T09:27:08.736Z"
   },
   {
    "duration": 307,
    "start_time": "2022-08-15T09:27:08.754Z"
   },
   {
    "duration": 12,
    "start_time": "2022-08-15T09:27:09.063Z"
   },
   {
    "duration": 38,
    "start_time": "2022-08-15T09:27:09.076Z"
   },
   {
    "duration": 11,
    "start_time": "2022-08-15T09:27:09.116Z"
   },
   {
    "duration": 20,
    "start_time": "2022-08-15T09:27:09.128Z"
   },
   {
    "duration": 17,
    "start_time": "2022-08-15T09:27:09.150Z"
   },
   {
    "duration": 15,
    "start_time": "2022-08-15T09:27:09.168Z"
   },
   {
    "duration": 280,
    "start_time": "2022-08-15T09:27:09.186Z"
   },
   {
    "duration": 2,
    "start_time": "2022-08-15T09:30:38.968Z"
   },
   {
    "duration": 376,
    "start_time": "2022-08-15T09:31:43.003Z"
   },
   {
    "duration": 396,
    "start_time": "2022-08-15T09:32:07.718Z"
   },
   {
    "duration": 8,
    "start_time": "2022-08-15T09:33:25.586Z"
   },
   {
    "duration": 21,
    "start_time": "2022-08-15T09:33:42.467Z"
   },
   {
    "duration": 7,
    "start_time": "2022-08-15T09:39:37.181Z"
   },
   {
    "duration": 105,
    "start_time": "2022-08-15T09:42:54.471Z"
   },
   {
    "duration": 4,
    "start_time": "2022-08-15T09:42:57.515Z"
   },
   {
    "duration": 6,
    "start_time": "2022-08-15T09:42:57.992Z"
   },
   {
    "duration": 17,
    "start_time": "2022-08-15T09:46:16.535Z"
   },
   {
    "duration": 19,
    "start_time": "2022-08-15T09:46:38.168Z"
   },
   {
    "duration": 369,
    "start_time": "2022-08-15T09:53:58.182Z"
   },
   {
    "duration": 26,
    "start_time": "2022-08-15T10:00:07.692Z"
   },
   {
    "duration": 14,
    "start_time": "2022-08-15T10:00:13.062Z"
   },
   {
    "duration": 28,
    "start_time": "2022-08-15T10:00:29.542Z"
   },
   {
    "duration": 19,
    "start_time": "2022-08-15T10:00:35.144Z"
   },
   {
    "duration": 32,
    "start_time": "2022-08-15T10:00:38.536Z"
   },
   {
    "duration": 23,
    "start_time": "2022-08-15T10:01:58.557Z"
   },
   {
    "duration": 73,
    "start_time": "2022-08-15T10:02:22.879Z"
   },
   {
    "duration": 344,
    "start_time": "2022-08-15T10:02:46.480Z"
   },
   {
    "duration": 798,
    "start_time": "2022-08-15T10:03:17.626Z"
   },
   {
    "duration": 24,
    "start_time": "2022-08-15T10:03:28.223Z"
   },
   {
    "duration": 32,
    "start_time": "2022-08-15T10:03:51.666Z"
   },
   {
    "duration": 151,
    "start_time": "2022-08-15T10:05:24.433Z"
   },
   {
    "duration": 24,
    "start_time": "2022-08-15T10:11:27.521Z"
   },
   {
    "duration": 133,
    "start_time": "2022-08-15T11:14:24.520Z"
   },
   {
    "duration": 656,
    "start_time": "2022-08-15T11:14:43.462Z"
   },
   {
    "duration": 64,
    "start_time": "2022-08-15T11:14:44.124Z"
   },
   {
    "duration": 25,
    "start_time": "2022-08-15T11:14:44.190Z"
   },
   {
    "duration": 46,
    "start_time": "2022-08-15T11:14:44.218Z"
   },
   {
    "duration": 10,
    "start_time": "2022-08-15T11:14:44.266Z"
   },
   {
    "duration": 18,
    "start_time": "2022-08-15T11:14:44.278Z"
   },
   {
    "duration": 7,
    "start_time": "2022-08-15T11:14:44.297Z"
   },
   {
    "duration": 14,
    "start_time": "2022-08-15T11:14:44.306Z"
   },
   {
    "duration": 41,
    "start_time": "2022-08-15T11:14:44.322Z"
   },
   {
    "duration": 5,
    "start_time": "2022-08-15T11:14:44.364Z"
   },
   {
    "duration": 7,
    "start_time": "2022-08-15T11:14:44.371Z"
   },
   {
    "duration": 8,
    "start_time": "2022-08-15T11:14:44.380Z"
   },
   {
    "duration": 16,
    "start_time": "2022-08-15T11:14:44.389Z"
   },
   {
    "duration": 27,
    "start_time": "2022-08-15T11:14:44.408Z"
   },
   {
    "duration": 17,
    "start_time": "2022-08-15T11:14:44.437Z"
   },
   {
    "duration": 10,
    "start_time": "2022-08-15T11:14:44.455Z"
   },
   {
    "duration": 12,
    "start_time": "2022-08-15T11:14:44.466Z"
   },
   {
    "duration": 12,
    "start_time": "2022-08-15T11:14:44.480Z"
   },
   {
    "duration": 23,
    "start_time": "2022-08-15T11:14:44.494Z"
   },
   {
    "duration": 28,
    "start_time": "2022-08-15T11:14:44.522Z"
   },
   {
    "duration": 236,
    "start_time": "2022-08-15T11:14:44.552Z"
   },
   {
    "duration": 25,
    "start_time": "2022-08-15T11:14:44.790Z"
   },
   {
    "duration": 42,
    "start_time": "2022-08-15T11:14:44.822Z"
   },
   {
    "duration": 10,
    "start_time": "2022-08-15T11:14:44.866Z"
   },
   {
    "duration": 12,
    "start_time": "2022-08-15T11:14:44.877Z"
   },
   {
    "duration": 16,
    "start_time": "2022-08-15T11:14:44.890Z"
   },
   {
    "duration": 43,
    "start_time": "2022-08-15T11:14:44.907Z"
   },
   {
    "duration": 318,
    "start_time": "2022-08-15T11:14:44.952Z"
   },
   {
    "duration": 21,
    "start_time": "2022-08-15T11:14:45.272Z"
   },
   {
    "duration": 10,
    "start_time": "2022-08-15T11:14:45.295Z"
   },
   {
    "duration": 58,
    "start_time": "2022-08-15T11:14:45.307Z"
   },
   {
    "duration": 18,
    "start_time": "2022-08-15T11:14:58.765Z"
   },
   {
    "duration": 104,
    "start_time": "2022-08-15T11:16:18.515Z"
   },
   {
    "duration": 12,
    "start_time": "2022-08-15T11:18:25.242Z"
   },
   {
    "duration": 15,
    "start_time": "2022-08-15T11:19:25.383Z"
   },
   {
    "duration": 20,
    "start_time": "2022-08-15T11:19:32.764Z"
   },
   {
    "duration": 154,
    "start_time": "2022-08-15T11:19:49.258Z"
   },
   {
    "duration": 345,
    "start_time": "2022-08-15T11:23:01.543Z"
   },
   {
    "duration": 332,
    "start_time": "2022-08-15T11:24:27.231Z"
   },
   {
    "duration": 255,
    "start_time": "2022-08-15T11:24:44.673Z"
   },
   {
    "duration": 319,
    "start_time": "2022-08-15T11:25:04.330Z"
   },
   {
    "duration": 251,
    "start_time": "2022-08-15T11:25:28.841Z"
   },
   {
    "duration": 663,
    "start_time": "2022-08-15T11:25:41.108Z"
   },
   {
    "duration": 59,
    "start_time": "2022-08-15T11:25:41.773Z"
   },
   {
    "duration": 18,
    "start_time": "2022-08-15T11:25:41.834Z"
   },
   {
    "duration": 19,
    "start_time": "2022-08-15T11:25:41.854Z"
   },
   {
    "duration": 35,
    "start_time": "2022-08-15T11:25:41.876Z"
   },
   {
    "duration": 27,
    "start_time": "2022-08-15T11:25:41.913Z"
   },
   {
    "duration": 6,
    "start_time": "2022-08-15T11:25:41.943Z"
   },
   {
    "duration": 9,
    "start_time": "2022-08-15T11:25:41.950Z"
   },
   {
    "duration": 54,
    "start_time": "2022-08-15T11:25:41.961Z"
   },
   {
    "duration": 10,
    "start_time": "2022-08-15T11:25:42.017Z"
   },
   {
    "duration": 19,
    "start_time": "2022-08-15T11:25:42.029Z"
   },
   {
    "duration": 7,
    "start_time": "2022-08-15T11:25:42.050Z"
   },
   {
    "duration": 8,
    "start_time": "2022-08-15T11:25:42.059Z"
   },
   {
    "duration": 8,
    "start_time": "2022-08-15T11:25:42.070Z"
   },
   {
    "duration": 19,
    "start_time": "2022-08-15T11:25:42.079Z"
   },
   {
    "duration": 11,
    "start_time": "2022-08-15T11:25:42.099Z"
   },
   {
    "duration": 33,
    "start_time": "2022-08-15T11:25:42.113Z"
   },
   {
    "duration": 14,
    "start_time": "2022-08-15T11:25:42.148Z"
   },
   {
    "duration": 8,
    "start_time": "2022-08-15T11:25:42.164Z"
   },
   {
    "duration": 13,
    "start_time": "2022-08-15T11:25:42.174Z"
   },
   {
    "duration": 238,
    "start_time": "2022-08-15T11:25:42.189Z"
   },
   {
    "duration": 11,
    "start_time": "2022-08-15T11:25:42.429Z"
   },
   {
    "duration": 23,
    "start_time": "2022-08-15T11:25:42.441Z"
   },
   {
    "duration": 10,
    "start_time": "2022-08-15T11:25:42.465Z"
   },
   {
    "duration": 11,
    "start_time": "2022-08-15T11:25:42.477Z"
   },
   {
    "duration": 30,
    "start_time": "2022-08-15T11:25:42.490Z"
   },
   {
    "duration": 23,
    "start_time": "2022-08-15T11:25:42.523Z"
   },
   {
    "duration": 306,
    "start_time": "2022-08-15T11:25:42.548Z"
   },
   {
    "duration": 21,
    "start_time": "2022-08-15T11:25:42.856Z"
   },
   {
    "duration": 24,
    "start_time": "2022-08-15T11:25:42.879Z"
   },
   {
    "duration": 42,
    "start_time": "2022-08-15T11:25:42.905Z"
   },
   {
    "duration": 261,
    "start_time": "2022-08-15T11:25:42.949Z"
   },
   {
    "duration": 32,
    "start_time": "2022-08-15T11:50:49.294Z"
   },
   {
    "duration": 4,
    "start_time": "2022-08-15T12:20:04.487Z"
   },
   {
    "duration": 67,
    "start_time": "2022-08-15T12:20:19.123Z"
   },
   {
    "duration": 13,
    "start_time": "2022-08-15T12:20:26.717Z"
   },
   {
    "duration": 5,
    "start_time": "2022-08-15T12:20:35.627Z"
   },
   {
    "duration": 5,
    "start_time": "2022-08-15T12:20:45.378Z"
   },
   {
    "duration": 15,
    "start_time": "2022-08-15T12:20:49.905Z"
   },
   {
    "duration": 22,
    "start_time": "2022-08-15T12:20:57.141Z"
   },
   {
    "duration": 19,
    "start_time": "2022-08-15T12:27:11.564Z"
   },
   {
    "duration": 91,
    "start_time": "2022-08-15T12:27:20.257Z"
   },
   {
    "duration": 27,
    "start_time": "2022-08-15T12:27:58.613Z"
   },
   {
    "duration": 6,
    "start_time": "2022-08-15T12:28:14.868Z"
   },
   {
    "duration": 5,
    "start_time": "2022-08-15T12:28:26.438Z"
   },
   {
    "duration": 1201,
    "start_time": "2022-08-15T12:31:59.544Z"
   },
   {
    "duration": 55,
    "start_time": "2022-08-15T12:32:00.747Z"
   },
   {
    "duration": 28,
    "start_time": "2022-08-15T12:32:00.804Z"
   },
   {
    "duration": 52,
    "start_time": "2022-08-15T12:32:00.834Z"
   },
   {
    "duration": 10,
    "start_time": "2022-08-15T12:32:00.888Z"
   },
   {
    "duration": 139,
    "start_time": "2022-08-15T12:32:00.900Z"
   },
   {
    "duration": 60,
    "start_time": "2022-08-15T12:32:01.040Z"
   },
   {
    "duration": 97,
    "start_time": "2022-08-15T12:32:01.103Z"
   },
   {
    "duration": 99,
    "start_time": "2022-08-15T12:32:01.202Z"
   },
   {
    "duration": 34,
    "start_time": "2022-08-15T12:32:01.303Z"
   },
   {
    "duration": 60,
    "start_time": "2022-08-15T12:32:01.338Z"
   },
   {
    "duration": 84,
    "start_time": "2022-08-15T12:32:01.400Z"
   },
   {
    "duration": 15,
    "start_time": "2022-08-15T12:32:01.486Z"
   },
   {
    "duration": 156,
    "start_time": "2022-08-15T12:32:01.504Z"
   },
   {
    "duration": 107,
    "start_time": "2022-08-15T12:32:01.661Z"
   },
   {
    "duration": 92,
    "start_time": "2022-08-15T12:32:01.769Z"
   },
   {
    "duration": 88,
    "start_time": "2022-08-15T12:32:01.863Z"
   },
   {
    "duration": 15,
    "start_time": "2022-08-15T12:32:01.953Z"
   },
   {
    "duration": 10,
    "start_time": "2022-08-15T12:32:01.970Z"
   },
   {
    "duration": 38,
    "start_time": "2022-08-15T12:32:01.982Z"
   },
   {
    "duration": 294,
    "start_time": "2022-08-15T12:32:02.026Z"
   },
   {
    "duration": 11,
    "start_time": "2022-08-15T12:32:02.322Z"
   },
   {
    "duration": 36,
    "start_time": "2022-08-15T12:32:02.335Z"
   },
   {
    "duration": 32,
    "start_time": "2022-08-15T12:32:02.372Z"
   },
   {
    "duration": 37,
    "start_time": "2022-08-15T12:32:02.405Z"
   },
   {
    "duration": 30,
    "start_time": "2022-08-15T12:32:02.444Z"
   },
   {
    "duration": 22,
    "start_time": "2022-08-15T12:32:02.476Z"
   },
   {
    "duration": 328,
    "start_time": "2022-08-15T12:32:02.500Z"
   },
   {
    "duration": 23,
    "start_time": "2022-08-15T12:32:02.831Z"
   },
   {
    "duration": 22,
    "start_time": "2022-08-15T12:32:02.856Z"
   },
   {
    "duration": 39,
    "start_time": "2022-08-15T12:32:02.880Z"
   },
   {
    "duration": 259,
    "start_time": "2022-08-15T12:32:02.921Z"
   },
   {
    "duration": 39,
    "start_time": "2022-08-15T12:32:03.182Z"
   },
   {
    "duration": 132,
    "start_time": "2022-08-15T12:32:03.223Z"
   },
   {
    "duration": 145,
    "start_time": "2022-08-15T12:32:44.191Z"
   },
   {
    "duration": 25,
    "start_time": "2022-08-15T12:33:28.759Z"
   },
   {
    "duration": 139,
    "start_time": "2022-08-15T12:33:33.430Z"
   },
   {
    "duration": 144,
    "start_time": "2022-08-15T12:35:17.966Z"
   },
   {
    "duration": 299,
    "start_time": "2022-08-15T12:35:42.605Z"
   },
   {
    "duration": 272,
    "start_time": "2022-08-15T12:37:41.998Z"
   },
   {
    "duration": 402,
    "start_time": "2022-08-15T12:38:11.060Z"
   },
   {
    "duration": 294,
    "start_time": "2022-08-15T12:39:13.553Z"
   },
   {
    "duration": 270,
    "start_time": "2022-08-15T12:39:22.607Z"
   },
   {
    "duration": 388,
    "start_time": "2022-08-15T12:39:55.644Z"
   },
   {
    "duration": 364,
    "start_time": "2022-08-15T12:40:27.496Z"
   },
   {
    "duration": 296,
    "start_time": "2022-08-15T12:40:44.476Z"
   },
   {
    "duration": 325,
    "start_time": "2022-08-15T12:41:08.135Z"
   },
   {
    "duration": 3,
    "start_time": "2022-08-15T12:41:31.839Z"
   },
   {
    "duration": 312,
    "start_time": "2022-08-15T12:41:35.851Z"
   },
   {
    "duration": 333,
    "start_time": "2022-08-15T12:43:08.796Z"
   },
   {
    "duration": 290,
    "start_time": "2022-08-15T12:46:13.676Z"
   },
   {
    "duration": 387,
    "start_time": "2022-08-15T12:53:13.894Z"
   },
   {
    "duration": 327,
    "start_time": "2022-08-15T12:53:22.609Z"
   },
   {
    "duration": 493,
    "start_time": "2022-08-15T12:53:37.981Z"
   },
   {
    "duration": 6129,
    "start_time": "2022-08-15T12:53:56.269Z"
   },
   {
    "duration": 1362,
    "start_time": "2022-08-15T12:54:45.741Z"
   },
   {
    "duration": 80,
    "start_time": "2022-08-15T12:54:47.105Z"
   },
   {
    "duration": 20,
    "start_time": "2022-08-15T12:54:47.187Z"
   },
   {
    "duration": 67,
    "start_time": "2022-08-15T12:54:47.209Z"
   },
   {
    "duration": 20,
    "start_time": "2022-08-15T12:54:47.278Z"
   },
   {
    "duration": 98,
    "start_time": "2022-08-15T12:54:47.301Z"
   },
   {
    "duration": 86,
    "start_time": "2022-08-15T12:54:47.401Z"
   },
   {
    "duration": 17,
    "start_time": "2022-08-15T12:54:47.489Z"
   },
   {
    "duration": 139,
    "start_time": "2022-08-15T12:54:47.508Z"
   },
   {
    "duration": 30,
    "start_time": "2022-08-15T12:54:47.650Z"
   },
   {
    "duration": 33,
    "start_time": "2022-08-15T12:54:47.682Z"
   },
   {
    "duration": 82,
    "start_time": "2022-08-15T12:54:47.720Z"
   },
   {
    "duration": 79,
    "start_time": "2022-08-15T12:54:47.804Z"
   },
   {
    "duration": 14,
    "start_time": "2022-08-15T12:54:47.887Z"
   },
   {
    "duration": 97,
    "start_time": "2022-08-15T12:54:47.903Z"
   },
   {
    "duration": 22,
    "start_time": "2022-08-15T12:54:48.002Z"
   },
   {
    "duration": 70,
    "start_time": "2022-08-15T12:54:48.026Z"
   },
   {
    "duration": 54,
    "start_time": "2022-08-15T12:54:48.098Z"
   },
   {
    "duration": 33,
    "start_time": "2022-08-15T12:54:48.154Z"
   },
   {
    "duration": 32,
    "start_time": "2022-08-15T12:54:48.188Z"
   },
   {
    "duration": 326,
    "start_time": "2022-08-15T12:54:48.222Z"
   },
   {
    "duration": 20,
    "start_time": "2022-08-15T12:54:48.550Z"
   },
   {
    "duration": 36,
    "start_time": "2022-08-15T12:54:48.572Z"
   },
   {
    "duration": 50,
    "start_time": "2022-08-15T12:54:48.619Z"
   },
   {
    "duration": 17,
    "start_time": "2022-08-15T12:54:48.670Z"
   },
   {
    "duration": 10,
    "start_time": "2022-08-15T12:54:48.689Z"
   },
   {
    "duration": 78,
    "start_time": "2022-08-15T12:54:48.701Z"
   },
   {
    "duration": 356,
    "start_time": "2022-08-15T12:54:48.781Z"
   },
   {
    "duration": 34,
    "start_time": "2022-08-15T12:54:49.139Z"
   },
   {
    "duration": 43,
    "start_time": "2022-08-15T12:54:49.177Z"
   },
   {
    "duration": 61,
    "start_time": "2022-08-15T12:54:49.226Z"
   },
   {
    "duration": 382,
    "start_time": "2022-08-15T12:54:49.289Z"
   },
   {
    "duration": 64,
    "start_time": "2022-08-15T12:54:49.677Z"
   },
   {
    "duration": 405,
    "start_time": "2022-08-15T12:54:49.744Z"
   },
   {
    "duration": 6410,
    "start_time": "2022-08-15T12:54:50.154Z"
   },
   {
    "duration": 6286,
    "start_time": "2022-08-15T12:55:04.249Z"
   },
   {
    "duration": 1283,
    "start_time": "2022-08-15T12:55:19.292Z"
   },
   {
    "duration": 73,
    "start_time": "2022-08-15T12:55:20.577Z"
   },
   {
    "duration": 21,
    "start_time": "2022-08-15T12:55:20.655Z"
   },
   {
    "duration": 22,
    "start_time": "2022-08-15T12:55:20.678Z"
   },
   {
    "duration": 35,
    "start_time": "2022-08-15T12:55:20.716Z"
   },
   {
    "duration": 31,
    "start_time": "2022-08-15T12:55:20.760Z"
   },
   {
    "duration": 7,
    "start_time": "2022-08-15T12:55:20.793Z"
   },
   {
    "duration": 72,
    "start_time": "2022-08-15T12:55:20.802Z"
   },
   {
    "duration": 42,
    "start_time": "2022-08-15T12:55:20.877Z"
   },
   {
    "duration": 8,
    "start_time": "2022-08-15T12:55:20.923Z"
   },
   {
    "duration": 49,
    "start_time": "2022-08-15T12:55:20.937Z"
   },
   {
    "duration": 12,
    "start_time": "2022-08-15T12:55:20.989Z"
   },
   {
    "duration": 62,
    "start_time": "2022-08-15T12:55:21.003Z"
   },
   {
    "duration": 8,
    "start_time": "2022-08-15T12:55:21.068Z"
   },
   {
    "duration": 22,
    "start_time": "2022-08-15T12:55:21.078Z"
   },
   {
    "duration": 18,
    "start_time": "2022-08-15T12:55:21.102Z"
   },
   {
    "duration": 90,
    "start_time": "2022-08-15T12:55:21.122Z"
   },
   {
    "duration": 66,
    "start_time": "2022-08-15T12:55:21.214Z"
   },
   {
    "duration": 8,
    "start_time": "2022-08-15T12:55:21.282Z"
   },
   {
    "duration": 86,
    "start_time": "2022-08-15T12:55:21.292Z"
   },
   {
    "duration": 307,
    "start_time": "2022-08-15T12:55:21.380Z"
   },
   {
    "duration": 52,
    "start_time": "2022-08-15T12:55:21.689Z"
   },
   {
    "duration": 79,
    "start_time": "2022-08-15T12:55:21.743Z"
   },
   {
    "duration": 16,
    "start_time": "2022-08-15T12:55:21.828Z"
   },
   {
    "duration": 38,
    "start_time": "2022-08-15T12:55:21.846Z"
   },
   {
    "duration": 6,
    "start_time": "2022-08-15T12:55:21.885Z"
   },
   {
    "duration": 14,
    "start_time": "2022-08-15T12:55:21.893Z"
   },
   {
    "duration": 406,
    "start_time": "2022-08-15T12:55:21.910Z"
   },
   {
    "duration": 32,
    "start_time": "2022-08-15T12:55:22.317Z"
   },
   {
    "duration": 41,
    "start_time": "2022-08-15T12:55:22.353Z"
   },
   {
    "duration": 32,
    "start_time": "2022-08-15T12:55:22.396Z"
   },
   {
    "duration": 369,
    "start_time": "2022-08-15T12:55:22.429Z"
   },
   {
    "duration": 47,
    "start_time": "2022-08-15T12:55:22.800Z"
   },
   {
    "duration": 349,
    "start_time": "2022-08-15T12:55:22.851Z"
   },
   {
    "duration": 308,
    "start_time": "2022-08-15T12:55:23.208Z"
   },
   {
    "duration": 294,
    "start_time": "2022-08-15T13:07:35.671Z"
   },
   {
    "duration": 286,
    "start_time": "2022-08-15T13:08:13.970Z"
   },
   {
    "duration": 391,
    "start_time": "2022-08-15T13:08:20.689Z"
   },
   {
    "duration": 367,
    "start_time": "2022-08-15T13:08:40.571Z"
   },
   {
    "duration": 150,
    "start_time": "2022-08-15T13:20:21.988Z"
   },
   {
    "duration": 8,
    "start_time": "2022-08-15T13:34:04.541Z"
   },
   {
    "duration": 14,
    "start_time": "2022-08-15T13:34:32.534Z"
   },
   {
    "duration": 11,
    "start_time": "2022-08-15T13:37:18.602Z"
   },
   {
    "duration": 7,
    "start_time": "2022-08-15T13:37:37.158Z"
   },
   {
    "duration": 16,
    "start_time": "2022-08-15T13:38:01.236Z"
   },
   {
    "duration": 10,
    "start_time": "2022-08-15T13:40:21.233Z"
   },
   {
    "duration": 17,
    "start_time": "2022-08-15T13:40:23.407Z"
   },
   {
    "duration": 1244,
    "start_time": "2022-08-16T11:58:24.347Z"
   },
   {
    "duration": 490,
    "start_time": "2022-08-16T11:58:25.593Z"
   },
   {
    "duration": 20,
    "start_time": "2022-08-16T11:58:26.084Z"
   },
   {
    "duration": 19,
    "start_time": "2022-08-16T11:58:26.106Z"
   },
   {
    "duration": 13,
    "start_time": "2022-08-16T11:58:26.127Z"
   },
   {
    "duration": 13,
    "start_time": "2022-08-16T11:58:26.142Z"
   },
   {
    "duration": 9,
    "start_time": "2022-08-16T11:58:26.156Z"
   },
   {
    "duration": 15,
    "start_time": "2022-08-16T11:58:26.168Z"
   },
   {
    "duration": 45,
    "start_time": "2022-08-16T11:58:26.185Z"
   },
   {
    "duration": 6,
    "start_time": "2022-08-16T11:58:26.233Z"
   },
   {
    "duration": 27,
    "start_time": "2022-08-16T11:58:26.241Z"
   },
   {
    "duration": 6,
    "start_time": "2022-08-16T11:58:26.270Z"
   },
   {
    "duration": 6,
    "start_time": "2022-08-16T11:58:26.278Z"
   },
   {
    "duration": 10,
    "start_time": "2022-08-16T11:58:26.286Z"
   },
   {
    "duration": 38,
    "start_time": "2022-08-16T11:58:26.298Z"
   },
   {
    "duration": 22,
    "start_time": "2022-08-16T11:58:26.338Z"
   },
   {
    "duration": 15,
    "start_time": "2022-08-16T11:58:26.362Z"
   },
   {
    "duration": 18,
    "start_time": "2022-08-16T11:58:26.379Z"
   },
   {
    "duration": 4,
    "start_time": "2022-08-16T11:58:26.398Z"
   },
   {
    "duration": 25,
    "start_time": "2022-08-16T11:58:26.403Z"
   },
   {
    "duration": 228,
    "start_time": "2022-08-16T11:58:26.430Z"
   },
   {
    "duration": 10,
    "start_time": "2022-08-16T11:58:26.660Z"
   },
   {
    "duration": 18,
    "start_time": "2022-08-16T11:58:26.672Z"
   },
   {
    "duration": 27,
    "start_time": "2022-08-16T11:58:26.692Z"
   },
   {
    "duration": 10,
    "start_time": "2022-08-16T11:58:26.721Z"
   },
   {
    "duration": 6,
    "start_time": "2022-08-16T11:58:26.732Z"
   },
   {
    "duration": 12,
    "start_time": "2022-08-16T11:58:26.740Z"
   },
   {
    "duration": 308,
    "start_time": "2022-08-16T11:58:26.756Z"
   },
   {
    "duration": 18,
    "start_time": "2022-08-16T11:58:27.066Z"
   },
   {
    "duration": 12,
    "start_time": "2022-08-16T11:58:27.086Z"
   },
   {
    "duration": 21,
    "start_time": "2022-08-16T11:58:27.100Z"
   },
   {
    "duration": 240,
    "start_time": "2022-08-16T11:58:27.122Z"
   },
   {
    "duration": 24,
    "start_time": "2022-08-16T11:58:27.364Z"
   },
   {
    "duration": 278,
    "start_time": "2022-08-16T11:58:27.389Z"
   },
   {
    "duration": 257,
    "start_time": "2022-08-16T11:58:27.669Z"
   },
   {
    "duration": 5,
    "start_time": "2022-08-16T11:58:27.927Z"
   },
   {
    "duration": 6,
    "start_time": "2022-08-16T11:58:27.933Z"
   },
   {
    "duration": 1059,
    "start_time": "2022-08-16T12:16:18.416Z"
   },
   {
    "duration": 49,
    "start_time": "2022-08-16T12:16:19.477Z"
   },
   {
    "duration": 16,
    "start_time": "2022-08-16T12:16:19.528Z"
   },
   {
    "duration": 13,
    "start_time": "2022-08-16T12:16:19.546Z"
   },
   {
    "duration": 8,
    "start_time": "2022-08-16T12:16:19.560Z"
   },
   {
    "duration": 6,
    "start_time": "2022-08-16T12:16:19.569Z"
   },
   {
    "duration": 6,
    "start_time": "2022-08-16T12:16:19.576Z"
   },
   {
    "duration": 23,
    "start_time": "2022-08-16T12:16:19.583Z"
   },
   {
    "duration": 37,
    "start_time": "2022-08-16T12:16:19.608Z"
   },
   {
    "duration": 4,
    "start_time": "2022-08-16T12:16:19.647Z"
   },
   {
    "duration": 14,
    "start_time": "2022-08-16T12:16:19.652Z"
   },
   {
    "duration": 11,
    "start_time": "2022-08-16T12:16:19.667Z"
   },
   {
    "duration": 23,
    "start_time": "2022-08-16T12:16:19.679Z"
   },
   {
    "duration": 25,
    "start_time": "2022-08-16T12:16:19.704Z"
   },
   {
    "duration": 27,
    "start_time": "2022-08-16T12:16:19.730Z"
   },
   {
    "duration": 20,
    "start_time": "2022-08-16T12:16:19.758Z"
   },
   {
    "duration": 25,
    "start_time": "2022-08-16T12:16:19.780Z"
   },
   {
    "duration": 11,
    "start_time": "2022-08-16T12:16:19.806Z"
   },
   {
    "duration": 19,
    "start_time": "2022-08-16T12:16:19.818Z"
   },
   {
    "duration": 32,
    "start_time": "2022-08-16T12:16:19.839Z"
   },
   {
    "duration": 224,
    "start_time": "2022-08-16T12:16:19.873Z"
   },
   {
    "duration": 14,
    "start_time": "2022-08-16T12:16:20.098Z"
   },
   {
    "duration": 29,
    "start_time": "2022-08-16T12:16:20.113Z"
   },
   {
    "duration": 12,
    "start_time": "2022-08-16T12:16:20.144Z"
   },
   {
    "duration": 14,
    "start_time": "2022-08-16T12:16:20.158Z"
   },
   {
    "duration": 16,
    "start_time": "2022-08-16T12:16:20.174Z"
   },
   {
    "duration": 29,
    "start_time": "2022-08-16T12:16:20.191Z"
   },
   {
    "duration": 278,
    "start_time": "2022-08-16T12:16:20.222Z"
   },
   {
    "duration": 17,
    "start_time": "2022-08-16T12:16:20.502Z"
   },
   {
    "duration": 12,
    "start_time": "2022-08-16T12:16:20.521Z"
   },
   {
    "duration": 35,
    "start_time": "2022-08-16T12:16:20.535Z"
   },
   {
    "duration": 240,
    "start_time": "2022-08-16T12:16:20.572Z"
   },
   {
    "duration": 25,
    "start_time": "2022-08-16T12:16:20.814Z"
   },
   {
    "duration": 274,
    "start_time": "2022-08-16T12:16:20.841Z"
   },
   {
    "duration": 252,
    "start_time": "2022-08-16T12:16:21.117Z"
   },
   {
    "duration": 5,
    "start_time": "2022-08-16T12:16:21.370Z"
   },
   {
    "duration": 27,
    "start_time": "2022-08-16T12:16:21.376Z"
   },
   {
    "duration": 79,
    "start_time": "2022-08-16T12:16:21.405Z"
   },
   {
    "duration": 73,
    "start_time": "2022-08-16T12:16:43.665Z"
   },
   {
    "duration": 4,
    "start_time": "2022-08-16T12:17:12.277Z"
   },
   {
    "duration": 85,
    "start_time": "2022-08-16T12:18:07.266Z"
   },
   {
    "duration": 3,
    "start_time": "2022-08-16T12:18:18.047Z"
   },
   {
    "duration": 90,
    "start_time": "2022-08-16T12:18:50.724Z"
   },
   {
    "duration": 3,
    "start_time": "2022-08-16T12:19:04.462Z"
   },
   {
    "duration": 53,
    "start_time": "2022-08-16T12:19:04.466Z"
   },
   {
    "duration": 14,
    "start_time": "2022-08-16T12:19:04.521Z"
   },
   {
    "duration": 16,
    "start_time": "2022-08-16T12:19:04.537Z"
   },
   {
    "duration": 9,
    "start_time": "2022-08-16T12:19:04.554Z"
   },
   {
    "duration": 5,
    "start_time": "2022-08-16T12:19:04.565Z"
   },
   {
    "duration": 4,
    "start_time": "2022-08-16T12:19:04.572Z"
   },
   {
    "duration": 5,
    "start_time": "2022-08-16T12:19:04.605Z"
   },
   {
    "duration": 24,
    "start_time": "2022-08-16T12:19:04.611Z"
   },
   {
    "duration": 4,
    "start_time": "2022-08-16T12:19:04.637Z"
   },
   {
    "duration": 7,
    "start_time": "2022-08-16T12:19:04.644Z"
   },
   {
    "duration": 7,
    "start_time": "2022-08-16T12:19:04.652Z"
   },
   {
    "duration": 4,
    "start_time": "2022-08-16T12:19:04.660Z"
   },
   {
    "duration": 7,
    "start_time": "2022-08-16T12:19:04.666Z"
   },
   {
    "duration": 33,
    "start_time": "2022-08-16T12:19:04.674Z"
   },
   {
    "duration": 9,
    "start_time": "2022-08-16T12:19:04.708Z"
   },
   {
    "duration": 12,
    "start_time": "2022-08-16T12:19:04.718Z"
   },
   {
    "duration": 11,
    "start_time": "2022-08-16T12:19:04.731Z"
   },
   {
    "duration": 5,
    "start_time": "2022-08-16T12:19:04.743Z"
   },
   {
    "duration": 15,
    "start_time": "2022-08-16T12:19:04.749Z"
   },
   {
    "duration": 219,
    "start_time": "2022-08-16T12:19:04.766Z"
   },
   {
    "duration": 22,
    "start_time": "2022-08-16T12:19:04.987Z"
   },
   {
    "duration": 17,
    "start_time": "2022-08-16T12:19:05.011Z"
   },
   {
    "duration": 10,
    "start_time": "2022-08-16T12:19:05.030Z"
   },
   {
    "duration": 14,
    "start_time": "2022-08-16T12:19:05.042Z"
   },
   {
    "duration": 8,
    "start_time": "2022-08-16T12:19:05.057Z"
   },
   {
    "duration": 16,
    "start_time": "2022-08-16T12:19:05.066Z"
   },
   {
    "duration": 267,
    "start_time": "2022-08-16T12:19:05.083Z"
   },
   {
    "duration": 20,
    "start_time": "2022-08-16T12:19:05.354Z"
   },
   {
    "duration": 35,
    "start_time": "2022-08-16T12:19:05.376Z"
   },
   {
    "duration": 21,
    "start_time": "2022-08-16T12:19:05.413Z"
   },
   {
    "duration": 330,
    "start_time": "2022-08-16T12:19:05.436Z"
   },
   {
    "duration": 25,
    "start_time": "2022-08-16T12:19:05.767Z"
   },
   {
    "duration": 307,
    "start_time": "2022-08-16T12:19:05.793Z"
   },
   {
    "duration": 307,
    "start_time": "2022-08-16T12:19:06.101Z"
   },
   {
    "duration": 4,
    "start_time": "2022-08-16T12:19:06.410Z"
   },
   {
    "duration": 29,
    "start_time": "2022-08-16T12:19:06.415Z"
   },
   {
    "duration": 13,
    "start_time": "2022-08-16T12:19:06.445Z"
   },
   {
    "duration": 11,
    "start_time": "2022-08-16T12:19:06.459Z"
   },
   {
    "duration": 47,
    "start_time": "2022-08-16T12:19:06.472Z"
   },
   {
    "duration": 1072,
    "start_time": "2022-08-16T12:22:04.900Z"
   },
   {
    "duration": 58,
    "start_time": "2022-08-16T12:22:05.974Z"
   },
   {
    "duration": 19,
    "start_time": "2022-08-16T12:22:06.033Z"
   },
   {
    "duration": 16,
    "start_time": "2022-08-16T12:22:06.055Z"
   },
   {
    "duration": 26,
    "start_time": "2022-08-16T12:22:06.073Z"
   },
   {
    "duration": 14,
    "start_time": "2022-08-16T12:22:06.107Z"
   },
   {
    "duration": 10,
    "start_time": "2022-08-16T12:22:06.123Z"
   },
   {
    "duration": 21,
    "start_time": "2022-08-16T12:22:06.137Z"
   },
   {
    "duration": 39,
    "start_time": "2022-08-16T12:22:06.160Z"
   },
   {
    "duration": 5,
    "start_time": "2022-08-16T12:22:06.203Z"
   },
   {
    "duration": 18,
    "start_time": "2022-08-16T12:22:06.210Z"
   },
   {
    "duration": 19,
    "start_time": "2022-08-16T12:22:06.230Z"
   },
   {
    "duration": 9,
    "start_time": "2022-08-16T12:22:06.251Z"
   },
   {
    "duration": 13,
    "start_time": "2022-08-16T12:22:06.262Z"
   },
   {
    "duration": 22,
    "start_time": "2022-08-16T12:22:06.277Z"
   },
   {
    "duration": 8,
    "start_time": "2022-08-16T12:22:06.301Z"
   },
   {
    "duration": 20,
    "start_time": "2022-08-16T12:22:06.311Z"
   },
   {
    "duration": 10,
    "start_time": "2022-08-16T12:22:06.332Z"
   },
   {
    "duration": 3,
    "start_time": "2022-08-16T12:22:06.344Z"
   },
   {
    "duration": 8,
    "start_time": "2022-08-16T12:22:06.349Z"
   },
   {
    "duration": 237,
    "start_time": "2022-08-16T12:22:06.359Z"
   },
   {
    "duration": 14,
    "start_time": "2022-08-16T12:22:06.598Z"
   },
   {
    "duration": 17,
    "start_time": "2022-08-16T12:22:06.613Z"
   },
   {
    "duration": 9,
    "start_time": "2022-08-16T12:22:06.632Z"
   },
   {
    "duration": 9,
    "start_time": "2022-08-16T12:22:06.643Z"
   },
   {
    "duration": 8,
    "start_time": "2022-08-16T12:22:06.653Z"
   },
   {
    "duration": 14,
    "start_time": "2022-08-16T12:22:06.663Z"
   },
   {
    "duration": 285,
    "start_time": "2022-08-16T12:22:06.679Z"
   },
   {
    "duration": 18,
    "start_time": "2022-08-16T12:22:06.966Z"
   },
   {
    "duration": 13,
    "start_time": "2022-08-16T12:22:06.986Z"
   },
   {
    "duration": 21,
    "start_time": "2022-08-16T12:22:07.000Z"
   },
   {
    "duration": 233,
    "start_time": "2022-08-16T12:22:07.022Z"
   },
   {
    "duration": 26,
    "start_time": "2022-08-16T12:22:07.257Z"
   },
   {
    "duration": 266,
    "start_time": "2022-08-16T12:22:07.285Z"
   },
   {
    "duration": 253,
    "start_time": "2022-08-16T12:22:07.553Z"
   },
   {
    "duration": 4,
    "start_time": "2022-08-16T12:22:07.808Z"
   },
   {
    "duration": 11,
    "start_time": "2022-08-16T12:22:07.813Z"
   },
   {
    "duration": 4,
    "start_time": "2022-08-16T12:22:07.826Z"
   },
   {
    "duration": 31,
    "start_time": "2022-08-16T12:22:07.831Z"
   },
   {
    "duration": 3,
    "start_time": "2022-08-16T12:26:14.796Z"
   },
   {
    "duration": 35,
    "start_time": "2022-08-16T12:26:15.769Z"
   },
   {
    "duration": 3,
    "start_time": "2022-08-16T12:27:35.738Z"
   },
   {
    "duration": 46,
    "start_time": "2022-08-16T12:27:36.433Z"
   },
   {
    "duration": 4,
    "start_time": "2022-08-16T12:28:29.236Z"
   },
   {
    "duration": 50,
    "start_time": "2022-08-16T12:28:29.468Z"
   },
   {
    "duration": 4,
    "start_time": "2022-08-16T12:28:53.485Z"
   },
   {
    "duration": 41,
    "start_time": "2022-08-16T12:28:54.484Z"
   },
   {
    "duration": 29,
    "start_time": "2022-08-16T12:54:12.997Z"
   },
   {
    "duration": 15,
    "start_time": "2022-08-16T12:54:19.750Z"
   },
   {
    "duration": 18,
    "start_time": "2022-08-16T12:57:37.017Z"
   },
   {
    "duration": 113,
    "start_time": "2022-08-16T12:59:11.433Z"
   },
   {
    "duration": 119,
    "start_time": "2022-08-16T12:59:49.053Z"
   },
   {
    "duration": 1819,
    "start_time": "2022-08-16T13:01:27.744Z"
   },
   {
    "duration": 2813,
    "start_time": "2022-08-16T13:01:46.543Z"
   },
   {
    "duration": 20,
    "start_time": "2022-08-16T13:02:12.645Z"
   },
   {
    "duration": 15,
    "start_time": "2022-08-16T13:02:22.248Z"
   },
   {
    "duration": 1969,
    "start_time": "2022-08-16T13:02:23.766Z"
   },
   {
    "duration": 5,
    "start_time": "2022-08-16T13:03:15.549Z"
   },
   {
    "duration": 132,
    "start_time": "2022-08-16T13:03:24.045Z"
   },
   {
    "duration": 93,
    "start_time": "2022-08-16T13:04:17.937Z"
   },
   {
    "duration": 105,
    "start_time": "2022-08-16T13:04:30.422Z"
   },
   {
    "duration": 104,
    "start_time": "2022-08-16T13:05:44.102Z"
   },
   {
    "duration": 1412,
    "start_time": "2022-08-16T13:06:10.177Z"
   },
   {
    "duration": 83,
    "start_time": "2022-08-16T13:06:18.454Z"
   },
   {
    "duration": 109,
    "start_time": "2022-08-16T13:06:24.145Z"
   },
   {
    "duration": 106,
    "start_time": "2022-08-16T13:06:29.748Z"
   },
   {
    "duration": 1421,
    "start_time": "2022-08-16T13:07:40.620Z"
   },
   {
    "duration": 126,
    "start_time": "2022-08-16T13:07:56.641Z"
   },
   {
    "duration": 1334,
    "start_time": "2022-08-16T13:08:03.054Z"
   },
   {
    "duration": 1298,
    "start_time": "2022-08-16T13:08:12.304Z"
   },
   {
    "duration": 1161,
    "start_time": "2022-08-16T13:08:20.747Z"
   },
   {
    "duration": 1140,
    "start_time": "2022-08-16T13:08:24.713Z"
   },
   {
    "duration": 3,
    "start_time": "2022-08-16T13:08:33.520Z"
   },
   {
    "duration": 53,
    "start_time": "2022-08-16T13:08:33.525Z"
   },
   {
    "duration": 13,
    "start_time": "2022-08-16T13:08:33.579Z"
   },
   {
    "duration": 16,
    "start_time": "2022-08-16T13:08:33.594Z"
   },
   {
    "duration": 9,
    "start_time": "2022-08-16T13:08:33.611Z"
   },
   {
    "duration": 6,
    "start_time": "2022-08-16T13:08:33.621Z"
   },
   {
    "duration": 4,
    "start_time": "2022-08-16T13:08:33.629Z"
   },
   {
    "duration": 5,
    "start_time": "2022-08-16T13:08:33.634Z"
   },
   {
    "duration": 21,
    "start_time": "2022-08-16T13:08:33.641Z"
   },
   {
    "duration": 4,
    "start_time": "2022-08-16T13:08:33.664Z"
   },
   {
    "duration": 11,
    "start_time": "2022-08-16T13:08:33.669Z"
   },
   {
    "duration": 25,
    "start_time": "2022-08-16T13:08:33.681Z"
   },
   {
    "duration": 3,
    "start_time": "2022-08-16T13:08:33.707Z"
   },
   {
    "duration": 7,
    "start_time": "2022-08-16T13:08:33.712Z"
   },
   {
    "duration": 15,
    "start_time": "2022-08-16T13:08:33.720Z"
   },
   {
    "duration": 7,
    "start_time": "2022-08-16T13:08:33.737Z"
   },
   {
    "duration": 12,
    "start_time": "2022-08-16T13:08:33.745Z"
   },
   {
    "duration": 10,
    "start_time": "2022-08-16T13:08:33.758Z"
   },
   {
    "duration": 4,
    "start_time": "2022-08-16T13:08:33.770Z"
   },
   {
    "duration": 36,
    "start_time": "2022-08-16T13:08:33.775Z"
   },
   {
    "duration": 189,
    "start_time": "2022-08-16T13:08:33.813Z"
   },
   {
    "duration": 10,
    "start_time": "2022-08-16T13:08:34.005Z"
   },
   {
    "duration": 17,
    "start_time": "2022-08-16T13:08:34.016Z"
   },
   {
    "duration": 18,
    "start_time": "2022-08-16T13:08:34.036Z"
   },
   {
    "duration": 14,
    "start_time": "2022-08-16T13:08:34.056Z"
   },
   {
    "duration": 7,
    "start_time": "2022-08-16T13:08:34.071Z"
   },
   {
    "duration": 15,
    "start_time": "2022-08-16T13:08:34.080Z"
   },
   {
    "duration": 242,
    "start_time": "2022-08-16T13:08:34.105Z"
   },
   {
    "duration": 19,
    "start_time": "2022-08-16T13:08:34.348Z"
   },
   {
    "duration": 14,
    "start_time": "2022-08-16T13:08:34.369Z"
   },
   {
    "duration": 39,
    "start_time": "2022-08-16T13:08:34.385Z"
   },
   {
    "duration": 338,
    "start_time": "2022-08-16T13:08:34.425Z"
   },
   {
    "duration": 24,
    "start_time": "2022-08-16T13:08:34.765Z"
   },
   {
    "duration": 263,
    "start_time": "2022-08-16T13:08:34.791Z"
   },
   {
    "duration": 239,
    "start_time": "2022-08-16T13:08:35.056Z"
   },
   {
    "duration": 12,
    "start_time": "2022-08-16T13:08:35.297Z"
   },
   {
    "duration": 8,
    "start_time": "2022-08-16T13:08:35.311Z"
   },
   {
    "duration": 5,
    "start_time": "2022-08-16T13:08:35.320Z"
   },
   {
    "duration": 45,
    "start_time": "2022-08-16T13:08:35.327Z"
   },
   {
    "duration": 35,
    "start_time": "2022-08-16T13:08:35.374Z"
   },
   {
    "duration": 14,
    "start_time": "2022-08-16T13:08:35.411Z"
   },
   {
    "duration": 1203,
    "start_time": "2022-08-16T13:08:35.426Z"
   },
   {
    "duration": 0,
    "start_time": "2022-08-16T13:08:36.630Z"
   },
   {
    "duration": 1017,
    "start_time": "2022-08-16T13:08:53.555Z"
   },
   {
    "duration": 50,
    "start_time": "2022-08-16T13:08:54.573Z"
   },
   {
    "duration": 16,
    "start_time": "2022-08-16T13:08:54.624Z"
   },
   {
    "duration": 13,
    "start_time": "2022-08-16T13:08:54.641Z"
   },
   {
    "duration": 12,
    "start_time": "2022-08-16T13:08:54.657Z"
   },
   {
    "duration": 16,
    "start_time": "2022-08-16T13:08:54.670Z"
   },
   {
    "duration": 21,
    "start_time": "2022-08-16T13:08:54.688Z"
   },
   {
    "duration": 16,
    "start_time": "2022-08-16T13:08:54.711Z"
   },
   {
    "duration": 39,
    "start_time": "2022-08-16T13:08:54.728Z"
   },
   {
    "duration": 6,
    "start_time": "2022-08-16T13:08:54.769Z"
   },
   {
    "duration": 10,
    "start_time": "2022-08-16T13:08:54.777Z"
   },
   {
    "duration": 14,
    "start_time": "2022-08-16T13:08:54.788Z"
   },
   {
    "duration": 15,
    "start_time": "2022-08-16T13:08:54.804Z"
   },
   {
    "duration": 14,
    "start_time": "2022-08-16T13:08:54.822Z"
   },
   {
    "duration": 35,
    "start_time": "2022-08-16T13:08:54.837Z"
   },
   {
    "duration": 10,
    "start_time": "2022-08-16T13:08:54.874Z"
   },
   {
    "duration": 18,
    "start_time": "2022-08-16T13:08:54.885Z"
   },
   {
    "duration": 18,
    "start_time": "2022-08-16T13:08:54.905Z"
   },
   {
    "duration": 12,
    "start_time": "2022-08-16T13:08:54.924Z"
   },
   {
    "duration": 24,
    "start_time": "2022-08-16T13:08:54.938Z"
   },
   {
    "duration": 218,
    "start_time": "2022-08-16T13:08:54.964Z"
   },
   {
    "duration": 10,
    "start_time": "2022-08-16T13:08:55.183Z"
   },
   {
    "duration": 29,
    "start_time": "2022-08-16T13:08:55.195Z"
   },
   {
    "duration": 9,
    "start_time": "2022-08-16T13:08:55.226Z"
   },
   {
    "duration": 16,
    "start_time": "2022-08-16T13:08:55.236Z"
   },
   {
    "duration": 7,
    "start_time": "2022-08-16T13:08:55.254Z"
   },
   {
    "duration": 17,
    "start_time": "2022-08-16T13:08:55.262Z"
   },
   {
    "duration": 276,
    "start_time": "2022-08-16T13:08:55.280Z"
   },
   {
    "duration": 18,
    "start_time": "2022-08-16T13:08:55.558Z"
   },
   {
    "duration": 13,
    "start_time": "2022-08-16T13:08:55.577Z"
   },
   {
    "duration": 19,
    "start_time": "2022-08-16T13:08:55.591Z"
   },
   {
    "duration": 243,
    "start_time": "2022-08-16T13:08:55.612Z"
   },
   {
    "duration": 25,
    "start_time": "2022-08-16T13:08:55.857Z"
   },
   {
    "duration": 307,
    "start_time": "2022-08-16T13:08:55.883Z"
   },
   {
    "duration": 264,
    "start_time": "2022-08-16T13:08:56.193Z"
   },
   {
    "duration": 4,
    "start_time": "2022-08-16T13:08:56.459Z"
   },
   {
    "duration": 11,
    "start_time": "2022-08-16T13:08:56.464Z"
   },
   {
    "duration": 8,
    "start_time": "2022-08-16T13:08:56.477Z"
   },
   {
    "duration": 51,
    "start_time": "2022-08-16T13:08:56.486Z"
   },
   {
    "duration": 14,
    "start_time": "2022-08-16T13:08:56.538Z"
   },
   {
    "duration": 20,
    "start_time": "2022-08-16T13:08:56.556Z"
   },
   {
    "duration": 1818,
    "start_time": "2022-08-16T13:08:56.578Z"
   },
   {
    "duration": 0,
    "start_time": "2022-08-16T13:08:58.397Z"
   },
   {
    "duration": 1556,
    "start_time": "2022-08-16T13:09:06.677Z"
   },
   {
    "duration": 7,
    "start_time": "2022-08-16T13:09:12.793Z"
   },
   {
    "duration": 9,
    "start_time": "2022-08-16T13:09:38.153Z"
   },
   {
    "duration": 7,
    "start_time": "2022-08-16T13:09:39.478Z"
   },
   {
    "duration": 1274,
    "start_time": "2022-08-16T13:09:54.000Z"
   },
   {
    "duration": 5,
    "start_time": "2022-08-16T13:10:04.392Z"
   },
   {
    "duration": 105,
    "start_time": "2022-08-16T13:10:14.321Z"
   },
   {
    "duration": 9,
    "start_time": "2022-08-16T13:21:52.738Z"
   },
   {
    "duration": 101,
    "start_time": "2022-08-16T13:23:48.389Z"
   },
   {
    "duration": 186,
    "start_time": "2022-08-16T13:23:57.591Z"
   },
   {
    "duration": 190,
    "start_time": "2022-08-16T13:25:06.600Z"
   },
   {
    "duration": 110,
    "start_time": "2022-08-16T13:25:17.481Z"
   },
   {
    "duration": 113,
    "start_time": "2022-08-16T13:25:26.281Z"
   },
   {
    "duration": 158,
    "start_time": "2022-08-16T13:25:30.627Z"
   },
   {
    "duration": 273,
    "start_time": "2022-08-16T13:25:51.756Z"
   },
   {
    "duration": 249,
    "start_time": "2022-08-16T13:25:59.244Z"
   },
   {
    "duration": 169,
    "start_time": "2022-08-16T13:26:52.577Z"
   },
   {
    "duration": 174,
    "start_time": "2022-08-16T13:27:03.249Z"
   },
   {
    "duration": 10,
    "start_time": "2022-08-16T13:27:45.512Z"
   },
   {
    "duration": 146,
    "start_time": "2022-08-16T13:27:46.532Z"
   },
   {
    "duration": 142,
    "start_time": "2022-08-16T13:28:02.847Z"
   },
   {
    "duration": 11,
    "start_time": "2022-08-16T13:28:35.407Z"
   },
   {
    "duration": 76,
    "start_time": "2022-08-16T13:28:58.903Z"
   },
   {
    "duration": 1460,
    "start_time": "2022-08-16T13:29:09.768Z"
   },
   {
    "duration": 267,
    "start_time": "2022-08-16T13:29:36.597Z"
   },
   {
    "duration": 168,
    "start_time": "2022-08-16T13:30:03.300Z"
   },
   {
    "duration": 1362,
    "start_time": "2022-08-17T07:39:36.376Z"
   },
   {
    "duration": 186,
    "start_time": "2022-08-17T07:39:37.740Z"
   },
   {
    "duration": 17,
    "start_time": "2022-08-17T07:39:37.928Z"
   },
   {
    "duration": 13,
    "start_time": "2022-08-17T07:39:37.947Z"
   },
   {
    "duration": 8,
    "start_time": "2022-08-17T07:39:37.962Z"
   },
   {
    "duration": 6,
    "start_time": "2022-08-17T07:39:37.972Z"
   },
   {
    "duration": 27,
    "start_time": "2022-08-17T07:39:37.979Z"
   },
   {
    "duration": 6,
    "start_time": "2022-08-17T07:39:38.008Z"
   },
   {
    "duration": 34,
    "start_time": "2022-08-17T07:39:38.016Z"
   },
   {
    "duration": 5,
    "start_time": "2022-08-17T07:39:38.052Z"
   },
   {
    "duration": 12,
    "start_time": "2022-08-17T07:39:38.059Z"
   },
   {
    "duration": 5,
    "start_time": "2022-08-17T07:39:38.073Z"
   },
   {
    "duration": 18,
    "start_time": "2022-08-17T07:39:38.079Z"
   },
   {
    "duration": 7,
    "start_time": "2022-08-17T07:39:38.100Z"
   },
   {
    "duration": 22,
    "start_time": "2022-08-17T07:39:38.109Z"
   },
   {
    "duration": 10,
    "start_time": "2022-08-17T07:39:38.133Z"
   },
   {
    "duration": 19,
    "start_time": "2022-08-17T07:39:38.145Z"
   },
   {
    "duration": 10,
    "start_time": "2022-08-17T07:39:38.165Z"
   },
   {
    "duration": 6,
    "start_time": "2022-08-17T07:39:38.177Z"
   },
   {
    "duration": 40,
    "start_time": "2022-08-17T07:39:38.184Z"
   },
   {
    "duration": 218,
    "start_time": "2022-08-17T07:39:38.226Z"
   },
   {
    "duration": 10,
    "start_time": "2022-08-17T07:39:38.446Z"
   },
   {
    "duration": 17,
    "start_time": "2022-08-17T07:39:38.458Z"
   },
   {
    "duration": 9,
    "start_time": "2022-08-17T07:39:38.476Z"
   },
   {
    "duration": 29,
    "start_time": "2022-08-17T07:39:38.486Z"
   },
   {
    "duration": 9,
    "start_time": "2022-08-17T07:39:38.517Z"
   },
   {
    "duration": 22,
    "start_time": "2022-08-17T07:39:38.529Z"
   },
   {
    "duration": 335,
    "start_time": "2022-08-17T07:39:38.553Z"
   },
   {
    "duration": 21,
    "start_time": "2022-08-17T07:39:38.890Z"
   },
   {
    "duration": 16,
    "start_time": "2022-08-17T07:39:38.912Z"
   },
   {
    "duration": 20,
    "start_time": "2022-08-17T07:39:38.930Z"
   },
   {
    "duration": 284,
    "start_time": "2022-08-17T07:39:38.951Z"
   },
   {
    "duration": 25,
    "start_time": "2022-08-17T07:39:39.236Z"
   },
   {
    "duration": 324,
    "start_time": "2022-08-17T07:39:39.262Z"
   },
   {
    "duration": 324,
    "start_time": "2022-08-17T07:39:39.588Z"
   },
   {
    "duration": 10,
    "start_time": "2022-08-17T07:39:39.916Z"
   },
   {
    "duration": 32,
    "start_time": "2022-08-17T07:39:39.927Z"
   },
   {
    "duration": 22,
    "start_time": "2022-08-17T07:39:39.961Z"
   },
   {
    "duration": 73,
    "start_time": "2022-08-17T07:39:39.985Z"
   },
   {
    "duration": 25,
    "start_time": "2022-08-17T07:39:40.060Z"
   },
   {
    "duration": 204,
    "start_time": "2022-08-17T07:39:40.090Z"
   },
   {
    "duration": 35,
    "start_time": "2022-08-17T07:39:40.296Z"
   },
   {
    "duration": 189,
    "start_time": "2022-08-17T07:39:40.333Z"
   },
   {
    "duration": 130,
    "start_time": "2022-08-17T07:42:34.371Z"
   },
   {
    "duration": 109,
    "start_time": "2022-08-17T08:41:31.161Z"
   },
   {
    "duration": 13,
    "start_time": "2022-08-17T08:41:40.879Z"
   },
   {
    "duration": 14,
    "start_time": "2022-08-17T08:42:00.939Z"
   },
   {
    "duration": 14,
    "start_time": "2022-08-17T08:42:55.982Z"
   },
   {
    "duration": 13,
    "start_time": "2022-08-17T08:43:00.651Z"
   },
   {
    "duration": 82,
    "start_time": "2022-08-17T08:43:29.555Z"
   },
   {
    "duration": 203,
    "start_time": "2022-08-17T08:43:34.123Z"
   },
   {
    "duration": 8,
    "start_time": "2022-08-17T08:43:55.225Z"
   },
   {
    "duration": 81,
    "start_time": "2022-08-17T08:44:19.855Z"
   },
   {
    "duration": 14,
    "start_time": "2022-08-17T08:44:49.274Z"
   },
   {
    "duration": 159,
    "start_time": "2022-08-17T08:57:48.012Z"
   },
   {
    "duration": 15,
    "start_time": "2022-08-17T08:57:53.977Z"
   },
   {
    "duration": 15,
    "start_time": "2022-08-17T09:05:30.670Z"
   },
   {
    "duration": 12,
    "start_time": "2022-08-17T09:05:41.789Z"
   },
   {
    "duration": 17,
    "start_time": "2022-08-17T09:08:46.943Z"
   },
   {
    "duration": 17,
    "start_time": "2022-08-17T09:08:54.810Z"
   },
   {
    "duration": 12,
    "start_time": "2022-08-17T09:09:24.972Z"
   },
   {
    "duration": 14,
    "start_time": "2022-08-17T09:31:33.396Z"
   },
   {
    "duration": 13,
    "start_time": "2022-08-17T09:31:44.364Z"
   },
   {
    "duration": 22,
    "start_time": "2022-08-17T09:49:03.753Z"
   },
   {
    "duration": 24,
    "start_time": "2022-08-17T09:49:14.563Z"
   },
   {
    "duration": 23,
    "start_time": "2022-08-17T09:50:14.639Z"
   },
   {
    "duration": 22,
    "start_time": "2022-08-17T09:50:42.921Z"
   },
   {
    "duration": 4,
    "start_time": "2022-08-17T12:34:18.940Z"
   },
   {
    "duration": 88,
    "start_time": "2022-08-17T12:34:25.377Z"
   },
   {
    "duration": 4,
    "start_time": "2022-08-17T12:34:28.948Z"
   },
   {
    "duration": 14,
    "start_time": "2022-08-17T12:35:13.043Z"
   },
   {
    "duration": 91,
    "start_time": "2022-08-17T12:36:12.878Z"
   },
   {
    "duration": 21,
    "start_time": "2022-08-17T12:36:19.196Z"
   },
   {
    "duration": 21,
    "start_time": "2022-08-17T12:36:50.388Z"
   },
   {
    "duration": 26,
    "start_time": "2022-08-17T12:37:17.224Z"
   },
   {
    "duration": 28,
    "start_time": "2022-08-17T12:39:29.468Z"
   },
   {
    "duration": 103,
    "start_time": "2022-08-17T12:39:46.024Z"
   },
   {
    "duration": 19,
    "start_time": "2022-08-17T12:40:22.491Z"
   },
   {
    "duration": 13,
    "start_time": "2022-08-17T12:42:42.827Z"
   },
   {
    "duration": 102,
    "start_time": "2022-08-17T12:43:44.080Z"
   },
   {
    "duration": 14,
    "start_time": "2022-08-17T12:43:53.277Z"
   },
   {
    "duration": 14,
    "start_time": "2022-08-17T12:44:10.800Z"
   },
   {
    "duration": 25,
    "start_time": "2022-08-17T12:45:26.878Z"
   },
   {
    "duration": 22,
    "start_time": "2022-08-17T12:47:19.123Z"
   },
   {
    "duration": 28,
    "start_time": "2022-08-17T12:47:23.966Z"
   },
   {
    "duration": 33,
    "start_time": "2022-08-17T12:47:29.227Z"
   },
   {
    "duration": 32,
    "start_time": "2022-08-17T12:47:53.196Z"
   },
   {
    "duration": 25,
    "start_time": "2022-08-17T12:48:23.161Z"
   },
   {
    "duration": 1297,
    "start_time": "2022-08-18T09:06:54.970Z"
   },
   {
    "duration": 3,
    "start_time": "2022-08-18T09:06:59.027Z"
   },
   {
    "duration": 290,
    "start_time": "2022-08-18T09:06:59.032Z"
   },
   {
    "duration": 18,
    "start_time": "2022-08-18T09:06:59.324Z"
   },
   {
    "duration": 14,
    "start_time": "2022-08-18T09:06:59.344Z"
   },
   {
    "duration": 9,
    "start_time": "2022-08-18T09:06:59.360Z"
   },
   {
    "duration": 9,
    "start_time": "2022-08-18T09:06:59.370Z"
   },
   {
    "duration": 4,
    "start_time": "2022-08-18T09:06:59.380Z"
   },
   {
    "duration": 6,
    "start_time": "2022-08-18T09:06:59.386Z"
   },
   {
    "duration": 22,
    "start_time": "2022-08-18T09:06:59.394Z"
   },
   {
    "duration": 4,
    "start_time": "2022-08-18T09:06:59.417Z"
   },
   {
    "duration": 11,
    "start_time": "2022-08-18T09:06:59.423Z"
   },
   {
    "duration": 5,
    "start_time": "2022-08-18T09:06:59.435Z"
   },
   {
    "duration": 4,
    "start_time": "2022-08-18T09:06:59.468Z"
   },
   {
    "duration": 7,
    "start_time": "2022-08-18T09:06:59.473Z"
   },
   {
    "duration": 39,
    "start_time": "2022-08-18T09:06:59.482Z"
   },
   {
    "duration": 12,
    "start_time": "2022-08-18T09:06:59.522Z"
   },
   {
    "duration": 19,
    "start_time": "2022-08-18T09:06:59.536Z"
   },
   {
    "duration": 14,
    "start_time": "2022-08-18T09:06:59.557Z"
   },
   {
    "duration": 4,
    "start_time": "2022-08-18T09:06:59.573Z"
   },
   {
    "duration": 10,
    "start_time": "2022-08-18T09:06:59.578Z"
   },
   {
    "duration": 223,
    "start_time": "2022-08-18T09:06:59.589Z"
   },
   {
    "duration": 10,
    "start_time": "2022-08-18T09:06:59.814Z"
   },
   {
    "duration": 17,
    "start_time": "2022-08-18T09:06:59.825Z"
   },
   {
    "duration": 27,
    "start_time": "2022-08-18T09:06:59.845Z"
   },
   {
    "duration": 9,
    "start_time": "2022-08-18T09:06:59.873Z"
   },
   {
    "duration": 5,
    "start_time": "2022-08-18T09:06:59.883Z"
   },
   {
    "duration": 15,
    "start_time": "2022-08-18T09:06:59.890Z"
   },
   {
    "duration": 295,
    "start_time": "2022-08-18T09:06:59.906Z"
   },
   {
    "duration": 20,
    "start_time": "2022-08-18T09:07:00.203Z"
   },
   {
    "duration": 15,
    "start_time": "2022-08-18T09:07:00.224Z"
   },
   {
    "duration": 34,
    "start_time": "2022-08-18T09:07:00.240Z"
   },
   {
    "duration": 255,
    "start_time": "2022-08-18T09:07:00.275Z"
   },
   {
    "duration": 37,
    "start_time": "2022-08-18T09:07:00.532Z"
   },
   {
    "duration": 315,
    "start_time": "2022-08-18T09:07:00.571Z"
   },
   {
    "duration": 314,
    "start_time": "2022-08-18T09:07:00.888Z"
   },
   {
    "duration": 6,
    "start_time": "2022-08-18T09:07:01.203Z"
   },
   {
    "duration": 14,
    "start_time": "2022-08-18T09:07:01.211Z"
   },
   {
    "duration": 9,
    "start_time": "2022-08-18T09:07:01.226Z"
   },
   {
    "duration": 53,
    "start_time": "2022-08-18T09:07:01.237Z"
   },
   {
    "duration": 12,
    "start_time": "2022-08-18T09:07:01.291Z"
   },
   {
    "duration": 181,
    "start_time": "2022-08-18T09:07:01.304Z"
   },
   {
    "duration": 15,
    "start_time": "2022-08-18T09:07:01.487Z"
   },
   {
    "duration": 187,
    "start_time": "2022-08-18T09:07:01.504Z"
   },
   {
    "duration": 26,
    "start_time": "2022-08-18T09:07:01.693Z"
   },
   {
    "duration": 54,
    "start_time": "2022-08-18T09:07:01.720Z"
   },
   {
    "duration": 35,
    "start_time": "2022-08-18T09:07:01.776Z"
   },
   {
    "duration": 113,
    "start_time": "2022-08-18T09:07:01.813Z"
   },
   {
    "duration": 105,
    "start_time": "2022-08-18T09:07:01.928Z"
   },
   {
    "duration": 16,
    "start_time": "2022-08-18T09:08:55.361Z"
   },
   {
    "duration": 195,
    "start_time": "2022-08-18T09:09:21.115Z"
   },
   {
    "duration": 12,
    "start_time": "2022-08-18T09:10:25.195Z"
   },
   {
    "duration": 11,
    "start_time": "2022-08-18T09:10:40.354Z"
   },
   {
    "duration": 255,
    "start_time": "2022-08-18T09:23:29.199Z"
   },
   {
    "duration": 265,
    "start_time": "2022-08-18T09:23:34.778Z"
   },
   {
    "duration": 273,
    "start_time": "2022-08-18T09:23:46.146Z"
   },
   {
    "duration": 258,
    "start_time": "2022-08-18T09:24:14.202Z"
   },
   {
    "duration": 276,
    "start_time": "2022-08-18T09:24:20.315Z"
   },
   {
    "duration": 13,
    "start_time": "2022-08-18T09:27:28.201Z"
   },
   {
    "duration": 101,
    "start_time": "2022-08-18T09:27:49.232Z"
   },
   {
    "duration": 76,
    "start_time": "2022-08-18T09:29:11.857Z"
   },
   {
    "duration": 4,
    "start_time": "2022-08-18T09:55:35.547Z"
   },
   {
    "duration": 70,
    "start_time": "2022-08-18T09:55:35.554Z"
   },
   {
    "duration": 19,
    "start_time": "2022-08-18T09:55:35.626Z"
   },
   {
    "duration": 33,
    "start_time": "2022-08-18T09:55:35.648Z"
   },
   {
    "duration": 12,
    "start_time": "2022-08-18T09:55:35.683Z"
   },
   {
    "duration": 11,
    "start_time": "2022-08-18T09:55:35.697Z"
   },
   {
    "duration": 11,
    "start_time": "2022-08-18T09:55:35.710Z"
   },
   {
    "duration": 15,
    "start_time": "2022-08-18T09:55:35.723Z"
   },
   {
    "duration": 47,
    "start_time": "2022-08-18T09:55:35.740Z"
   },
   {
    "duration": 7,
    "start_time": "2022-08-18T09:55:35.790Z"
   },
   {
    "duration": 7,
    "start_time": "2022-08-18T09:55:35.799Z"
   },
   {
    "duration": 6,
    "start_time": "2022-08-18T09:55:35.808Z"
   },
   {
    "duration": 6,
    "start_time": "2022-08-18T09:55:35.816Z"
   },
   {
    "duration": 8,
    "start_time": "2022-08-18T09:55:35.824Z"
   },
   {
    "duration": 43,
    "start_time": "2022-08-18T09:55:35.834Z"
   },
   {
    "duration": 11,
    "start_time": "2022-08-18T09:55:35.878Z"
   },
   {
    "duration": 19,
    "start_time": "2022-08-18T09:55:35.892Z"
   },
   {
    "duration": 15,
    "start_time": "2022-08-18T09:55:35.913Z"
   },
   {
    "duration": 5,
    "start_time": "2022-08-18T09:55:35.930Z"
   },
   {
    "duration": 13,
    "start_time": "2022-08-18T09:55:35.969Z"
   },
   {
    "duration": 248,
    "start_time": "2022-08-18T09:55:35.984Z"
   },
   {
    "duration": 12,
    "start_time": "2022-08-18T09:55:36.233Z"
   },
   {
    "duration": 35,
    "start_time": "2022-08-18T09:55:36.246Z"
   },
   {
    "duration": 16,
    "start_time": "2022-08-18T09:55:36.282Z"
   },
   {
    "duration": 12,
    "start_time": "2022-08-18T09:55:36.300Z"
   },
   {
    "duration": 7,
    "start_time": "2022-08-18T09:55:36.314Z"
   },
   {
    "duration": 20,
    "start_time": "2022-08-18T09:55:36.323Z"
   },
   {
    "duration": 455,
    "start_time": "2022-08-18T09:55:36.367Z"
   },
   {
    "duration": 30,
    "start_time": "2022-08-18T09:55:36.824Z"
   },
   {
    "duration": 21,
    "start_time": "2022-08-18T09:55:36.868Z"
   },
   {
    "duration": 60,
    "start_time": "2022-08-18T09:55:36.892Z"
   },
   {
    "duration": 266,
    "start_time": "2022-08-18T09:55:36.954Z"
   },
   {
    "duration": 51,
    "start_time": "2022-08-18T09:55:37.222Z"
   },
   {
    "duration": 350,
    "start_time": "2022-08-18T09:55:37.276Z"
   },
   {
    "duration": 319,
    "start_time": "2022-08-18T09:55:37.628Z"
   },
   {
    "duration": 5,
    "start_time": "2022-08-18T09:55:37.949Z"
   },
   {
    "duration": 18,
    "start_time": "2022-08-18T09:55:37.956Z"
   },
   {
    "duration": 5,
    "start_time": "2022-08-18T09:55:37.976Z"
   },
   {
    "duration": 90,
    "start_time": "2022-08-18T09:55:37.982Z"
   },
   {
    "duration": 15,
    "start_time": "2022-08-18T09:55:38.074Z"
   },
   {
    "duration": 279,
    "start_time": "2022-08-18T09:55:38.092Z"
   },
   {
    "duration": 17,
    "start_time": "2022-08-18T09:55:38.373Z"
   },
   {
    "duration": 190,
    "start_time": "2022-08-18T09:55:38.393Z"
   },
   {
    "duration": 28,
    "start_time": "2022-08-18T09:55:38.585Z"
   },
   {
    "duration": 55,
    "start_time": "2022-08-18T09:55:38.615Z"
   },
   {
    "duration": 33,
    "start_time": "2022-08-18T09:55:38.672Z"
   },
   {
    "duration": 34,
    "start_time": "2022-08-18T09:55:38.707Z"
   },
   {
    "duration": 15,
    "start_time": "2022-08-18T09:55:38.767Z"
   },
   {
    "duration": 21,
    "start_time": "2022-08-18T09:55:38.784Z"
   },
   {
    "duration": 1173,
    "start_time": "2022-08-18T09:55:45.169Z"
   },
   {
    "duration": 63,
    "start_time": "2022-08-18T09:55:46.345Z"
   },
   {
    "duration": 23,
    "start_time": "2022-08-18T09:55:46.410Z"
   },
   {
    "duration": 18,
    "start_time": "2022-08-18T09:55:46.435Z"
   },
   {
    "duration": 19,
    "start_time": "2022-08-18T09:55:46.454Z"
   },
   {
    "duration": 12,
    "start_time": "2022-08-18T09:55:46.478Z"
   },
   {
    "duration": 7,
    "start_time": "2022-08-18T09:55:46.492Z"
   },
   {
    "duration": 7,
    "start_time": "2022-08-18T09:55:46.501Z"
   },
   {
    "duration": 41,
    "start_time": "2022-08-18T09:55:46.510Z"
   },
   {
    "duration": 14,
    "start_time": "2022-08-18T09:55:46.557Z"
   },
   {
    "duration": 22,
    "start_time": "2022-08-18T09:55:46.573Z"
   },
   {
    "duration": 13,
    "start_time": "2022-08-18T09:55:46.598Z"
   },
   {
    "duration": 17,
    "start_time": "2022-08-18T09:55:46.613Z"
   },
   {
    "duration": 28,
    "start_time": "2022-08-18T09:55:46.632Z"
   },
   {
    "duration": 46,
    "start_time": "2022-08-18T09:55:46.663Z"
   },
   {
    "duration": 14,
    "start_time": "2022-08-18T09:55:46.714Z"
   },
   {
    "duration": 29,
    "start_time": "2022-08-18T09:55:46.730Z"
   },
   {
    "duration": 18,
    "start_time": "2022-08-18T09:55:46.761Z"
   },
   {
    "duration": 11,
    "start_time": "2022-08-18T09:55:46.782Z"
   },
   {
    "duration": 24,
    "start_time": "2022-08-18T09:55:46.795Z"
   },
   {
    "duration": 286,
    "start_time": "2022-08-18T09:55:46.822Z"
   },
   {
    "duration": 13,
    "start_time": "2022-08-18T09:55:47.110Z"
   },
   {
    "duration": 22,
    "start_time": "2022-08-18T09:55:47.125Z"
   },
   {
    "duration": 32,
    "start_time": "2022-08-18T09:55:47.148Z"
   },
   {
    "duration": 19,
    "start_time": "2022-08-18T09:55:47.181Z"
   },
   {
    "duration": 6,
    "start_time": "2022-08-18T09:55:47.203Z"
   },
   {
    "duration": 14,
    "start_time": "2022-08-18T09:55:47.211Z"
   },
   {
    "duration": 309,
    "start_time": "2022-08-18T09:55:47.228Z"
   },
   {
    "duration": 28,
    "start_time": "2022-08-18T09:55:47.539Z"
   },
   {
    "duration": 16,
    "start_time": "2022-08-18T09:55:47.569Z"
   },
   {
    "duration": 29,
    "start_time": "2022-08-18T09:55:47.587Z"
   },
   {
    "duration": 353,
    "start_time": "2022-08-18T09:55:47.619Z"
   },
   {
    "duration": 26,
    "start_time": "2022-08-18T09:55:47.975Z"
   },
   {
    "duration": 349,
    "start_time": "2022-08-18T09:55:48.003Z"
   },
   {
    "duration": 371,
    "start_time": "2022-08-18T09:55:48.354Z"
   },
   {
    "duration": 7,
    "start_time": "2022-08-18T09:55:48.727Z"
   },
   {
    "duration": 10,
    "start_time": "2022-08-18T09:55:48.736Z"
   },
   {
    "duration": 22,
    "start_time": "2022-08-18T09:55:48.748Z"
   },
   {
    "duration": 63,
    "start_time": "2022-08-18T09:55:48.773Z"
   },
   {
    "duration": 33,
    "start_time": "2022-08-18T09:55:48.839Z"
   },
   {
    "duration": 241,
    "start_time": "2022-08-18T09:55:48.874Z"
   },
   {
    "duration": 13,
    "start_time": "2022-08-18T09:55:49.117Z"
   },
   {
    "duration": 213,
    "start_time": "2022-08-18T09:55:49.133Z"
   },
   {
    "duration": 36,
    "start_time": "2022-08-18T09:55:49.348Z"
   },
   {
    "duration": 25,
    "start_time": "2022-08-18T09:55:49.386Z"
   },
   {
    "duration": 59,
    "start_time": "2022-08-18T09:55:49.413Z"
   },
   {
    "duration": 147,
    "start_time": "2022-08-18T09:55:49.474Z"
   },
   {
    "duration": 14,
    "start_time": "2022-08-18T09:55:49.624Z"
   },
   {
    "duration": 32,
    "start_time": "2022-08-18T09:55:49.640Z"
   },
   {
    "duration": 1323,
    "start_time": "2022-08-19T14:13:58.260Z"
   },
   {
    "duration": 1119,
    "start_time": "2022-08-19T14:14:05.702Z"
   },
   {
    "duration": 91,
    "start_time": "2022-08-19T14:14:06.823Z"
   },
   {
    "duration": 18,
    "start_time": "2022-08-19T14:14:06.915Z"
   },
   {
    "duration": 13,
    "start_time": "2022-08-19T14:14:06.934Z"
   },
   {
    "duration": 8,
    "start_time": "2022-08-19T14:14:06.949Z"
   },
   {
    "duration": 8,
    "start_time": "2022-08-19T14:14:06.958Z"
   },
   {
    "duration": 6,
    "start_time": "2022-08-19T14:14:06.968Z"
   },
   {
    "duration": 6,
    "start_time": "2022-08-19T14:14:06.975Z"
   },
   {
    "duration": 26,
    "start_time": "2022-08-19T14:14:06.982Z"
   },
   {
    "duration": 4,
    "start_time": "2022-08-19T14:14:07.009Z"
   },
   {
    "duration": 18,
    "start_time": "2022-08-19T14:14:07.014Z"
   },
   {
    "duration": 21,
    "start_time": "2022-08-19T14:14:07.033Z"
   },
   {
    "duration": 6,
    "start_time": "2022-08-19T14:14:07.057Z"
   },
   {
    "duration": 4,
    "start_time": "2022-08-19T14:14:07.066Z"
   },
   {
    "duration": 25,
    "start_time": "2022-08-19T14:14:07.072Z"
   },
   {
    "duration": 9,
    "start_time": "2022-08-19T14:14:07.099Z"
   },
   {
    "duration": 15,
    "start_time": "2022-08-19T14:14:07.109Z"
   },
   {
    "duration": 12,
    "start_time": "2022-08-19T14:14:07.125Z"
   },
   {
    "duration": 4,
    "start_time": "2022-08-19T14:14:07.158Z"
   },
   {
    "duration": 20,
    "start_time": "2022-08-19T14:14:07.164Z"
   },
   {
    "duration": 229,
    "start_time": "2022-08-19T14:14:07.185Z"
   },
   {
    "duration": 12,
    "start_time": "2022-08-19T14:14:07.415Z"
   },
   {
    "duration": 33,
    "start_time": "2022-08-19T14:14:07.428Z"
   },
   {
    "duration": 10,
    "start_time": "2022-08-19T14:14:07.463Z"
   },
   {
    "duration": 8,
    "start_time": "2022-08-19T14:14:07.475Z"
   },
   {
    "duration": 11,
    "start_time": "2022-08-19T14:14:07.485Z"
   },
   {
    "duration": 22,
    "start_time": "2022-08-19T14:14:07.497Z"
   },
   {
    "duration": 284,
    "start_time": "2022-08-19T14:14:07.521Z"
   },
   {
    "duration": 20,
    "start_time": "2022-08-19T14:14:07.807Z"
   },
   {
    "duration": 15,
    "start_time": "2022-08-19T14:14:07.829Z"
   },
   {
    "duration": 29,
    "start_time": "2022-08-19T14:14:07.846Z"
   },
   {
    "duration": 278,
    "start_time": "2022-08-19T14:14:07.877Z"
   },
   {
    "duration": 26,
    "start_time": "2022-08-19T14:14:08.158Z"
   },
   {
    "duration": 305,
    "start_time": "2022-08-19T14:14:08.186Z"
   },
   {
    "duration": 306,
    "start_time": "2022-08-19T14:14:08.493Z"
   },
   {
    "duration": 5,
    "start_time": "2022-08-19T14:14:08.801Z"
   },
   {
    "duration": 9,
    "start_time": "2022-08-19T14:14:08.807Z"
   },
   {
    "duration": 6,
    "start_time": "2022-08-19T14:14:08.817Z"
   },
   {
    "duration": 58,
    "start_time": "2022-08-19T14:14:08.824Z"
   },
   {
    "duration": 10,
    "start_time": "2022-08-19T14:14:08.884Z"
   },
   {
    "duration": 177,
    "start_time": "2022-08-19T14:14:08.898Z"
   },
   {
    "duration": 11,
    "start_time": "2022-08-19T14:14:09.077Z"
   },
   {
    "duration": 170,
    "start_time": "2022-08-19T14:14:09.089Z"
   },
   {
    "duration": 25,
    "start_time": "2022-08-19T14:14:09.261Z"
   },
   {
    "duration": 22,
    "start_time": "2022-08-19T14:14:09.288Z"
   },
   {
    "duration": 47,
    "start_time": "2022-08-19T14:14:09.312Z"
   },
   {
    "duration": 102,
    "start_time": "2022-08-19T14:14:09.361Z"
   },
   {
    "duration": 12,
    "start_time": "2022-08-19T14:14:09.464Z"
   },
   {
    "duration": 15,
    "start_time": "2022-08-19T14:14:09.477Z"
   },
   {
    "duration": 4,
    "start_time": "2022-08-19T14:19:01.672Z"
   },
   {
    "duration": 48,
    "start_time": "2022-08-19T14:19:39.756Z"
   },
   {
    "duration": 6,
    "start_time": "2022-08-19T14:21:00.250Z"
   },
   {
    "duration": 4,
    "start_time": "2022-08-19T14:21:14.894Z"
   },
   {
    "duration": 5,
    "start_time": "2022-08-19T14:21:23.333Z"
   },
   {
    "duration": 3,
    "start_time": "2022-08-19T14:21:41.030Z"
   },
   {
    "duration": 5,
    "start_time": "2022-08-19T14:21:44.654Z"
   },
   {
    "duration": 5,
    "start_time": "2022-08-19T14:22:01.618Z"
   },
   {
    "duration": 7,
    "start_time": "2022-08-19T14:22:10.280Z"
   },
   {
    "duration": 5,
    "start_time": "2022-08-19T14:22:48.302Z"
   },
   {
    "duration": 50,
    "start_time": "2022-08-19T14:24:52.564Z"
   },
   {
    "duration": 49,
    "start_time": "2022-08-21T07:52:10.540Z"
   },
   {
    "duration": 46,
    "start_time": "2022-08-21T07:53:49.234Z"
   },
   {
    "duration": 1256,
    "start_time": "2022-08-21T07:53:55.995Z"
   },
   {
    "duration": 95,
    "start_time": "2022-08-21T07:53:57.252Z"
   },
   {
    "duration": 20,
    "start_time": "2022-08-21T07:53:57.349Z"
   },
   {
    "duration": 17,
    "start_time": "2022-08-21T07:53:57.371Z"
   },
   {
    "duration": 11,
    "start_time": "2022-08-21T07:53:57.391Z"
   },
   {
    "duration": 8,
    "start_time": "2022-08-21T07:53:57.403Z"
   },
   {
    "duration": 5,
    "start_time": "2022-08-21T07:53:57.412Z"
   },
   {
    "duration": 6,
    "start_time": "2022-08-21T07:53:57.419Z"
   },
   {
    "duration": 8,
    "start_time": "2022-08-21T07:53:57.426Z"
   },
   {
    "duration": 28,
    "start_time": "2022-08-21T07:53:57.436Z"
   },
   {
    "duration": 6,
    "start_time": "2022-08-21T07:53:57.465Z"
   },
   {
    "duration": 9,
    "start_time": "2022-08-21T07:53:57.472Z"
   },
   {
    "duration": 9,
    "start_time": "2022-08-21T07:53:57.482Z"
   },
   {
    "duration": 3,
    "start_time": "2022-08-21T07:53:57.512Z"
   },
   {
    "duration": 8,
    "start_time": "2022-08-21T07:53:57.516Z"
   },
   {
    "duration": 21,
    "start_time": "2022-08-21T07:53:57.525Z"
   },
   {
    "duration": 8,
    "start_time": "2022-08-21T07:53:57.547Z"
   },
   {
    "duration": 11,
    "start_time": "2022-08-21T07:53:57.556Z"
   },
   {
    "duration": 10,
    "start_time": "2022-08-21T07:53:57.568Z"
   },
   {
    "duration": 8,
    "start_time": "2022-08-21T07:53:57.579Z"
   },
   {
    "duration": 28,
    "start_time": "2022-08-21T07:53:57.588Z"
   },
   {
    "duration": 216,
    "start_time": "2022-08-21T07:53:57.617Z"
   },
   {
    "duration": 11,
    "start_time": "2022-08-21T07:53:57.835Z"
   },
   {
    "duration": 16,
    "start_time": "2022-08-21T07:53:57.847Z"
   },
   {
    "duration": 9,
    "start_time": "2022-08-21T07:53:57.864Z"
   },
   {
    "duration": 6,
    "start_time": "2022-08-21T07:53:57.875Z"
   },
   {
    "duration": 30,
    "start_time": "2022-08-21T07:53:57.883Z"
   },
   {
    "duration": 11,
    "start_time": "2022-08-21T07:53:57.914Z"
   },
   {
    "duration": 273,
    "start_time": "2022-08-21T07:53:57.926Z"
   },
   {
    "duration": 17,
    "start_time": "2022-08-21T07:53:58.200Z"
   },
   {
    "duration": 14,
    "start_time": "2022-08-21T07:53:58.218Z"
   },
   {
    "duration": 20,
    "start_time": "2022-08-21T07:53:58.233Z"
   },
   {
    "duration": 252,
    "start_time": "2022-08-21T07:53:58.254Z"
   },
   {
    "duration": 23,
    "start_time": "2022-08-21T07:53:58.508Z"
   },
   {
    "duration": 279,
    "start_time": "2022-08-21T07:53:58.533Z"
   },
   {
    "duration": 259,
    "start_time": "2022-08-21T07:53:58.814Z"
   },
   {
    "duration": 4,
    "start_time": "2022-08-21T07:53:59.075Z"
   },
   {
    "duration": 6,
    "start_time": "2022-08-21T07:53:59.080Z"
   },
   {
    "duration": 4,
    "start_time": "2022-08-21T07:53:59.087Z"
   },
   {
    "duration": 61,
    "start_time": "2022-08-21T07:53:59.092Z"
   },
   {
    "duration": 10,
    "start_time": "2022-08-21T07:53:59.156Z"
   },
   {
    "duration": 160,
    "start_time": "2022-08-21T07:53:59.168Z"
   },
   {
    "duration": 10,
    "start_time": "2022-08-21T07:53:59.330Z"
   },
   {
    "duration": 157,
    "start_time": "2022-08-21T07:53:59.342Z"
   },
   {
    "duration": 25,
    "start_time": "2022-08-21T07:53:59.501Z"
   },
   {
    "duration": 36,
    "start_time": "2022-08-21T07:53:59.527Z"
   },
   {
    "duration": 31,
    "start_time": "2022-08-21T07:53:59.565Z"
   },
   {
    "duration": 80,
    "start_time": "2022-08-21T07:53:59.597Z"
   },
   {
    "duration": 9,
    "start_time": "2022-08-21T07:53:59.679Z"
   },
   {
    "duration": 20,
    "start_time": "2022-08-21T07:53:59.690Z"
   },
   {
    "duration": 27,
    "start_time": "2022-08-21T07:56:53.781Z"
   },
   {
    "duration": 14,
    "start_time": "2022-08-21T07:56:57.531Z"
   },
   {
    "duration": 20,
    "start_time": "2022-08-21T07:57:21.497Z"
   },
   {
    "duration": 15,
    "start_time": "2022-08-21T07:57:23.369Z"
   },
   {
    "duration": 21,
    "start_time": "2022-08-21T07:58:10.662Z"
   },
   {
    "duration": 24,
    "start_time": "2022-08-21T07:58:32.694Z"
   },
   {
    "duration": 14,
    "start_time": "2022-08-21T07:58:34.230Z"
   },
   {
    "duration": 16,
    "start_time": "2022-08-21T07:58:47.276Z"
   },
   {
    "duration": 13,
    "start_time": "2022-08-21T07:58:48.250Z"
   },
   {
    "duration": 15,
    "start_time": "2022-08-21T07:58:58.136Z"
   },
   {
    "duration": 219,
    "start_time": "2022-08-21T07:59:02.725Z"
   },
   {
    "duration": 21,
    "start_time": "2022-08-21T07:59:14.663Z"
   },
   {
    "duration": 248,
    "start_time": "2022-08-21T07:59:16.126Z"
   },
   {
    "duration": 237,
    "start_time": "2022-08-21T07:59:18.068Z"
   },
   {
    "duration": 5,
    "start_time": "2022-08-21T07:59:24.184Z"
   },
   {
    "duration": 4,
    "start_time": "2022-08-21T07:59:24.590Z"
   },
   {
    "duration": 4,
    "start_time": "2022-08-21T07:59:25.451Z"
   },
   {
    "duration": 42,
    "start_time": "2022-08-21T07:59:25.924Z"
   },
   {
    "duration": 1289,
    "start_time": "2022-08-21T08:05:12.179Z"
   },
   {
    "duration": 53,
    "start_time": "2022-08-21T08:05:13.470Z"
   },
   {
    "duration": 17,
    "start_time": "2022-08-21T08:05:13.525Z"
   },
   {
    "duration": 20,
    "start_time": "2022-08-21T08:05:13.544Z"
   },
   {
    "duration": 24,
    "start_time": "2022-08-21T08:05:13.567Z"
   },
   {
    "duration": 29,
    "start_time": "2022-08-21T08:05:13.593Z"
   },
   {
    "duration": 27,
    "start_time": "2022-08-21T08:05:13.623Z"
   },
   {
    "duration": 30,
    "start_time": "2022-08-21T08:05:13.652Z"
   },
   {
    "duration": 19,
    "start_time": "2022-08-21T08:05:13.684Z"
   },
   {
    "duration": 26,
    "start_time": "2022-08-21T08:05:13.705Z"
   },
   {
    "duration": 19,
    "start_time": "2022-08-21T08:05:13.733Z"
   },
   {
    "duration": 30,
    "start_time": "2022-08-21T08:05:13.754Z"
   },
   {
    "duration": 16,
    "start_time": "2022-08-21T08:05:13.786Z"
   },
   {
    "duration": 14,
    "start_time": "2022-08-21T08:05:13.805Z"
   },
   {
    "duration": 23,
    "start_time": "2022-08-21T08:05:13.820Z"
   },
   {
    "duration": 34,
    "start_time": "2022-08-21T08:05:13.844Z"
   },
   {
    "duration": 13,
    "start_time": "2022-08-21T08:05:13.879Z"
   },
   {
    "duration": 45,
    "start_time": "2022-08-21T08:05:13.893Z"
   },
   {
    "duration": 36,
    "start_time": "2022-08-21T08:05:13.939Z"
   },
   {
    "duration": 21,
    "start_time": "2022-08-21T08:05:13.977Z"
   },
   {
    "duration": 24,
    "start_time": "2022-08-21T08:05:14.000Z"
   },
   {
    "duration": 237,
    "start_time": "2022-08-21T08:05:14.025Z"
   },
   {
    "duration": 10,
    "start_time": "2022-08-21T08:05:14.263Z"
   },
   {
    "duration": 43,
    "start_time": "2022-08-21T08:05:14.274Z"
   },
   {
    "duration": 17,
    "start_time": "2022-08-21T08:05:14.319Z"
   },
   {
    "duration": 12,
    "start_time": "2022-08-21T08:05:14.338Z"
   },
   {
    "duration": 21,
    "start_time": "2022-08-21T08:05:14.352Z"
   },
   {
    "duration": 22,
    "start_time": "2022-08-21T08:05:14.375Z"
   },
   {
    "duration": 284,
    "start_time": "2022-08-21T08:05:14.399Z"
   },
   {
    "duration": 18,
    "start_time": "2022-08-21T08:05:14.684Z"
   },
   {
    "duration": 13,
    "start_time": "2022-08-21T08:05:14.704Z"
   },
   {
    "duration": 26,
    "start_time": "2022-08-21T08:05:14.719Z"
   },
   {
    "duration": 235,
    "start_time": "2022-08-21T08:05:14.747Z"
   },
   {
    "duration": 32,
    "start_time": "2022-08-21T08:05:14.984Z"
   },
   {
    "duration": 275,
    "start_time": "2022-08-21T08:05:15.018Z"
   },
   {
    "duration": 269,
    "start_time": "2022-08-21T08:05:15.294Z"
   },
   {
    "duration": 4,
    "start_time": "2022-08-21T08:05:15.565Z"
   },
   {
    "duration": 26,
    "start_time": "2022-08-21T08:05:15.571Z"
   },
   {
    "duration": 26,
    "start_time": "2022-08-21T08:05:15.599Z"
   },
   {
    "duration": 71,
    "start_time": "2022-08-21T08:05:15.627Z"
   },
   {
    "duration": 10,
    "start_time": "2022-08-21T08:05:15.701Z"
   },
   {
    "duration": 154,
    "start_time": "2022-08-21T08:05:15.712Z"
   },
   {
    "duration": 10,
    "start_time": "2022-08-21T08:05:15.867Z"
   },
   {
    "duration": 157,
    "start_time": "2022-08-21T08:05:15.878Z"
   },
   {
    "duration": 24,
    "start_time": "2022-08-21T08:05:16.037Z"
   },
   {
    "duration": 25,
    "start_time": "2022-08-21T08:05:16.062Z"
   },
   {
    "duration": 41,
    "start_time": "2022-08-21T08:05:16.089Z"
   },
   {
    "duration": 69,
    "start_time": "2022-08-21T08:05:16.132Z"
   },
   {
    "duration": 10,
    "start_time": "2022-08-21T08:05:16.211Z"
   },
   {
    "duration": 24,
    "start_time": "2022-08-21T08:05:16.222Z"
   },
   {
    "duration": 11,
    "start_time": "2022-08-21T08:08:19.785Z"
   },
   {
    "duration": 147,
    "start_time": "2022-08-21T08:08:20.206Z"
   },
   {
    "duration": 20,
    "start_time": "2022-08-21T08:08:28.005Z"
   },
   {
    "duration": 177,
    "start_time": "2022-08-21T08:08:28.356Z"
   },
   {
    "duration": 15,
    "start_time": "2022-08-21T08:08:43.226Z"
   },
   {
    "duration": 159,
    "start_time": "2022-08-21T08:08:43.701Z"
   },
   {
    "duration": 148,
    "start_time": "2022-08-21T08:34:05.341Z"
   },
   {
    "duration": 161,
    "start_time": "2022-08-21T08:34:12.477Z"
   },
   {
    "duration": 113,
    "start_time": "2022-08-21T08:34:47.219Z"
   },
   {
    "duration": 14,
    "start_time": "2022-08-21T08:34:50.986Z"
   },
   {
    "duration": 178,
    "start_time": "2022-08-21T08:34:52.390Z"
   },
   {
    "duration": 120,
    "start_time": "2022-08-21T08:35:44.192Z"
   },
   {
    "duration": 10,
    "start_time": "2022-08-21T08:35:46.235Z"
   },
   {
    "duration": 148,
    "start_time": "2022-08-21T08:35:47.086Z"
   },
   {
    "duration": 143,
    "start_time": "2022-08-21T08:36:17.602Z"
   },
   {
    "duration": 149,
    "start_time": "2022-08-21T08:36:59.164Z"
   },
   {
    "duration": 115,
    "start_time": "2022-08-21T08:37:24.088Z"
   },
   {
    "duration": 9,
    "start_time": "2022-08-21T08:37:26.521Z"
   },
   {
    "duration": 141,
    "start_time": "2022-08-21T08:37:26.757Z"
   },
   {
    "duration": 9,
    "start_time": "2022-08-21T08:37:46.955Z"
   },
   {
    "duration": 198,
    "start_time": "2022-08-21T08:37:47.370Z"
   },
   {
    "duration": 1039,
    "start_time": "2022-08-21T08:38:10.335Z"
   },
   {
    "duration": 57,
    "start_time": "2022-08-21T08:38:11.375Z"
   },
   {
    "duration": 17,
    "start_time": "2022-08-21T08:38:11.433Z"
   },
   {
    "duration": 16,
    "start_time": "2022-08-21T08:38:11.452Z"
   },
   {
    "duration": 8,
    "start_time": "2022-08-21T08:38:11.470Z"
   },
   {
    "duration": 6,
    "start_time": "2022-08-21T08:38:11.480Z"
   },
   {
    "duration": 7,
    "start_time": "2022-08-21T08:38:11.487Z"
   },
   {
    "duration": 16,
    "start_time": "2022-08-21T08:38:11.496Z"
   },
   {
    "duration": 4,
    "start_time": "2022-08-21T08:38:11.514Z"
   },
   {
    "duration": 20,
    "start_time": "2022-08-21T08:38:11.519Z"
   },
   {
    "duration": 4,
    "start_time": "2022-08-21T08:38:11.541Z"
   },
   {
    "duration": 6,
    "start_time": "2022-08-21T08:38:11.547Z"
   },
   {
    "duration": 3,
    "start_time": "2022-08-21T08:38:11.554Z"
   },
   {
    "duration": 3,
    "start_time": "2022-08-21T08:38:11.560Z"
   },
   {
    "duration": 8,
    "start_time": "2022-08-21T08:38:11.564Z"
   },
   {
    "duration": 44,
    "start_time": "2022-08-21T08:38:11.573Z"
   },
   {
    "duration": 7,
    "start_time": "2022-08-21T08:38:11.619Z"
   },
   {
    "duration": 12,
    "start_time": "2022-08-21T08:38:11.628Z"
   },
   {
    "duration": 11,
    "start_time": "2022-08-21T08:38:11.641Z"
   },
   {
    "duration": 4,
    "start_time": "2022-08-21T08:38:11.653Z"
   },
   {
    "duration": 9,
    "start_time": "2022-08-21T08:38:11.658Z"
   },
   {
    "duration": 238,
    "start_time": "2022-08-21T08:38:11.668Z"
   },
   {
    "duration": 10,
    "start_time": "2022-08-21T08:38:11.908Z"
   },
   {
    "duration": 15,
    "start_time": "2022-08-21T08:38:11.920Z"
   },
   {
    "duration": 8,
    "start_time": "2022-08-21T08:38:11.937Z"
   },
   {
    "duration": 8,
    "start_time": "2022-08-21T08:38:11.947Z"
   },
   {
    "duration": 5,
    "start_time": "2022-08-21T08:38:11.957Z"
   },
   {
    "duration": 12,
    "start_time": "2022-08-21T08:38:11.963Z"
   },
   {
    "duration": 290,
    "start_time": "2022-08-21T08:38:11.977Z"
   },
   {
    "duration": 18,
    "start_time": "2022-08-21T08:38:12.268Z"
   },
   {
    "duration": 13,
    "start_time": "2022-08-21T08:38:12.287Z"
   },
   {
    "duration": 18,
    "start_time": "2022-08-21T08:38:12.301Z"
   },
   {
    "duration": 243,
    "start_time": "2022-08-21T08:38:12.321Z"
   },
   {
    "duration": 29,
    "start_time": "2022-08-21T08:38:12.566Z"
   },
   {
    "duration": 323,
    "start_time": "2022-08-21T08:38:12.597Z"
   },
   {
    "duration": 256,
    "start_time": "2022-08-21T08:38:12.921Z"
   },
   {
    "duration": 5,
    "start_time": "2022-08-21T08:38:13.178Z"
   },
   {
    "duration": 6,
    "start_time": "2022-08-21T08:38:13.184Z"
   },
   {
    "duration": 5,
    "start_time": "2022-08-21T08:38:13.192Z"
   },
   {
    "duration": 36,
    "start_time": "2022-08-21T08:38:13.211Z"
   },
   {
    "duration": 9,
    "start_time": "2022-08-21T08:38:13.251Z"
   },
   {
    "duration": 162,
    "start_time": "2022-08-21T08:38:13.261Z"
   },
   {
    "duration": 10,
    "start_time": "2022-08-21T08:38:13.424Z"
   },
   {
    "duration": 156,
    "start_time": "2022-08-21T08:38:13.436Z"
   },
   {
    "duration": 18,
    "start_time": "2022-08-21T08:38:13.593Z"
   },
   {
    "duration": 270,
    "start_time": "2022-08-21T08:38:13.612Z"
   },
   {
    "duration": 0,
    "start_time": "2022-08-21T08:38:13.883Z"
   },
   {
    "duration": 0,
    "start_time": "2022-08-21T08:38:13.884Z"
   },
   {
    "duration": 0,
    "start_time": "2022-08-21T08:38:13.885Z"
   },
   {
    "duration": 0,
    "start_time": "2022-08-21T08:38:13.886Z"
   },
   {
    "duration": 0,
    "start_time": "2022-08-21T08:38:13.887Z"
   },
   {
    "duration": 0,
    "start_time": "2022-08-21T08:38:13.887Z"
   },
   {
    "duration": 144,
    "start_time": "2022-08-21T08:39:14.631Z"
   },
   {
    "duration": 3,
    "start_time": "2022-08-21T08:39:31.117Z"
   },
   {
    "duration": 60,
    "start_time": "2022-08-21T08:39:31.123Z"
   },
   {
    "duration": 15,
    "start_time": "2022-08-21T08:39:31.185Z"
   },
   {
    "duration": 17,
    "start_time": "2022-08-21T08:39:31.202Z"
   },
   {
    "duration": 9,
    "start_time": "2022-08-21T08:39:31.221Z"
   },
   {
    "duration": 16,
    "start_time": "2022-08-21T08:39:31.232Z"
   },
   {
    "duration": 10,
    "start_time": "2022-08-21T08:39:31.250Z"
   },
   {
    "duration": 12,
    "start_time": "2022-08-21T08:39:31.262Z"
   },
   {
    "duration": 18,
    "start_time": "2022-08-21T08:39:31.275Z"
   },
   {
    "duration": 27,
    "start_time": "2022-08-21T08:39:31.295Z"
   },
   {
    "duration": 4,
    "start_time": "2022-08-21T08:39:31.324Z"
   },
   {
    "duration": 18,
    "start_time": "2022-08-21T08:39:31.330Z"
   },
   {
    "duration": 9,
    "start_time": "2022-08-21T08:39:31.350Z"
   },
   {
    "duration": 8,
    "start_time": "2022-08-21T08:39:31.362Z"
   },
   {
    "duration": 15,
    "start_time": "2022-08-21T08:39:31.371Z"
   },
   {
    "duration": 16,
    "start_time": "2022-08-21T08:39:31.388Z"
   },
   {
    "duration": 11,
    "start_time": "2022-08-21T08:39:31.406Z"
   },
   {
    "duration": 20,
    "start_time": "2022-08-21T08:39:31.418Z"
   },
   {
    "duration": 19,
    "start_time": "2022-08-21T08:39:31.440Z"
   },
   {
    "duration": 5,
    "start_time": "2022-08-21T08:39:31.461Z"
   },
   {
    "duration": 15,
    "start_time": "2022-08-21T08:39:31.467Z"
   },
   {
    "duration": 225,
    "start_time": "2022-08-21T08:39:31.484Z"
   },
   {
    "duration": 11,
    "start_time": "2022-08-21T08:39:31.710Z"
   },
   {
    "duration": 18,
    "start_time": "2022-08-21T08:39:31.723Z"
   },
   {
    "duration": 10,
    "start_time": "2022-08-21T08:39:31.742Z"
   },
   {
    "duration": 14,
    "start_time": "2022-08-21T08:39:31.754Z"
   },
   {
    "duration": 10,
    "start_time": "2022-08-21T08:39:31.769Z"
   },
   {
    "duration": 31,
    "start_time": "2022-08-21T08:39:31.781Z"
   },
   {
    "duration": 256,
    "start_time": "2022-08-21T08:39:31.813Z"
   },
   {
    "duration": 18,
    "start_time": "2022-08-21T08:39:32.071Z"
   },
   {
    "duration": 27,
    "start_time": "2022-08-21T08:39:32.090Z"
   },
   {
    "duration": 17,
    "start_time": "2022-08-21T08:39:32.118Z"
   },
   {
    "duration": 236,
    "start_time": "2022-08-21T08:39:32.137Z"
   },
   {
    "duration": 24,
    "start_time": "2022-08-21T08:39:32.374Z"
   },
   {
    "duration": 340,
    "start_time": "2022-08-21T08:39:32.399Z"
   },
   {
    "duration": 289,
    "start_time": "2022-08-21T08:39:32.741Z"
   },
   {
    "duration": 5,
    "start_time": "2022-08-21T08:39:33.031Z"
   },
   {
    "duration": 5,
    "start_time": "2022-08-21T08:39:33.038Z"
   },
   {
    "duration": 5,
    "start_time": "2022-08-21T08:39:33.045Z"
   },
   {
    "duration": 36,
    "start_time": "2022-08-21T08:39:33.051Z"
   },
   {
    "duration": 9,
    "start_time": "2022-08-21T08:39:33.113Z"
   },
   {
    "duration": 159,
    "start_time": "2022-08-21T08:39:33.123Z"
   },
   {
    "duration": 10,
    "start_time": "2022-08-21T08:39:33.283Z"
   },
   {
    "duration": 152,
    "start_time": "2022-08-21T08:39:33.294Z"
   },
   {
    "duration": 11,
    "start_time": "2022-08-21T08:39:33.448Z"
   },
   {
    "duration": 160,
    "start_time": "2022-08-21T08:39:33.460Z"
   },
   {
    "duration": 22,
    "start_time": "2022-08-21T08:39:33.621Z"
   },
   {
    "duration": 20,
    "start_time": "2022-08-21T08:39:33.644Z"
   },
   {
    "duration": 46,
    "start_time": "2022-08-21T08:39:33.665Z"
   },
   {
    "duration": 98,
    "start_time": "2022-08-21T08:39:33.713Z"
   },
   {
    "duration": 10,
    "start_time": "2022-08-21T08:39:33.813Z"
   },
   {
    "duration": 10,
    "start_time": "2022-08-21T08:39:33.824Z"
   },
   {
    "duration": 1060,
    "start_time": "2022-08-21T08:39:40.936Z"
   },
   {
    "duration": 60,
    "start_time": "2022-08-21T08:39:41.998Z"
   },
   {
    "duration": 18,
    "start_time": "2022-08-21T08:39:42.060Z"
   },
   {
    "duration": 13,
    "start_time": "2022-08-21T08:39:42.080Z"
   },
   {
    "duration": 9,
    "start_time": "2022-08-21T08:39:42.095Z"
   },
   {
    "duration": 8,
    "start_time": "2022-08-21T08:39:42.105Z"
   },
   {
    "duration": 8,
    "start_time": "2022-08-21T08:39:42.115Z"
   },
   {
    "duration": 7,
    "start_time": "2022-08-21T08:39:42.125Z"
   },
   {
    "duration": 6,
    "start_time": "2022-08-21T08:39:42.134Z"
   },
   {
    "duration": 25,
    "start_time": "2022-08-21T08:39:42.142Z"
   },
   {
    "duration": 5,
    "start_time": "2022-08-21T08:39:42.168Z"
   },
   {
    "duration": 6,
    "start_time": "2022-08-21T08:39:42.174Z"
   },
   {
    "duration": 3,
    "start_time": "2022-08-21T08:39:42.182Z"
   },
   {
    "duration": 25,
    "start_time": "2022-08-21T08:39:42.187Z"
   },
   {
    "duration": 6,
    "start_time": "2022-08-21T08:39:42.213Z"
   },
   {
    "duration": 16,
    "start_time": "2022-08-21T08:39:42.221Z"
   },
   {
    "duration": 9,
    "start_time": "2022-08-21T08:39:42.238Z"
   },
   {
    "duration": 12,
    "start_time": "2022-08-21T08:39:42.248Z"
   },
   {
    "duration": 10,
    "start_time": "2022-08-21T08:39:42.261Z"
   },
   {
    "duration": 4,
    "start_time": "2022-08-21T08:39:42.272Z"
   },
   {
    "duration": 32,
    "start_time": "2022-08-21T08:39:42.278Z"
   },
   {
    "duration": 231,
    "start_time": "2022-08-21T08:39:42.312Z"
   },
   {
    "duration": 13,
    "start_time": "2022-08-21T08:39:42.545Z"
   },
   {
    "duration": 21,
    "start_time": "2022-08-21T08:39:42.559Z"
   },
   {
    "duration": 30,
    "start_time": "2022-08-21T08:39:42.582Z"
   },
   {
    "duration": 7,
    "start_time": "2022-08-21T08:39:42.614Z"
   },
   {
    "duration": 13,
    "start_time": "2022-08-21T08:39:42.623Z"
   },
   {
    "duration": 17,
    "start_time": "2022-08-21T08:39:42.639Z"
   },
   {
    "duration": 293,
    "start_time": "2022-08-21T08:39:42.658Z"
   },
   {
    "duration": 17,
    "start_time": "2022-08-21T08:39:42.952Z"
   },
   {
    "duration": 12,
    "start_time": "2022-08-21T08:39:42.970Z"
   },
   {
    "duration": 15,
    "start_time": "2022-08-21T08:39:42.984Z"
   },
   {
    "duration": 234,
    "start_time": "2022-08-21T08:39:43.000Z"
   },
   {
    "duration": 21,
    "start_time": "2022-08-21T08:39:43.236Z"
   },
   {
    "duration": 274,
    "start_time": "2022-08-21T08:39:43.258Z"
   },
   {
    "duration": 256,
    "start_time": "2022-08-21T08:39:43.533Z"
   },
   {
    "duration": 6,
    "start_time": "2022-08-21T08:39:43.790Z"
   },
   {
    "duration": 5,
    "start_time": "2022-08-21T08:39:43.811Z"
   },
   {
    "duration": 5,
    "start_time": "2022-08-21T08:39:43.817Z"
   },
   {
    "duration": 34,
    "start_time": "2022-08-21T08:39:43.824Z"
   },
   {
    "duration": 10,
    "start_time": "2022-08-21T08:39:43.860Z"
   },
   {
    "duration": 174,
    "start_time": "2022-08-21T08:39:43.872Z"
   },
   {
    "duration": 9,
    "start_time": "2022-08-21T08:39:44.048Z"
   },
   {
    "duration": 154,
    "start_time": "2022-08-21T08:39:44.059Z"
   },
   {
    "duration": 10,
    "start_time": "2022-08-21T08:39:44.214Z"
   },
   {
    "duration": 215,
    "start_time": "2022-08-21T08:39:44.226Z"
   },
   {
    "duration": 26,
    "start_time": "2022-08-21T08:39:44.443Z"
   },
   {
    "duration": 20,
    "start_time": "2022-08-21T08:39:44.470Z"
   },
   {
    "duration": 21,
    "start_time": "2022-08-21T08:39:44.511Z"
   },
   {
    "duration": 20,
    "start_time": "2022-08-21T08:39:44.533Z"
   },
   {
    "duration": 9,
    "start_time": "2022-08-21T08:39:44.554Z"
   },
   {
    "duration": 9,
    "start_time": "2022-08-21T08:39:44.564Z"
   },
   {
    "duration": 28,
    "start_time": "2022-08-21T08:44:54.803Z"
   },
   {
    "duration": 23,
    "start_time": "2022-08-21T08:45:08.873Z"
   },
   {
    "duration": 24,
    "start_time": "2022-08-21T08:47:33.728Z"
   },
   {
    "duration": 101,
    "start_time": "2022-08-21T09:15:58.672Z"
   },
   {
    "duration": 4,
    "start_time": "2022-08-21T09:16:07.744Z"
   },
   {
    "duration": 1028,
    "start_time": "2022-08-21T09:16:15.156Z"
   },
   {
    "duration": 54,
    "start_time": "2022-08-21T09:16:16.186Z"
   },
   {
    "duration": 16,
    "start_time": "2022-08-21T09:16:16.241Z"
   },
   {
    "duration": 15,
    "start_time": "2022-08-21T09:16:16.258Z"
   },
   {
    "duration": 8,
    "start_time": "2022-08-21T09:16:16.275Z"
   },
   {
    "duration": 5,
    "start_time": "2022-08-21T09:16:16.284Z"
   },
   {
    "duration": 21,
    "start_time": "2022-08-21T09:16:16.290Z"
   },
   {
    "duration": 6,
    "start_time": "2022-08-21T09:16:16.312Z"
   },
   {
    "duration": 8,
    "start_time": "2022-08-21T09:16:16.319Z"
   },
   {
    "duration": 20,
    "start_time": "2022-08-21T09:16:16.328Z"
   },
   {
    "duration": 5,
    "start_time": "2022-08-21T09:16:16.349Z"
   },
   {
    "duration": 9,
    "start_time": "2022-08-21T09:16:16.355Z"
   },
   {
    "duration": 4,
    "start_time": "2022-08-21T09:16:16.365Z"
   },
   {
    "duration": 3,
    "start_time": "2022-08-21T09:16:16.372Z"
   },
   {
    "duration": 22,
    "start_time": "2022-08-21T09:16:16.376Z"
   },
   {
    "duration": 22,
    "start_time": "2022-08-21T09:16:16.400Z"
   },
   {
    "duration": 8,
    "start_time": "2022-08-21T09:16:16.423Z"
   },
   {
    "duration": 12,
    "start_time": "2022-08-21T09:16:16.432Z"
   },
   {
    "duration": 10,
    "start_time": "2022-08-21T09:16:16.445Z"
   },
   {
    "duration": 11,
    "start_time": "2022-08-21T09:16:16.456Z"
   },
   {
    "duration": 10,
    "start_time": "2022-08-21T09:16:16.468Z"
   },
   {
    "duration": 238,
    "start_time": "2022-08-21T09:16:16.479Z"
   },
   {
    "duration": 9,
    "start_time": "2022-08-21T09:16:16.719Z"
   },
   {
    "duration": 18,
    "start_time": "2022-08-21T09:16:16.730Z"
   },
   {
    "duration": 10,
    "start_time": "2022-08-21T09:16:16.749Z"
   },
   {
    "duration": 11,
    "start_time": "2022-08-21T09:16:16.761Z"
   },
   {
    "duration": 6,
    "start_time": "2022-08-21T09:16:16.773Z"
   },
   {
    "duration": 32,
    "start_time": "2022-08-21T09:16:16.780Z"
   },
   {
    "duration": 279,
    "start_time": "2022-08-21T09:16:16.813Z"
   },
   {
    "duration": 18,
    "start_time": "2022-08-21T09:16:17.095Z"
   },
   {
    "duration": 13,
    "start_time": "2022-08-21T09:16:17.115Z"
   },
   {
    "duration": 33,
    "start_time": "2022-08-21T09:16:17.130Z"
   },
   {
    "duration": 225,
    "start_time": "2022-08-21T09:16:17.165Z"
   },
   {
    "duration": 27,
    "start_time": "2022-08-21T09:16:17.392Z"
   },
   {
    "duration": 268,
    "start_time": "2022-08-21T09:16:17.421Z"
   },
   {
    "duration": 276,
    "start_time": "2022-08-21T09:16:17.691Z"
   },
   {
    "duration": 5,
    "start_time": "2022-08-21T09:16:17.969Z"
   },
   {
    "duration": 16,
    "start_time": "2022-08-21T09:16:17.976Z"
   },
   {
    "duration": 25,
    "start_time": "2022-08-21T09:16:17.993Z"
   },
   {
    "duration": 64,
    "start_time": "2022-08-21T09:16:18.019Z"
   },
   {
    "duration": 10,
    "start_time": "2022-08-21T09:16:18.086Z"
   },
   {
    "duration": 170,
    "start_time": "2022-08-21T09:16:18.098Z"
   },
   {
    "duration": 11,
    "start_time": "2022-08-21T09:16:18.270Z"
   },
   {
    "duration": 165,
    "start_time": "2022-08-21T09:16:18.283Z"
   },
   {
    "duration": 11,
    "start_time": "2022-08-21T09:16:18.450Z"
   },
   {
    "duration": 231,
    "start_time": "2022-08-21T09:16:18.462Z"
   },
   {
    "duration": 28,
    "start_time": "2022-08-21T09:16:18.695Z"
   },
   {
    "duration": 28,
    "start_time": "2022-08-21T09:16:18.725Z"
   },
   {
    "duration": 53,
    "start_time": "2022-08-21T09:16:18.754Z"
   },
   {
    "duration": 56,
    "start_time": "2022-08-21T09:16:18.809Z"
   },
   {
    "duration": 11,
    "start_time": "2022-08-21T09:16:18.867Z"
   },
   {
    "duration": 33,
    "start_time": "2022-08-21T09:16:18.880Z"
   },
   {
    "duration": 45,
    "start_time": "2022-08-21T09:18:54.334Z"
   },
   {
    "duration": 49,
    "start_time": "2022-08-21T13:16:46.754Z"
   },
   {
    "duration": 1245,
    "start_time": "2022-08-21T13:16:53.321Z"
   },
   {
    "duration": 91,
    "start_time": "2022-08-21T13:16:54.568Z"
   },
   {
    "duration": 17,
    "start_time": "2022-08-21T13:16:54.661Z"
   },
   {
    "duration": 15,
    "start_time": "2022-08-21T13:16:54.680Z"
   },
   {
    "duration": 8,
    "start_time": "2022-08-21T13:16:54.697Z"
   },
   {
    "duration": 6,
    "start_time": "2022-08-21T13:16:54.706Z"
   },
   {
    "duration": 7,
    "start_time": "2022-08-21T13:16:54.714Z"
   },
   {
    "duration": 7,
    "start_time": "2022-08-21T13:16:54.722Z"
   },
   {
    "duration": 7,
    "start_time": "2022-08-21T13:16:54.731Z"
   },
   {
    "duration": 38,
    "start_time": "2022-08-21T13:16:54.739Z"
   },
   {
    "duration": 4,
    "start_time": "2022-08-21T13:16:54.778Z"
   },
   {
    "duration": 10,
    "start_time": "2022-08-21T13:16:54.784Z"
   },
   {
    "duration": 5,
    "start_time": "2022-08-21T13:16:54.795Z"
   },
   {
    "duration": 4,
    "start_time": "2022-08-21T13:16:54.802Z"
   },
   {
    "duration": 9,
    "start_time": "2022-08-21T13:16:54.808Z"
   },
   {
    "duration": 16,
    "start_time": "2022-08-21T13:16:54.819Z"
   },
   {
    "duration": 23,
    "start_time": "2022-08-21T13:16:54.837Z"
   },
   {
    "duration": 11,
    "start_time": "2022-08-21T13:16:54.862Z"
   },
   {
    "duration": 10,
    "start_time": "2022-08-21T13:16:54.875Z"
   },
   {
    "duration": 4,
    "start_time": "2022-08-21T13:16:54.887Z"
   },
   {
    "duration": 10,
    "start_time": "2022-08-21T13:16:54.892Z"
   },
   {
    "duration": 248,
    "start_time": "2022-08-21T13:16:54.903Z"
   },
   {
    "duration": 13,
    "start_time": "2022-08-21T13:16:55.157Z"
   },
   {
    "duration": 29,
    "start_time": "2022-08-21T13:16:55.172Z"
   },
   {
    "duration": 15,
    "start_time": "2022-08-21T13:16:55.203Z"
   },
   {
    "duration": 30,
    "start_time": "2022-08-21T13:16:55.220Z"
   },
   {
    "duration": 7,
    "start_time": "2022-08-21T13:16:55.252Z"
   },
   {
    "duration": 18,
    "start_time": "2022-08-21T13:16:55.261Z"
   },
   {
    "duration": 304,
    "start_time": "2022-08-21T13:16:55.281Z"
   },
   {
    "duration": 22,
    "start_time": "2022-08-21T13:16:55.586Z"
   },
   {
    "duration": 16,
    "start_time": "2022-08-21T13:16:55.609Z"
   },
   {
    "duration": 26,
    "start_time": "2022-08-21T13:16:55.627Z"
   },
   {
    "duration": 248,
    "start_time": "2022-08-21T13:16:55.656Z"
   },
   {
    "duration": 25,
    "start_time": "2022-08-21T13:16:55.906Z"
   },
   {
    "duration": 300,
    "start_time": "2022-08-21T13:16:55.932Z"
   },
   {
    "duration": 277,
    "start_time": "2022-08-21T13:16:56.233Z"
   },
   {
    "duration": 5,
    "start_time": "2022-08-21T13:16:56.512Z"
   },
   {
    "duration": 34,
    "start_time": "2022-08-21T13:16:56.518Z"
   },
   {
    "duration": 13,
    "start_time": "2022-08-21T13:16:56.554Z"
   },
   {
    "duration": 53,
    "start_time": "2022-08-21T13:16:56.568Z"
   },
   {
    "duration": 11,
    "start_time": "2022-08-21T13:16:56.625Z"
   },
   {
    "duration": 161,
    "start_time": "2022-08-21T13:16:56.638Z"
   },
   {
    "duration": 11,
    "start_time": "2022-08-21T13:16:56.802Z"
   },
   {
    "duration": 171,
    "start_time": "2022-08-21T13:16:56.814Z"
   },
   {
    "duration": 10,
    "start_time": "2022-08-21T13:16:56.986Z"
   },
   {
    "duration": 224,
    "start_time": "2022-08-21T13:16:56.998Z"
   },
   {
    "duration": 36,
    "start_time": "2022-08-21T13:16:57.224Z"
   },
   {
    "duration": 22,
    "start_time": "2022-08-21T13:16:57.261Z"
   },
   {
    "duration": 71,
    "start_time": "2022-08-21T13:16:57.287Z"
   },
   {
    "duration": 21,
    "start_time": "2022-08-21T13:16:57.360Z"
   },
   {
    "duration": 9,
    "start_time": "2022-08-21T13:16:57.383Z"
   },
   {
    "duration": 36,
    "start_time": "2022-08-21T13:16:57.393Z"
   },
   {
    "duration": 11,
    "start_time": "2022-08-21T13:17:01.329Z"
   },
   {
    "duration": 50,
    "start_time": "2022-08-22T10:42:00.175Z"
   },
   {
    "duration": 1252,
    "start_time": "2022-08-22T10:42:07.639Z"
   },
   {
    "duration": 94,
    "start_time": "2022-08-22T10:42:08.893Z"
   },
   {
    "duration": 16,
    "start_time": "2022-08-22T10:42:08.988Z"
   },
   {
    "duration": 23,
    "start_time": "2022-08-22T10:42:09.005Z"
   },
   {
    "duration": 8,
    "start_time": "2022-08-22T10:42:09.030Z"
   },
   {
    "duration": 8,
    "start_time": "2022-08-22T10:42:09.039Z"
   },
   {
    "duration": 14,
    "start_time": "2022-08-22T10:42:09.048Z"
   },
   {
    "duration": 14,
    "start_time": "2022-08-22T10:42:09.063Z"
   },
   {
    "duration": 9,
    "start_time": "2022-08-22T10:42:09.078Z"
   },
   {
    "duration": 20,
    "start_time": "2022-08-22T10:42:09.088Z"
   },
   {
    "duration": 4,
    "start_time": "2022-08-22T10:42:09.110Z"
   },
   {
    "duration": 15,
    "start_time": "2022-08-22T10:42:09.116Z"
   },
   {
    "duration": 7,
    "start_time": "2022-08-22T10:42:09.132Z"
   },
   {
    "duration": 4,
    "start_time": "2022-08-22T10:42:09.142Z"
   },
   {
    "duration": 6,
    "start_time": "2022-08-22T10:42:09.147Z"
   },
   {
    "duration": 15,
    "start_time": "2022-08-22T10:42:09.154Z"
   },
   {
    "duration": 8,
    "start_time": "2022-08-22T10:42:09.170Z"
   },
   {
    "duration": 10,
    "start_time": "2022-08-22T10:42:09.180Z"
   },
   {
    "duration": 25,
    "start_time": "2022-08-22T10:42:09.192Z"
   },
   {
    "duration": 4,
    "start_time": "2022-08-22T10:42:09.218Z"
   },
   {
    "duration": 15,
    "start_time": "2022-08-22T10:42:09.224Z"
   },
   {
    "duration": 232,
    "start_time": "2022-08-22T10:42:09.240Z"
   },
   {
    "duration": 10,
    "start_time": "2022-08-22T10:42:09.474Z"
   },
   {
    "duration": 32,
    "start_time": "2022-08-22T10:42:09.485Z"
   },
   {
    "duration": 12,
    "start_time": "2022-08-22T10:42:09.519Z"
   },
   {
    "duration": 15,
    "start_time": "2022-08-22T10:42:09.533Z"
   },
   {
    "duration": 18,
    "start_time": "2022-08-22T10:42:09.549Z"
   },
   {
    "duration": 25,
    "start_time": "2022-08-22T10:42:09.568Z"
   },
   {
    "duration": 297,
    "start_time": "2022-08-22T10:42:09.594Z"
   },
   {
    "duration": 16,
    "start_time": "2022-08-22T10:42:09.893Z"
   },
   {
    "duration": 17,
    "start_time": "2022-08-22T10:42:09.910Z"
   },
   {
    "duration": 16,
    "start_time": "2022-08-22T10:42:09.928Z"
   },
   {
    "duration": 232,
    "start_time": "2022-08-22T10:42:09.946Z"
   },
   {
    "duration": 33,
    "start_time": "2022-08-22T10:42:10.180Z"
   },
   {
    "duration": 291,
    "start_time": "2022-08-22T10:42:10.215Z"
   },
   {
    "duration": 264,
    "start_time": "2022-08-22T10:42:10.508Z"
   },
   {
    "duration": 4,
    "start_time": "2022-08-22T10:42:10.774Z"
   },
   {
    "duration": 24,
    "start_time": "2022-08-22T10:42:10.779Z"
   },
   {
    "duration": 22,
    "start_time": "2022-08-22T10:42:10.805Z"
   },
   {
    "duration": 64,
    "start_time": "2022-08-22T10:42:10.828Z"
   },
   {
    "duration": 11,
    "start_time": "2022-08-22T10:42:10.895Z"
   },
   {
    "duration": 180,
    "start_time": "2022-08-22T10:42:10.907Z"
   },
   {
    "duration": 11,
    "start_time": "2022-08-22T10:42:11.088Z"
   },
   {
    "duration": 149,
    "start_time": "2022-08-22T10:42:11.110Z"
   },
   {
    "duration": 10,
    "start_time": "2022-08-22T10:42:11.261Z"
   },
   {
    "duration": 222,
    "start_time": "2022-08-22T10:42:11.272Z"
   },
   {
    "duration": 28,
    "start_time": "2022-08-22T10:42:11.496Z"
   },
   {
    "duration": 21,
    "start_time": "2022-08-22T10:42:11.526Z"
   },
   {
    "duration": 26,
    "start_time": "2022-08-22T10:42:11.549Z"
   },
   {
    "duration": 43,
    "start_time": "2022-08-22T10:42:11.576Z"
   },
   {
    "duration": 10,
    "start_time": "2022-08-22T10:42:11.621Z"
   },
   {
    "duration": 119,
    "start_time": "2022-08-22T10:42:11.632Z"
   },
   {
    "duration": 13,
    "start_time": "2022-08-22T10:42:30.180Z"
   }
  ],
  "celltoolbar": "Отсутствует",
  "kernelspec": {
   "display_name": "Python 3 (ipykernel)",
   "language": "python",
   "name": "python3"
  },
  "language_info": {
   "codemirror_mode": {
    "name": "ipython",
    "version": 3
   },
   "file_extension": ".py",
   "mimetype": "text/x-python",
   "name": "python",
   "nbconvert_exporter": "python",
   "pygments_lexer": "ipython3",
   "version": "3.9.7"
  },
  "toc": {
   "base_numbering": 1,
   "nav_menu": {
    "height": "355.733px",
    "width": "833.733px"
   },
   "number_sections": false,
   "sideBar": true,
   "skip_h1_title": false,
   "title_cell": "Содержание",
   "title_sidebar": "Содержание",
   "toc_cell": false,
   "toc_position": {
    "height": "913.133px",
    "left": "429px",
    "top": "110.2px",
    "width": "425.6px"
   },
   "toc_section_display": true,
   "toc_window_display": true
  },
  "widgets": {
   "application/vnd.jupyter.widget-state+json": {
    "state": {},
    "version_major": 2,
    "version_minor": 0
   }
  }
 },
 "nbformat": 4,
 "nbformat_minor": 2
}
