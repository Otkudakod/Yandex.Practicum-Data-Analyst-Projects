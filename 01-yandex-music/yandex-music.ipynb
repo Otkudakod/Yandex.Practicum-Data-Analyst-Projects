{
 "cells": [
  {
   "cell_type": "markdown",
   "metadata": {
    "id": "E0vqbgi9ay0H"
   },
   "source": [
    "# Яндекс.Музыка"
   ]
  },
  {
   "cell_type": "markdown",
   "metadata": {
    "id": "VUC88oWjTJw2"
   },
   "source": [
    "Сравнение Москвы и Петербурга окружено мифами. Например:\n",
    " * Москва — мегаполис, подчинённый жёсткому ритму рабочей недели;\n",
    " * Петербург — культурная столица, со своими вкусами.\n",
    "\n",
    "На данных Яндекс.Музыки сравним поведение пользователей двух столиц.\n",
    "\n",
    "**Цель исследования** — проверить три гипотезы:\n",
    "1. Активность пользователей зависит от дня недели. Причём в Москве и Петербурге это проявляется по-разному.\n",
    "2. В понедельник утром в Москве преобладают одни жанры, а в Петербурге — другие. Так же и вечером пятницы преобладают разные жанры — в зависимости от города. \n",
    "3. Москва и Петербург предпочитают разные жанры музыки. В Москве чаще слушают поп-музыку, в Петербурге — русский рэп.\n",
    "\n",
    "**Ход исследования**\n",
    "\n",
    "Данные о поведении лежат в файле `yandex_music_project.csv`. О качестве данных ничего не известно. Поэтому перед проверкой гипотез понадобится обзор данных. \n",
    "\n",
    "Проверим данные на ошибки и оценим их вляние на исследование. Затем, на этапе предобработки исправим самые критичные ошибки данных.\n",
    " \n",
    "Таким образом, исследование пройдёт в три этапа:\n",
    " 1. Обзор данных.\n",
    " 2. Предобработка данных.\n",
    " 3. Проверка гипотез.\n",
    "\n"
   ]
  },
  {
   "cell_type": "markdown",
   "metadata": {
    "id": "Ml1hmfXC_Zcs"
   },
   "source": [
    "## Обзор данных\n",
    "\n"
   ]
  },
  {
   "cell_type": "code",
   "execution_count": 1,
   "metadata": {
    "id": "AXN7PHPN_Zcs"
   },
   "outputs": [],
   "source": [
    "# импорт библиотеки pandas\n",
    "import pandas as pd"
   ]
  },
  {
   "cell_type": "code",
   "execution_count": 2,
   "metadata": {
    "id": "fFVu7vqh_Zct",
    "scrolled": true
   },
   "outputs": [],
   "source": [
    "# чтение файла с данными и сохранение в df\n",
    "df = pd.read_csv('/datasets/yandex_music_project.csv')"
   ]
  },
  {
   "cell_type": "code",
   "execution_count": 3,
   "metadata": {
    "id": "oWTVX3gW_Zct"
   },
   "outputs": [
    {
     "data": {
      "text/html": [
       "<div>\n",
       "<style scoped>\n",
       "    .dataframe tbody tr th:only-of-type {\n",
       "        vertical-align: middle;\n",
       "    }\n",
       "\n",
       "    .dataframe tbody tr th {\n",
       "        vertical-align: top;\n",
       "    }\n",
       "\n",
       "    .dataframe thead th {\n",
       "        text-align: right;\n",
       "    }\n",
       "</style>\n",
       "<table border=\"1\" class=\"dataframe\">\n",
       "  <thead>\n",
       "    <tr style=\"text-align: right;\">\n",
       "      <th></th>\n",
       "      <th>userID</th>\n",
       "      <th>Track</th>\n",
       "      <th>artist</th>\n",
       "      <th>genre</th>\n",
       "      <th>City</th>\n",
       "      <th>time</th>\n",
       "      <th>Day</th>\n",
       "    </tr>\n",
       "  </thead>\n",
       "  <tbody>\n",
       "    <tr>\n",
       "      <th>0</th>\n",
       "      <td>FFB692EC</td>\n",
       "      <td>Kamigata To Boots</td>\n",
       "      <td>The Mass Missile</td>\n",
       "      <td>rock</td>\n",
       "      <td>Saint-Petersburg</td>\n",
       "      <td>20:28:33</td>\n",
       "      <td>Wednesday</td>\n",
       "    </tr>\n",
       "    <tr>\n",
       "      <th>1</th>\n",
       "      <td>55204538</td>\n",
       "      <td>Delayed Because of Accident</td>\n",
       "      <td>Andreas Rönnberg</td>\n",
       "      <td>rock</td>\n",
       "      <td>Moscow</td>\n",
       "      <td>14:07:09</td>\n",
       "      <td>Friday</td>\n",
       "    </tr>\n",
       "    <tr>\n",
       "      <th>2</th>\n",
       "      <td>20EC38</td>\n",
       "      <td>Funiculì funiculà</td>\n",
       "      <td>Mario Lanza</td>\n",
       "      <td>pop</td>\n",
       "      <td>Saint-Petersburg</td>\n",
       "      <td>20:58:07</td>\n",
       "      <td>Wednesday</td>\n",
       "    </tr>\n",
       "    <tr>\n",
       "      <th>3</th>\n",
       "      <td>A3DD03C9</td>\n",
       "      <td>Dragons in the Sunset</td>\n",
       "      <td>Fire + Ice</td>\n",
       "      <td>folk</td>\n",
       "      <td>Saint-Petersburg</td>\n",
       "      <td>08:37:09</td>\n",
       "      <td>Monday</td>\n",
       "    </tr>\n",
       "    <tr>\n",
       "      <th>4</th>\n",
       "      <td>E2DC1FAE</td>\n",
       "      <td>Soul People</td>\n",
       "      <td>Space Echo</td>\n",
       "      <td>dance</td>\n",
       "      <td>Moscow</td>\n",
       "      <td>08:34:34</td>\n",
       "      <td>Monday</td>\n",
       "    </tr>\n",
       "    <tr>\n",
       "      <th>5</th>\n",
       "      <td>842029A1</td>\n",
       "      <td>Преданная</td>\n",
       "      <td>IMPERVTOR</td>\n",
       "      <td>rusrap</td>\n",
       "      <td>Saint-Petersburg</td>\n",
       "      <td>13:09:41</td>\n",
       "      <td>Friday</td>\n",
       "    </tr>\n",
       "    <tr>\n",
       "      <th>6</th>\n",
       "      <td>4CB90AA5</td>\n",
       "      <td>True</td>\n",
       "      <td>Roman Messer</td>\n",
       "      <td>dance</td>\n",
       "      <td>Moscow</td>\n",
       "      <td>13:00:07</td>\n",
       "      <td>Wednesday</td>\n",
       "    </tr>\n",
       "    <tr>\n",
       "      <th>7</th>\n",
       "      <td>F03E1C1F</td>\n",
       "      <td>Feeling This Way</td>\n",
       "      <td>Polina Griffith</td>\n",
       "      <td>dance</td>\n",
       "      <td>Moscow</td>\n",
       "      <td>20:47:49</td>\n",
       "      <td>Wednesday</td>\n",
       "    </tr>\n",
       "    <tr>\n",
       "      <th>8</th>\n",
       "      <td>8FA1D3BE</td>\n",
       "      <td>И вновь продолжается бой</td>\n",
       "      <td>NaN</td>\n",
       "      <td>ruspop</td>\n",
       "      <td>Moscow</td>\n",
       "      <td>09:17:40</td>\n",
       "      <td>Friday</td>\n",
       "    </tr>\n",
       "    <tr>\n",
       "      <th>9</th>\n",
       "      <td>E772D5C0</td>\n",
       "      <td>Pessimist</td>\n",
       "      <td>NaN</td>\n",
       "      <td>dance</td>\n",
       "      <td>Saint-Petersburg</td>\n",
       "      <td>21:20:49</td>\n",
       "      <td>Wednesday</td>\n",
       "    </tr>\n",
       "    <tr>\n",
       "      <th>10</th>\n",
       "      <td>BC5A3A29</td>\n",
       "      <td>Gool la Mita</td>\n",
       "      <td>Shireen Abdul Wahab</td>\n",
       "      <td>world</td>\n",
       "      <td>Moscow</td>\n",
       "      <td>14:08:42</td>\n",
       "      <td>Monday</td>\n",
       "    </tr>\n",
       "  </tbody>\n",
       "</table>\n",
       "</div>"
      ],
      "text/plain": [
       "      userID                        Track               artist   genre  \\\n",
       "0   FFB692EC            Kamigata To Boots     The Mass Missile    rock   \n",
       "1   55204538  Delayed Because of Accident     Andreas Rönnberg    rock   \n",
       "2     20EC38            Funiculì funiculà          Mario Lanza     pop   \n",
       "3   A3DD03C9        Dragons in the Sunset           Fire + Ice    folk   \n",
       "4   E2DC1FAE                  Soul People           Space Echo   dance   \n",
       "5   842029A1                    Преданная            IMPERVTOR  rusrap   \n",
       "6   4CB90AA5                         True         Roman Messer   dance   \n",
       "7   F03E1C1F             Feeling This Way      Polina Griffith   dance   \n",
       "8   8FA1D3BE     И вновь продолжается бой                  NaN  ruspop   \n",
       "9   E772D5C0                    Pessimist                  NaN   dance   \n",
       "10  BC5A3A29                 Gool la Mita  Shireen Abdul Wahab   world   \n",
       "\n",
       "              City        time        Day  \n",
       "0   Saint-Petersburg  20:28:33  Wednesday  \n",
       "1             Moscow  14:07:09     Friday  \n",
       "2   Saint-Petersburg  20:58:07  Wednesday  \n",
       "3   Saint-Petersburg  08:37:09     Monday  \n",
       "4             Moscow  08:34:34     Monday  \n",
       "5   Saint-Petersburg  13:09:41     Friday  \n",
       "6             Moscow  13:00:07  Wednesday  \n",
       "7             Moscow  20:47:49  Wednesday  \n",
       "8             Moscow  09:17:40     Friday  \n",
       "9   Saint-Petersburg  21:20:49  Wednesday  \n",
       "10            Moscow  14:08:42     Monday  "
      ]
     },
     "execution_count": 3,
     "metadata": {},
     "output_type": "execute_result"
    }
   ],
   "source": [
    "# получение первых 10 строк таблицы df\n",
    "df.head(11)"
   ]
  },
  {
   "cell_type": "code",
   "execution_count": 4,
   "metadata": {
    "id": "DSf2kIb-_Zct"
   },
   "outputs": [
    {
     "name": "stdout",
     "output_type": "stream",
     "text": [
      "<class 'pandas.core.frame.DataFrame'>\n",
      "RangeIndex: 65079 entries, 0 to 65078\n",
      "Data columns (total 7 columns):\n",
      " #   Column    Non-Null Count  Dtype \n",
      "---  ------    --------------  ----- \n",
      " 0     userID  65079 non-null  object\n",
      " 1   Track     63848 non-null  object\n",
      " 2   artist    57876 non-null  object\n",
      " 3   genre     63881 non-null  object\n",
      " 4     City    65079 non-null  object\n",
      " 5   time      65079 non-null  object\n",
      " 6   Day       65079 non-null  object\n",
      "dtypes: object(7)\n",
      "memory usage: 3.5+ MB\n"
     ]
    }
   ],
   "source": [
    "# получение общей информации о данных в таблице df\n",
    "df.info()"
   ]
  },
  {
   "cell_type": "markdown",
   "metadata": {
    "id": "TaQ2Iwbr_Zct"
   },
   "source": [
    "Итак, в таблице семь столбцов. Тип данных во всех столбцах — `object`.\n",
    "\n",
    "Согласно документации к данным:\n",
    "* `userID` — идентификатор пользователя;\n",
    "* `Track` — название трека;  \n",
    "* `artist` — имя исполнителя;\n",
    "* `genre` — название жанра;\n",
    "* `City` — город пользователя;\n",
    "* `time` — время начала прослушивания;\n",
    "* `Day` — день недели.\n",
    "\n",
    "В названиях колонок видны три нарушения стиля:\n",
    "1. Строчные буквы сочетаются с прописными.\n",
    "2. Встречаются пробелы.\n",
    "3. Найдите ещё одну проблему в названии колонок и опишите её в этом пункте. \n",
    "\n",
    "\n",
    "Количество значений в столбцах различается. Значит, в данных есть пропущенные значения.\n"
   ]
  },
  {
   "cell_type": "markdown",
   "metadata": {
    "id": "MCB6-dXG_Zct"
   },
   "source": [
    "**Выводы**\n",
    "\n",
    "Таблица содержит информацию о прослушанных треках, где каждая строка представляет данные об определенном треке. Некоторые столбцы описывают сами композиции, включая название, исполнителя и жанр, в то время как остальные столбцы содержат информацию о пользователях, такую как их город проживания и время прослушивания музыки.\n",
    "\n",
    "В целом, имеющихся данных достаточно для проверки гипотез. Однако встречаются пропуски в данных, а также некоторые столбцы имеют несоответствия хорошему стилю.\n",
    "\n",
    "Для продолжения работы необходимо решить проблемы, связанные с данными."
   ]
  },
  {
   "cell_type": "markdown",
   "metadata": {
    "id": "SjYF6Ub9_Zct"
   },
   "source": [
    "## Предобработка данных\n",
    "Заменим стиль в заголовках столбцов, исключим пропуски. Затем проверим данные на дубликаты."
   ]
  },
  {
   "cell_type": "markdown",
   "metadata": {
    "id": "dIaKXr29_Zct"
   },
   "source": [
    "### Стиль заголовков"
   ]
  },
  {
   "cell_type": "code",
   "execution_count": 5,
   "metadata": {
    "id": "oKOTdF_Q_Zct"
   },
   "outputs": [
    {
     "name": "stdout",
     "output_type": "stream",
     "text": [
      "Index(['  userID', 'Track', 'artist', 'genre', '  City  ', 'time', 'Day'], dtype='object')\n"
     ]
    }
   ],
   "source": [
    "# перечень названий столбцов таблицы df\n",
    "print(df.columns)"
   ]
  },
  {
   "cell_type": "markdown",
   "metadata": {
    "id": "zj5534cv_Zct"
   },
   "source": [
    "Переименуем колонки так:\n",
    "* `'  userID'` → `'user_id'`;\n",
    "* `'Track'` → `'track'`;\n",
    "* `'  City  '` → `'city'`;\n",
    "* `'Day'` → `'day'`."
   ]
  },
  {
   "cell_type": "code",
   "execution_count": 6,
   "metadata": {
    "id": "ISlFqs5y_Zct"
   },
   "outputs": [],
   "source": [
    "# переименование столбцов\n",
    "df = df.rename(columns = {'  userID': 'user_id', 'Track': 'track', '  City  ': 'city', 'Day': 'day'})"
   ]
  },
  {
   "cell_type": "code",
   "execution_count": 7,
   "metadata": {
    "id": "d4NOAmTW_Zct"
   },
   "outputs": [
    {
     "data": {
      "text/plain": [
       "Index(['user_id', 'track', 'artist', 'genre', 'city', 'time', 'day'], dtype='object')"
      ]
     },
     "execution_count": 7,
     "metadata": {},
     "output_type": "execute_result"
    }
   ],
   "source": [
    "# проверка результатов - перечень названий столбцов\n",
    "df.columns"
   ]
  },
  {
   "cell_type": "markdown",
   "metadata": {
    "id": "5ISfbcfY_Zct"
   },
   "source": [
    "### Пропуски значений"
   ]
  },
  {
   "cell_type": "code",
   "execution_count": 8,
   "metadata": {
    "id": "RskX29qr_Zct",
    "scrolled": true
   },
   "outputs": [
    {
     "data": {
      "text/plain": [
       "user_id       0\n",
       "track      1231\n",
       "artist     7203\n",
       "genre      1198\n",
       "city          0\n",
       "time          0\n",
       "day           0\n",
       "dtype: int64"
      ]
     },
     "execution_count": 8,
     "metadata": {},
     "output_type": "execute_result"
    }
   ],
   "source": [
    "# подсчёт пропусков\n",
    "df.isna().sum()"
   ]
  },
  {
   "cell_type": "markdown",
   "metadata": {
    "id": "qubhgnlO_Zct"
   },
   "source": [
    "Не все пропущенные значения влияют на исследование. Так в `track` и `artist` пропуски не важны для вашей работы. Достаточно заменить их явными обозначениями.\n",
    "\n",
    "Но пропуски в `genre` могут помешать сравнению музыкальных вкусов в Москве и Санкт-Петербурге. На практике было бы правильно установить причину пропусков и восстановить данные. Такой возможности нет в учебном проекте. Придётся:\n",
    "* заполнить и эти пропуски явными обозначениями,\n",
    "* оценить, насколько они повредят расчётам. "
   ]
  },
  {
   "cell_type": "markdown",
   "metadata": {
    "id": "fSv2laPA_Zct"
   },
   "source": [
    "Замените пропущенные значения в столбцах `track`, `artist` и `genre` на строку `'unknown'`. Для этого создайте список `columns_to_replace`, переберите его элементы циклом `for` и для каждого столбца выполните замену пропущенных значений:"
   ]
  },
  {
   "cell_type": "code",
   "execution_count": 9,
   "metadata": {
    "id": "KplB5qWs_Zct"
   },
   "outputs": [],
   "source": [
    "# перебор названий столбцов в цикле и замена пропущенных значений на 'unknown'\n",
    "columns_to_replace = ['track', 'artist', 'genre']\n",
    "\n",
    "for value in columns_to_replace:\n",
    "    df[value] = df[value].fillna('unknown')  "
   ]
  },
  {
   "cell_type": "code",
   "execution_count": 10,
   "metadata": {
    "id": "Tq4nYRX4_Zct"
   },
   "outputs": [
    {
     "data": {
      "text/plain": [
       "user_id    0\n",
       "track      0\n",
       "artist     0\n",
       "genre      0\n",
       "city       0\n",
       "time       0\n",
       "day        0\n",
       "dtype: int64"
      ]
     },
     "execution_count": 10,
     "metadata": {},
     "output_type": "execute_result"
    }
   ],
   "source": [
    "# подсчёт пропусков после замены\n",
    "df.isna().sum()"
   ]
  },
  {
   "cell_type": "markdown",
   "metadata": {
    "id": "BWKRtBJ3_Zct"
   },
   "source": [
    "### Дубликаты"
   ]
  },
  {
   "cell_type": "code",
   "execution_count": 11,
   "metadata": {
    "id": "36eES_S0_Zct"
   },
   "outputs": [
    {
     "data": {
      "text/plain": [
       "3826"
      ]
     },
     "execution_count": 11,
     "metadata": {},
     "output_type": "execute_result"
    }
   ],
   "source": [
    "# подсчёт явных дубликатов\n",
    "df.duplicated().sum()"
   ]
  },
  {
   "cell_type": "code",
   "execution_count": 12,
   "metadata": {
    "id": "exFHq6tt_Zct"
   },
   "outputs": [],
   "source": [
    "# удаление явных дубликатов (с удалением старых индексов и формированием новых)\n",
    "df = df.drop_duplicates().reset_index(drop=True)"
   ]
  },
  {
   "cell_type": "code",
   "execution_count": 13,
   "metadata": {
    "id": "-8PuNWQ0_Zct"
   },
   "outputs": [
    {
     "data": {
      "text/plain": [
       "0"
      ]
     },
     "execution_count": 13,
     "metadata": {},
     "output_type": "execute_result"
    }
   ],
   "source": [
    "# проверка на отсутствие дубликатов\n",
    "df.duplicated().sum()"
   ]
  },
  {
   "cell_type": "markdown",
   "metadata": {
    "id": "QlFBsxAr_Zct"
   },
   "source": [
    "Теперь избавимся от неявных дубликатов в колонке `genre`. Например, название одного и того же жанра может быть записано немного по-разному. Такие ошибки тоже повлияют на результат исследования."
   ]
  },
  {
   "cell_type": "markdown",
   "metadata": {
    "id": "eSjWwsOh_Zct"
   },
   "source": [
    "Выведем на экран список уникальных названий жанров, отсортированный в алфавитном порядке. Для этого:\n",
    "* извлечем нужный столбец датафрейма, \n",
    "* применим к нему метод сортировки,\n",
    "* для отсортированного столбца вызовем метод, который вернёт уникальные значения из столбца."
   ]
  },
  {
   "cell_type": "code",
   "execution_count": 14,
   "metadata": {
    "id": "JIUcqzZN_Zct"
   },
   "outputs": [
    {
     "data": {
      "text/plain": [
       "array(['acid', 'acoustic', 'action', 'adult', 'africa', 'afrikaans',\n",
       "       'alternative', 'alternativepunk', 'ambient', 'americana',\n",
       "       'animated', 'anime', 'arabesk', 'arabic', 'arena',\n",
       "       'argentinetango', 'art', 'audiobook', 'author', 'avantgarde',\n",
       "       'axé', 'baile', 'balkan', 'beats', 'bigroom', 'black', 'bluegrass',\n",
       "       'blues', 'bollywood', 'bossa', 'brazilian', 'breakbeat', 'breaks',\n",
       "       'broadway', 'cantautori', 'cantopop', 'canzone', 'caribbean',\n",
       "       'caucasian', 'celtic', 'chamber', 'chanson', 'children', 'chill',\n",
       "       'chinese', 'choral', 'christian', 'christmas', 'classical',\n",
       "       'classicmetal', 'club', 'colombian', 'comedy', 'conjazz',\n",
       "       'contemporary', 'country', 'cuban', 'dance', 'dancehall',\n",
       "       'dancepop', 'dark', 'death', 'deep', 'deutschrock', 'deutschspr',\n",
       "       'dirty', 'disco', 'dnb', 'documentary', 'downbeat', 'downtempo',\n",
       "       'drum', 'dub', 'dubstep', 'eastern', 'easy', 'electronic',\n",
       "       'electropop', 'emo', 'entehno', 'epicmetal', 'estrada', 'ethnic',\n",
       "       'eurofolk', 'european', 'experimental', 'extrememetal', 'fado',\n",
       "       'fairytail', 'film', 'fitness', 'flamenco', 'folk', 'folklore',\n",
       "       'folkmetal', 'folkrock', 'folktronica', 'forró', 'frankreich',\n",
       "       'französisch', 'french', 'funk', 'future', 'gangsta', 'garage',\n",
       "       'german', 'ghazal', 'gitarre', 'glitch', 'gospel', 'gothic',\n",
       "       'grime', 'grunge', 'gypsy', 'handsup', \"hard'n'heavy\", 'hardcore',\n",
       "       'hardstyle', 'hardtechno', 'hip', 'hip-hop', 'hiphop',\n",
       "       'historisch', 'holiday', 'hop', 'horror', 'house', 'hymn', 'idm',\n",
       "       'independent', 'indian', 'indie', 'indipop', 'industrial',\n",
       "       'inspirational', 'instrumental', 'international', 'irish', 'jam',\n",
       "       'japanese', 'jazz', 'jewish', 'jpop', 'jungle', 'k-pop',\n",
       "       'karadeniz', 'karaoke', 'kayokyoku', 'korean', 'laiko', 'latin',\n",
       "       'latino', 'leftfield', 'local', 'lounge', 'loungeelectronic',\n",
       "       'lovers', 'malaysian', 'mandopop', 'marschmusik', 'meditative',\n",
       "       'mediterranean', 'melodic', 'metal', 'metalcore', 'mexican',\n",
       "       'middle', 'minimal', 'miscellaneous', 'modern', 'mood', 'mpb',\n",
       "       'muslim', 'native', 'neoklassik', 'neue', 'new', 'newage',\n",
       "       'newwave', 'nu', 'nujazz', 'numetal', 'oceania', 'old', 'opera',\n",
       "       'orchestral', 'other', 'piano', 'podcasts', 'pop', 'popdance',\n",
       "       'popelectronic', 'popeurodance', 'poprussian', 'post',\n",
       "       'posthardcore', 'postrock', 'power', 'progmetal', 'progressive',\n",
       "       'psychedelic', 'punjabi', 'punk', 'quebecois', 'ragga', 'ram',\n",
       "       'rancheras', 'rap', 'rave', 'reggae', 'reggaeton', 'regional',\n",
       "       'relax', 'religious', 'retro', 'rhythm', 'rnb', 'rnr', 'rock',\n",
       "       'rockabilly', 'rockalternative', 'rockindie', 'rockother',\n",
       "       'romance', 'roots', 'ruspop', 'rusrap', 'rusrock', 'russian',\n",
       "       'salsa', 'samba', 'scenic', 'schlager', 'self', 'sertanejo',\n",
       "       'shanson', 'shoegazing', 'showtunes', 'singer', 'ska', 'skarock',\n",
       "       'slow', 'smooth', 'soft', 'soul', 'soulful', 'sound', 'soundtrack',\n",
       "       'southern', 'specialty', 'speech', 'spiritual', 'sport',\n",
       "       'stonerrock', 'surf', 'swing', 'synthpop', 'synthrock',\n",
       "       'sängerportrait', 'tango', 'tanzorchester', 'taraftar', 'tatar',\n",
       "       'tech', 'techno', 'teen', 'thrash', 'top', 'traditional',\n",
       "       'tradjazz', 'trance', 'tribal', 'trip', 'triphop', 'tropical',\n",
       "       'türk', 'türkçe', 'ukrrock', 'unknown', 'urban', 'uzbek',\n",
       "       'variété', 'vi', 'videogame', 'vocal', 'western', 'world',\n",
       "       'worldbeat', 'ïîï', 'электроника'], dtype=object)"
      ]
     },
     "execution_count": 14,
     "metadata": {},
     "output_type": "execute_result"
    }
   ],
   "source": [
    "# Просмотр уникальных названий жанров\n",
    "df['genre'].sort_values().unique()"
   ]
  },
  {
   "cell_type": "markdown",
   "metadata": {
    "id": "qej-Qmuo_Zct"
   },
   "source": [
    "Посмотрим список и найдем неявные дубликаты названия `hiphop`. Это могут быть названия с ошибками или альтернативные названия того же жанра.\n",
    "\n",
    "Есть следующие неявные дубликаты:\n",
    "* *hip*,\n",
    "* *hop*,\n",
    "* *hip-hop*.\n",
    "\n",
    "Чтобы очистить от них таблицу, напишем функцию `replace_wrong_genres()` с двумя параметрами: \n",
    "* `wrong_genres` — список дубликатов,\n",
    "* `correct_genre` — строка с правильным значением.\n",
    "\n",
    "Функция должна исправить колонку `genre` в таблице `df`: заменить каждое значение из списка `wrong_genres` на значение из `correct_genre`."
   ]
  },
  {
   "cell_type": "code",
   "execution_count": 41,
   "metadata": {
    "id": "ErNDkmns_Zct"
   },
   "outputs": [],
   "source": [
    "# Функция для замены неявных дубликатов\n",
    "def replace_wrong_genres(wrong_genres, correct_genre):\n",
    "    for wrong_genre in wrong_genres:\n",
    "        df['genre'] = df['genre'].replace(wrong_genre, correct_genre)\n"
   ]
  },
  {
   "cell_type": "code",
   "execution_count": 16,
   "metadata": {
    "id": "YN5i2hpmSo09"
   },
   "outputs": [],
   "source": [
    "# Устранение неявных дубликатов\n",
    "wrong_genres = ['hip', 'hop', 'hip-hop']\n",
    "correct_genre = 'hiphop'\n",
    "\n",
    "replace_wrong_genres(wrong_genres, correct_genre)"
   ]
  },
  {
   "cell_type": "code",
   "execution_count": 17,
   "metadata": {
    "id": "wvixALnFG15m"
   },
   "outputs": [
    {
     "data": {
      "text/plain": [
       "array(['acid', 'acoustic', 'action', 'adult', 'africa', 'afrikaans',\n",
       "       'alternative', 'alternativepunk', 'ambient', 'americana',\n",
       "       'animated', 'anime', 'arabesk', 'arabic', 'arena',\n",
       "       'argentinetango', 'art', 'audiobook', 'author', 'avantgarde',\n",
       "       'axé', 'baile', 'balkan', 'beats', 'bigroom', 'black', 'bluegrass',\n",
       "       'blues', 'bollywood', 'bossa', 'brazilian', 'breakbeat', 'breaks',\n",
       "       'broadway', 'cantautori', 'cantopop', 'canzone', 'caribbean',\n",
       "       'caucasian', 'celtic', 'chamber', 'chanson', 'children', 'chill',\n",
       "       'chinese', 'choral', 'christian', 'christmas', 'classical',\n",
       "       'classicmetal', 'club', 'colombian', 'comedy', 'conjazz',\n",
       "       'contemporary', 'country', 'cuban', 'dance', 'dancehall',\n",
       "       'dancepop', 'dark', 'death', 'deep', 'deutschrock', 'deutschspr',\n",
       "       'dirty', 'disco', 'dnb', 'documentary', 'downbeat', 'downtempo',\n",
       "       'drum', 'dub', 'dubstep', 'eastern', 'easy', 'electronic',\n",
       "       'electropop', 'emo', 'entehno', 'epicmetal', 'estrada', 'ethnic',\n",
       "       'eurofolk', 'european', 'experimental', 'extrememetal', 'fado',\n",
       "       'fairytail', 'film', 'fitness', 'flamenco', 'folk', 'folklore',\n",
       "       'folkmetal', 'folkrock', 'folktronica', 'forró', 'frankreich',\n",
       "       'französisch', 'french', 'funk', 'future', 'gangsta', 'garage',\n",
       "       'german', 'ghazal', 'gitarre', 'glitch', 'gospel', 'gothic',\n",
       "       'grime', 'grunge', 'gypsy', 'handsup', \"hard'n'heavy\", 'hardcore',\n",
       "       'hardstyle', 'hardtechno', 'hiphop', 'historisch', 'holiday',\n",
       "       'horror', 'house', 'hymn', 'idm', 'independent', 'indian', 'indie',\n",
       "       'indipop', 'industrial', 'inspirational', 'instrumental',\n",
       "       'international', 'irish', 'jam', 'japanese', 'jazz', 'jewish',\n",
       "       'jpop', 'jungle', 'k-pop', 'karadeniz', 'karaoke', 'kayokyoku',\n",
       "       'korean', 'laiko', 'latin', 'latino', 'leftfield', 'local',\n",
       "       'lounge', 'loungeelectronic', 'lovers', 'malaysian', 'mandopop',\n",
       "       'marschmusik', 'meditative', 'mediterranean', 'melodic', 'metal',\n",
       "       'metalcore', 'mexican', 'middle', 'minimal', 'miscellaneous',\n",
       "       'modern', 'mood', 'mpb', 'muslim', 'native', 'neoklassik', 'neue',\n",
       "       'new', 'newage', 'newwave', 'nu', 'nujazz', 'numetal', 'oceania',\n",
       "       'old', 'opera', 'orchestral', 'other', 'piano', 'podcasts', 'pop',\n",
       "       'popdance', 'popelectronic', 'popeurodance', 'poprussian', 'post',\n",
       "       'posthardcore', 'postrock', 'power', 'progmetal', 'progressive',\n",
       "       'psychedelic', 'punjabi', 'punk', 'quebecois', 'ragga', 'ram',\n",
       "       'rancheras', 'rap', 'rave', 'reggae', 'reggaeton', 'regional',\n",
       "       'relax', 'religious', 'retro', 'rhythm', 'rnb', 'rnr', 'rock',\n",
       "       'rockabilly', 'rockalternative', 'rockindie', 'rockother',\n",
       "       'romance', 'roots', 'ruspop', 'rusrap', 'rusrock', 'russian',\n",
       "       'salsa', 'samba', 'scenic', 'schlager', 'self', 'sertanejo',\n",
       "       'shanson', 'shoegazing', 'showtunes', 'singer', 'ska', 'skarock',\n",
       "       'slow', 'smooth', 'soft', 'soul', 'soulful', 'sound', 'soundtrack',\n",
       "       'southern', 'specialty', 'speech', 'spiritual', 'sport',\n",
       "       'stonerrock', 'surf', 'swing', 'synthpop', 'synthrock',\n",
       "       'sängerportrait', 'tango', 'tanzorchester', 'taraftar', 'tatar',\n",
       "       'tech', 'techno', 'teen', 'thrash', 'top', 'traditional',\n",
       "       'tradjazz', 'trance', 'tribal', 'trip', 'triphop', 'tropical',\n",
       "       'türk', 'türkçe', 'ukrrock', 'unknown', 'urban', 'uzbek',\n",
       "       'variété', 'vi', 'videogame', 'vocal', 'western', 'world',\n",
       "       'worldbeat', 'ïîï', 'электроника'], dtype=object)"
      ]
     },
     "execution_count": 17,
     "metadata": {},
     "output_type": "execute_result"
    }
   ],
   "source": [
    "# Проверка на неявные дубликаты\n",
    "df['genre'].sort_values().unique()"
   ]
  },
  {
   "cell_type": "markdown",
   "metadata": {
    "id": "jz6a9-7HQUDd"
   },
   "source": [
    "**Выводы**\n",
    "\n",
    "Предобработка обнаружила три проблемы в данных:\n",
    "\n",
    "- нарушения в стиле заголовков,\n",
    "- пропущенные значения,\n",
    "- дубликаты — явные и неявные.\n",
    "\n",
    "Исправил заголовки, чтобы упростить работу с таблицей. Без дубликатов исследование станет более точным.\n",
    "\n",
    "Пропущенные значения заменил на `'unknown'`. Ещё предстоит увидеть, не повредят ли исследованию пропуски в колонке `genre`.\n",
    "\n",
    "Теперь можно перейти к проверке гипотез. "
   ]
  },
  {
   "cell_type": "markdown",
   "metadata": {
    "id": "WttZHXH0SqKk"
   },
   "source": [
    "## Проверка гипотез"
   ]
  },
  {
   "cell_type": "markdown",
   "metadata": {
    "id": "Im936VVi_Zcu"
   },
   "source": [
    "### Сравнение поведения пользователей двух столиц"
   ]
  },
  {
   "cell_type": "markdown",
   "metadata": {
    "id": "nwt_MuaL_Zcu"
   },
   "source": [
    "Первая гипотеза утверждает, что пользователи по-разному слушают музыку в Москве и Санкт-Петербурге. Проверю это предположение по данным о трёх днях недели — понедельнике, среде и пятнице. Для этого:\n",
    "\n",
    "* Разделю пользователей Москвы и Санкт-Петербурга\n",
    "* Сравню, сколько треков послушала каждая группа пользователей в понедельник, среду и пятницу.\n"
   ]
  },
  {
   "cell_type": "code",
   "execution_count": 18,
   "metadata": {
    "id": "0_Qs96oh_Zcu"
   },
   "outputs": [
    {
     "data": {
      "text/plain": [
       "city\n",
       "Moscow              42741\n",
       "Saint-Petersburg    18512\n",
       "Name: genre, dtype: int64"
      ]
     },
     "execution_count": 18,
     "metadata": {},
     "output_type": "execute_result"
    }
   ],
   "source": [
    "# Подсчёт прослушиваний в каждом городе\n",
    "users_activity = df.groupby('city')['genre'].count()\n",
    "users_activity"
   ]
  },
  {
   "cell_type": "markdown",
   "metadata": {
    "id": "dzli3w8o_Zcu"
   },
   "source": [
    "В Москве прослушиваний больше, чем в Петербурге. Из этого не следует, что московские пользователи чаще слушают музыку. Просто самих пользователей в Москве больше.\n",
    "\n",
    "Теперь сгруппирую данные по дню недели и подсчитаю прослушивания в понедельник, среду и пятницу. Помню, что в данных есть информация о прослушиваниях только за эти дни."
   ]
  },
  {
   "cell_type": "code",
   "execution_count": 19,
   "metadata": {
    "id": "uZMKjiJz_Zcu"
   },
   "outputs": [
    {
     "data": {
      "text/plain": [
       "day\n",
       "Friday       21840\n",
       "Monday       21354\n",
       "Wednesday    18059\n",
       "Name: genre, dtype: int64"
      ]
     },
     "execution_count": 19,
     "metadata": {},
     "output_type": "execute_result"
    }
   ],
   "source": [
    "weekday_activity = df.groupby('day')['genre'].count()\n",
    "weekday_activity# Подсчёт прослушиваний в каждый из трёх дней"
   ]
  },
  {
   "cell_type": "markdown",
   "metadata": {
    "id": "cC2tNrlL_Zcu"
   },
   "source": [
    "В среднем пользователи из двух городов менее активны по средам. Но картина может измениться, если рассмотреть каждый город в отдельности."
   ]
  },
  {
   "cell_type": "markdown",
   "metadata": {
    "id": "POzs8bGa_Zcu"
   },
   "source": [
    "\n",
    "Напишу функцию `number_tracks()`, которая посчитает прослушивания для заданного дня и города. Ей понадобятся два параметра:\n",
    "* день недели,\n",
    "* название города.\n",
    "\n",
    "В функции сохраню в переменную строки исходной таблицы, у которых значение:\n",
    "  * в колонке `day` равно параметру `day`,\n",
    "  * в колонке `city` равно параметру `city`.\n",
    "\n",
    "Затем посчитаю значения в столбце `user_id` получившейся таблицы. Результат сохраню в новую переменную."
   ]
  },
  {
   "cell_type": "code",
   "execution_count": 20,
   "metadata": {
    "id": "Nz3GdQB1_Zcu"
   },
   "outputs": [],
   "source": [
    "# <создание функции number_tracks()>\n",
    "\n",
    "# Объявляется функция с двумя параметрами: day, city.\n",
    "# В переменной track_list сохраняются те строки таблицы df, для которых \n",
    "# значение в столбце 'day' равно параметру day и одновременно значение\n",
    "# в столбце 'city' равно параметру city (используйте последовательную фильтрацию\n",
    "# с помощью логической индексации).\n",
    "# В переменной track_list_count сохраняется число значений столбца 'user_id',\n",
    "# рассчитанное методом count() для таблицы track_list.\n",
    "# Функция возвращает число - значение track_list_count.\n",
    "\n",
    "# Функция для подсчёта прослушиваний для конкретного города и дня.\n",
    "# С помощью последовательной фильтрации с логической индексацией она \n",
    "# сначала получит из исходной таблицы строки с нужным днём,\n",
    "# затем из результата отфильтрует строки с нужным городом,\n",
    "# методом count() посчитает количество значений в колонке user_id. \n",
    "# Это количество функция вернёт в качестве результата\n",
    "\n",
    "def number_tracks(city,day):   \n",
    "    track_list  = df[df['day'] == day]\n",
    "    track_list = track_list[track_list['city'] == city]\n",
    "    track_list_count = track_list['user_id'].count()\n",
    "    return track_list_count\n",
    "\n"
   ]
  },
  {
   "cell_type": "markdown",
   "metadata": {
    "id": "ytf7xFrFJQ2r"
   },
   "source": [
    "вызываю `number_tracks()` шесть раз, меняя значение параметров — так, чтобы получить данные для каждого города в каждый из трёх дней. проще всего это сделать циклом"
   ]
  },
  {
   "cell_type": "code",
   "execution_count": 43,
   "metadata": {},
   "outputs": [
    {
     "name": "stdout",
     "output_type": "stream",
     "text": [
      "Moscow Monday 15740\n",
      "Moscow Wednesday 11056\n",
      "Moscow Friday 15945\n",
      "Saint-Petersburg Monday 5614\n",
      "Saint-Petersburg Wednesday 7003\n",
      "Saint-Petersburg Friday 5895\n"
     ]
    }
   ],
   "source": [
    "cities_list = ['Moscow', 'Saint-Petersburg']\n",
    "days_list = ['Monday','Wednesday','Friday']\n",
    "\n",
    "for i in range(len(cities_list)):\n",
    "    for j in range(len(days_list)):\n",
    "        print(cities_list[i],days_list[j],number_tracks(cities_list[i],days_list[j]))\n",
    "        "
   ]
  },
  {
   "cell_type": "markdown",
   "metadata": {
    "id": "7QXffbO-_Zcu"
   },
   "source": [
    "создаю новыый датафрейм, где\n",
    "* названия колонок — `['city', 'monday', 'wednesday', 'friday']`;\n",
    "* данные — результаты, которые вы получили с помощью `number_tracks`."
   ]
  },
  {
   "cell_type": "code",
   "execution_count": 28,
   "metadata": {
    "id": "APAcLpOr_Zcu"
   },
   "outputs": [
    {
     "data": {
      "text/html": [
       "<div>\n",
       "<style scoped>\n",
       "    .dataframe tbody tr th:only-of-type {\n",
       "        vertical-align: middle;\n",
       "    }\n",
       "\n",
       "    .dataframe tbody tr th {\n",
       "        vertical-align: top;\n",
       "    }\n",
       "\n",
       "    .dataframe thead th {\n",
       "        text-align: right;\n",
       "    }\n",
       "</style>\n",
       "<table border=\"1\" class=\"dataframe\">\n",
       "  <thead>\n",
       "    <tr style=\"text-align: right;\">\n",
       "      <th></th>\n",
       "      <th>city</th>\n",
       "      <th>monday</th>\n",
       "      <th>wednesday</th>\n",
       "      <th>friday</th>\n",
       "    </tr>\n",
       "  </thead>\n",
       "  <tbody>\n",
       "    <tr>\n",
       "      <th>0</th>\n",
       "      <td>Moscow</td>\n",
       "      <td>15740</td>\n",
       "      <td>11056</td>\n",
       "      <td>15945</td>\n",
       "    </tr>\n",
       "    <tr>\n",
       "      <th>1</th>\n",
       "      <td>Saint-Petersburg</td>\n",
       "      <td>5614</td>\n",
       "      <td>7003</td>\n",
       "      <td>5895</td>\n",
       "    </tr>\n",
       "  </tbody>\n",
       "</table>\n",
       "</div>"
      ],
      "text/plain": [
       "               city  monday  wednesday  friday\n",
       "0            Moscow   15740      11056   15945\n",
       "1  Saint-Petersburg    5614       7003    5895"
      ]
     },
     "execution_count": 28,
     "metadata": {},
     "output_type": "execute_result"
    }
   ],
   "source": [
    "data = [['Moscow',15740,11056,15945],\n",
    "        ['Saint-Petersburg',5614,7003,5895]]\n",
    "columns = ['city', 'monday', 'wednesday', 'friday']\n",
    "research_track_tab = pd.DataFrame(data = data, columns = columns)\n",
    "research_track_tab# Таблица с результатами"
   ]
  },
  {
   "cell_type": "code",
   "execution_count": 42,
   "metadata": {},
   "outputs": [
    {
     "name": "stdout",
     "output_type": "stream",
     "text": [
      "[15740]\n",
      "[11056]\n",
      "[15945]\n",
      "[5614]\n",
      "[7003]\n",
      "[5895]\n"
     ]
    }
   ],
   "source": [
    "columns = ['city', 'monday', 'wednesday', 'friday']\n",
    "cities_list = ['Moscow', 'Saint-Petersburg']\n",
    "\n",
    "for i in range(len(cities_list)):\n",
    "    for j in range(len(days_list)):\n",
    "        print([number_tracks(cities_list[i],days_list[j])])\n",
    "    "
   ]
  },
  {
   "cell_type": "markdown",
   "metadata": {
    "id": "-EgPIHYu_Zcu"
   },
   "source": [
    "**Выводы**\n",
    "\n",
    "Данные показывают разницу поведения пользователей:\n",
    "\n",
    "- В Москве пик прослушиваний приходится на понедельник и пятницу, а в среду заметен спад.\n",
    "- В Петербурге, наоборот, больше слушают музыку по средам. Активность в понедельник и пятницу здесь почти в равной мере уступает среде.\n",
    "\n",
    "Значит, данные говорят в пользу первой гипотезы."
   ]
  },
  {
   "cell_type": "markdown",
   "metadata": {
    "id": "atZAxtq4_Zcu"
   },
   "source": [
    "### Музыка в начале и в конце недели"
   ]
  },
  {
   "cell_type": "markdown",
   "metadata": {
    "id": "eXrQqXFH_Zcu"
   },
   "source": [
    "Согласно второй гипотезе, утром в понедельник в Москве преобладают одни жанры, а в Петербурге — другие. Так же и вечером пятницы преобладают разные жанры — в зависимости от города."
   ]
  },
  {
   "cell_type": "code",
   "execution_count": 30,
   "metadata": {
    "id": "qeaFfM_P_Zcu"
   },
   "outputs": [
    {
     "data": {
      "text/html": [
       "<div>\n",
       "<style scoped>\n",
       "    .dataframe tbody tr th:only-of-type {\n",
       "        vertical-align: middle;\n",
       "    }\n",
       "\n",
       "    .dataframe tbody tr th {\n",
       "        vertical-align: top;\n",
       "    }\n",
       "\n",
       "    .dataframe thead th {\n",
       "        text-align: right;\n",
       "    }\n",
       "</style>\n",
       "<table border=\"1\" class=\"dataframe\">\n",
       "  <thead>\n",
       "    <tr style=\"text-align: right;\">\n",
       "      <th></th>\n",
       "      <th>user_id</th>\n",
       "      <th>track</th>\n",
       "      <th>artist</th>\n",
       "      <th>genre</th>\n",
       "      <th>city</th>\n",
       "      <th>time</th>\n",
       "      <th>day</th>\n",
       "    </tr>\n",
       "  </thead>\n",
       "  <tbody>\n",
       "    <tr>\n",
       "      <th>1</th>\n",
       "      <td>55204538</td>\n",
       "      <td>Delayed Because of Accident</td>\n",
       "      <td>Andreas Rönnberg</td>\n",
       "      <td>rock</td>\n",
       "      <td>Moscow</td>\n",
       "      <td>14:07:09</td>\n",
       "      <td>Friday</td>\n",
       "    </tr>\n",
       "    <tr>\n",
       "      <th>4</th>\n",
       "      <td>E2DC1FAE</td>\n",
       "      <td>Soul People</td>\n",
       "      <td>Space Echo</td>\n",
       "      <td>dance</td>\n",
       "      <td>Moscow</td>\n",
       "      <td>08:34:34</td>\n",
       "      <td>Monday</td>\n",
       "    </tr>\n",
       "    <tr>\n",
       "      <th>6</th>\n",
       "      <td>4CB90AA5</td>\n",
       "      <td>True</td>\n",
       "      <td>Roman Messer</td>\n",
       "      <td>dance</td>\n",
       "      <td>Moscow</td>\n",
       "      <td>13:00:07</td>\n",
       "      <td>Wednesday</td>\n",
       "    </tr>\n",
       "    <tr>\n",
       "      <th>7</th>\n",
       "      <td>F03E1C1F</td>\n",
       "      <td>Feeling This Way</td>\n",
       "      <td>Polina Griffith</td>\n",
       "      <td>dance</td>\n",
       "      <td>Moscow</td>\n",
       "      <td>20:47:49</td>\n",
       "      <td>Wednesday</td>\n",
       "    </tr>\n",
       "    <tr>\n",
       "      <th>8</th>\n",
       "      <td>8FA1D3BE</td>\n",
       "      <td>И вновь продолжается бой</td>\n",
       "      <td>unknown</td>\n",
       "      <td>ruspop</td>\n",
       "      <td>Moscow</td>\n",
       "      <td>09:17:40</td>\n",
       "      <td>Friday</td>\n",
       "    </tr>\n",
       "    <tr>\n",
       "      <th>...</th>\n",
       "      <td>...</td>\n",
       "      <td>...</td>\n",
       "      <td>...</td>\n",
       "      <td>...</td>\n",
       "      <td>...</td>\n",
       "      <td>...</td>\n",
       "      <td>...</td>\n",
       "    </tr>\n",
       "    <tr>\n",
       "      <th>61247</th>\n",
       "      <td>83A474E7</td>\n",
       "      <td>I Worship Only What You Bleed</td>\n",
       "      <td>The Black Dahlia Murder</td>\n",
       "      <td>extrememetal</td>\n",
       "      <td>Moscow</td>\n",
       "      <td>21:07:12</td>\n",
       "      <td>Monday</td>\n",
       "    </tr>\n",
       "    <tr>\n",
       "      <th>61248</th>\n",
       "      <td>729CBB09</td>\n",
       "      <td>My Name</td>\n",
       "      <td>McLean</td>\n",
       "      <td>rnb</td>\n",
       "      <td>Moscow</td>\n",
       "      <td>13:32:28</td>\n",
       "      <td>Wednesday</td>\n",
       "    </tr>\n",
       "    <tr>\n",
       "      <th>61250</th>\n",
       "      <td>C5E3A0D5</td>\n",
       "      <td>Jalopiina</td>\n",
       "      <td>unknown</td>\n",
       "      <td>industrial</td>\n",
       "      <td>Moscow</td>\n",
       "      <td>20:09:26</td>\n",
       "      <td>Friday</td>\n",
       "    </tr>\n",
       "    <tr>\n",
       "      <th>61251</th>\n",
       "      <td>321D0506</td>\n",
       "      <td>Freight Train</td>\n",
       "      <td>Chas McDevitt</td>\n",
       "      <td>rock</td>\n",
       "      <td>Moscow</td>\n",
       "      <td>21:43:59</td>\n",
       "      <td>Friday</td>\n",
       "    </tr>\n",
       "    <tr>\n",
       "      <th>61252</th>\n",
       "      <td>3A64EF84</td>\n",
       "      <td>Tell Me Sweet Little Lies</td>\n",
       "      <td>Monica Lopez</td>\n",
       "      <td>country</td>\n",
       "      <td>Moscow</td>\n",
       "      <td>21:59:46</td>\n",
       "      <td>Friday</td>\n",
       "    </tr>\n",
       "  </tbody>\n",
       "</table>\n",
       "<p>42741 rows × 7 columns</p>\n",
       "</div>"
      ],
      "text/plain": [
       "        user_id                          track                   artist  \\\n",
       "1      55204538    Delayed Because of Accident         Andreas Rönnberg   \n",
       "4      E2DC1FAE                    Soul People               Space Echo   \n",
       "6      4CB90AA5                           True             Roman Messer   \n",
       "7      F03E1C1F               Feeling This Way          Polina Griffith   \n",
       "8      8FA1D3BE       И вновь продолжается бой                  unknown   \n",
       "...         ...                            ...                      ...   \n",
       "61247  83A474E7  I Worship Only What You Bleed  The Black Dahlia Murder   \n",
       "61248  729CBB09                        My Name                   McLean   \n",
       "61250  C5E3A0D5                      Jalopiina                  unknown   \n",
       "61251  321D0506                  Freight Train            Chas McDevitt   \n",
       "61252  3A64EF84      Tell Me Sweet Little Lies             Monica Lopez   \n",
       "\n",
       "              genre    city      time        day  \n",
       "1              rock  Moscow  14:07:09     Friday  \n",
       "4             dance  Moscow  08:34:34     Monday  \n",
       "6             dance  Moscow  13:00:07  Wednesday  \n",
       "7             dance  Moscow  20:47:49  Wednesday  \n",
       "8            ruspop  Moscow  09:17:40     Friday  \n",
       "...             ...     ...       ...        ...  \n",
       "61247  extrememetal  Moscow  21:07:12     Monday  \n",
       "61248           rnb  Moscow  13:32:28  Wednesday  \n",
       "61250    industrial  Moscow  20:09:26     Friday  \n",
       "61251          rock  Moscow  21:43:59     Friday  \n",
       "61252       country  Moscow  21:59:46     Friday  \n",
       "\n",
       "[42741 rows x 7 columns]"
      ]
     },
     "metadata": {},
     "output_type": "display_data"
    }
   ],
   "source": [
    "# получение таблицы moscow_general из тех строк таблицы df, \n",
    "# для которых значение в столбце 'city' равно 'Moscow'\n",
    "moscow_general = df[df['city'] == 'Moscow']\n",
    "\n",
    "moscow_general"
   ]
  },
  {
   "cell_type": "code",
   "execution_count": 31,
   "metadata": {
    "id": "ORaVRKto_Zcu"
   },
   "outputs": [
    {
     "data": {
      "text/html": [
       "<div>\n",
       "<style scoped>\n",
       "    .dataframe tbody tr th:only-of-type {\n",
       "        vertical-align: middle;\n",
       "    }\n",
       "\n",
       "    .dataframe tbody tr th {\n",
       "        vertical-align: top;\n",
       "    }\n",
       "\n",
       "    .dataframe thead th {\n",
       "        text-align: right;\n",
       "    }\n",
       "</style>\n",
       "<table border=\"1\" class=\"dataframe\">\n",
       "  <thead>\n",
       "    <tr style=\"text-align: right;\">\n",
       "      <th></th>\n",
       "      <th>user_id</th>\n",
       "      <th>track</th>\n",
       "      <th>artist</th>\n",
       "      <th>genre</th>\n",
       "      <th>city</th>\n",
       "      <th>time</th>\n",
       "      <th>day</th>\n",
       "    </tr>\n",
       "  </thead>\n",
       "  <tbody>\n",
       "    <tr>\n",
       "      <th>0</th>\n",
       "      <td>FFB692EC</td>\n",
       "      <td>Kamigata To Boots</td>\n",
       "      <td>The Mass Missile</td>\n",
       "      <td>rock</td>\n",
       "      <td>Saint-Petersburg</td>\n",
       "      <td>20:28:33</td>\n",
       "      <td>Wednesday</td>\n",
       "    </tr>\n",
       "    <tr>\n",
       "      <th>2</th>\n",
       "      <td>20EC38</td>\n",
       "      <td>Funiculì funiculà</td>\n",
       "      <td>Mario Lanza</td>\n",
       "      <td>pop</td>\n",
       "      <td>Saint-Petersburg</td>\n",
       "      <td>20:58:07</td>\n",
       "      <td>Wednesday</td>\n",
       "    </tr>\n",
       "    <tr>\n",
       "      <th>3</th>\n",
       "      <td>A3DD03C9</td>\n",
       "      <td>Dragons in the Sunset</td>\n",
       "      <td>Fire + Ice</td>\n",
       "      <td>folk</td>\n",
       "      <td>Saint-Petersburg</td>\n",
       "      <td>08:37:09</td>\n",
       "      <td>Monday</td>\n",
       "    </tr>\n",
       "    <tr>\n",
       "      <th>5</th>\n",
       "      <td>842029A1</td>\n",
       "      <td>Преданная</td>\n",
       "      <td>IMPERVTOR</td>\n",
       "      <td>rusrap</td>\n",
       "      <td>Saint-Petersburg</td>\n",
       "      <td>13:09:41</td>\n",
       "      <td>Friday</td>\n",
       "    </tr>\n",
       "    <tr>\n",
       "      <th>9</th>\n",
       "      <td>E772D5C0</td>\n",
       "      <td>Pessimist</td>\n",
       "      <td>unknown</td>\n",
       "      <td>dance</td>\n",
       "      <td>Saint-Petersburg</td>\n",
       "      <td>21:20:49</td>\n",
       "      <td>Wednesday</td>\n",
       "    </tr>\n",
       "    <tr>\n",
       "      <th>...</th>\n",
       "      <td>...</td>\n",
       "      <td>...</td>\n",
       "      <td>...</td>\n",
       "      <td>...</td>\n",
       "      <td>...</td>\n",
       "      <td>...</td>\n",
       "      <td>...</td>\n",
       "    </tr>\n",
       "    <tr>\n",
       "      <th>61239</th>\n",
       "      <td>D94F810B</td>\n",
       "      <td>Theme from the Walking Dead</td>\n",
       "      <td>Proyecto Halloween</td>\n",
       "      <td>film</td>\n",
       "      <td>Saint-Petersburg</td>\n",
       "      <td>21:14:40</td>\n",
       "      <td>Monday</td>\n",
       "    </tr>\n",
       "    <tr>\n",
       "      <th>61240</th>\n",
       "      <td>BC8EC5CF</td>\n",
       "      <td>Red Lips: Gta (Rover Rework)</td>\n",
       "      <td>Rover</td>\n",
       "      <td>electronic</td>\n",
       "      <td>Saint-Petersburg</td>\n",
       "      <td>21:06:50</td>\n",
       "      <td>Monday</td>\n",
       "    </tr>\n",
       "    <tr>\n",
       "      <th>61241</th>\n",
       "      <td>29E04611</td>\n",
       "      <td>Bre Petrunko</td>\n",
       "      <td>Perunika Trio</td>\n",
       "      <td>world</td>\n",
       "      <td>Saint-Petersburg</td>\n",
       "      <td>13:56:00</td>\n",
       "      <td>Monday</td>\n",
       "    </tr>\n",
       "    <tr>\n",
       "      <th>61242</th>\n",
       "      <td>1B91C621</td>\n",
       "      <td>(Hello) Cloud Mountain</td>\n",
       "      <td>sleepmakeswaves</td>\n",
       "      <td>postrock</td>\n",
       "      <td>Saint-Petersburg</td>\n",
       "      <td>09:22:13</td>\n",
       "      <td>Monday</td>\n",
       "    </tr>\n",
       "    <tr>\n",
       "      <th>61249</th>\n",
       "      <td>D08D4A55</td>\n",
       "      <td>Maybe One Day (feat. Black Spade)</td>\n",
       "      <td>Blu &amp; Exile</td>\n",
       "      <td>hiphop</td>\n",
       "      <td>Saint-Petersburg</td>\n",
       "      <td>10:00:00</td>\n",
       "      <td>Monday</td>\n",
       "    </tr>\n",
       "  </tbody>\n",
       "</table>\n",
       "<p>18512 rows × 7 columns</p>\n",
       "</div>"
      ],
      "text/plain": [
       "        user_id                              track              artist  \\\n",
       "0      FFB692EC                  Kamigata To Boots    The Mass Missile   \n",
       "2        20EC38                  Funiculì funiculà         Mario Lanza   \n",
       "3      A3DD03C9              Dragons in the Sunset          Fire + Ice   \n",
       "5      842029A1                          Преданная           IMPERVTOR   \n",
       "9      E772D5C0                          Pessimist             unknown   \n",
       "...         ...                                ...                 ...   \n",
       "61239  D94F810B        Theme from the Walking Dead  Proyecto Halloween   \n",
       "61240  BC8EC5CF       Red Lips: Gta (Rover Rework)               Rover   \n",
       "61241  29E04611                       Bre Petrunko       Perunika Trio   \n",
       "61242  1B91C621             (Hello) Cloud Mountain     sleepmakeswaves   \n",
       "61249  D08D4A55  Maybe One Day (feat. Black Spade)         Blu & Exile   \n",
       "\n",
       "            genre              city      time        day  \n",
       "0            rock  Saint-Petersburg  20:28:33  Wednesday  \n",
       "2             pop  Saint-Petersburg  20:58:07  Wednesday  \n",
       "3            folk  Saint-Petersburg  08:37:09     Monday  \n",
       "5          rusrap  Saint-Petersburg  13:09:41     Friday  \n",
       "9           dance  Saint-Petersburg  21:20:49  Wednesday  \n",
       "...           ...               ...       ...        ...  \n",
       "61239        film  Saint-Petersburg  21:14:40     Monday  \n",
       "61240  electronic  Saint-Petersburg  21:06:50     Monday  \n",
       "61241       world  Saint-Petersburg  13:56:00     Monday  \n",
       "61242    postrock  Saint-Petersburg  09:22:13     Monday  \n",
       "61249      hiphop  Saint-Petersburg  10:00:00     Monday  \n",
       "\n",
       "[18512 rows x 7 columns]"
      ]
     },
     "execution_count": 31,
     "metadata": {},
     "output_type": "execute_result"
    }
   ],
   "source": [
    "# получение таблицы spb_general из тех строк таблицы df,\n",
    "# для которых значение в столбце 'city' равно 'Saint-Petersburg'\n",
    "spb_general = df[df['city'] == 'Saint-Petersburg']\n",
    "spb_general\n"
   ]
  },
  {
   "cell_type": "markdown",
   "metadata": {
    "id": "MEJV-CX2_Zcu"
   },
   "source": [
    "создам функцию `genre_weekday()` с четырьмя параметрами:\n",
    "* таблица (датафрейм) с данными,\n",
    "* день недели,\n",
    "* начальная временная метка в формате 'hh:mm', \n",
    "* последняя временная метка в формате 'hh:mm'.\n",
    "\n",
    "Функция должна вернуть информацию о топ-10 жанров тех треков, которые прослушивали в указанный день, в промежутке между двумя отметками времени."
   ]
  },
  {
   "cell_type": "code",
   "execution_count": 32,
   "metadata": {
    "id": "laJT9BYl_Zcu"
   },
   "outputs": [],
   "source": [
    "# Объявление функции genre_weekday() с параметрами table, day, time1, time2,\n",
    "# которая возвращает информацию о самых популярных жанрах в указанный день в\n",
    "# заданное время:\n",
    "# 1) в переменную genre_df сохраняются те строки переданного датафрейма table, для\n",
    "#    которых одновременно:\n",
    "#    - значение в столбце day равно значению аргумента day\n",
    "#    - значение в столбце time больше значения аргумента time1\n",
    "#    - значение в столбце time меньше значения аргумента time2\n",
    "#    Используйте последовательную фильтрацию с помощью логической индексации.\n",
    "# 2) сгруппировать датафрейм genre_df по столбцу genre, взять один из его\n",
    "#    столбцов и посчитать методом count() количество записей для каждого из\n",
    "#    присутствующих жанров, получившийся Series записать в переменную\n",
    "#    genre_df_count\n",
    "# 3) отсортировать genre_df_count по убыванию встречаемости и сохранить\n",
    "#    в переменную genre_df_sorted\n",
    "# 4) вернуть Series из 10 первых значений genre_df_sorted, это будут топ-10\n",
    "#    популярных жанров (в указанный день, в заданное время)\n",
    "\n",
    "def genre_weekday(table, day, time1, time2):\n",
    "    genre_df = table[table['day'] == day]\n",
    "    genre_df = genre_df[genre_df['time'] > time1]\n",
    "    genre_df = genre_df[genre_df['time'] < time2]\n",
    "    genre_df_count = genre_df.groupby('genre')['city'].count()\n",
    "    genre_df_sorted = genre_df_count.sort_values(ascending = False)\n",
    "    genre_df = genre_df_sorted[:10]\n",
    "    return genre_df\n"
   ]
  },
  {
   "cell_type": "markdown",
   "metadata": {
    "id": "la2s2_PF_Zcu"
   },
   "source": [
    "Сравним результаты функции `genre_weekday()` для Москвы и Санкт-Петербурга в понедельник утром (с 7:00 до 11:00) и в пятницу вечером (с 17:00 до 23:00):"
   ]
  },
  {
   "cell_type": "code",
   "execution_count": 33,
   "metadata": {
    "id": "yz7itPUQ_Zcu"
   },
   "outputs": [
    {
     "data": {
      "text/plain": [
       "genre\n",
       "pop            781\n",
       "dance          549\n",
       "electronic     480\n",
       "rock           474\n",
       "hiphop         286\n",
       "ruspop         186\n",
       "world          181\n",
       "rusrap         175\n",
       "alternative    164\n",
       "unknown        161\n",
       "Name: city, dtype: int64"
      ]
     },
     "metadata": {},
     "output_type": "display_data"
    }
   ],
   "source": [
    "# вызов функции для утра понедельника в Москве (вместо df — таблица moscow_general)\n",
    "# объекты, хранящие время, являются строками и сравниваются как строки\n",
    "# пример вызова: genre_weekday(moscow_general, 'Monday', '07:00', '11:00')\n",
    "genre_weekday(moscow_general, 'Monday', '07:00', '11:00')"
   ]
  },
  {
   "cell_type": "code",
   "execution_count": 34,
   "metadata": {
    "id": "kwUcHPdy_Zcu"
   },
   "outputs": [
    {
     "data": {
      "text/plain": [
       "genre\n",
       "pop            218\n",
       "dance          182\n",
       "rock           162\n",
       "electronic     147\n",
       "hiphop          80\n",
       "ruspop          64\n",
       "alternative     58\n",
       "rusrap          55\n",
       "jazz            44\n",
       "classical       40\n",
       "Name: city, dtype: int64"
      ]
     },
     "metadata": {},
     "output_type": "display_data"
    }
   ],
   "source": [
    "# вызов функции для утра понедельника в Петербурге (вместо df — таблица spb_general)\n",
    "genre_weekday(spb_general, 'Monday', '07:00', '11:00')"
   ]
  },
  {
   "cell_type": "code",
   "execution_count": 35,
   "metadata": {
    "id": "EzXVRE1o_Zcu"
   },
   "outputs": [
    {
     "data": {
      "text/plain": [
       "genre\n",
       "pop            713\n",
       "rock           517\n",
       "dance          495\n",
       "electronic     482\n",
       "hiphop         273\n",
       "world          208\n",
       "ruspop         170\n",
       "alternative    163\n",
       "classical      163\n",
       "rusrap         142\n",
       "Name: city, dtype: int64"
      ]
     },
     "metadata": {},
     "output_type": "display_data"
    }
   ],
   "source": [
    "# вызов функции для вечера пятницы в Москве\n",
    "genre_weekday(moscow_general, 'Friday', '17:00', '23:00')"
   ]
  },
  {
   "cell_type": "code",
   "execution_count": 44,
   "metadata": {
    "id": "JZaEKu5v_Zcu"
   },
   "outputs": [
    {
     "data": {
      "text/plain": [
       "genre\n",
       "pop            256\n",
       "electronic     216\n",
       "rock           216\n",
       "dance          210\n",
       "hiphop          97\n",
       "alternative     63\n",
       "jazz            61\n",
       "classical       60\n",
       "rusrap          59\n",
       "world           54\n",
       "Name: city, dtype: int64"
      ]
     },
     "execution_count": 44,
     "metadata": {},
     "output_type": "execute_result"
    }
   ],
   "source": [
    "# вызов функции для вечера пятницы в Петербурге\n",
    "genre_weekday(spb_general, 'Friday', '17:00', '23:00')"
   ]
  },
  {
   "cell_type": "markdown",
   "metadata": {
    "id": "wrCe4MNX_Zcu"
   },
   "source": [
    "**Выводы**\n",
    "\n",
    "Если сравнить топ-10 жанров в понедельник утром, можно сделать такие выводы:\n",
    "\n",
    "1. В Москве и Петербурге слушают похожую музыку. Единственное отличие — в московский рейтинг вошёл жанр “world”, а в петербургский — джаз и классика.\n",
    "\n",
    "2. В Москве пропущенных значений оказалось так много, что значение `'unknown'` заняло десятое место среди самых популярных жанров. Значит, пропущенные значения занимают существенную долю в данных и угрожают достоверности исследования.\n",
    "\n",
    "Вечер пятницы не меняет эту картину. Некоторые жанры поднимаются немного выше, другие спускаются, но в целом топ-10 остаётся тем же самым.\n",
    "\n",
    "Таким образом, вторая гипотеза подтвердилась лишь частично:\n",
    "* Пользователи слушают похожую музыку в начале недели и в конце.\n",
    "* Разница между Москвой и Петербургом не слишком выражена. В Москве чаще слушают русскую популярную музыку, в Петербурге — джаз.\n",
    "\n",
    "Однако пропуски в данных ставят под сомнение этот результат. В Москве их так много, что рейтинг топ-10 мог бы выглядеть иначе, если бы не утерянные  данные о жанрах."
   ]
  },
  {
   "cell_type": "markdown",
   "metadata": {
    "id": "JolODAqr_Zcu"
   },
   "source": [
    "### Жанровые предпочтения в Москве и Петербурге\n",
    "\n",
    "Гипотеза: Петербург — столица рэпа, музыку этого жанра там слушают чаще, чем в Москве.  А Москва — город контрастов, в котором, тем не менее, преобладает поп-музыка."
   ]
  },
  {
   "cell_type": "markdown",
   "metadata": {
    "id": "DlegSvaT_Zcu"
   },
   "source": [
    "Сгруппирую таблицу `moscow_general` по жанру и посчитайте прослушивания треков каждого жанра методом `count()`. Затем остортирую результат в порядке убывания и сохраню его в таблице `moscow_genres`."
   ]
  },
  {
   "cell_type": "code",
   "execution_count": 37,
   "metadata": {
    "id": "r19lIPke_Zcu"
   },
   "outputs": [],
   "source": [
    "# одной строкой: группировка таблицы moscow_general по столбцу 'genre', \n",
    "# подсчёт числа значений 'genre' в этой группировке методом count(), \n",
    "# сортировка получившегося Series в порядке убывания и сохранение в moscow_genres\n",
    "moscow_genres = moscow_general.groupby('genre')['user_id'].count().sort_values(ascending = False)"
   ]
  },
  {
   "cell_type": "code",
   "execution_count": 38,
   "metadata": {
    "id": "WhCSooF8_Zcv"
   },
   "outputs": [
    {
     "data": {
      "text/plain": [
       "genre\n",
       "pop            5892\n",
       "dance          4435\n",
       "rock           3965\n",
       "electronic     3786\n",
       "hiphop         2096\n",
       "classical      1616\n",
       "world          1432\n",
       "alternative    1379\n",
       "ruspop         1372\n",
       "rusrap         1161\n",
       "Name: user_id, dtype: int64"
      ]
     },
     "metadata": {},
     "output_type": "display_data"
    }
   ],
   "source": [
    "# просмотр первых 10 строк moscow_genres\n",
    "moscow_genres.head(10)"
   ]
  },
  {
   "cell_type": "markdown",
   "metadata": {
    "id": "cnPG2vnN_Zcv"
   },
   "source": [
    "Делаю то же и для Петербурга."
   ]
  },
  {
   "cell_type": "code",
   "execution_count": 39,
   "metadata": {
    "id": "gluLIpE7_Zcv"
   },
   "outputs": [],
   "source": [
    "# группировка таблицы spb_general по столбцу 'genre', \n",
    "# подсчёт числа значений 'genre' в этой группировке методом count(), \n",
    "# сортировка получившегося Series в порядке убывания и сохранение в spb_genres\n",
    "spb_genres = spb_general.groupby('genre')['user_id'].count().sort_values(ascending = False)"
   ]
  },
  {
   "cell_type": "code",
   "execution_count": 40,
   "metadata": {
    "id": "uaGJHjVU_Zcv"
   },
   "outputs": [
    {
     "data": {
      "text/plain": [
       "genre\n",
       "pop            2431\n",
       "dance          1932\n",
       "rock           1879\n",
       "electronic     1736\n",
       "hiphop          960\n",
       "alternative     649\n",
       "classical       646\n",
       "rusrap          564\n",
       "ruspop          538\n",
       "world           515\n",
       "Name: user_id, dtype: int64"
      ]
     },
     "execution_count": 40,
     "metadata": {},
     "output_type": "execute_result"
    }
   ],
   "source": [
    "# просмотр первых 10 строк spb_genres\n",
    "spb_genres.head(10)"
   ]
  },
  {
   "cell_type": "markdown",
   "metadata": {
    "id": "RY51YJYu_Zcv"
   },
   "source": [
    "**Выводы**"
   ]
  },
  {
   "cell_type": "markdown",
   "metadata": {
    "id": "nVhnJEm__Zcv"
   },
   "source": [
    "Гипотеза частично подтвердилась:\n",
    "* Поп-музыка — самый популярный жанр в Москве, как и предполагала гипотеза. Более того, в топ-10 жанров встречается близкий жанр — русская популярная музыка.\n",
    "* Вопреки ожиданиям, рэп одинаково популярен в Москве и Петербурге. \n"
   ]
  },
  {
   "cell_type": "markdown",
   "metadata": {
    "id": "ykKQ0N65_Zcv"
   },
   "source": [
    "## Итоги исследования"
   ]
  },
  {
   "cell_type": "markdown",
   "metadata": {
    "id": "tjUwbHb3_Zcv"
   },
   "source": [
    "Проверив три гипотезы и я установил:\n",
    "\n",
    "1. День недели по-разному влияет на активность пользователей в Москве и Петербурге. \n",
    "\n",
    "Первая гипотеза полностью подтвердилась.\n",
    "\n",
    "2. Музыкальные предпочтения не сильно меняются в течение недели — будь то Москва или Петербург. Небольшие различия заметны в начале недели, по понедельникам:\n",
    "* в Москве слушают музыку жанра “world”,\n",
    "* в Петербурге — джаз и классику.\n",
    "\n",
    "Таким образом, вторая гипотеза подтвердилась лишь отчасти. Этот результат мог оказаться иным, если бы не пропуски в данных.\n",
    "\n",
    "3. Во вкусах пользователей Москвы и Петербурга больше общего чем различий. Вопреки ожиданиям, предпочтения жанров в Петербурге напоминают московские.\n",
    "\n",
    "Третья гипотеза не подтвердилась. Если различия в предпочтениях и существуют, на основной массе пользователей они незаметны.\n",
    "\n"
   ]
  }
 ],
 "metadata": {
  "ExecuteTimeLog": [
   {
    "duration": 52,
    "start_time": "2022-05-13T12:58:59.591Z"
   },
   {
    "duration": 6,
    "start_time": "2022-05-13T12:59:11.880Z"
   },
   {
    "duration": 409,
    "start_time": "2022-05-13T12:59:15.054Z"
   },
   {
    "duration": 0,
    "start_time": "2022-05-13T12:59:44.464Z"
   },
   {
    "duration": 0,
    "start_time": "2022-05-13T12:59:44.465Z"
   },
   {
    "duration": 0,
    "start_time": "2022-05-13T12:59:44.466Z"
   },
   {
    "duration": 8,
    "start_time": "2022-05-13T12:59:51.131Z"
   },
   {
    "duration": 3,
    "start_time": "2022-05-13T12:59:54.674Z"
   },
   {
    "duration": 2,
    "start_time": "2022-05-13T13:00:06.636Z"
   },
   {
    "duration": 160,
    "start_time": "2022-05-13T13:00:08.840Z"
   },
   {
    "duration": 9,
    "start_time": "2022-05-13T13:00:10.922Z"
   },
   {
    "duration": 8,
    "start_time": "2022-05-13T13:01:01.072Z"
   },
   {
    "duration": 2,
    "start_time": "2022-05-13T13:01:19.847Z"
   },
   {
    "duration": 107,
    "start_time": "2022-05-13T13:01:24.762Z"
   },
   {
    "duration": 155,
    "start_time": "2022-05-13T13:01:48.718Z"
   },
   {
    "duration": 159,
    "start_time": "2022-05-13T13:01:53.657Z"
   },
   {
    "duration": 3,
    "start_time": "2022-05-13T13:01:55.730Z"
   },
   {
    "duration": 2,
    "start_time": "2022-05-13T13:02:00.099Z"
   },
   {
    "duration": 178,
    "start_time": "2022-05-13T13:02:01.254Z"
   },
   {
    "duration": 17,
    "start_time": "2022-05-13T13:02:02.246Z"
   },
   {
    "duration": 11,
    "start_time": "2022-05-13T13:02:12.343Z"
   },
   {
    "duration": 32,
    "start_time": "2022-05-13T13:02:29.113Z"
   },
   {
    "duration": 4,
    "start_time": "2022-05-13T13:18:15.223Z"
   },
   {
    "duration": 10,
    "start_time": "2022-05-13T13:22:38.960Z"
   },
   {
    "duration": 9,
    "start_time": "2022-05-13T13:23:17.355Z"
   },
   {
    "duration": 4,
    "start_time": "2022-05-13T13:23:20.943Z"
   },
   {
    "duration": 43,
    "start_time": "2022-05-13T13:24:27.152Z"
   },
   {
    "duration": 3303,
    "start_time": "2022-05-13T13:58:20.802Z"
   },
   {
    "duration": 3088,
    "start_time": "2022-05-13T13:58:49.737Z"
   },
   {
    "duration": 3406,
    "start_time": "2022-05-13T13:59:08.885Z"
   },
   {
    "duration": 3292,
    "start_time": "2022-05-13T14:01:33.698Z"
   },
   {
    "duration": 3151,
    "start_time": "2022-05-13T14:02:39.767Z"
   },
   {
    "duration": 3219,
    "start_time": "2022-05-13T14:03:36.768Z"
   },
   {
    "duration": 3373,
    "start_time": "2022-05-13T14:04:14.012Z"
   },
   {
    "duration": 3151,
    "start_time": "2022-05-13T14:07:01.192Z"
   },
   {
    "duration": 3265,
    "start_time": "2022-05-13T14:07:47.497Z"
   },
   {
    "duration": 3117,
    "start_time": "2022-05-13T14:10:51.199Z"
   },
   {
    "duration": 3152,
    "start_time": "2022-05-13T14:11:15.565Z"
   },
   {
    "duration": 3148,
    "start_time": "2022-05-13T14:11:22.651Z"
   },
   {
    "duration": 3219,
    "start_time": "2022-05-13T14:12:34.725Z"
   },
   {
    "duration": 3180,
    "start_time": "2022-05-13T14:12:45.534Z"
   },
   {
    "duration": 20,
    "start_time": "2022-05-13T14:13:11.612Z"
   },
   {
    "duration": 20,
    "start_time": "2022-05-13T14:13:22.660Z"
   },
   {
    "duration": 25,
    "start_time": "2022-05-13T14:14:09.705Z"
   },
   {
    "duration": 11,
    "start_time": "2022-05-13T14:15:56.668Z"
   },
   {
    "duration": 69,
    "start_time": "2022-05-13T14:16:19.726Z"
   },
   {
    "duration": 79,
    "start_time": "2022-05-13T14:16:59.330Z"
   },
   {
    "duration": 113,
    "start_time": "2022-05-13T14:17:55.683Z"
   },
   {
    "duration": 9,
    "start_time": "2022-05-13T14:18:31.234Z"
   },
   {
    "duration": 65,
    "start_time": "2022-05-13T14:18:53.918Z"
   },
   {
    "duration": 77,
    "start_time": "2022-05-13T14:19:06.376Z"
   },
   {
    "duration": 65,
    "start_time": "2022-05-13T14:19:09.713Z"
   },
   {
    "duration": 69,
    "start_time": "2022-05-13T14:19:52.800Z"
   },
   {
    "duration": 74,
    "start_time": "2022-05-13T14:19:56.598Z"
   },
   {
    "duration": 49,
    "start_time": "2022-05-14T05:36:53.969Z"
   },
   {
    "duration": 5,
    "start_time": "2022-05-14T05:37:04.459Z"
   },
   {
    "duration": 403,
    "start_time": "2022-05-14T05:37:07.481Z"
   },
   {
    "duration": 3,
    "start_time": "2022-05-14T05:37:11.235Z"
   },
   {
    "duration": 150,
    "start_time": "2022-05-14T05:37:13.466Z"
   },
   {
    "duration": 16,
    "start_time": "2022-05-14T05:37:17.119Z"
   },
   {
    "duration": 29,
    "start_time": "2022-05-14T05:37:20.720Z"
   },
   {
    "duration": 3,
    "start_time": "2022-05-14T05:37:25.340Z"
   },
   {
    "duration": 14,
    "start_time": "2022-05-14T05:37:27.106Z"
   },
   {
    "duration": 3,
    "start_time": "2022-05-14T05:37:27.948Z"
   },
   {
    "duration": 23,
    "start_time": "2022-05-14T05:37:28.308Z"
   },
   {
    "duration": 21,
    "start_time": "2022-05-14T05:37:28.838Z"
   },
   {
    "duration": 26,
    "start_time": "2022-05-14T05:37:29.267Z"
   },
   {
    "duration": 72,
    "start_time": "2022-05-14T05:37:29.757Z"
   },
   {
    "duration": 81,
    "start_time": "2022-05-14T05:37:30.289Z"
   },
   {
    "duration": 57,
    "start_time": "2022-05-14T05:37:30.701Z"
   },
   {
    "duration": 8,
    "start_time": "2022-05-14T06:17:00.581Z"
   },
   {
    "duration": 31,
    "start_time": "2022-05-14T06:21:31.965Z"
   },
   {
    "duration": 10,
    "start_time": "2022-05-14T06:21:37.020Z"
   },
   {
    "duration": 8,
    "start_time": "2022-05-14T06:21:52.824Z"
   },
   {
    "duration": 10,
    "start_time": "2022-05-14T06:25:15.835Z"
   },
   {
    "duration": 3,
    "start_time": "2022-05-14T06:33:30.746Z"
   },
   {
    "duration": 10,
    "start_time": "2022-05-14T06:36:08.165Z"
   },
   {
    "duration": 3,
    "start_time": "2022-05-14T06:36:47.660Z"
   },
   {
    "duration": 9,
    "start_time": "2022-05-14T06:36:49.324Z"
   },
   {
    "duration": 9,
    "start_time": "2022-05-14T06:37:12.199Z"
   },
   {
    "duration": 117,
    "start_time": "2022-05-14T06:41:51.564Z"
   },
   {
    "duration": 30,
    "start_time": "2022-05-14T06:42:03.113Z"
   },
   {
    "duration": 30,
    "start_time": "2022-05-14T06:42:11.302Z"
   },
   {
    "duration": 10,
    "start_time": "2022-05-14T06:43:09.987Z"
   },
   {
    "duration": 11,
    "start_time": "2022-05-14T06:43:22.073Z"
   },
   {
    "duration": 69,
    "start_time": "2022-05-14T06:43:58.436Z"
   },
   {
    "duration": 237,
    "start_time": "2022-05-14T06:44:14.124Z"
   },
   {
    "duration": 11,
    "start_time": "2022-05-14T06:44:23.529Z"
   },
   {
    "duration": 10,
    "start_time": "2022-05-14T06:45:41.676Z"
   },
   {
    "duration": 11,
    "start_time": "2022-05-14T06:46:28.930Z"
   },
   {
    "duration": 10,
    "start_time": "2022-05-14T06:46:39.429Z"
   },
   {
    "duration": 7,
    "start_time": "2022-05-14T06:48:33.521Z"
   },
   {
    "duration": 11,
    "start_time": "2022-05-14T06:49:04.216Z"
   },
   {
    "duration": 10,
    "start_time": "2022-05-14T06:49:17.151Z"
   },
   {
    "duration": 10,
    "start_time": "2022-05-14T06:58:27.799Z"
   },
   {
    "duration": 10,
    "start_time": "2022-05-14T06:58:39.041Z"
   },
   {
    "duration": 15,
    "start_time": "2022-05-14T06:59:05.607Z"
   },
   {
    "duration": 11,
    "start_time": "2022-05-14T06:59:12.483Z"
   },
   {
    "duration": 3,
    "start_time": "2022-05-14T07:22:48.427Z"
   },
   {
    "duration": 16,
    "start_time": "2022-05-14T07:22:55.862Z"
   },
   {
    "duration": 4,
    "start_time": "2022-05-14T07:29:22.757Z"
   },
   {
    "duration": 15,
    "start_time": "2022-05-14T07:29:28.905Z"
   },
   {
    "duration": 3,
    "start_time": "2022-05-14T07:29:45.965Z"
   },
   {
    "duration": 9,
    "start_time": "2022-05-14T07:29:50.306Z"
   },
   {
    "duration": 8,
    "start_time": "2022-05-14T07:34:11.673Z"
   },
   {
    "duration": 4,
    "start_time": "2022-05-14T07:35:57.873Z"
   },
   {
    "duration": 8,
    "start_time": "2022-05-14T07:35:59.269Z"
   },
   {
    "duration": 4,
    "start_time": "2022-05-14T07:36:18.546Z"
   },
   {
    "duration": 18,
    "start_time": "2022-05-14T07:36:20.029Z"
   },
   {
    "duration": 16,
    "start_time": "2022-05-14T07:36:22.769Z"
   },
   {
    "duration": 18,
    "start_time": "2022-05-14T07:42:15.036Z"
   },
   {
    "duration": 15,
    "start_time": "2022-05-14T07:42:15.318Z"
   },
   {
    "duration": 20,
    "start_time": "2022-05-14T07:42:15.583Z"
   },
   {
    "duration": 16,
    "start_time": "2022-05-14T07:42:21.622Z"
   },
   {
    "duration": 5,
    "start_time": "2022-05-14T07:48:30.982Z"
   },
   {
    "duration": 9,
    "start_time": "2022-05-14T07:49:20.331Z"
   },
   {
    "duration": 44,
    "start_time": "2022-05-17T05:19:43.912Z"
   },
   {
    "duration": 7,
    "start_time": "2022-05-17T05:19:58.958Z"
   },
   {
    "duration": 416,
    "start_time": "2022-05-17T05:20:18.135Z"
   },
   {
    "duration": 166,
    "start_time": "2022-05-17T05:20:18.592Z"
   },
   {
    "duration": 17,
    "start_time": "2022-05-17T05:20:19.147Z"
   },
   {
    "duration": 31,
    "start_time": "2022-05-17T05:20:19.371Z"
   },
   {
    "duration": 3,
    "start_time": "2022-05-17T05:20:20.502Z"
   },
   {
    "duration": 13,
    "start_time": "2022-05-17T05:20:21.350Z"
   },
   {
    "duration": 3,
    "start_time": "2022-05-17T05:20:21.437Z"
   },
   {
    "duration": 24,
    "start_time": "2022-05-17T05:20:21.750Z"
   },
   {
    "duration": 19,
    "start_time": "2022-05-17T05:20:22.509Z"
   },
   {
    "duration": 24,
    "start_time": "2022-05-17T05:20:22.892Z"
   },
   {
    "duration": 61,
    "start_time": "2022-05-17T05:20:23.345Z"
   },
   {
    "duration": 74,
    "start_time": "2022-05-17T05:20:23.926Z"
   },
   {
    "duration": 53,
    "start_time": "2022-05-17T05:20:24.009Z"
   },
   {
    "duration": 9,
    "start_time": "2022-05-17T05:20:24.645Z"
   },
   {
    "duration": 3,
    "start_time": "2022-05-17T05:20:25.522Z"
   },
   {
    "duration": 8,
    "start_time": "2022-05-17T05:20:25.775Z"
   },
   {
    "duration": 9,
    "start_time": "2022-05-17T05:20:26.269Z"
   },
   {
    "duration": 10,
    "start_time": "2022-05-17T05:20:28.009Z"
   },
   {
    "duration": 11,
    "start_time": "2022-05-17T05:20:28.514Z"
   },
   {
    "duration": 3,
    "start_time": "2022-05-17T05:20:29.829Z"
   },
   {
    "duration": 18,
    "start_time": "2022-05-17T05:20:31.601Z"
   },
   {
    "duration": 15,
    "start_time": "2022-05-17T05:20:32.022Z"
   },
   {
    "duration": 16,
    "start_time": "2022-05-17T05:20:32.573Z"
   },
   {
    "duration": 15,
    "start_time": "2022-05-17T05:20:33.160Z"
   },
   {
    "duration": 17,
    "start_time": "2022-05-17T05:20:33.261Z"
   },
   {
    "duration": 15,
    "start_time": "2022-05-17T05:20:34.078Z"
   },
   {
    "duration": 8,
    "start_time": "2022-05-17T05:20:34.736Z"
   },
   {
    "duration": 7,
    "start_time": "2022-05-17T05:20:37.728Z"
   },
   {
    "duration": 16,
    "start_time": "2022-05-17T05:20:55.019Z"
   },
   {
    "duration": 12,
    "start_time": "2022-05-17T05:21:09.560Z"
   },
   {
    "duration": 11,
    "start_time": "2022-05-17T05:21:19.158Z"
   },
   {
    "duration": 8,
    "start_time": "2022-05-17T05:21:27.829Z"
   },
   {
    "duration": 12,
    "start_time": "2022-05-17T05:21:31.754Z"
   },
   {
    "duration": 9,
    "start_time": "2022-05-17T05:21:56.269Z"
   },
   {
    "duration": 21,
    "start_time": "2022-05-17T05:29:34.077Z"
   },
   {
    "duration": 18,
    "start_time": "2022-05-17T05:30:02.122Z"
   },
   {
    "duration": 53,
    "start_time": "2022-05-17T06:55:54.807Z"
   },
   {
    "duration": 465,
    "start_time": "2022-05-17T06:56:02.001Z"
   },
   {
    "duration": 174,
    "start_time": "2022-05-17T06:56:02.478Z"
   },
   {
    "duration": 18,
    "start_time": "2022-05-17T06:56:02.836Z"
   },
   {
    "duration": 31,
    "start_time": "2022-05-17T06:56:03.173Z"
   },
   {
    "duration": 3,
    "start_time": "2022-05-17T06:56:04.026Z"
   },
   {
    "duration": 12,
    "start_time": "2022-05-17T06:56:04.549Z"
   },
   {
    "duration": 4,
    "start_time": "2022-05-17T06:56:04.865Z"
   },
   {
    "duration": 25,
    "start_time": "2022-05-17T06:56:05.186Z"
   },
   {
    "duration": 18,
    "start_time": "2022-05-17T06:56:05.726Z"
   },
   {
    "duration": 24,
    "start_time": "2022-05-17T06:56:06.224Z"
   },
   {
    "duration": 64,
    "start_time": "2022-05-17T06:56:06.660Z"
   },
   {
    "duration": 74,
    "start_time": "2022-05-17T06:56:07.054Z"
   },
   {
    "duration": 57,
    "start_time": "2022-05-17T06:56:07.406Z"
   },
   {
    "duration": 10,
    "start_time": "2022-05-17T06:56:07.965Z"
   },
   {
    "duration": 3,
    "start_time": "2022-05-17T06:56:08.324Z"
   },
   {
    "duration": 10,
    "start_time": "2022-05-17T06:56:08.663Z"
   },
   {
    "duration": 10,
    "start_time": "2022-05-17T06:56:09.020Z"
   },
   {
    "duration": 11,
    "start_time": "2022-05-17T06:56:10.138Z"
   },
   {
    "duration": 11,
    "start_time": "2022-05-17T06:56:10.584Z"
   },
   {
    "duration": 4,
    "start_time": "2022-05-17T06:56:11.267Z"
   },
   {
    "duration": 18,
    "start_time": "2022-05-17T06:56:11.867Z"
   },
   {
    "duration": 16,
    "start_time": "2022-05-17T06:56:12.228Z"
   },
   {
    "duration": 16,
    "start_time": "2022-05-17T06:56:12.479Z"
   },
   {
    "duration": 14,
    "start_time": "2022-05-17T06:56:12.808Z"
   },
   {
    "duration": 18,
    "start_time": "2022-05-17T06:56:13.109Z"
   },
   {
    "duration": 16,
    "start_time": "2022-05-17T06:56:13.199Z"
   },
   {
    "duration": 9,
    "start_time": "2022-05-17T06:56:13.616Z"
   },
   {
    "duration": 21,
    "start_time": "2022-05-17T06:56:14.760Z"
   },
   {
    "duration": 19,
    "start_time": "2022-05-17T06:56:15.226Z"
   },
   {
    "duration": 48,
    "start_time": "2022-05-17T06:56:17.704Z"
   },
   {
    "duration": 23,
    "start_time": "2022-05-17T06:58:29.938Z"
   },
   {
    "duration": 23,
    "start_time": "2022-05-17T06:58:58.629Z"
   },
   {
    "duration": 23,
    "start_time": "2022-05-17T06:59:55.909Z"
   },
   {
    "duration": 9,
    "start_time": "2022-05-17T07:00:41.368Z"
   },
   {
    "duration": 22,
    "start_time": "2022-05-17T07:00:56.384Z"
   },
   {
    "duration": 22,
    "start_time": "2022-05-17T07:00:59.428Z"
   },
   {
    "duration": 18,
    "start_time": "2022-05-17T07:01:26.572Z"
   },
   {
    "duration": 5,
    "start_time": "2022-05-17T07:05:57.042Z"
   },
   {
    "duration": 17,
    "start_time": "2022-05-17T07:06:04.927Z"
   },
   {
    "duration": 26,
    "start_time": "2022-05-17T07:06:59.303Z"
   },
   {
    "duration": 24,
    "start_time": "2022-05-17T07:10:03.046Z"
   },
   {
    "duration": 30,
    "start_time": "2022-05-17T07:10:13.610Z"
   },
   {
    "duration": 28,
    "start_time": "2022-05-17T07:10:52.109Z"
   },
   {
    "duration": 30,
    "start_time": "2022-05-17T07:10:57.555Z"
   },
   {
    "duration": 27,
    "start_time": "2022-05-17T07:11:05.383Z"
   },
   {
    "duration": 21,
    "start_time": "2022-05-17T07:11:39.202Z"
   },
   {
    "duration": 24,
    "start_time": "2022-05-17T07:15:20.844Z"
   },
   {
    "duration": 38,
    "start_time": "2022-05-17T07:16:08.930Z"
   },
   {
    "duration": 25,
    "start_time": "2022-05-17T07:16:29.588Z"
   },
   {
    "duration": 20,
    "start_time": "2022-05-17T07:17:50.576Z"
   },
   {
    "duration": 4,
    "start_time": "2022-05-17T07:18:11.213Z"
   },
   {
    "duration": 19,
    "start_time": "2022-05-17T07:18:35.469Z"
   },
   {
    "duration": 19,
    "start_time": "2022-05-17T07:18:52.334Z"
   },
   {
    "duration": 14,
    "start_time": "2022-05-17T07:19:03.873Z"
   },
   {
    "duration": 17,
    "start_time": "2022-05-17T07:21:05.662Z"
   },
   {
    "duration": 12,
    "start_time": "2022-05-17T07:21:27.426Z"
   },
   {
    "duration": 31,
    "start_time": "2022-05-17T07:25:25.217Z"
   },
   {
    "duration": 23,
    "start_time": "2022-05-17T07:25:40.757Z"
   },
   {
    "duration": 9,
    "start_time": "2022-05-17T07:26:23.726Z"
   },
   {
    "duration": 9,
    "start_time": "2022-05-17T07:26:50.517Z"
   },
   {
    "duration": 5,
    "start_time": "2022-05-17T07:26:53.812Z"
   },
   {
    "duration": 9,
    "start_time": "2022-05-17T07:27:20.249Z"
   },
   {
    "duration": 5,
    "start_time": "2022-05-17T07:27:21.637Z"
   },
   {
    "duration": 7,
    "start_time": "2022-05-17T07:28:01.609Z"
   },
   {
    "duration": 4,
    "start_time": "2022-05-17T07:28:31.795Z"
   },
   {
    "duration": 64,
    "start_time": "2022-05-18T08:26:08.919Z"
   },
   {
    "duration": 894,
    "start_time": "2022-05-18T08:26:15.049Z"
   },
   {
    "duration": 239,
    "start_time": "2022-05-18T08:26:15.945Z"
   },
   {
    "duration": 16,
    "start_time": "2022-05-18T08:26:16.260Z"
   },
   {
    "duration": 11,
    "start_time": "2022-05-18T08:26:16.647Z"
   },
   {
    "duration": 35,
    "start_time": "2022-05-18T08:26:16.989Z"
   },
   {
    "duration": 3,
    "start_time": "2022-05-18T08:26:18.339Z"
   },
   {
    "duration": 14,
    "start_time": "2022-05-18T08:26:19.059Z"
   },
   {
    "duration": 4,
    "start_time": "2022-05-18T08:26:19.628Z"
   },
   {
    "duration": 39,
    "start_time": "2022-05-18T08:26:20.179Z"
   },
   {
    "duration": 28,
    "start_time": "2022-05-18T08:26:20.978Z"
   },
   {
    "duration": 41,
    "start_time": "2022-05-18T08:26:21.579Z"
   },
   {
    "duration": 66,
    "start_time": "2022-05-18T08:26:22.210Z"
   },
   {
    "duration": 120,
    "start_time": "2022-05-18T08:26:22.829Z"
   },
   {
    "duration": 93,
    "start_time": "2022-05-18T08:26:23.259Z"
   },
   {
    "duration": 15,
    "start_time": "2022-05-18T08:26:24.109Z"
   },
   {
    "duration": 4,
    "start_time": "2022-05-18T08:26:24.909Z"
   },
   {
    "duration": 13,
    "start_time": "2022-05-18T08:26:25.550Z"
   },
   {
    "duration": 10,
    "start_time": "2022-05-18T08:26:25.960Z"
   },
   {
    "duration": 17,
    "start_time": "2022-05-18T08:26:27.449Z"
   },
   {
    "duration": 18,
    "start_time": "2022-05-18T08:26:28.109Z"
   },
   {
    "duration": 4,
    "start_time": "2022-05-18T08:26:28.779Z"
   },
   {
    "duration": 17,
    "start_time": "2022-05-18T08:26:29.458Z"
   },
   {
    "duration": 20,
    "start_time": "2022-05-18T08:26:29.669Z"
   },
   {
    "duration": 22,
    "start_time": "2022-05-18T08:26:29.889Z"
   },
   {
    "duration": 20,
    "start_time": "2022-05-18T08:26:30.118Z"
   },
   {
    "duration": 25,
    "start_time": "2022-05-18T08:26:30.339Z"
   },
   {
    "duration": 23,
    "start_time": "2022-05-18T08:26:30.559Z"
   },
   {
    "duration": 11,
    "start_time": "2022-05-18T08:26:31.268Z"
   },
   {
    "duration": 30,
    "start_time": "2022-05-18T08:26:33.439Z"
   },
   {
    "duration": 23,
    "start_time": "2022-05-18T08:26:34.059Z"
   },
   {
    "duration": 4,
    "start_time": "2022-05-18T08:26:35.050Z"
   },
   {
    "duration": 20,
    "start_time": "2022-05-18T08:26:36.079Z"
   },
   {
    "duration": 13,
    "start_time": "2022-05-18T08:26:36.390Z"
   },
   {
    "duration": 17,
    "start_time": "2022-05-18T08:26:36.659Z"
   },
   {
    "duration": 15,
    "start_time": "2022-05-18T08:26:37.189Z"
   },
   {
    "duration": 12,
    "start_time": "2022-05-18T08:26:50.169Z"
   },
   {
    "duration": 17,
    "start_time": "2022-05-18T08:26:50.768Z"
   },
   {
    "duration": 13,
    "start_time": "2022-05-18T08:26:52.260Z"
   },
   {
    "duration": 26,
    "start_time": "2022-05-18T08:28:46.808Z"
   },
   {
    "duration": 7,
    "start_time": "2022-05-18T08:28:50.668Z"
   },
   {
    "duration": 4,
    "start_time": "2022-05-18T08:28:59.308Z"
   },
   {
    "duration": 189,
    "start_time": "2022-05-18T08:29:00.228Z"
   },
   {
    "duration": 15,
    "start_time": "2022-05-18T08:29:01.198Z"
   },
   {
    "duration": 11,
    "start_time": "2022-05-18T08:29:06.688Z"
   },
   {
    "duration": 50,
    "start_time": "2022-05-18T08:29:08.458Z"
   },
   {
    "duration": 3,
    "start_time": "2022-05-18T08:29:40.598Z"
   },
   {
    "duration": 7,
    "start_time": "2022-05-18T08:29:45.878Z"
   },
   {
    "duration": 5,
    "start_time": "2022-05-18T08:29:47.878Z"
   },
   {
    "duration": 42,
    "start_time": "2022-05-18T08:29:49.149Z"
   },
   {
    "duration": 26,
    "start_time": "2022-05-18T08:29:50.729Z"
   },
   {
    "duration": 22,
    "start_time": "2022-05-18T08:29:51.778Z"
   },
   {
    "duration": 101,
    "start_time": "2022-05-18T08:29:52.521Z"
   },
   {
    "duration": 106,
    "start_time": "2022-05-18T08:29:53.077Z"
   },
   {
    "duration": 23,
    "start_time": "2022-05-18T08:30:03.263Z"
   },
   {
    "duration": 41,
    "start_time": "2022-05-18T08:30:05.018Z"
   },
   {
    "duration": 31,
    "start_time": "2022-05-18T08:30:16.348Z"
   },
   {
    "duration": 92,
    "start_time": "2022-05-18T08:30:17.738Z"
   },
   {
    "duration": 64,
    "start_time": "2022-05-18T08:30:23.048Z"
   },
   {
    "duration": 58,
    "start_time": "2022-05-18T08:30:23.798Z"
   },
   {
    "duration": 64,
    "start_time": "2022-05-18T08:30:33.471Z"
   },
   {
    "duration": 59,
    "start_time": "2022-05-18T08:30:33.928Z"
   },
   {
    "duration": 9,
    "start_time": "2022-05-18T08:30:36.429Z"
   },
   {
    "duration": 9,
    "start_time": "2022-05-18T08:31:51.657Z"
   },
   {
    "duration": 38,
    "start_time": "2022-05-18T08:32:45.277Z"
   },
   {
    "duration": 41,
    "start_time": "2022-05-18T08:33:01.767Z"
   },
   {
    "duration": 14,
    "start_time": "2022-05-18T08:33:13.325Z"
   },
   {
    "duration": 12,
    "start_time": "2022-05-18T08:33:25.097Z"
   },
   {
    "duration": 11,
    "start_time": "2022-05-18T08:34:18.567Z"
   },
   {
    "duration": 27,
    "start_time": "2022-05-18T08:34:52.896Z"
   },
   {
    "duration": 16,
    "start_time": "2022-05-18T08:36:01.707Z"
   },
   {
    "duration": 4,
    "start_time": "2022-05-19T19:01:24.549Z"
   },
   {
    "duration": 23,
    "start_time": "2022-05-19T19:01:36.792Z"
   },
   {
    "duration": 31,
    "start_time": "2022-05-19T19:08:10.758Z"
   },
   {
    "duration": 3,
    "start_time": "2022-05-19T19:08:19.250Z"
   },
   {
    "duration": 170,
    "start_time": "2022-05-19T19:08:19.820Z"
   },
   {
    "duration": 12,
    "start_time": "2022-05-19T19:08:20.483Z"
   },
   {
    "duration": 9,
    "start_time": "2022-05-19T19:08:20.933Z"
   },
   {
    "duration": 29,
    "start_time": "2022-05-19T19:08:21.358Z"
   },
   {
    "duration": 4,
    "start_time": "2022-05-19T19:08:22.902Z"
   },
   {
    "duration": 11,
    "start_time": "2022-05-19T19:08:23.734Z"
   },
   {
    "duration": 4,
    "start_time": "2022-05-19T19:08:24.354Z"
   },
   {
    "duration": 25,
    "start_time": "2022-05-19T19:08:25.030Z"
   },
   {
    "duration": 20,
    "start_time": "2022-05-19T19:08:25.902Z"
   },
   {
    "duration": 22,
    "start_time": "2022-05-19T19:08:26.587Z"
   },
   {
    "duration": 77,
    "start_time": "2022-05-19T19:08:27.450Z"
   },
   {
    "duration": 83,
    "start_time": "2022-05-19T19:08:28.225Z"
   },
   {
    "duration": 60,
    "start_time": "2022-05-19T19:08:28.747Z"
   },
   {
    "duration": 40,
    "start_time": "2022-05-19T19:08:30.085Z"
   },
   {
    "duration": 3,
    "start_time": "2022-05-19T19:08:34.039Z"
   },
   {
    "duration": 9,
    "start_time": "2022-05-19T19:08:35.412Z"
   },
   {
    "duration": 9,
    "start_time": "2022-05-19T19:08:36.379Z"
   },
   {
    "duration": 44,
    "start_time": "2022-05-19T19:09:15.204Z"
   },
   {
    "duration": 9,
    "start_time": "2022-05-19T19:19:49.948Z"
   },
   {
    "duration": 7,
    "start_time": "2022-05-19T19:19:59.606Z"
   },
   {
    "duration": 41,
    "start_time": "2022-05-19T19:20:06.792Z"
   },
   {
    "duration": 15,
    "start_time": "2022-05-19T19:20:09.541Z"
   },
   {
    "duration": 11,
    "start_time": "2022-05-19T19:20:10.631Z"
   },
   {
    "duration": 4,
    "start_time": "2022-05-19T19:20:11.980Z"
   },
   {
    "duration": 17,
    "start_time": "2022-05-19T19:20:13.154Z"
   },
   {
    "duration": 15,
    "start_time": "2022-05-19T19:20:13.558Z"
   },
   {
    "duration": 15,
    "start_time": "2022-05-19T19:20:14.052Z"
   },
   {
    "duration": 18,
    "start_time": "2022-05-19T19:20:14.409Z"
   },
   {
    "duration": 21,
    "start_time": "2022-05-19T19:20:14.784Z"
   },
   {
    "duration": 16,
    "start_time": "2022-05-19T19:20:15.069Z"
   },
   {
    "duration": 15,
    "start_time": "2022-05-19T19:20:15.598Z"
   },
   {
    "duration": 5,
    "start_time": "2022-05-19T19:21:57.049Z"
   },
   {
    "duration": 16,
    "start_time": "2022-05-19T19:22:37.378Z"
   },
   {
    "duration": 40,
    "start_time": "2022-05-19T19:25:22.146Z"
   },
   {
    "duration": 26,
    "start_time": "2022-05-19T19:26:08.767Z"
   },
   {
    "duration": 27,
    "start_time": "2022-05-19T19:26:12.574Z"
   },
   {
    "duration": 25,
    "start_time": "2022-05-19T19:26:27.800Z"
   },
   {
    "duration": 3,
    "start_time": "2022-05-19T19:28:05.131Z"
   },
   {
    "duration": 3,
    "start_time": "2022-05-19T19:28:43.896Z"
   },
   {
    "duration": 8,
    "start_time": "2022-05-19T19:29:11.205Z"
   },
   {
    "duration": 8,
    "start_time": "2022-05-19T19:29:21.615Z"
   },
   {
    "duration": 2,
    "start_time": "2022-05-19T19:32:01.383Z"
   },
   {
    "duration": 166,
    "start_time": "2022-05-19T19:32:02.650Z"
   },
   {
    "duration": 11,
    "start_time": "2022-05-19T19:32:03.986Z"
   },
   {
    "duration": 11,
    "start_time": "2022-05-19T19:32:18.278Z"
   },
   {
    "duration": 9,
    "start_time": "2022-05-19T19:32:19.948Z"
   },
   {
    "duration": 30,
    "start_time": "2022-05-19T19:32:21.173Z"
   },
   {
    "duration": 96,
    "start_time": "2022-05-19T19:35:51.454Z"
   },
   {
    "duration": 32,
    "start_time": "2022-05-19T19:36:20.649Z"
   },
   {
    "duration": 44,
    "start_time": "2022-05-19T19:36:36.929Z"
   },
   {
    "duration": 37,
    "start_time": "2022-05-19T19:37:33.758Z"
   },
   {
    "duration": 38,
    "start_time": "2022-05-19T19:37:38.848Z"
   },
   {
    "duration": 581,
    "start_time": "2022-05-19T19:37:44.159Z"
   },
   {
    "duration": 3,
    "start_time": "2022-05-19T19:37:50.470Z"
   },
   {
    "duration": 563,
    "start_time": "2022-05-19T19:37:53.453Z"
   },
   {
    "duration": 3,
    "start_time": "2022-05-19T19:39:18.951Z"
   },
   {
    "duration": 173,
    "start_time": "2022-05-19T19:39:18.956Z"
   },
   {
    "duration": 11,
    "start_time": "2022-05-19T19:39:19.131Z"
   },
   {
    "duration": 10,
    "start_time": "2022-05-19T19:39:19.622Z"
   },
   {
    "duration": 50,
    "start_time": "2022-05-19T19:39:19.634Z"
   },
   {
    "duration": 17,
    "start_time": "2022-05-19T19:39:19.685Z"
   },
   {
    "duration": 11,
    "start_time": "2022-05-19T19:39:20.321Z"
   },
   {
    "duration": 25,
    "start_time": "2022-05-19T19:39:20.334Z"
   },
   {
    "duration": 47,
    "start_time": "2022-05-19T19:39:20.360Z"
   },
   {
    "duration": 18,
    "start_time": "2022-05-19T19:39:20.969Z"
   },
   {
    "duration": 31,
    "start_time": "2022-05-19T19:39:20.989Z"
   },
   {
    "duration": 68,
    "start_time": "2022-05-19T19:39:21.022Z"
   },
   {
    "duration": 69,
    "start_time": "2022-05-19T19:39:21.092Z"
   },
   {
    "duration": 110,
    "start_time": "2022-05-19T19:39:21.163Z"
   },
   {
    "duration": 52,
    "start_time": "2022-05-19T19:39:21.275Z"
   },
   {
    "duration": 3,
    "start_time": "2022-05-19T19:39:21.329Z"
   },
   {
    "duration": 31,
    "start_time": "2022-05-19T19:39:21.335Z"
   },
   {
    "duration": 45,
    "start_time": "2022-05-19T19:39:21.368Z"
   },
   {
    "duration": 11,
    "start_time": "2022-05-19T19:39:21.415Z"
   },
   {
    "duration": 12,
    "start_time": "2022-05-19T19:39:21.428Z"
   },
   {
    "duration": 10,
    "start_time": "2022-05-19T19:39:21.441Z"
   },
   {
    "duration": 48,
    "start_time": "2022-05-19T19:39:21.453Z"
   },
   {
    "duration": 22,
    "start_time": "2022-05-19T19:39:21.502Z"
   },
   {
    "duration": 42,
    "start_time": "2022-05-19T19:39:21.525Z"
   },
   {
    "duration": 28,
    "start_time": "2022-05-19T19:39:21.569Z"
   },
   {
    "duration": 24,
    "start_time": "2022-05-19T19:39:21.599Z"
   },
   {
    "duration": 29,
    "start_time": "2022-05-19T19:39:21.624Z"
   },
   {
    "duration": 42,
    "start_time": "2022-05-19T19:39:21.655Z"
   },
   {
    "duration": 0,
    "start_time": "2022-05-19T19:39:21.699Z"
   },
   {
    "duration": 0,
    "start_time": "2022-05-19T19:39:21.700Z"
   },
   {
    "duration": 0,
    "start_time": "2022-05-19T19:39:21.701Z"
   },
   {
    "duration": 0,
    "start_time": "2022-05-19T19:39:21.702Z"
   },
   {
    "duration": 0,
    "start_time": "2022-05-19T19:39:21.703Z"
   },
   {
    "duration": 0,
    "start_time": "2022-05-19T19:39:21.704Z"
   },
   {
    "duration": 0,
    "start_time": "2022-05-19T19:39:21.705Z"
   },
   {
    "duration": 0,
    "start_time": "2022-05-19T19:39:21.706Z"
   },
   {
    "duration": 0,
    "start_time": "2022-05-19T19:39:21.707Z"
   },
   {
    "duration": 0,
    "start_time": "2022-05-19T19:39:21.709Z"
   },
   {
    "duration": 0,
    "start_time": "2022-05-19T19:39:21.709Z"
   },
   {
    "duration": 0,
    "start_time": "2022-05-19T19:39:21.711Z"
   },
   {
    "duration": 0,
    "start_time": "2022-05-19T19:39:21.712Z"
   },
   {
    "duration": 5,
    "start_time": "2022-05-19T19:41:57.217Z"
   },
   {
    "duration": 5,
    "start_time": "2022-05-19T19:42:59.186Z"
   },
   {
    "duration": 29,
    "start_time": "2022-05-19T19:43:42.949Z"
   },
   {
    "duration": 68,
    "start_time": "2022-05-19T19:43:52.424Z"
   },
   {
    "duration": 69,
    "start_time": "2022-05-19T19:44:08.850Z"
   },
   {
    "duration": 67,
    "start_time": "2022-05-19T19:44:19.995Z"
   },
   {
    "duration": 34,
    "start_time": "2022-05-19T19:45:57.108Z"
   },
   {
    "duration": 80,
    "start_time": "2022-05-19T19:46:02.654Z"
   },
   {
    "duration": 37,
    "start_time": "2022-05-19T19:50:34.341Z"
   },
   {
    "duration": 71,
    "start_time": "2022-05-19T19:50:38.242Z"
   },
   {
    "duration": 73,
    "start_time": "2022-05-19T19:52:28.130Z"
   },
   {
    "duration": 9,
    "start_time": "2022-05-19T19:53:12.983Z"
   },
   {
    "duration": 75,
    "start_time": "2022-05-19T19:53:42.163Z"
   },
   {
    "duration": 68,
    "start_time": "2022-05-19T19:54:08.113Z"
   },
   {
    "duration": 69,
    "start_time": "2022-05-19T19:54:12.845Z"
   },
   {
    "duration": 9,
    "start_time": "2022-05-19T19:54:15.775Z"
   },
   {
    "duration": 39,
    "start_time": "2022-05-19T20:09:05.623Z"
   },
   {
    "duration": 3,
    "start_time": "2022-05-19T20:09:28.055Z"
   },
   {
    "duration": 199,
    "start_time": "2022-05-19T20:09:28.060Z"
   },
   {
    "duration": 11,
    "start_time": "2022-05-19T20:09:28.261Z"
   },
   {
    "duration": 21,
    "start_time": "2022-05-19T20:09:28.275Z"
   },
   {
    "duration": 36,
    "start_time": "2022-05-19T20:09:28.299Z"
   },
   {
    "duration": 3,
    "start_time": "2022-05-19T20:09:28.337Z"
   },
   {
    "duration": 11,
    "start_time": "2022-05-19T20:09:28.342Z"
   },
   {
    "duration": 5,
    "start_time": "2022-05-19T20:09:28.355Z"
   },
   {
    "duration": 44,
    "start_time": "2022-05-19T20:09:28.362Z"
   },
   {
    "duration": 20,
    "start_time": "2022-05-19T20:09:28.409Z"
   },
   {
    "duration": 25,
    "start_time": "2022-05-19T20:09:28.430Z"
   },
   {
    "duration": 94,
    "start_time": "2022-05-19T20:09:28.457Z"
   },
   {
    "duration": 73,
    "start_time": "2022-05-19T20:09:28.553Z"
   },
   {
    "duration": 70,
    "start_time": "2022-05-19T20:09:28.630Z"
   },
   {
    "duration": 43,
    "start_time": "2022-05-19T20:09:28.702Z"
   },
   {
    "duration": 3,
    "start_time": "2022-05-19T20:09:28.747Z"
   },
   {
    "duration": 14,
    "start_time": "2022-05-19T20:09:28.752Z"
   },
   {
    "duration": 64,
    "start_time": "2022-05-19T20:09:28.768Z"
   },
   {
    "duration": 13,
    "start_time": "2022-05-19T20:09:28.833Z"
   },
   {
    "duration": 12,
    "start_time": "2022-05-19T20:09:28.848Z"
   },
   {
    "duration": 33,
    "start_time": "2022-05-19T20:09:28.862Z"
   },
   {
    "duration": 26,
    "start_time": "2022-05-19T20:09:28.897Z"
   },
   {
    "duration": 17,
    "start_time": "2022-05-19T20:09:28.925Z"
   },
   {
    "duration": 19,
    "start_time": "2022-05-19T20:09:28.944Z"
   },
   {
    "duration": 42,
    "start_time": "2022-05-19T20:09:28.966Z"
   },
   {
    "duration": 17,
    "start_time": "2022-05-19T20:09:29.009Z"
   },
   {
    "duration": 14,
    "start_time": "2022-05-19T20:09:29.028Z"
   },
   {
    "duration": 98,
    "start_time": "2022-05-19T20:09:29.044Z"
   },
   {
    "duration": 9,
    "start_time": "2022-05-19T20:09:29.143Z"
   },
   {
    "duration": 13,
    "start_time": "2022-05-19T20:09:29.154Z"
   },
   {
    "duration": 38,
    "start_time": "2022-05-19T20:09:29.169Z"
   },
   {
    "duration": 17,
    "start_time": "2022-05-19T20:09:29.209Z"
   },
   {
    "duration": 36,
    "start_time": "2022-05-19T20:09:34.449Z"
   },
   {
    "duration": 4,
    "start_time": "2022-05-19T20:09:40.566Z"
   },
   {
    "duration": 7,
    "start_time": "2022-05-19T20:09:44.808Z"
   },
   {
    "duration": 28,
    "start_time": "2022-05-19T20:09:51.556Z"
   },
   {
    "duration": 14,
    "start_time": "2022-05-19T20:09:54.403Z"
   },
   {
    "duration": 16,
    "start_time": "2022-05-19T20:09:54.961Z"
   },
   {
    "duration": 12,
    "start_time": "2022-05-19T20:10:07.484Z"
   },
   {
    "duration": 2,
    "start_time": "2022-05-19T20:12:15.202Z"
   },
   {
    "duration": 178,
    "start_time": "2022-05-19T20:12:15.207Z"
   },
   {
    "duration": 16,
    "start_time": "2022-05-19T20:12:15.387Z"
   },
   {
    "duration": 18,
    "start_time": "2022-05-19T20:12:15.405Z"
   },
   {
    "duration": 38,
    "start_time": "2022-05-19T20:12:15.426Z"
   },
   {
    "duration": 4,
    "start_time": "2022-05-19T20:12:15.465Z"
   },
   {
    "duration": 25,
    "start_time": "2022-05-19T20:12:15.471Z"
   },
   {
    "duration": 5,
    "start_time": "2022-05-19T20:12:15.498Z"
   },
   {
    "duration": 29,
    "start_time": "2022-05-19T20:12:15.505Z"
   },
   {
    "duration": 18,
    "start_time": "2022-05-19T20:12:15.536Z"
   },
   {
    "duration": 51,
    "start_time": "2022-05-19T20:12:15.555Z"
   },
   {
    "duration": 66,
    "start_time": "2022-05-19T20:12:15.608Z"
   },
   {
    "duration": 93,
    "start_time": "2022-05-19T20:12:15.676Z"
   },
   {
    "duration": 72,
    "start_time": "2022-05-19T20:12:15.772Z"
   },
   {
    "duration": 51,
    "start_time": "2022-05-19T20:12:15.846Z"
   },
   {
    "duration": 3,
    "start_time": "2022-05-19T20:12:15.899Z"
   },
   {
    "duration": 11,
    "start_time": "2022-05-19T20:12:15.904Z"
   },
   {
    "duration": 48,
    "start_time": "2022-05-19T20:12:15.917Z"
   },
   {
    "duration": 29,
    "start_time": "2022-05-19T20:12:15.967Z"
   },
   {
    "duration": 12,
    "start_time": "2022-05-19T20:12:15.997Z"
   },
   {
    "duration": 4,
    "start_time": "2022-05-19T20:12:16.011Z"
   },
   {
    "duration": 38,
    "start_time": "2022-05-19T20:12:16.016Z"
   },
   {
    "duration": 21,
    "start_time": "2022-05-19T20:12:16.056Z"
   },
   {
    "duration": 20,
    "start_time": "2022-05-19T20:12:16.095Z"
   },
   {
    "duration": 16,
    "start_time": "2022-05-19T20:12:16.117Z"
   },
   {
    "duration": 20,
    "start_time": "2022-05-19T20:12:16.135Z"
   },
   {
    "duration": 44,
    "start_time": "2022-05-19T20:12:16.157Z"
   },
   {
    "duration": 104,
    "start_time": "2022-05-19T20:12:16.203Z"
   },
   {
    "duration": 10,
    "start_time": "2022-05-19T20:12:16.309Z"
   },
   {
    "duration": 98,
    "start_time": "2022-05-19T20:16:42.125Z"
   },
   {
    "duration": 70,
    "start_time": "2022-05-19T20:17:02.060Z"
   },
   {
    "duration": 23,
    "start_time": "2022-05-19T20:18:46.263Z"
   },
   {
    "duration": 61,
    "start_time": "2022-05-19T20:19:06.716Z"
   },
   {
    "duration": 23,
    "start_time": "2022-05-19T20:19:15.049Z"
   },
   {
    "duration": 0,
    "start_time": "2022-05-19T20:20:07.238Z"
   },
   {
    "duration": 0,
    "start_time": "2022-05-19T20:20:07.240Z"
   },
   {
    "duration": 0,
    "start_time": "2022-05-19T20:20:07.242Z"
   },
   {
    "duration": 0,
    "start_time": "2022-05-19T20:20:07.243Z"
   },
   {
    "duration": 10,
    "start_time": "2022-05-19T20:20:26.912Z"
   },
   {
    "duration": 37,
    "start_time": "2022-05-19T20:20:26.924Z"
   },
   {
    "duration": 4,
    "start_time": "2022-05-19T20:20:26.963Z"
   },
   {
    "duration": 7,
    "start_time": "2022-05-19T20:20:26.979Z"
   },
   {
    "duration": 8,
    "start_time": "2022-05-19T20:20:26.989Z"
   },
   {
    "duration": 28,
    "start_time": "2022-05-19T20:20:26.999Z"
   },
   {
    "duration": 21,
    "start_time": "2022-05-19T20:20:27.028Z"
   },
   {
    "duration": 43,
    "start_time": "2022-05-19T20:20:27.053Z"
   },
   {
    "duration": 60,
    "start_time": "2022-05-19T20:20:27.097Z"
   },
   {
    "duration": 153,
    "start_time": "2022-05-19T20:20:27.159Z"
   },
   {
    "duration": 192,
    "start_time": "2022-05-19T20:20:27.315Z"
   },
   {
    "duration": 97,
    "start_time": "2022-05-19T20:20:27.510Z"
   },
   {
    "duration": 4,
    "start_time": "2022-05-19T20:20:27.609Z"
   },
   {
    "duration": 24,
    "start_time": "2022-05-19T20:20:27.615Z"
   },
   {
    "duration": 82,
    "start_time": "2022-05-19T20:20:27.749Z"
   },
   {
    "duration": 11,
    "start_time": "2022-05-19T20:20:27.834Z"
   },
   {
    "duration": 12,
    "start_time": "2022-05-19T20:20:27.847Z"
   },
   {
    "duration": 35,
    "start_time": "2022-05-19T20:20:27.862Z"
   },
   {
    "duration": 26,
    "start_time": "2022-05-19T20:20:27.900Z"
   },
   {
    "duration": 16,
    "start_time": "2022-05-19T20:20:27.928Z"
   },
   {
    "duration": 15,
    "start_time": "2022-05-19T20:20:27.945Z"
   },
   {
    "duration": 38,
    "start_time": "2022-05-19T20:20:27.962Z"
   },
   {
    "duration": 18,
    "start_time": "2022-05-19T20:20:28.002Z"
   },
   {
    "duration": 15,
    "start_time": "2022-05-19T20:20:28.023Z"
   },
   {
    "duration": 98,
    "start_time": "2022-05-19T20:20:28.040Z"
   },
   {
    "duration": 9,
    "start_time": "2022-05-19T20:20:28.140Z"
   },
   {
    "duration": 4,
    "start_time": "2022-05-19T20:22:54.301Z"
   },
   {
    "duration": 20,
    "start_time": "2022-05-19T20:22:56.377Z"
   },
   {
    "duration": 24,
    "start_time": "2022-05-19T20:23:06.357Z"
   },
   {
    "duration": 13,
    "start_time": "2022-05-19T20:23:06.993Z"
   },
   {
    "duration": 4,
    "start_time": "2022-05-19T20:23:14.008Z"
   },
   {
    "duration": 20,
    "start_time": "2022-05-19T20:23:15.578Z"
   },
   {
    "duration": 12,
    "start_time": "2022-05-19T20:23:18.094Z"
   },
   {
    "duration": 16,
    "start_time": "2022-05-19T20:23:21.195Z"
   },
   {
    "duration": 11,
    "start_time": "2022-05-19T20:23:22.270Z"
   },
   {
    "duration": 22,
    "start_time": "2022-05-19T20:27:15.072Z"
   },
   {
    "duration": 8,
    "start_time": "2022-05-19T20:31:25.963Z"
   },
   {
    "duration": 3,
    "start_time": "2022-05-19T20:31:50.801Z"
   },
   {
    "duration": 3,
    "start_time": "2022-05-19T20:32:03.251Z"
   },
   {
    "duration": 47,
    "start_time": "2022-05-19T20:32:52.284Z"
   },
   {
    "duration": 8,
    "start_time": "2022-05-19T20:33:01.147Z"
   },
   {
    "duration": 8,
    "start_time": "2022-05-19T20:33:08.924Z"
   },
   {
    "duration": 7,
    "start_time": "2022-05-19T20:33:18.107Z"
   },
   {
    "duration": 7,
    "start_time": "2022-05-19T20:33:21.905Z"
   },
   {
    "duration": 45,
    "start_time": "2022-05-19T20:34:17.976Z"
   },
   {
    "duration": 7,
    "start_time": "2022-05-19T20:34:23.916Z"
   },
   {
    "duration": 8,
    "start_time": "2022-05-19T20:34:35.686Z"
   },
   {
    "duration": 8,
    "start_time": "2022-05-19T20:35:22.844Z"
   },
   {
    "duration": 3,
    "start_time": "2022-05-19T20:35:32.953Z"
   },
   {
    "duration": 4,
    "start_time": "2022-05-19T20:35:45.697Z"
   },
   {
    "duration": 41,
    "start_time": "2022-05-19T20:37:49.077Z"
   },
   {
    "duration": 5,
    "start_time": "2022-05-19T20:37:56.370Z"
   },
   {
    "duration": 38,
    "start_time": "2022-05-19T20:38:04.966Z"
   },
   {
    "duration": 5,
    "start_time": "2022-05-19T20:38:10.368Z"
   },
   {
    "duration": 4,
    "start_time": "2022-05-19T20:38:29.049Z"
   },
   {
    "duration": 9,
    "start_time": "2022-05-19T20:39:50.643Z"
   },
   {
    "duration": 4,
    "start_time": "2022-05-19T20:40:00.265Z"
   },
   {
    "duration": 5,
    "start_time": "2022-05-19T20:40:21.333Z"
   },
   {
    "duration": 5,
    "start_time": "2022-05-19T20:40:28.053Z"
   },
   {
    "duration": 4,
    "start_time": "2022-05-19T20:41:01.806Z"
   },
   {
    "duration": 17,
    "start_time": "2022-05-19T20:42:16.679Z"
   },
   {
    "duration": 4,
    "start_time": "2022-05-19T20:42:39.447Z"
   },
   {
    "duration": 87,
    "start_time": "2022-05-19T20:48:36.581Z"
   },
   {
    "duration": 68,
    "start_time": "2022-05-19T20:48:57.362Z"
   },
   {
    "duration": 42,
    "start_time": "2022-05-19T20:49:02.588Z"
   },
   {
    "duration": 96,
    "start_time": "2022-05-19T20:49:05.976Z"
   },
   {
    "duration": 80,
    "start_time": "2022-05-20T19:38:53.488Z"
   },
   {
    "duration": 425,
    "start_time": "2022-05-20T19:39:03.543Z"
   },
   {
    "duration": 169,
    "start_time": "2022-05-20T19:39:03.970Z"
   },
   {
    "duration": 17,
    "start_time": "2022-05-20T19:39:04.140Z"
   },
   {
    "duration": 30,
    "start_time": "2022-05-20T19:39:04.159Z"
   },
   {
    "duration": 50,
    "start_time": "2022-05-20T19:39:04.194Z"
   },
   {
    "duration": 4,
    "start_time": "2022-05-20T19:39:04.245Z"
   },
   {
    "duration": 15,
    "start_time": "2022-05-20T19:39:04.250Z"
   },
   {
    "duration": 10,
    "start_time": "2022-05-20T19:39:04.266Z"
   },
   {
    "duration": 60,
    "start_time": "2022-05-20T19:39:04.281Z"
   },
   {
    "duration": 19,
    "start_time": "2022-05-20T19:39:04.344Z"
   },
   {
    "duration": 34,
    "start_time": "2022-05-20T19:39:04.365Z"
   },
   {
    "duration": 65,
    "start_time": "2022-05-20T19:39:04.400Z"
   },
   {
    "duration": 90,
    "start_time": "2022-05-20T19:39:04.467Z"
   },
   {
    "duration": 64,
    "start_time": "2022-05-20T19:39:04.559Z"
   },
   {
    "duration": 37,
    "start_time": "2022-05-20T19:39:04.625Z"
   },
   {
    "duration": 17,
    "start_time": "2022-05-20T19:39:04.664Z"
   },
   {
    "duration": 23,
    "start_time": "2022-05-20T19:39:04.686Z"
   },
   {
    "duration": 37,
    "start_time": "2022-05-20T19:39:04.711Z"
   },
   {
    "duration": 13,
    "start_time": "2022-05-20T19:39:04.749Z"
   },
   {
    "duration": 20,
    "start_time": "2022-05-20T19:39:04.763Z"
   },
   {
    "duration": 26,
    "start_time": "2022-05-20T19:39:04.785Z"
   },
   {
    "duration": 23,
    "start_time": "2022-05-20T19:39:04.813Z"
   },
   {
    "duration": 15,
    "start_time": "2022-05-20T19:39:04.837Z"
   },
   {
    "duration": 20,
    "start_time": "2022-05-20T19:39:04.853Z"
   },
   {
    "duration": 17,
    "start_time": "2022-05-20T19:39:04.875Z"
   },
   {
    "duration": 30,
    "start_time": "2022-05-20T19:39:04.893Z"
   },
   {
    "duration": 20,
    "start_time": "2022-05-20T19:39:04.925Z"
   },
   {
    "duration": 93,
    "start_time": "2022-05-20T19:39:04.949Z"
   },
   {
    "duration": 56,
    "start_time": "2022-05-20T19:39:05.043Z"
   },
   {
    "duration": 10,
    "start_time": "2022-05-20T19:39:05.102Z"
   },
   {
    "duration": 5,
    "start_time": "2022-05-20T19:39:05.114Z"
   },
   {
    "duration": 0,
    "start_time": "2022-05-20T19:39:05.121Z"
   },
   {
    "duration": 0,
    "start_time": "2022-05-20T19:39:05.123Z"
   },
   {
    "duration": 0,
    "start_time": "2022-05-20T19:39:05.124Z"
   },
   {
    "duration": 0,
    "start_time": "2022-05-20T19:39:05.126Z"
   },
   {
    "duration": 0,
    "start_time": "2022-05-20T19:39:05.126Z"
   },
   {
    "duration": 0,
    "start_time": "2022-05-20T19:39:05.127Z"
   },
   {
    "duration": 0,
    "start_time": "2022-05-20T19:39:05.128Z"
   },
   {
    "duration": 0,
    "start_time": "2022-05-20T19:39:05.129Z"
   },
   {
    "duration": 0,
    "start_time": "2022-05-20T19:39:05.130Z"
   },
   {
    "duration": 0,
    "start_time": "2022-05-20T19:39:05.131Z"
   },
   {
    "duration": 0,
    "start_time": "2022-05-20T19:39:05.132Z"
   },
   {
    "duration": 4,
    "start_time": "2022-05-20T19:40:21.023Z"
   },
   {
    "duration": 17,
    "start_time": "2022-05-20T19:40:25.055Z"
   },
   {
    "duration": 44,
    "start_time": "2022-05-20T19:40:32.584Z"
   },
   {
    "duration": 15,
    "start_time": "2022-05-20T19:40:59.153Z"
   },
   {
    "duration": 56,
    "start_time": "2022-05-20T19:44:35.262Z"
   },
   {
    "duration": 63,
    "start_time": "2022-05-20T19:44:52.008Z"
   },
   {
    "duration": 404,
    "start_time": "2022-05-20T19:45:16.891Z"
   },
   {
    "duration": 166,
    "start_time": "2022-05-20T19:45:17.296Z"
   },
   {
    "duration": 31,
    "start_time": "2022-05-20T19:45:17.463Z"
   },
   {
    "duration": 13,
    "start_time": "2022-05-20T19:45:17.496Z"
   },
   {
    "duration": 29,
    "start_time": "2022-05-20T19:45:17.510Z"
   },
   {
    "duration": 3,
    "start_time": "2022-05-20T19:45:17.541Z"
   },
   {
    "duration": 13,
    "start_time": "2022-05-20T19:45:17.545Z"
   },
   {
    "duration": 15,
    "start_time": "2022-05-20T19:45:17.577Z"
   },
   {
    "duration": 44,
    "start_time": "2022-05-20T19:45:17.593Z"
   },
   {
    "duration": 28,
    "start_time": "2022-05-20T19:45:17.641Z"
   },
   {
    "duration": 42,
    "start_time": "2022-05-20T19:45:17.670Z"
   },
   {
    "duration": 103,
    "start_time": "2022-05-20T19:45:17.714Z"
   },
   {
    "duration": 87,
    "start_time": "2022-05-20T19:45:17.819Z"
   },
   {
    "duration": 54,
    "start_time": "2022-05-20T19:45:17.907Z"
   },
   {
    "duration": 46,
    "start_time": "2022-05-20T19:45:17.975Z"
   },
   {
    "duration": 3,
    "start_time": "2022-05-20T19:45:18.023Z"
   },
   {
    "duration": 13,
    "start_time": "2022-05-20T19:45:18.028Z"
   },
   {
    "duration": 82,
    "start_time": "2022-05-20T19:45:18.043Z"
   },
   {
    "duration": 16,
    "start_time": "2022-05-20T19:45:18.126Z"
   },
   {
    "duration": 15,
    "start_time": "2022-05-20T19:45:18.144Z"
   },
   {
    "duration": 10,
    "start_time": "2022-05-20T19:45:18.176Z"
   },
   {
    "duration": 25,
    "start_time": "2022-05-20T19:45:18.190Z"
   },
   {
    "duration": 30,
    "start_time": "2022-05-20T19:45:18.220Z"
   },
   {
    "duration": 19,
    "start_time": "2022-05-20T19:45:18.252Z"
   },
   {
    "duration": 26,
    "start_time": "2022-05-20T19:45:18.273Z"
   },
   {
    "duration": 22,
    "start_time": "2022-05-20T19:45:18.301Z"
   },
   {
    "duration": 13,
    "start_time": "2022-05-20T19:45:18.325Z"
   },
   {
    "duration": 87,
    "start_time": "2022-05-20T19:45:18.341Z"
   },
   {
    "duration": 10,
    "start_time": "2022-05-20T19:45:18.429Z"
   },
   {
    "duration": 88,
    "start_time": "2022-05-20T19:45:18.441Z"
   },
   {
    "duration": 19,
    "start_time": "2022-05-20T19:45:18.531Z"
   },
   {
    "duration": 37,
    "start_time": "2022-05-20T19:45:18.551Z"
   },
   {
    "duration": 5,
    "start_time": "2022-05-20T19:45:18.595Z"
   },
   {
    "duration": 29,
    "start_time": "2022-05-20T19:45:18.602Z"
   },
   {
    "duration": 13,
    "start_time": "2022-05-20T19:45:18.633Z"
   },
   {
    "duration": 42,
    "start_time": "2022-05-20T19:45:18.648Z"
   },
   {
    "duration": 11,
    "start_time": "2022-05-20T19:45:18.692Z"
   },
   {
    "duration": 9,
    "start_time": "2022-05-20T19:45:18.704Z"
   },
   {
    "duration": 5,
    "start_time": "2022-05-20T19:45:18.714Z"
   },
   {
    "duration": 8,
    "start_time": "2022-05-20T19:45:18.720Z"
   },
   {
    "duration": 6,
    "start_time": "2022-05-20T19:45:18.730Z"
   },
   {
    "duration": 53,
    "start_time": "2022-05-27T14:19:05.684Z"
   },
   {
    "duration": 6,
    "start_time": "2022-05-27T14:19:27.860Z"
   },
   {
    "duration": 48,
    "start_time": "2023-05-25T15:29:26.249Z"
   },
   {
    "duration": 384,
    "start_time": "2023-05-25T15:29:30.664Z"
   },
   {
    "duration": 440,
    "start_time": "2023-05-25T15:29:31.050Z"
   },
   {
    "duration": 551,
    "start_time": "2023-05-25T15:29:31.492Z"
   },
   {
    "duration": 35,
    "start_time": "2023-05-25T15:31:36.250Z"
   },
   {
    "duration": 358,
    "start_time": "2023-05-25T15:31:53.682Z"
   },
   {
    "duration": 164,
    "start_time": "2023-05-25T15:31:54.042Z"
   },
   {
    "duration": 71,
    "start_time": "2023-05-25T15:31:54.208Z"
   },
   {
    "duration": 0,
    "start_time": "2023-05-25T15:31:54.282Z"
   },
   {
    "duration": 0,
    "start_time": "2023-05-25T15:31:54.283Z"
   },
   {
    "duration": 0,
    "start_time": "2023-05-25T15:31:54.284Z"
   },
   {
    "duration": 0,
    "start_time": "2023-05-25T15:31:54.285Z"
   },
   {
    "duration": 0,
    "start_time": "2023-05-25T15:31:54.286Z"
   },
   {
    "duration": 0,
    "start_time": "2023-05-25T15:31:54.287Z"
   },
   {
    "duration": 0,
    "start_time": "2023-05-25T15:31:54.288Z"
   },
   {
    "duration": 0,
    "start_time": "2023-05-25T15:31:54.289Z"
   },
   {
    "duration": 0,
    "start_time": "2023-05-25T15:31:54.290Z"
   },
   {
    "duration": 0,
    "start_time": "2023-05-25T15:31:54.291Z"
   },
   {
    "duration": 0,
    "start_time": "2023-05-25T15:31:54.292Z"
   },
   {
    "duration": 0,
    "start_time": "2023-05-25T15:31:54.293Z"
   },
   {
    "duration": 0,
    "start_time": "2023-05-25T15:31:54.294Z"
   },
   {
    "duration": 0,
    "start_time": "2023-05-25T15:31:54.295Z"
   },
   {
    "duration": 0,
    "start_time": "2023-05-25T15:31:54.325Z"
   },
   {
    "duration": 0,
    "start_time": "2023-05-25T15:31:54.326Z"
   },
   {
    "duration": 0,
    "start_time": "2023-05-25T15:31:54.327Z"
   },
   {
    "duration": 0,
    "start_time": "2023-05-25T15:31:54.328Z"
   },
   {
    "duration": 0,
    "start_time": "2023-05-25T15:31:54.329Z"
   },
   {
    "duration": 0,
    "start_time": "2023-05-25T15:31:54.330Z"
   },
   {
    "duration": 0,
    "start_time": "2023-05-25T15:31:54.331Z"
   },
   {
    "duration": 0,
    "start_time": "2023-05-25T15:31:54.332Z"
   },
   {
    "duration": 0,
    "start_time": "2023-05-25T15:31:54.333Z"
   },
   {
    "duration": 0,
    "start_time": "2023-05-25T15:31:54.334Z"
   },
   {
    "duration": 0,
    "start_time": "2023-05-25T15:31:54.335Z"
   },
   {
    "duration": 0,
    "start_time": "2023-05-25T15:31:54.336Z"
   },
   {
    "duration": 0,
    "start_time": "2023-05-25T15:31:54.337Z"
   },
   {
    "duration": 0,
    "start_time": "2023-05-25T15:31:54.339Z"
   },
   {
    "duration": 0,
    "start_time": "2023-05-25T15:31:54.340Z"
   },
   {
    "duration": 0,
    "start_time": "2023-05-25T15:31:54.341Z"
   },
   {
    "duration": 0,
    "start_time": "2023-05-25T15:31:54.342Z"
   },
   {
    "duration": 0,
    "start_time": "2023-05-25T15:31:54.343Z"
   },
   {
    "duration": 0,
    "start_time": "2023-05-25T15:31:54.345Z"
   },
   {
    "duration": 0,
    "start_time": "2023-05-25T15:31:54.346Z"
   },
   {
    "duration": 0,
    "start_time": "2023-05-25T15:31:54.347Z"
   },
   {
    "duration": 0,
    "start_time": "2023-05-25T15:31:54.348Z"
   },
   {
    "duration": 0,
    "start_time": "2023-05-25T15:31:54.349Z"
   },
   {
    "duration": 0,
    "start_time": "2023-05-25T15:31:54.350Z"
   },
   {
    "duration": 0,
    "start_time": "2023-05-25T15:31:54.351Z"
   },
   {
    "duration": 12,
    "start_time": "2023-05-25T15:43:52.577Z"
   },
   {
    "duration": 162,
    "start_time": "2023-05-25T15:44:02.985Z"
   },
   {
    "duration": 12,
    "start_time": "2023-05-25T15:44:05.608Z"
   },
   {
    "duration": 2,
    "start_time": "2023-05-25T15:45:36.385Z"
   },
   {
    "duration": 160,
    "start_time": "2023-05-25T15:45:37.684Z"
   },
   {
    "duration": 11,
    "start_time": "2023-05-25T15:46:48.728Z"
   },
   {
    "duration": 90,
    "start_time": "2023-05-25T15:47:01.600Z"
   },
   {
    "duration": 33,
    "start_time": "2023-05-25T15:47:14.217Z"
   },
   {
    "duration": 173,
    "start_time": "2023-05-25T15:48:58.279Z"
   },
   {
    "duration": 213,
    "start_time": "2023-05-25T15:50:06.413Z"
   },
   {
    "duration": 199,
    "start_time": "2023-05-25T15:50:31.230Z"
   },
   {
    "duration": 175,
    "start_time": "2023-05-25T15:52:40.907Z"
   },
   {
    "duration": 30,
    "start_time": "2023-05-25T15:53:55.938Z"
   },
   {
    "duration": 403,
    "start_time": "2023-05-25T15:54:44.231Z"
   },
   {
    "duration": 162,
    "start_time": "2023-05-25T15:54:44.636Z"
   },
   {
    "duration": 72,
    "start_time": "2023-05-25T15:54:44.800Z"
   },
   {
    "duration": 0,
    "start_time": "2023-05-25T15:54:44.875Z"
   },
   {
    "duration": 0,
    "start_time": "2023-05-25T15:54:44.877Z"
   },
   {
    "duration": 0,
    "start_time": "2023-05-25T15:54:44.879Z"
   },
   {
    "duration": 0,
    "start_time": "2023-05-25T15:54:44.880Z"
   },
   {
    "duration": 0,
    "start_time": "2023-05-25T15:54:44.882Z"
   },
   {
    "duration": 0,
    "start_time": "2023-05-25T15:54:44.883Z"
   },
   {
    "duration": 0,
    "start_time": "2023-05-25T15:54:44.884Z"
   },
   {
    "duration": 0,
    "start_time": "2023-05-25T15:54:44.885Z"
   },
   {
    "duration": 0,
    "start_time": "2023-05-25T15:54:44.886Z"
   },
   {
    "duration": 0,
    "start_time": "2023-05-25T15:54:44.887Z"
   },
   {
    "duration": 0,
    "start_time": "2023-05-25T15:54:44.888Z"
   },
   {
    "duration": 0,
    "start_time": "2023-05-25T15:54:44.889Z"
   },
   {
    "duration": 0,
    "start_time": "2023-05-25T15:54:44.890Z"
   },
   {
    "duration": 0,
    "start_time": "2023-05-25T15:54:44.891Z"
   },
   {
    "duration": 0,
    "start_time": "2023-05-25T15:54:44.892Z"
   },
   {
    "duration": 0,
    "start_time": "2023-05-25T15:54:44.925Z"
   },
   {
    "duration": 0,
    "start_time": "2023-05-25T15:54:44.925Z"
   },
   {
    "duration": 0,
    "start_time": "2023-05-25T15:54:44.927Z"
   },
   {
    "duration": 0,
    "start_time": "2023-05-25T15:54:44.928Z"
   },
   {
    "duration": 0,
    "start_time": "2023-05-25T15:54:44.929Z"
   },
   {
    "duration": 0,
    "start_time": "2023-05-25T15:54:44.930Z"
   },
   {
    "duration": 0,
    "start_time": "2023-05-25T15:54:44.931Z"
   },
   {
    "duration": 0,
    "start_time": "2023-05-25T15:54:44.932Z"
   },
   {
    "duration": 0,
    "start_time": "2023-05-25T15:54:44.933Z"
   },
   {
    "duration": 0,
    "start_time": "2023-05-25T15:54:44.934Z"
   },
   {
    "duration": 0,
    "start_time": "2023-05-25T15:54:44.935Z"
   },
   {
    "duration": 0,
    "start_time": "2023-05-25T15:54:44.936Z"
   },
   {
    "duration": 0,
    "start_time": "2023-05-25T15:54:44.937Z"
   },
   {
    "duration": 0,
    "start_time": "2023-05-25T15:54:44.938Z"
   },
   {
    "duration": 0,
    "start_time": "2023-05-25T15:54:44.939Z"
   },
   {
    "duration": 0,
    "start_time": "2023-05-25T15:54:44.940Z"
   },
   {
    "duration": 0,
    "start_time": "2023-05-25T15:54:44.941Z"
   },
   {
    "duration": 0,
    "start_time": "2023-05-25T15:54:44.942Z"
   },
   {
    "duration": 0,
    "start_time": "2023-05-25T15:54:44.943Z"
   },
   {
    "duration": 0,
    "start_time": "2023-05-25T15:54:44.944Z"
   },
   {
    "duration": 0,
    "start_time": "2023-05-25T15:54:44.945Z"
   },
   {
    "duration": 0,
    "start_time": "2023-05-25T15:54:44.946Z"
   },
   {
    "duration": 0,
    "start_time": "2023-05-25T15:54:44.947Z"
   },
   {
    "duration": 0,
    "start_time": "2023-05-25T15:54:44.948Z"
   },
   {
    "duration": 0,
    "start_time": "2023-05-25T15:54:44.949Z"
   },
   {
    "duration": 30,
    "start_time": "2023-05-25T15:55:01.649Z"
   },
   {
    "duration": 31,
    "start_time": "2023-05-25T16:00:25.076Z"
   },
   {
    "duration": 15,
    "start_time": "2023-05-25T16:00:56.689Z"
   },
   {
    "duration": 11,
    "start_time": "2023-05-25T16:02:34.740Z"
   },
   {
    "duration": 11,
    "start_time": "2023-05-25T16:03:37.961Z"
   },
   {
    "duration": 3,
    "start_time": "2023-05-25T16:06:30.087Z"
   },
   {
    "duration": 234,
    "start_time": "2023-05-25T16:06:30.093Z"
   },
   {
    "duration": 19,
    "start_time": "2023-05-25T16:06:30.329Z"
   },
   {
    "duration": 15,
    "start_time": "2023-05-25T16:06:30.350Z"
   },
   {
    "duration": 50,
    "start_time": "2023-05-25T16:06:30.367Z"
   },
   {
    "duration": 14,
    "start_time": "2023-05-25T16:06:30.418Z"
   },
   {
    "duration": 32,
    "start_time": "2023-05-25T16:06:30.434Z"
   },
   {
    "duration": 18,
    "start_time": "2023-05-25T16:06:30.468Z"
   },
   {
    "duration": 50,
    "start_time": "2023-05-25T16:06:30.487Z"
   },
   {
    "duration": 59,
    "start_time": "2023-05-25T16:06:30.539Z"
   },
   {
    "duration": 79,
    "start_time": "2023-05-25T16:06:30.600Z"
   },
   {
    "duration": 91,
    "start_time": "2023-05-25T16:06:30.682Z"
   },
   {
    "duration": 102,
    "start_time": "2023-05-25T16:06:30.775Z"
   },
   {
    "duration": 88,
    "start_time": "2023-05-25T16:06:30.879Z"
   },
   {
    "duration": 66,
    "start_time": "2023-05-25T16:06:30.969Z"
   },
   {
    "duration": 4,
    "start_time": "2023-05-25T16:06:31.037Z"
   },
   {
    "duration": 36,
    "start_time": "2023-05-25T16:06:31.043Z"
   },
   {
    "duration": 93,
    "start_time": "2023-05-25T16:06:31.080Z"
   },
   {
    "duration": 18,
    "start_time": "2023-05-25T16:06:31.175Z"
   },
   {
    "duration": 30,
    "start_time": "2023-05-25T16:06:31.194Z"
   },
   {
    "duration": 27,
    "start_time": "2023-05-25T16:06:31.226Z"
   },
   {
    "duration": 48,
    "start_time": "2023-05-25T16:06:31.255Z"
   },
   {
    "duration": 44,
    "start_time": "2023-05-25T16:06:31.305Z"
   },
   {
    "duration": 70,
    "start_time": "2023-05-25T16:06:31.352Z"
   },
   {
    "duration": 81,
    "start_time": "2023-05-25T16:06:31.424Z"
   },
   {
    "duration": 45,
    "start_time": "2023-05-25T16:06:31.507Z"
   },
   {
    "duration": 48,
    "start_time": "2023-05-25T16:06:31.554Z"
   },
   {
    "duration": 89,
    "start_time": "2023-05-25T16:06:31.604Z"
   },
   {
    "duration": 9,
    "start_time": "2023-05-25T16:06:31.698Z"
   },
   {
    "duration": 138,
    "start_time": "2023-05-25T16:06:31.708Z"
   },
   {
    "duration": 28,
    "start_time": "2023-05-25T16:06:31.848Z"
   },
   {
    "duration": 22,
    "start_time": "2023-05-25T16:06:31.878Z"
   },
   {
    "duration": 24,
    "start_time": "2023-05-25T16:06:31.902Z"
   },
   {
    "duration": 30,
    "start_time": "2023-05-25T16:06:31.929Z"
   },
   {
    "duration": 15,
    "start_time": "2023-05-25T16:06:31.961Z"
   },
   {
    "duration": 22,
    "start_time": "2023-05-25T16:06:31.978Z"
   },
   {
    "duration": 33,
    "start_time": "2023-05-25T16:06:32.002Z"
   },
   {
    "duration": 8,
    "start_time": "2023-05-25T16:06:32.037Z"
   },
   {
    "duration": 5,
    "start_time": "2023-05-25T16:06:32.047Z"
   },
   {
    "duration": 14,
    "start_time": "2023-05-25T16:06:32.054Z"
   },
   {
    "duration": 10,
    "start_time": "2023-05-25T16:06:32.069Z"
   },
   {
    "duration": 366,
    "start_time": "2023-05-25T16:42:16.368Z"
   },
   {
    "duration": 165,
    "start_time": "2023-05-25T16:42:16.737Z"
   },
   {
    "duration": 24,
    "start_time": "2023-05-25T16:42:16.903Z"
   },
   {
    "duration": 9,
    "start_time": "2023-05-25T16:42:16.928Z"
   },
   {
    "duration": 35,
    "start_time": "2023-05-25T16:42:16.939Z"
   },
   {
    "duration": 3,
    "start_time": "2023-05-25T16:42:16.976Z"
   },
   {
    "duration": 14,
    "start_time": "2023-05-25T16:42:16.981Z"
   },
   {
    "duration": 29,
    "start_time": "2023-05-25T16:42:16.996Z"
   },
   {
    "duration": 26,
    "start_time": "2023-05-25T16:42:17.026Z"
   },
   {
    "duration": 19,
    "start_time": "2023-05-25T16:42:17.054Z"
   },
   {
    "duration": 24,
    "start_time": "2023-05-25T16:42:17.075Z"
   },
   {
    "duration": 99,
    "start_time": "2023-05-25T16:42:17.101Z"
   },
   {
    "duration": 88,
    "start_time": "2023-05-25T16:42:17.202Z"
   },
   {
    "duration": 97,
    "start_time": "2023-05-25T16:42:17.294Z"
   },
   {
    "duration": 49,
    "start_time": "2023-05-25T16:42:17.392Z"
   },
   {
    "duration": 3,
    "start_time": "2023-05-25T16:42:17.442Z"
   },
   {
    "duration": 10,
    "start_time": "2023-05-25T16:42:17.447Z"
   },
   {
    "duration": 39,
    "start_time": "2023-05-25T16:42:17.459Z"
   },
   {
    "duration": 30,
    "start_time": "2023-05-25T16:42:17.500Z"
   },
   {
    "duration": 11,
    "start_time": "2023-05-25T16:42:17.532Z"
   },
   {
    "duration": 3,
    "start_time": "2023-05-25T16:42:17.545Z"
   },
   {
    "duration": 20,
    "start_time": "2023-05-25T16:42:17.550Z"
   },
   {
    "duration": 13,
    "start_time": "2023-05-25T16:42:17.572Z"
   },
   {
    "duration": 45,
    "start_time": "2023-05-25T16:42:17.587Z"
   },
   {
    "duration": 14,
    "start_time": "2023-05-25T16:42:17.634Z"
   },
   {
    "duration": 15,
    "start_time": "2023-05-25T16:42:17.649Z"
   },
   {
    "duration": 13,
    "start_time": "2023-05-25T16:42:17.666Z"
   },
   {
    "duration": 94,
    "start_time": "2023-05-25T16:42:17.680Z"
   },
   {
    "duration": 9,
    "start_time": "2023-05-25T16:42:17.776Z"
   },
   {
    "duration": 88,
    "start_time": "2023-05-25T16:42:17.787Z"
   },
   {
    "duration": 20,
    "start_time": "2023-05-25T16:42:17.876Z"
   },
   {
    "duration": 33,
    "start_time": "2023-05-25T16:42:17.897Z"
   },
   {
    "duration": 4,
    "start_time": "2023-05-25T16:42:17.932Z"
   },
   {
    "duration": 23,
    "start_time": "2023-05-25T16:42:17.937Z"
   },
   {
    "duration": 11,
    "start_time": "2023-05-25T16:42:17.961Z"
   },
   {
    "duration": 15,
    "start_time": "2023-05-25T16:42:17.974Z"
   },
   {
    "duration": 36,
    "start_time": "2023-05-25T16:42:17.991Z"
   },
   {
    "duration": 9,
    "start_time": "2023-05-25T16:42:18.029Z"
   },
   {
    "duration": 5,
    "start_time": "2023-05-25T16:42:18.039Z"
   },
   {
    "duration": 7,
    "start_time": "2023-05-25T16:42:18.046Z"
   },
   {
    "duration": 12,
    "start_time": "2023-05-25T16:42:18.056Z"
   },
   {
    "duration": 24,
    "start_time": "2023-05-25T17:01:17.524Z"
   },
   {
    "duration": 417,
    "start_time": "2023-05-25T17:01:23.141Z"
   },
   {
    "duration": 185,
    "start_time": "2023-05-25T17:01:23.560Z"
   },
   {
    "duration": 22,
    "start_time": "2023-05-25T17:01:23.747Z"
   },
   {
    "duration": 69,
    "start_time": "2023-05-25T17:01:23.771Z"
   },
   {
    "duration": 4,
    "start_time": "2023-05-25T17:01:23.843Z"
   },
   {
    "duration": 23,
    "start_time": "2023-05-25T17:01:23.850Z"
   },
   {
    "duration": 34,
    "start_time": "2023-05-25T17:01:23.875Z"
   },
   {
    "duration": 72,
    "start_time": "2023-05-25T17:01:23.911Z"
   },
   {
    "duration": 32,
    "start_time": "2023-05-25T17:01:23.985Z"
   },
   {
    "duration": 27,
    "start_time": "2023-05-25T17:01:24.019Z"
   },
   {
    "duration": 82,
    "start_time": "2023-05-25T17:01:24.047Z"
   },
   {
    "duration": 98,
    "start_time": "2023-05-25T17:01:24.131Z"
   },
   {
    "duration": 67,
    "start_time": "2023-05-25T17:01:24.231Z"
   },
   {
    "duration": 55,
    "start_time": "2023-05-25T17:01:24.304Z"
   },
   {
    "duration": 10,
    "start_time": "2023-05-25T17:01:24.361Z"
   },
   {
    "duration": 38,
    "start_time": "2023-05-25T17:01:24.372Z"
   },
   {
    "duration": 46,
    "start_time": "2023-05-25T17:01:24.412Z"
   },
   {
    "duration": 12,
    "start_time": "2023-05-25T17:01:24.460Z"
   },
   {
    "duration": 20,
    "start_time": "2023-05-25T17:01:24.474Z"
   },
   {
    "duration": 23,
    "start_time": "2023-05-25T17:01:24.496Z"
   },
   {
    "duration": 39,
    "start_time": "2023-05-25T17:01:24.520Z"
   },
   {
    "duration": 18,
    "start_time": "2023-05-25T17:01:24.561Z"
   },
   {
    "duration": 42,
    "start_time": "2023-05-25T17:01:24.581Z"
   },
   {
    "duration": 37,
    "start_time": "2023-05-25T17:01:24.625Z"
   },
   {
    "duration": 21,
    "start_time": "2023-05-25T17:01:24.664Z"
   },
   {
    "duration": 37,
    "start_time": "2023-05-25T17:01:24.687Z"
   },
   {
    "duration": 107,
    "start_time": "2023-05-25T17:01:24.726Z"
   },
   {
    "duration": 10,
    "start_time": "2023-05-25T17:01:24.835Z"
   },
   {
    "duration": 97,
    "start_time": "2023-05-25T17:01:24.847Z"
   },
   {
    "duration": 22,
    "start_time": "2023-05-25T17:01:24.946Z"
   },
   {
    "duration": 20,
    "start_time": "2023-05-25T17:01:24.969Z"
   },
   {
    "duration": 5,
    "start_time": "2023-05-25T17:01:24.991Z"
   },
   {
    "duration": 48,
    "start_time": "2023-05-25T17:01:24.997Z"
   },
   {
    "duration": 14,
    "start_time": "2023-05-25T17:01:25.047Z"
   },
   {
    "duration": 18,
    "start_time": "2023-05-25T17:01:25.063Z"
   },
   {
    "duration": 49,
    "start_time": "2023-05-25T17:01:25.083Z"
   },
   {
    "duration": 16,
    "start_time": "2023-05-25T17:01:25.134Z"
   },
   {
    "duration": 6,
    "start_time": "2023-05-25T17:01:25.152Z"
   },
   {
    "duration": 12,
    "start_time": "2023-05-25T17:01:25.161Z"
   },
   {
    "duration": 7,
    "start_time": "2023-05-25T17:01:25.175Z"
   },
   {
    "duration": 3,
    "start_time": "2023-05-25T17:07:59.239Z"
   },
   {
    "duration": 65,
    "start_time": "2023-05-25T17:21:16.989Z"
   },
   {
    "duration": 83,
    "start_time": "2023-05-25T17:23:25.638Z"
   },
   {
    "duration": 12,
    "start_time": "2023-05-25T17:26:35.630Z"
   }
  ],
  "colab": {
   "collapsed_sections": [
    "E0vqbgi9ay0H",
    "VUC88oWjTJw2"
   ],
   "name": "yandex_music_project.ipynb",
   "provenance": []
  },
  "kernelspec": {
   "display_name": "Python 3 (ipykernel)",
   "language": "python",
   "name": "python3"
  },
  "language_info": {
   "codemirror_mode": {
    "name": "ipython",
    "version": 3
   },
   "file_extension": ".py",
   "mimetype": "text/x-python",
   "name": "python",
   "nbconvert_exporter": "python",
   "pygments_lexer": "ipython3",
   "version": "3.9.5"
  },
  "toc": {
   "base_numbering": 1,
   "nav_menu": {},
   "number_sections": false,
   "sideBar": true,
   "skip_h1_title": true,
   "title_cell": "Table of Contents",
   "title_sidebar": "Contents",
   "toc_cell": false,
   "toc_position": {
    "height": "calc(100% - 180px)",
    "left": "10px",
    "top": "150px",
    "width": "179.682px"
   },
   "toc_section_display": true,
   "toc_window_display": true
  }
 },
 "nbformat": 4,
 "nbformat_minor": 1
}
