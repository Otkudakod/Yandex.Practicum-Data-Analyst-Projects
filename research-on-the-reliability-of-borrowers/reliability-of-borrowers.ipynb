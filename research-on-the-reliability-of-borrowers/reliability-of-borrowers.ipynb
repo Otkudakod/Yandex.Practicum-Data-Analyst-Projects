{
 "cells": [
  {
   "cell_type": "markdown",
   "id": "6b193023",
   "metadata": {},
   "source": [
    "# Исследование надежности заемщиков.\n",
    "\n",
    "Заказчик — кредитный отдел банка. Нужно разобраться, влияет ли семейное положение и количество детей клиента на факт погашения кредита в срок. Входные данные от банка — статистика о платёжеспособности клиентов.\n",
    "\n",
    "Результаты исследования будут учтены при построении модели кредитного скоринга — специальной системы, которая оценивает способность потенциального заёмщика вернуть кредит банку.\n"
   ]
  },
  {
   "cell_type": "markdown",
   "id": "9e38f8ff",
   "metadata": {},
   "source": [
    "1. [Обзор данных](#1)\n",
    "2. [Заполнение пропусков](#2)  \n",
    "    2.2 [Проверка данных на аномалии и исправления](#3)  \n",
    "    2.3 [Изменение типов данных](#4)  \n",
    "    2.4 [Удаление дубликатов](#5)  \n",
    "    2.5 [Формирование дополнительных датафреймов словарей, декомпозиция исходного датафрейма](#6)  \n",
    "    2.6 [Категоризация дохода](#7)  \n",
    "    2.7[Категоризация целей кредита](#8)  \n",
    "3.[Ответы на вопросы](#9)  \n",
    "    3.1 [Вопрос 1](#10)  \n",
    "    3.2 [Вывод 1](#11)  \n",
    "    3.3 [Вопрос 2](#12)  \n",
    "    3.4 [Вывод 2](#13)  \n",
    "    3.5 [Вопрос 3](#14)  \n",
    "    3.6 [Вывод 3](#15)  \n",
    "    3.7 [Вопрос 4](#16)  \n",
    "    3.8 [Вывод 4](#16)  \n",
    "4.[Общий вывод](#17)  \n",
    "\n"
   ]
  },
  {
   "cell_type": "markdown",
   "id": "76291ddc",
   "metadata": {},
   "source": [
    "### Шаг 1. Обзор данных\n",
    "<a id=\"1\"></a>"
   ]
  },
  {
   "cell_type": "code",
   "execution_count": 1,
   "id": "f9b06f13",
   "metadata": {
    "scrolled": true
   },
   "outputs": [
    {
     "data": {
      "text/html": [
       "<div>\n",
       "<style scoped>\n",
       "    .dataframe tbody tr th:only-of-type {\n",
       "        vertical-align: middle;\n",
       "    }\n",
       "\n",
       "    .dataframe tbody tr th {\n",
       "        vertical-align: top;\n",
       "    }\n",
       "\n",
       "    .dataframe thead th {\n",
       "        text-align: right;\n",
       "    }\n",
       "</style>\n",
       "<table border=\"1\" class=\"dataframe\">\n",
       "  <thead>\n",
       "    <tr style=\"text-align: right;\">\n",
       "      <th></th>\n",
       "      <th>children</th>\n",
       "      <th>days_employed</th>\n",
       "      <th>dob_years</th>\n",
       "      <th>education</th>\n",
       "      <th>education_id</th>\n",
       "      <th>family_status</th>\n",
       "      <th>family_status_id</th>\n",
       "      <th>gender</th>\n",
       "      <th>income_type</th>\n",
       "      <th>debt</th>\n",
       "      <th>total_income</th>\n",
       "      <th>purpose</th>\n",
       "    </tr>\n",
       "  </thead>\n",
       "  <tbody>\n",
       "    <tr>\n",
       "      <th>0</th>\n",
       "      <td>1</td>\n",
       "      <td>-8437.673028</td>\n",
       "      <td>42</td>\n",
       "      <td>высшее</td>\n",
       "      <td>0</td>\n",
       "      <td>женат / замужем</td>\n",
       "      <td>0</td>\n",
       "      <td>F</td>\n",
       "      <td>сотрудник</td>\n",
       "      <td>0</td>\n",
       "      <td>253875.639453</td>\n",
       "      <td>покупка жилья</td>\n",
       "    </tr>\n",
       "    <tr>\n",
       "      <th>1</th>\n",
       "      <td>1</td>\n",
       "      <td>-4024.803754</td>\n",
       "      <td>36</td>\n",
       "      <td>среднее</td>\n",
       "      <td>1</td>\n",
       "      <td>женат / замужем</td>\n",
       "      <td>0</td>\n",
       "      <td>F</td>\n",
       "      <td>сотрудник</td>\n",
       "      <td>0</td>\n",
       "      <td>112080.014102</td>\n",
       "      <td>приобретение автомобиля</td>\n",
       "    </tr>\n",
       "    <tr>\n",
       "      <th>2</th>\n",
       "      <td>0</td>\n",
       "      <td>-5623.422610</td>\n",
       "      <td>33</td>\n",
       "      <td>Среднее</td>\n",
       "      <td>1</td>\n",
       "      <td>женат / замужем</td>\n",
       "      <td>0</td>\n",
       "      <td>M</td>\n",
       "      <td>сотрудник</td>\n",
       "      <td>0</td>\n",
       "      <td>145885.952297</td>\n",
       "      <td>покупка жилья</td>\n",
       "    </tr>\n",
       "    <tr>\n",
       "      <th>3</th>\n",
       "      <td>3</td>\n",
       "      <td>-4124.747207</td>\n",
       "      <td>32</td>\n",
       "      <td>среднее</td>\n",
       "      <td>1</td>\n",
       "      <td>женат / замужем</td>\n",
       "      <td>0</td>\n",
       "      <td>M</td>\n",
       "      <td>сотрудник</td>\n",
       "      <td>0</td>\n",
       "      <td>267628.550329</td>\n",
       "      <td>дополнительное образование</td>\n",
       "    </tr>\n",
       "    <tr>\n",
       "      <th>4</th>\n",
       "      <td>0</td>\n",
       "      <td>340266.072047</td>\n",
       "      <td>53</td>\n",
       "      <td>среднее</td>\n",
       "      <td>1</td>\n",
       "      <td>гражданский брак</td>\n",
       "      <td>1</td>\n",
       "      <td>F</td>\n",
       "      <td>пенсионер</td>\n",
       "      <td>0</td>\n",
       "      <td>158616.077870</td>\n",
       "      <td>сыграть свадьбу</td>\n",
       "    </tr>\n",
       "    <tr>\n",
       "      <th>5</th>\n",
       "      <td>0</td>\n",
       "      <td>-926.185831</td>\n",
       "      <td>27</td>\n",
       "      <td>высшее</td>\n",
       "      <td>0</td>\n",
       "      <td>гражданский брак</td>\n",
       "      <td>1</td>\n",
       "      <td>M</td>\n",
       "      <td>компаньон</td>\n",
       "      <td>0</td>\n",
       "      <td>255763.565419</td>\n",
       "      <td>покупка жилья</td>\n",
       "    </tr>\n",
       "    <tr>\n",
       "      <th>6</th>\n",
       "      <td>0</td>\n",
       "      <td>-2879.202052</td>\n",
       "      <td>43</td>\n",
       "      <td>высшее</td>\n",
       "      <td>0</td>\n",
       "      <td>женат / замужем</td>\n",
       "      <td>0</td>\n",
       "      <td>F</td>\n",
       "      <td>компаньон</td>\n",
       "      <td>0</td>\n",
       "      <td>240525.971920</td>\n",
       "      <td>операции с жильем</td>\n",
       "    </tr>\n",
       "    <tr>\n",
       "      <th>7</th>\n",
       "      <td>0</td>\n",
       "      <td>-152.779569</td>\n",
       "      <td>50</td>\n",
       "      <td>СРЕДНЕЕ</td>\n",
       "      <td>1</td>\n",
       "      <td>женат / замужем</td>\n",
       "      <td>0</td>\n",
       "      <td>M</td>\n",
       "      <td>сотрудник</td>\n",
       "      <td>0</td>\n",
       "      <td>135823.934197</td>\n",
       "      <td>образование</td>\n",
       "    </tr>\n",
       "    <tr>\n",
       "      <th>8</th>\n",
       "      <td>2</td>\n",
       "      <td>-6929.865299</td>\n",
       "      <td>35</td>\n",
       "      <td>ВЫСШЕЕ</td>\n",
       "      <td>0</td>\n",
       "      <td>гражданский брак</td>\n",
       "      <td>1</td>\n",
       "      <td>F</td>\n",
       "      <td>сотрудник</td>\n",
       "      <td>0</td>\n",
       "      <td>95856.832424</td>\n",
       "      <td>на проведение свадьбы</td>\n",
       "    </tr>\n",
       "    <tr>\n",
       "      <th>9</th>\n",
       "      <td>0</td>\n",
       "      <td>-2188.756445</td>\n",
       "      <td>41</td>\n",
       "      <td>среднее</td>\n",
       "      <td>1</td>\n",
       "      <td>женат / замужем</td>\n",
       "      <td>0</td>\n",
       "      <td>M</td>\n",
       "      <td>сотрудник</td>\n",
       "      <td>0</td>\n",
       "      <td>144425.938277</td>\n",
       "      <td>покупка жилья для семьи</td>\n",
       "    </tr>\n",
       "  </tbody>\n",
       "</table>\n",
       "</div>"
      ],
      "text/plain": [
       "   children  days_employed  dob_years education  education_id  \\\n",
       "0         1   -8437.673028         42    высшее             0   \n",
       "1         1   -4024.803754         36   среднее             1   \n",
       "2         0   -5623.422610         33   Среднее             1   \n",
       "3         3   -4124.747207         32   среднее             1   \n",
       "4         0  340266.072047         53   среднее             1   \n",
       "5         0    -926.185831         27    высшее             0   \n",
       "6         0   -2879.202052         43    высшее             0   \n",
       "7         0    -152.779569         50   СРЕДНЕЕ             1   \n",
       "8         2   -6929.865299         35    ВЫСШЕЕ             0   \n",
       "9         0   -2188.756445         41   среднее             1   \n",
       "\n",
       "      family_status  family_status_id gender income_type  debt   total_income  \\\n",
       "0   женат / замужем                 0      F   сотрудник     0  253875.639453   \n",
       "1   женат / замужем                 0      F   сотрудник     0  112080.014102   \n",
       "2   женат / замужем                 0      M   сотрудник     0  145885.952297   \n",
       "3   женат / замужем                 0      M   сотрудник     0  267628.550329   \n",
       "4  гражданский брак                 1      F   пенсионер     0  158616.077870   \n",
       "5  гражданский брак                 1      M   компаньон     0  255763.565419   \n",
       "6   женат / замужем                 0      F   компаньон     0  240525.971920   \n",
       "7   женат / замужем                 0      M   сотрудник     0  135823.934197   \n",
       "8  гражданский брак                 1      F   сотрудник     0   95856.832424   \n",
       "9   женат / замужем                 0      M   сотрудник     0  144425.938277   \n",
       "\n",
       "                      purpose  \n",
       "0               покупка жилья  \n",
       "1     приобретение автомобиля  \n",
       "2               покупка жилья  \n",
       "3  дополнительное образование  \n",
       "4             сыграть свадьбу  \n",
       "5               покупка жилья  \n",
       "6           операции с жильем  \n",
       "7                 образование  \n",
       "8       на проведение свадьбы  \n",
       "9     покупка жилья для семьи  "
      ]
     },
     "execution_count": 1,
     "metadata": {},
     "output_type": "execute_result"
    }
   ],
   "source": [
    "# импорт Pandas, создание датафрейма, вывод 10 строк датафрейма на экран \n",
    "import pandas as pd\n",
    "\n",
    "df = pd.read_csv('/datasets/data.csv')\n",
    "\n",
    "df.head(10)"
   ]
  },
  {
   "cell_type": "code",
   "execution_count": 2,
   "id": "54a435b6",
   "metadata": {},
   "outputs": [
    {
     "name": "stdout",
     "output_type": "stream",
     "text": [
      "<class 'pandas.core.frame.DataFrame'>\n",
      "RangeIndex: 21525 entries, 0 to 21524\n",
      "Data columns (total 12 columns):\n",
      " #   Column            Non-Null Count  Dtype  \n",
      "---  ------            --------------  -----  \n",
      " 0   children          21525 non-null  int64  \n",
      " 1   days_employed     19351 non-null  float64\n",
      " 2   dob_years         21525 non-null  int64  \n",
      " 3   education         21525 non-null  object \n",
      " 4   education_id      21525 non-null  int64  \n",
      " 5   family_status     21525 non-null  object \n",
      " 6   family_status_id  21525 non-null  int64  \n",
      " 7   gender            21525 non-null  object \n",
      " 8   income_type       21525 non-null  object \n",
      " 9   debt              21525 non-null  int64  \n",
      " 10  total_income      19351 non-null  float64\n",
      " 11  purpose           21525 non-null  object \n",
      "dtypes: float64(2), int64(5), object(5)\n",
      "memory usage: 2.0+ MB\n"
     ]
    }
   ],
   "source": [
    "# получение информации о датафрейме\n",
    "df.info()"
   ]
  },
  {
   "cell_type": "markdown",
   "id": "6b609e67",
   "metadata": {},
   "source": [
    "\n",
    "### Шаг 2.1 Заполнение пропусков\n",
    "<a id=\"2\"></a>"
   ]
  },
  {
   "cell_type": "markdown",
   "id": "0ced3085",
   "metadata": {},
   "source": [
    "В двух столбцах есть пропущенные значения. Один из них — days_employed. Пропуски в этом будут обработаны на следующем этапе. Найдите другой столбец и заполните пропущенные значения в нём медианным значением:\n",
    "\n",
    "   - опишите, какие пропущенные значения вы обнаружили;\n",
    "   - проверьте, какую долю составляют пропущенные значения в каждом из столбцов с пропусками;\n",
    "   - приведите возможные причины появления пропусков в данных;\n",
    "   - объясните, почему заполнить пропуски медианным значением — лучшее решение для количественных переменных."
   ]
  },
  {
   "cell_type": "code",
   "execution_count": 3,
   "id": "cacba84b",
   "metadata": {},
   "outputs": [
    {
     "data": {
      "text/plain": [
       "children               0\n",
       "days_employed       2174\n",
       "dob_years              0\n",
       "education              0\n",
       "education_id           0\n",
       "family_status          0\n",
       "family_status_id       0\n",
       "gender                 0\n",
       "income_type            0\n",
       "debt                   0\n",
       "total_income        2174\n",
       "purpose                0\n",
       "dtype: int64"
      ]
     },
     "execution_count": 3,
     "metadata": {},
     "output_type": "execute_result"
    }
   ],
   "source": [
    "# подсчёт пропусков\n",
    "df.isna().sum()"
   ]
  },
  {
   "cell_type": "markdown",
   "id": "7434a4f6",
   "metadata": {},
   "source": [
    "Пропуски встречаются в колнке total_income и days_employed"
   ]
  },
  {
   "cell_type": "code",
   "execution_count": 4,
   "id": "61d2920f",
   "metadata": {
    "scrolled": true
   },
   "outputs": [
    {
     "name": "stdout",
     "output_type": "stream",
     "text": [
      "Доля пропусков в столбце days_employed составляет 10%\n",
      "Доля пропусков в столбце total_income составляет 10%\n"
     ]
    }
   ],
   "source": [
    "#вычисляем долю пропущенных значений в столбце days_employed\n",
    "missed_days_share = df['days_employed'].isna().sum() / df.shape[0]\n",
    "\n",
    "#вычисляем долю пропущенных значений в столбце total_income\n",
    "missed_income_share = df['total_income'].isna().sum() / df.shape[0]\n",
    "\n",
    "\n",
    "print('Доля пропусков в столбце days_employed составляет {:.0%}'.format(missed_days_share))\n",
    "print('Доля пропусков в столбце total_income составляет {:.0%}'.format(missed_income_share))\n",
    "\n"
   ]
  },
  {
   "cell_type": "markdown",
   "id": "e0c09d14",
   "metadata": {},
   "source": [
    "\n",
    "**ВЫВОД**  \n",
    "\n",
    "Возможная причина появления пропусков  - отсутствие трудового стажа, а так же возможный выход на пенсию или в отпуск по уходу за ребенком\n"
   ]
  },
  {
   "cell_type": "code",
   "execution_count": 5,
   "id": "4e53bb70",
   "metadata": {},
   "outputs": [],
   "source": [
    "#заполняем пропуски в столбце total_income медианным значением \n",
    "median_income = df['total_income'].median()\n",
    "df['total_income'] = df['total_income'].fillna(median_income)"
   ]
  },
  {
   "cell_type": "markdown",
   "id": "a26fff10",
   "metadata": {},
   "source": [
    "Медиана является более надежным показателем при анализе зарплат, поскольку она устраняет проблему искажения данных, которая может возникнуть при использовании среднего значения. Когда некоторые значения значительно отличаются от большинства, такие как очень низкие или очень высокие доходы, медиана позволяет получить более объективное представление о распределении доходов в выборке."
   ]
  },
  {
   "cell_type": "code",
   "execution_count": 6,
   "id": "b824242c",
   "metadata": {},
   "outputs": [
    {
     "data": {
      "text/plain": [
       "0"
      ]
     },
     "execution_count": 6,
     "metadata": {},
     "output_type": "execute_result"
    }
   ],
   "source": [
    "#проверяем результат заполнения\n",
    "df['total_income'].isna().sum()"
   ]
  },
  {
   "cell_type": "markdown",
   "id": "8a294ef0",
   "metadata": {},
   "source": [
    "### Шаг 2.2 Проверка данных на аномалии и исправления.\n",
    "<a id=\"3\"></a>"
   ]
  },
  {
   "cell_type": "code",
   "execution_count": 7,
   "id": "8be1ad91",
   "metadata": {},
   "outputs": [
    {
     "data": {
      "text/plain": [
       "0"
      ]
     },
     "execution_count": 7,
     "metadata": {},
     "output_type": "execute_result"
    }
   ],
   "source": [
    "#заменяем отрицательные значения в столбце days_employed на модули\n",
    "df['days_employed'] = df['days_employed'].abs()\n",
    "\n",
    "#заполняем пропуски медианными значениями \n",
    "df['days_employed'] = df['days_employed'].fillna(df['days_employed'].median())\n",
    "\n",
    "#проверяем замены\n",
    "df['days_employed'].isna().sum()\n"
   ]
  },
  {
   "cell_type": "code",
   "execution_count": 8,
   "id": "f6eb8998",
   "metadata": {},
   "outputs": [
    {
     "data": {
      "text/plain": [
       "array(['женат / замужем', 'гражданский брак', 'вдовец / вдова',\n",
       "       'в разводе', 'Не женат / не замужем'], dtype=object)"
      ]
     },
     "execution_count": 8,
     "metadata": {},
     "output_type": "execute_result"
    }
   ],
   "source": [
    "#ищем дубликаты в других столбцах\n",
    "df['family_status'].unique()"
   ]
  },
  {
   "cell_type": "code",
   "execution_count": 9,
   "id": "d2bdb8ba",
   "metadata": {},
   "outputs": [
    {
     "data": {
      "text/plain": [
       "array(['женат / замужем', 'гражданский брак', 'вдовец / вдова',\n",
       "       'в разводе', 'не женат / не замужем'], dtype=object)"
      ]
     },
     "execution_count": 9,
     "metadata": {},
     "output_type": "execute_result"
    }
   ],
   "source": [
    "#приводим значения к единому формату\n",
    "df['family_status'] = df['family_status'].replace('Не женат / не замужем', 'не женат / не замужем')\n",
    "df['family_status'].unique()"
   ]
  },
  {
   "cell_type": "code",
   "execution_count": 10,
   "id": "0f993132",
   "metadata": {},
   "outputs": [
    {
     "data": {
      "text/plain": [
       "array(['высшее', 'среднее', 'Среднее', 'СРЕДНЕЕ', 'ВЫСШЕЕ',\n",
       "       'неоконченное высшее', 'начальное', 'Высшее',\n",
       "       'НЕОКОНЧЕННОЕ ВЫСШЕЕ', 'Неоконченное высшее', 'НАЧАЛЬНОЕ',\n",
       "       'Начальное', 'Ученая степень', 'УЧЕНАЯ СТЕПЕНЬ', 'ученая степень'],\n",
       "      dtype=object)"
      ]
     },
     "execution_count": 10,
     "metadata": {},
     "output_type": "execute_result"
    }
   ],
   "source": [
    "df['education'].unique()"
   ]
  },
  {
   "cell_type": "code",
   "execution_count": 11,
   "id": "aad6b037",
   "metadata": {},
   "outputs": [],
   "source": [
    "#убираем дубликаты\n",
    "df['education'] = df['education'].str.lower()"
   ]
  },
  {
   "cell_type": "code",
   "execution_count": 12,
   "id": "4f361a52",
   "metadata": {
    "scrolled": true
   },
   "outputs": [
    {
     "data": {
      "text/plain": [
       " 0     14149\n",
       " 1      4818\n",
       " 2      2055\n",
       " 3       330\n",
       " 20       76\n",
       "-1        47\n",
       " 4        41\n",
       " 5         9\n",
       "Name: children, dtype: int64"
      ]
     },
     "execution_count": 12,
     "metadata": {},
     "output_type": "execute_result"
    }
   ],
   "source": [
    "#сколько детей у заемщиков\n",
    "df['children'].value_counts()"
   ]
  },
  {
   "cell_type": "markdown",
   "id": "0e815ff1",
   "metadata": {},
   "source": [
    "Значения -1 и 20 заменим на 1 и 2, так как статистически не может быть такого количества семей с 20 детьми. Это скорее исключение а не правило."
   ]
  },
  {
   "cell_type": "code",
   "execution_count": 13,
   "id": "d31b4182",
   "metadata": {},
   "outputs": [
    {
     "data": {
      "text/plain": [
       "0    14149\n",
       "1     4865\n",
       "2     2131\n",
       "3      330\n",
       "4       41\n",
       "5        9\n",
       "Name: children, dtype: int64"
      ]
     },
     "execution_count": 13,
     "metadata": {},
     "output_type": "execute_result"
    }
   ],
   "source": [
    "#замена значения -1 а так же 20 для количества детей в семьях\n",
    "df.loc[df['children'] == 20, 'children'] = 2\n",
    "df.loc[df['children'] == -1, 'children'] = 1\n",
    "df['children'].value_counts()"
   ]
  },
  {
   "cell_type": "code",
   "execution_count": 14,
   "id": "749f72c5",
   "metadata": {
    "scrolled": true
   },
   "outputs": [
    {
     "data": {
      "text/plain": [
       "F      14236\n",
       "M       7288\n",
       "XNA        1\n",
       "Name: gender, dtype: int64"
      ]
     },
     "execution_count": 14,
     "metadata": {},
     "output_type": "execute_result"
    }
   ],
   "source": [
    "df['gender'].value_counts()"
   ]
  },
  {
   "cell_type": "markdown",
   "id": "400c248c",
   "metadata": {},
   "source": [
    "Появился странный гендер XNA"
   ]
  },
  {
   "cell_type": "code",
   "execution_count": 15,
   "id": "8caa7cd1",
   "metadata": {},
   "outputs": [
    {
     "data": {
      "text/html": [
       "<div>\n",
       "<style scoped>\n",
       "    .dataframe tbody tr th:only-of-type {\n",
       "        vertical-align: middle;\n",
       "    }\n",
       "\n",
       "    .dataframe tbody tr th {\n",
       "        vertical-align: top;\n",
       "    }\n",
       "\n",
       "    .dataframe thead th {\n",
       "        text-align: right;\n",
       "    }\n",
       "</style>\n",
       "<table border=\"1\" class=\"dataframe\">\n",
       "  <thead>\n",
       "    <tr style=\"text-align: right;\">\n",
       "      <th></th>\n",
       "      <th>children</th>\n",
       "      <th>days_employed</th>\n",
       "      <th>dob_years</th>\n",
       "      <th>education</th>\n",
       "      <th>education_id</th>\n",
       "      <th>family_status</th>\n",
       "      <th>family_status_id</th>\n",
       "      <th>gender</th>\n",
       "      <th>income_type</th>\n",
       "      <th>debt</th>\n",
       "      <th>total_income</th>\n",
       "      <th>purpose</th>\n",
       "    </tr>\n",
       "  </thead>\n",
       "  <tbody>\n",
       "    <tr>\n",
       "      <th>10701</th>\n",
       "      <td>0</td>\n",
       "      <td>2358.600502</td>\n",
       "      <td>24</td>\n",
       "      <td>неоконченное высшее</td>\n",
       "      <td>2</td>\n",
       "      <td>гражданский брак</td>\n",
       "      <td>1</td>\n",
       "      <td>XNA</td>\n",
       "      <td>компаньон</td>\n",
       "      <td>0</td>\n",
       "      <td>203905.157261</td>\n",
       "      <td>покупка недвижимости</td>\n",
       "    </tr>\n",
       "  </tbody>\n",
       "</table>\n",
       "</div>"
      ],
      "text/plain": [
       "       children  days_employed  dob_years            education  education_id  \\\n",
       "10701         0    2358.600502         24  неоконченное высшее             2   \n",
       "\n",
       "          family_status  family_status_id gender income_type  debt  \\\n",
       "10701  гражданский брак                 1    XNA   компаньон     0   \n",
       "\n",
       "        total_income               purpose  \n",
       "10701  203905.157261  покупка недвижимости  "
      ]
     },
     "execution_count": 15,
     "metadata": {},
     "output_type": "execute_result"
    }
   ],
   "source": [
    "df[df['gender'] == 'XNA']"
   ]
  },
  {
   "cell_type": "code",
   "execution_count": 16,
   "id": "915ba8f5",
   "metadata": {},
   "outputs": [
    {
     "data": {
      "text/plain": [
       "F    14236\n",
       "M     7289\n",
       "Name: gender, dtype: int64"
      ]
     },
     "execution_count": 16,
     "metadata": {},
     "output_type": "execute_result"
    }
   ],
   "source": [
    "#заменим ошибочный гендер на мужской\n",
    "df.loc[df['gender'] == 'XNA','gender'] = 'M'\n",
    "df['gender'].value_counts()"
   ]
  },
  {
   "cell_type": "markdown",
   "id": "b25cba8b",
   "metadata": {},
   "source": [
    "### Шаг 2.3. Изменение типов данных.\n",
    "<a id=\"4\"></a>"
   ]
  },
  {
   "cell_type": "code",
   "execution_count": 17,
   "id": "62845572",
   "metadata": {},
   "outputs": [],
   "source": [
    "#заменяем вещественный тип числа в total_income на целочисленный\n",
    "df['total_income'] = df['total_income'].astype(int)"
   ]
  },
  {
   "cell_type": "markdown",
   "id": "3327d753",
   "metadata": {},
   "source": [
    "### Шаг 2.4. Удаление дубликатов.\n",
    "<a id=\"5\"></a>"
   ]
  },
  {
   "cell_type": "code",
   "execution_count": 21,
   "id": "49117793",
   "metadata": {},
   "outputs": [
    {
     "data": {
      "text/plain": [
       "71"
      ]
     },
     "execution_count": 21,
     "metadata": {},
     "output_type": "execute_result"
    }
   ],
   "source": [
    "#находим полностью дублирующиеся строки\n",
    "df.duplicated().sum()"
   ]
  },
  {
   "cell_type": "code",
   "execution_count": 23,
   "id": "730b60e3",
   "metadata": {},
   "outputs": [
    {
     "data": {
      "text/plain": [
       "0"
      ]
     },
     "execution_count": 23,
     "metadata": {},
     "output_type": "execute_result"
    }
   ],
   "source": [
    "#удаляем дубликаты, и проверяем наличие\n",
    "df = df.drop_duplicates().reset_index(drop = True)\n",
    "df.duplicated().sum()"
   ]
  },
  {
   "cell_type": "markdown",
   "id": "b34c7f1b",
   "metadata": {},
   "source": [
    "метод поиска - перебор всех колонок, и выявление дубликатов. Основной причниой поиска дубликатов вижу человеческий фактор."
   ]
  },
  {
   "cell_type": "markdown",
   "id": "2b723ced",
   "metadata": {},
   "source": [
    "### Шаг 2.5. Формирование дополнительных датафреймов словарей, декомпозиция исходного датафрейма.\n",
    "<a id=\"6\"></a>"
   ]
  },
  {
   "cell_type": "code",
   "execution_count": 24,
   "id": "a3efe365",
   "metadata": {},
   "outputs": [],
   "source": [
    "#создаём словари\n",
    "education_dict = df[['education_id', 'education']]\n",
    "family_status_dict = df[['family_status_id','family_status']]\n",
    "\n",
    "#удаляем дубликаты о сортируем в порядке возрастания индексов\n",
    "education_dict = education_dict.drop_duplicates().reset_index(drop = True)\n",
    "family_status_dict = family_status_dict.drop_duplicates().reset_index(drop = True)\n",
    "\n",
    "#удаляем столбцы из датафрейма\n",
    "df = df.drop(columns = ['education'],axis = 1) \n",
    "df = df.drop(columns = ['family_status'],axis = 1) "
   ]
  },
  {
   "cell_type": "markdown",
   "id": "814af870",
   "metadata": {},
   "source": [
    "### Шаг 2.6. Категоризация дохода.\n",
    "<a id=\"7\"></a>"
   ]
  },
  {
   "cell_type": "code",
   "execution_count": 25,
   "id": "3fcd7782",
   "metadata": {},
   "outputs": [],
   "source": [
    "#функция для присвоения категорий в соответствии с доходом\n",
    "\n",
    "def income_category(income):\n",
    "    if income <= 30000:\n",
    "        return 'E'\n",
    "    if income <= 50000:\n",
    "        return 'D'\n",
    "    if income <= 200000:\n",
    "        return 'C'\n",
    "    if income <= 1000000:\n",
    "        return 'B'\n",
    "    return 'A'\n",
    "\n",
    "#добавим столбец total_income_category в датафрейм\n",
    "df['total_income_category'] = df['total_income'].apply(income_category)\n"
   ]
  },
  {
   "cell_type": "markdown",
   "id": "25bc5004",
   "metadata": {},
   "source": [
    "### Шаг 2.7. Категоризация целей кредита.\n",
    "<a id=\"8\"></a>"
   ]
  },
  {
   "cell_type": "code",
   "execution_count": 26,
   "id": "c6e3cfea",
   "metadata": {},
   "outputs": [
    {
     "data": {
      "text/plain": [
       "свадьба                                   791\n",
       "на проведение свадьбы                     768\n",
       "сыграть свадьбу                           765\n",
       "операции с недвижимостью                  675\n",
       "покупка коммерческой недвижимости         661\n",
       "операции с жильем                         652\n",
       "покупка жилья для сдачи                   651\n",
       "операции с коммерческой недвижимостью     650\n",
       "покупка жилья                             646\n",
       "жилье                                     646\n",
       "покупка жилья для семьи                   638\n",
       "строительство собственной недвижимости    635\n",
       "недвижимость                              633\n",
       "операции со своей недвижимостью           627\n",
       "строительство жилой недвижимости          624\n",
       "покупка недвижимости                      621\n",
       "покупка своего жилья                      620\n",
       "строительство недвижимости                619\n",
       "ремонт жилью                              607\n",
       "покупка жилой недвижимости                606\n",
       "на покупку своего автомобиля              505\n",
       "заняться высшим образованием              496\n",
       "автомобиль                                494\n",
       "сделка с подержанным автомобилем          486\n",
       "автомобили                                478\n",
       "на покупку подержанного автомобиля        478\n",
       "свой автомобиль                           478\n",
       "на покупку автомобиля                     471\n",
       "приобретение автомобиля                   461\n",
       "дополнительное образование                460\n",
       "сделка с автомобилем                      455\n",
       "высшее образование                        452\n",
       "образование                               447\n",
       "получение дополнительного образования     446\n",
       "получение образования                     442\n",
       "профильное образование                    436\n",
       "получение высшего образования             426\n",
       "заняться образованием                     408\n",
       "Name: purpose, dtype: int64"
      ]
     },
     "execution_count": 26,
     "metadata": {},
     "output_type": "execute_result"
    }
   ],
   "source": [
    "# какие цели кредита есть в датафрейме\n",
    "df['purpose'].value_counts()"
   ]
  },
  {
   "cell_type": "code",
   "execution_count": 27,
   "id": "b0039046",
   "metadata": {},
   "outputs": [
    {
     "data": {
      "text/plain": [
       "операции с недвижимостью    10811\n",
       "операции с автомобилем       4306\n",
       "получение образования        4013\n",
       "проведение свадьбы           2324\n",
       "Name: purpose_category, dtype: int64"
      ]
     },
     "execution_count": 27,
     "metadata": {},
     "output_type": "execute_result"
    }
   ],
   "source": [
    "# функция, которая на основании данных из столбца purpose сформирует новый столбец purpose_category\n",
    "def purpose(purpose_category):\n",
    "    if 'свадьб' in purpose_category:\n",
    "        return 'проведение свадьбы'\n",
    "    if 'жиль' in purpose_category or 'недвижим' in purpose_category:\n",
    "        return 'операции с недвижимостью'\n",
    "    if 'автомоб' in purpose_category:\n",
    "        return 'операции с автомобилем'\n",
    "    if 'образован' in  purpose_category:\n",
    "        return 'получение образования'\n",
    "\n",
    "    \n",
    "# новый столбец в датафрейм\n",
    "df['purpose_category'] = df['purpose'].apply(purpose)\n",
    "\n",
    "# всем ли значениям присвоились категории\n",
    "df['purpose_category'].value_counts()"
   ]
  },
  {
   "cell_type": "code",
   "execution_count": 28,
   "id": "ad9289ec",
   "metadata": {
    "scrolled": true
   },
   "outputs": [
    {
     "data": {
      "text/html": [
       "<div>\n",
       "<style scoped>\n",
       "    .dataframe tbody tr th:only-of-type {\n",
       "        vertical-align: middle;\n",
       "    }\n",
       "\n",
       "    .dataframe tbody tr th {\n",
       "        vertical-align: top;\n",
       "    }\n",
       "\n",
       "    .dataframe thead th {\n",
       "        text-align: right;\n",
       "    }\n",
       "</style>\n",
       "<table border=\"1\" class=\"dataframe\">\n",
       "  <thead>\n",
       "    <tr style=\"text-align: right;\">\n",
       "      <th></th>\n",
       "      <th>children</th>\n",
       "      <th>days_employed</th>\n",
       "      <th>dob_years</th>\n",
       "      <th>education_id</th>\n",
       "      <th>family_status_id</th>\n",
       "      <th>gender</th>\n",
       "      <th>income_type</th>\n",
       "      <th>debt</th>\n",
       "      <th>total_income</th>\n",
       "      <th>purpose</th>\n",
       "      <th>total_income_category</th>\n",
       "      <th>purpose_category</th>\n",
       "    </tr>\n",
       "  </thead>\n",
       "  <tbody>\n",
       "    <tr>\n",
       "      <th>0</th>\n",
       "      <td>1</td>\n",
       "      <td>8437.673028</td>\n",
       "      <td>42</td>\n",
       "      <td>0</td>\n",
       "      <td>0</td>\n",
       "      <td>F</td>\n",
       "      <td>сотрудник</td>\n",
       "      <td>0</td>\n",
       "      <td>253875</td>\n",
       "      <td>покупка жилья</td>\n",
       "      <td>B</td>\n",
       "      <td>операции с недвижимостью</td>\n",
       "    </tr>\n",
       "    <tr>\n",
       "      <th>1</th>\n",
       "      <td>1</td>\n",
       "      <td>4024.803754</td>\n",
       "      <td>36</td>\n",
       "      <td>1</td>\n",
       "      <td>0</td>\n",
       "      <td>F</td>\n",
       "      <td>сотрудник</td>\n",
       "      <td>0</td>\n",
       "      <td>112080</td>\n",
       "      <td>приобретение автомобиля</td>\n",
       "      <td>C</td>\n",
       "      <td>операции с автомобилем</td>\n",
       "    </tr>\n",
       "    <tr>\n",
       "      <th>2</th>\n",
       "      <td>0</td>\n",
       "      <td>5623.422610</td>\n",
       "      <td>33</td>\n",
       "      <td>1</td>\n",
       "      <td>0</td>\n",
       "      <td>M</td>\n",
       "      <td>сотрудник</td>\n",
       "      <td>0</td>\n",
       "      <td>145885</td>\n",
       "      <td>покупка жилья</td>\n",
       "      <td>C</td>\n",
       "      <td>операции с недвижимостью</td>\n",
       "    </tr>\n",
       "    <tr>\n",
       "      <th>3</th>\n",
       "      <td>3</td>\n",
       "      <td>4124.747207</td>\n",
       "      <td>32</td>\n",
       "      <td>1</td>\n",
       "      <td>0</td>\n",
       "      <td>M</td>\n",
       "      <td>сотрудник</td>\n",
       "      <td>0</td>\n",
       "      <td>267628</td>\n",
       "      <td>дополнительное образование</td>\n",
       "      <td>B</td>\n",
       "      <td>получение образования</td>\n",
       "    </tr>\n",
       "    <tr>\n",
       "      <th>4</th>\n",
       "      <td>0</td>\n",
       "      <td>340266.072047</td>\n",
       "      <td>53</td>\n",
       "      <td>1</td>\n",
       "      <td>1</td>\n",
       "      <td>F</td>\n",
       "      <td>пенсионер</td>\n",
       "      <td>0</td>\n",
       "      <td>158616</td>\n",
       "      <td>сыграть свадьбу</td>\n",
       "      <td>C</td>\n",
       "      <td>проведение свадьбы</td>\n",
       "    </tr>\n",
       "    <tr>\n",
       "      <th>5</th>\n",
       "      <td>0</td>\n",
       "      <td>926.185831</td>\n",
       "      <td>27</td>\n",
       "      <td>0</td>\n",
       "      <td>1</td>\n",
       "      <td>M</td>\n",
       "      <td>компаньон</td>\n",
       "      <td>0</td>\n",
       "      <td>255763</td>\n",
       "      <td>покупка жилья</td>\n",
       "      <td>B</td>\n",
       "      <td>операции с недвижимостью</td>\n",
       "    </tr>\n",
       "    <tr>\n",
       "      <th>6</th>\n",
       "      <td>0</td>\n",
       "      <td>2879.202052</td>\n",
       "      <td>43</td>\n",
       "      <td>0</td>\n",
       "      <td>0</td>\n",
       "      <td>F</td>\n",
       "      <td>компаньон</td>\n",
       "      <td>0</td>\n",
       "      <td>240525</td>\n",
       "      <td>операции с жильем</td>\n",
       "      <td>B</td>\n",
       "      <td>операции с недвижимостью</td>\n",
       "    </tr>\n",
       "    <tr>\n",
       "      <th>7</th>\n",
       "      <td>0</td>\n",
       "      <td>152.779569</td>\n",
       "      <td>50</td>\n",
       "      <td>1</td>\n",
       "      <td>0</td>\n",
       "      <td>M</td>\n",
       "      <td>сотрудник</td>\n",
       "      <td>0</td>\n",
       "      <td>135823</td>\n",
       "      <td>образование</td>\n",
       "      <td>C</td>\n",
       "      <td>получение образования</td>\n",
       "    </tr>\n",
       "    <tr>\n",
       "      <th>8</th>\n",
       "      <td>2</td>\n",
       "      <td>6929.865299</td>\n",
       "      <td>35</td>\n",
       "      <td>0</td>\n",
       "      <td>1</td>\n",
       "      <td>F</td>\n",
       "      <td>сотрудник</td>\n",
       "      <td>0</td>\n",
       "      <td>95856</td>\n",
       "      <td>на проведение свадьбы</td>\n",
       "      <td>C</td>\n",
       "      <td>проведение свадьбы</td>\n",
       "    </tr>\n",
       "    <tr>\n",
       "      <th>9</th>\n",
       "      <td>0</td>\n",
       "      <td>2188.756445</td>\n",
       "      <td>41</td>\n",
       "      <td>1</td>\n",
       "      <td>0</td>\n",
       "      <td>M</td>\n",
       "      <td>сотрудник</td>\n",
       "      <td>0</td>\n",
       "      <td>144425</td>\n",
       "      <td>покупка жилья для семьи</td>\n",
       "      <td>C</td>\n",
       "      <td>операции с недвижимостью</td>\n",
       "    </tr>\n",
       "  </tbody>\n",
       "</table>\n",
       "</div>"
      ],
      "text/plain": [
       "   children  days_employed  dob_years  education_id  family_status_id gender  \\\n",
       "0         1    8437.673028         42             0                 0      F   \n",
       "1         1    4024.803754         36             1                 0      F   \n",
       "2         0    5623.422610         33             1                 0      M   \n",
       "3         3    4124.747207         32             1                 0      M   \n",
       "4         0  340266.072047         53             1                 1      F   \n",
       "5         0     926.185831         27             0                 1      M   \n",
       "6         0    2879.202052         43             0                 0      F   \n",
       "7         0     152.779569         50             1                 0      M   \n",
       "8         2    6929.865299         35             0                 1      F   \n",
       "9         0    2188.756445         41             1                 0      M   \n",
       "\n",
       "  income_type  debt  total_income                     purpose  \\\n",
       "0   сотрудник     0        253875               покупка жилья   \n",
       "1   сотрудник     0        112080     приобретение автомобиля   \n",
       "2   сотрудник     0        145885               покупка жилья   \n",
       "3   сотрудник     0        267628  дополнительное образование   \n",
       "4   пенсионер     0        158616             сыграть свадьбу   \n",
       "5   компаньон     0        255763               покупка жилья   \n",
       "6   компаньон     0        240525           операции с жильем   \n",
       "7   сотрудник     0        135823                 образование   \n",
       "8   сотрудник     0         95856       на проведение свадьбы   \n",
       "9   сотрудник     0        144425     покупка жилья для семьи   \n",
       "\n",
       "  total_income_category          purpose_category  \n",
       "0                     B  операции с недвижимостью  \n",
       "1                     C    операции с автомобилем  \n",
       "2                     C  операции с недвижимостью  \n",
       "3                     B     получение образования  \n",
       "4                     C        проведение свадьбы  \n",
       "5                     B  операции с недвижимостью  \n",
       "6                     B  операции с недвижимостью  \n",
       "7                     C     получение образования  \n",
       "8                     C        проведение свадьбы  \n",
       "9                     C  операции с недвижимостью  "
      ]
     },
     "execution_count": 28,
     "metadata": {},
     "output_type": "execute_result"
    }
   ],
   "source": [
    "#выведем первые 10 столбцов обновленного датафрейма на экрам\n",
    "df.head(10)\n"
   ]
  },
  {
   "cell_type": "markdown",
   "id": "aa0fd13d",
   "metadata": {},
   "source": [
    "### Ответы на вопросы.\n",
    "<a id=\"9\"></a>"
   ]
  },
  {
   "cell_type": "markdown",
   "id": "cce3698a",
   "metadata": {},
   "source": [
    "##### Вопрос 1:\n",
    "<a id=\"10\"></a>\n",
    "Есть ли зависимость между количеством детей и возвратом кредита в срок?"
   ]
  },
  {
   "cell_type": "code",
   "execution_count": 29,
   "id": "db4d7154",
   "metadata": {
    "scrolled": true
   },
   "outputs": [
    {
     "data": {
      "text/html": [
       "<div>\n",
       "<style scoped>\n",
       "    .dataframe tbody tr th:only-of-type {\n",
       "        vertical-align: middle;\n",
       "    }\n",
       "\n",
       "    .dataframe tbody tr th {\n",
       "        vertical-align: top;\n",
       "    }\n",
       "\n",
       "    .dataframe thead th {\n",
       "        text-align: right;\n",
       "    }\n",
       "</style>\n",
       "<table border=\"1\" class=\"dataframe\">\n",
       "  <thead>\n",
       "    <tr style=\"text-align: right;\">\n",
       "      <th>debt</th>\n",
       "      <th>0</th>\n",
       "      <th>1</th>\n",
       "      <th>share</th>\n",
       "    </tr>\n",
       "    <tr>\n",
       "      <th>children</th>\n",
       "      <th></th>\n",
       "      <th></th>\n",
       "      <th></th>\n",
       "    </tr>\n",
       "  </thead>\n",
       "  <tbody>\n",
       "    <tr>\n",
       "      <th>0</th>\n",
       "      <td>13028.0</td>\n",
       "      <td>1063.0</td>\n",
       "      <td>0.081593</td>\n",
       "    </tr>\n",
       "    <tr>\n",
       "      <th>3</th>\n",
       "      <td>303.0</td>\n",
       "      <td>27.0</td>\n",
       "      <td>0.089109</td>\n",
       "    </tr>\n",
       "    <tr>\n",
       "      <th>1</th>\n",
       "      <td>4410.0</td>\n",
       "      <td>445.0</td>\n",
       "      <td>0.100907</td>\n",
       "    </tr>\n",
       "    <tr>\n",
       "      <th>2</th>\n",
       "      <td>1926.0</td>\n",
       "      <td>202.0</td>\n",
       "      <td>0.104881</td>\n",
       "    </tr>\n",
       "    <tr>\n",
       "      <th>4</th>\n",
       "      <td>37.0</td>\n",
       "      <td>4.0</td>\n",
       "      <td>0.108108</td>\n",
       "    </tr>\n",
       "    <tr>\n",
       "      <th>5</th>\n",
       "      <td>9.0</td>\n",
       "      <td>NaN</td>\n",
       "      <td>NaN</td>\n",
       "    </tr>\n",
       "  </tbody>\n",
       "</table>\n",
       "</div>"
      ],
      "text/plain": [
       "debt            0       1     share\n",
       "children                           \n",
       "0         13028.0  1063.0  0.081593\n",
       "3           303.0    27.0  0.089109\n",
       "1          4410.0   445.0  0.100907\n",
       "2          1926.0   202.0  0.104881\n",
       "4            37.0     4.0  0.108108\n",
       "5             9.0     NaN       NaN"
      ]
     },
     "execution_count": 29,
     "metadata": {},
     "output_type": "execute_result"
    }
   ],
   "source": [
    "#построим сводную таблицу для проверки зависимости \n",
    "children_pivot = df.pivot_table(index='children', columns='debt', values='days_employed', aggfunc='count')\n",
    "\n",
    "#определим долю невозвратных кредитов относительно всех\n",
    "children_pivot['share'] = children_pivot[1] / children_pivot[0]\n",
    "children_pivot.sort_values(by = 'share')"
   ]
  },
  {
   "cell_type": "markdown",
   "id": "7f33c693",
   "metadata": {},
   "source": [
    "##### Вывод 1:\n",
    "<a id=\"11\"></a>"
   ]
  },
  {
   "cell_type": "markdown",
   "id": "fd164c48",
   "metadata": {},
   "source": [
    "Заёмщики без детей возвращают кредит чаще чем заёмщики с детьми"
   ]
  },
  {
   "cell_type": "markdown",
   "id": "f9d07484",
   "metadata": {},
   "source": [
    "##### Вопрос 2:\n",
    "<a id=\"12\"></a>\n",
    "Есть ли зависимость между семейным положением и возвратом кредита в срок?"
   ]
  },
  {
   "cell_type": "code",
   "execution_count": 30,
   "id": "27e7b4bc",
   "metadata": {},
   "outputs": [
    {
     "data": {
      "text/html": [
       "<div>\n",
       "<style scoped>\n",
       "    .dataframe tbody tr th:only-of-type {\n",
       "        vertical-align: middle;\n",
       "    }\n",
       "\n",
       "    .dataframe tbody tr th {\n",
       "        vertical-align: top;\n",
       "    }\n",
       "\n",
       "    .dataframe thead th {\n",
       "        text-align: right;\n",
       "    }\n",
       "</style>\n",
       "<table border=\"1\" class=\"dataframe\">\n",
       "  <thead>\n",
       "    <tr style=\"text-align: right;\">\n",
       "      <th></th>\n",
       "      <th>gender</th>\n",
       "      <th>family_status_id</th>\n",
       "      <th>0</th>\n",
       "      <th>1</th>\n",
       "      <th>share</th>\n",
       "      <th>family_status</th>\n",
       "    </tr>\n",
       "  </thead>\n",
       "  <tbody>\n",
       "    <tr>\n",
       "      <th>2</th>\n",
       "      <td>F</td>\n",
       "      <td>2</td>\n",
       "      <td>852</td>\n",
       "      <td>52</td>\n",
       "      <td>0.061033</td>\n",
       "      <td>вдовец / вдова</td>\n",
       "    </tr>\n",
       "    <tr>\n",
       "      <th>3</th>\n",
       "      <td>F</td>\n",
       "      <td>3</td>\n",
       "      <td>875</td>\n",
       "      <td>61</td>\n",
       "      <td>0.069714</td>\n",
       "      <td>в разводе</td>\n",
       "    </tr>\n",
       "    <tr>\n",
       "      <th>4</th>\n",
       "      <td>F</td>\n",
       "      <td>4</td>\n",
       "      <td>1611</td>\n",
       "      <td>118</td>\n",
       "      <td>0.073246</td>\n",
       "      <td>не женат / не замужем</td>\n",
       "    </tr>\n",
       "    <tr>\n",
       "      <th>0</th>\n",
       "      <td>F</td>\n",
       "      <td>0</td>\n",
       "      <td>7230</td>\n",
       "      <td>530</td>\n",
       "      <td>0.073306</td>\n",
       "      <td>женат / замужем</td>\n",
       "    </tr>\n",
       "    <tr>\n",
       "      <th>1</th>\n",
       "      <td>F</td>\n",
       "      <td>1</td>\n",
       "      <td>2612</td>\n",
       "      <td>233</td>\n",
       "      <td>0.089204</td>\n",
       "      <td>гражданский брак</td>\n",
       "    </tr>\n",
       "    <tr>\n",
       "      <th>5</th>\n",
       "      <td>M</td>\n",
       "      <td>0</td>\n",
       "      <td>4178</td>\n",
       "      <td>401</td>\n",
       "      <td>0.095979</td>\n",
       "      <td>женат / замужем</td>\n",
       "    </tr>\n",
       "    <tr>\n",
       "      <th>8</th>\n",
       "      <td>M</td>\n",
       "      <td>3</td>\n",
       "      <td>235</td>\n",
       "      <td>24</td>\n",
       "      <td>0.102128</td>\n",
       "      <td>в разводе</td>\n",
       "    </tr>\n",
       "    <tr>\n",
       "      <th>6</th>\n",
       "      <td>M</td>\n",
       "      <td>1</td>\n",
       "      <td>1151</td>\n",
       "      <td>155</td>\n",
       "      <td>0.134666</td>\n",
       "      <td>гражданский брак</td>\n",
       "    </tr>\n",
       "    <tr>\n",
       "      <th>9</th>\n",
       "      <td>M</td>\n",
       "      <td>4</td>\n",
       "      <td>925</td>\n",
       "      <td>156</td>\n",
       "      <td>0.168649</td>\n",
       "      <td>не женат / не замужем</td>\n",
       "    </tr>\n",
       "    <tr>\n",
       "      <th>7</th>\n",
       "      <td>M</td>\n",
       "      <td>2</td>\n",
       "      <td>44</td>\n",
       "      <td>11</td>\n",
       "      <td>0.250000</td>\n",
       "      <td>вдовец / вдова</td>\n",
       "    </tr>\n",
       "  </tbody>\n",
       "</table>\n",
       "</div>"
      ],
      "text/plain": [
       "  gender  family_status_id     0    1     share          family_status\n",
       "2      F                 2   852   52  0.061033         вдовец / вдова\n",
       "3      F                 3   875   61  0.069714              в разводе\n",
       "4      F                 4  1611  118  0.073246  не женат / не замужем\n",
       "0      F                 0  7230  530  0.073306        женат / замужем\n",
       "1      F                 1  2612  233  0.089204       гражданский брак\n",
       "5      M                 0  4178  401  0.095979        женат / замужем\n",
       "8      M                 3   235   24  0.102128              в разводе\n",
       "6      M                 1  1151  155  0.134666       гражданский брак\n",
       "9      M                 4   925  156  0.168649  не женат / не замужем\n",
       "7      M                 2    44   11  0.250000         вдовец / вдова"
      ]
     },
     "execution_count": 30,
     "metadata": {},
     "output_type": "execute_result"
    }
   ],
   "source": [
    "#построим сводную таблицу для проверки зависимости \n",
    "family_pivot = df.pivot_table(index=['gender','family_status_id'], columns='debt', values='days_employed', aggfunc='count')\n",
    "family_pivot['share'] = family_pivot[1] / family_pivot[0]\n",
    "family_pivot = family_pivot.reset_index()\n",
    "family_pivot = family_pivot.merge(family_status_dict, on = 'family_status_id', how = 'left')\n",
    "family_pivot.sort_values(by = 'share')"
   ]
  },
  {
   "cell_type": "markdown",
   "id": "b1949a57",
   "metadata": {},
   "source": [
    "##### Вывод 2:\n",
    "<a id=\"13\"></a>\n",
    "Самая надёжная категория заёмщиков  - вдовы, следом идут разведенные женщины.Женщины возвращают кредит лучше чем мужчины. Самые ненадёжные заёмщики  - вдовцы."
   ]
  },
  {
   "cell_type": "markdown",
   "id": "f3237c15",
   "metadata": {},
   "source": [
    "##### Вопрос 3:\n",
    "<a id=\"14\"></a>\n",
    "Есть ли зависимость между уровнем дохода и возвратом кредита в срок?"
   ]
  },
  {
   "cell_type": "code",
   "execution_count": 31,
   "id": "26e3a086",
   "metadata": {},
   "outputs": [
    {
     "data": {
      "text/html": [
       "<div>\n",
       "<style scoped>\n",
       "    .dataframe tbody tr th:only-of-type {\n",
       "        vertical-align: middle;\n",
       "    }\n",
       "\n",
       "    .dataframe tbody tr th {\n",
       "        vertical-align: top;\n",
       "    }\n",
       "\n",
       "    .dataframe thead th {\n",
       "        text-align: right;\n",
       "    }\n",
       "</style>\n",
       "<table border=\"1\" class=\"dataframe\">\n",
       "  <thead>\n",
       "    <tr style=\"text-align: right;\">\n",
       "      <th>debt</th>\n",
       "      <th>gender</th>\n",
       "      <th>total_income_category</th>\n",
       "      <th>0</th>\n",
       "      <th>1</th>\n",
       "      <th>share</th>\n",
       "    </tr>\n",
       "  </thead>\n",
       "  <tbody>\n",
       "    <tr>\n",
       "      <th>3</th>\n",
       "      <td>F</td>\n",
       "      <td>D</td>\n",
       "      <td>294.0</td>\n",
       "      <td>15.0</td>\n",
       "      <td>0.051020</td>\n",
       "    </tr>\n",
       "    <tr>\n",
       "      <th>1</th>\n",
       "      <td>F</td>\n",
       "      <td>B</td>\n",
       "      <td>2547.0</td>\n",
       "      <td>164.0</td>\n",
       "      <td>0.064389</td>\n",
       "    </tr>\n",
       "    <tr>\n",
       "      <th>2</th>\n",
       "      <td>F</td>\n",
       "      <td>C</td>\n",
       "      <td>10315.0</td>\n",
       "      <td>813.0</td>\n",
       "      <td>0.078817</td>\n",
       "    </tr>\n",
       "    <tr>\n",
       "      <th>6</th>\n",
       "      <td>M</td>\n",
       "      <td>B</td>\n",
       "      <td>2138.0</td>\n",
       "      <td>192.0</td>\n",
       "      <td>0.089804</td>\n",
       "    </tr>\n",
       "    <tr>\n",
       "      <th>7</th>\n",
       "      <td>M</td>\n",
       "      <td>C</td>\n",
       "      <td>4341.0</td>\n",
       "      <td>547.0</td>\n",
       "      <td>0.126008</td>\n",
       "    </tr>\n",
       "    <tr>\n",
       "      <th>4</th>\n",
       "      <td>F</td>\n",
       "      <td>E</td>\n",
       "      <td>14.0</td>\n",
       "      <td>2.0</td>\n",
       "      <td>0.142857</td>\n",
       "    </tr>\n",
       "    <tr>\n",
       "      <th>5</th>\n",
       "      <td>M</td>\n",
       "      <td>A</td>\n",
       "      <td>13.0</td>\n",
       "      <td>2.0</td>\n",
       "      <td>0.153846</td>\n",
       "    </tr>\n",
       "    <tr>\n",
       "      <th>8</th>\n",
       "      <td>M</td>\n",
       "      <td>D</td>\n",
       "      <td>35.0</td>\n",
       "      <td>6.0</td>\n",
       "      <td>0.171429</td>\n",
       "    </tr>\n",
       "    <tr>\n",
       "      <th>0</th>\n",
       "      <td>F</td>\n",
       "      <td>A</td>\n",
       "      <td>10.0</td>\n",
       "      <td>NaN</td>\n",
       "      <td>NaN</td>\n",
       "    </tr>\n",
       "    <tr>\n",
       "      <th>9</th>\n",
       "      <td>M</td>\n",
       "      <td>E</td>\n",
       "      <td>6.0</td>\n",
       "      <td>NaN</td>\n",
       "      <td>NaN</td>\n",
       "    </tr>\n",
       "  </tbody>\n",
       "</table>\n",
       "</div>"
      ],
      "text/plain": [
       "debt gender total_income_category        0      1     share\n",
       "3         F                     D    294.0   15.0  0.051020\n",
       "1         F                     B   2547.0  164.0  0.064389\n",
       "2         F                     C  10315.0  813.0  0.078817\n",
       "6         M                     B   2138.0  192.0  0.089804\n",
       "7         M                     C   4341.0  547.0  0.126008\n",
       "4         F                     E     14.0    2.0  0.142857\n",
       "5         M                     A     13.0    2.0  0.153846\n",
       "8         M                     D     35.0    6.0  0.171429\n",
       "0         F                     A     10.0    NaN       NaN\n",
       "9         M                     E      6.0    NaN       NaN"
      ]
     },
     "execution_count": 31,
     "metadata": {},
     "output_type": "execute_result"
    }
   ],
   "source": [
    "#построим сводную таблицу для проверки зависимости \n",
    "income_pivot = df.pivot_table(index=['gender','total_income_category'], columns='debt', values='days_employed', aggfunc='count')\n",
    "income_pivot['share'] = income_pivot[1] / income_pivot[0]\n",
    "income_pivot = income_pivot.reset_index()\n",
    "income_pivot.sort_values(by = 'share')"
   ]
  },
  {
   "cell_type": "markdown",
   "id": "0bf9a10d",
   "metadata": {},
   "source": [
    "##### Вывод 3:\n",
    "<a id=\"15\"></a>\n",
    "самые надежные заемщики  - мужчины с доходом ниже 30к и женщины с доходом от 1кк а так же  женищины с доходами 30к-50к и женщины с доходом 200к - 1кк.\n",
    "Самые ненадежные заемщики - мужчины с доходами 30к-50к и мужчины с доходами больше 1кк "
   ]
  },
  {
   "cell_type": "markdown",
   "id": "d7cee6e9",
   "metadata": {},
   "source": [
    "##### Вопрос 4:\n",
    "<a id=\"16\"></a>\n",
    "Как разные цели кредита влияют на его возврат в срок?"
   ]
  },
  {
   "cell_type": "code",
   "execution_count": 32,
   "id": "fdd621cf",
   "metadata": {},
   "outputs": [
    {
     "data": {
      "text/html": [
       "<div>\n",
       "<style scoped>\n",
       "    .dataframe tbody tr th:only-of-type {\n",
       "        vertical-align: middle;\n",
       "    }\n",
       "\n",
       "    .dataframe tbody tr th {\n",
       "        vertical-align: top;\n",
       "    }\n",
       "\n",
       "    .dataframe thead th {\n",
       "        text-align: right;\n",
       "    }\n",
       "</style>\n",
       "<table border=\"1\" class=\"dataframe\">\n",
       "  <thead>\n",
       "    <tr style=\"text-align: right;\">\n",
       "      <th>debt</th>\n",
       "      <th>gender</th>\n",
       "      <th>purpose_category</th>\n",
       "      <th>0</th>\n",
       "      <th>1</th>\n",
       "      <th>share</th>\n",
       "    </tr>\n",
       "  </thead>\n",
       "  <tbody>\n",
       "    <tr>\n",
       "      <th>1</th>\n",
       "      <td>F</td>\n",
       "      <td>операции с недвижимостью</td>\n",
       "      <td>6641</td>\n",
       "      <td>444</td>\n",
       "      <td>0.066857</td>\n",
       "    </tr>\n",
       "    <tr>\n",
       "      <th>3</th>\n",
       "      <td>F</td>\n",
       "      <td>проведение свадьбы</td>\n",
       "      <td>1454</td>\n",
       "      <td>108</td>\n",
       "      <td>0.074278</td>\n",
       "    </tr>\n",
       "    <tr>\n",
       "      <th>2</th>\n",
       "      <td>F</td>\n",
       "      <td>получение образования</td>\n",
       "      <td>2460</td>\n",
       "      <td>207</td>\n",
       "      <td>0.084146</td>\n",
       "    </tr>\n",
       "    <tr>\n",
       "      <th>0</th>\n",
       "      <td>F</td>\n",
       "      <td>операции с автомобилем</td>\n",
       "      <td>2625</td>\n",
       "      <td>235</td>\n",
       "      <td>0.089524</td>\n",
       "    </tr>\n",
       "    <tr>\n",
       "      <th>5</th>\n",
       "      <td>M</td>\n",
       "      <td>операции с недвижимостью</td>\n",
       "      <td>3388</td>\n",
       "      <td>338</td>\n",
       "      <td>0.099764</td>\n",
       "    </tr>\n",
       "    <tr>\n",
       "      <th>7</th>\n",
       "      <td>M</td>\n",
       "      <td>проведение свадьбы</td>\n",
       "      <td>684</td>\n",
       "      <td>78</td>\n",
       "      <td>0.114035</td>\n",
       "    </tr>\n",
       "    <tr>\n",
       "      <th>4</th>\n",
       "      <td>M</td>\n",
       "      <td>операции с автомобилем</td>\n",
       "      <td>1278</td>\n",
       "      <td>168</td>\n",
       "      <td>0.131455</td>\n",
       "    </tr>\n",
       "    <tr>\n",
       "      <th>6</th>\n",
       "      <td>M</td>\n",
       "      <td>получение образования</td>\n",
       "      <td>1183</td>\n",
       "      <td>163</td>\n",
       "      <td>0.137785</td>\n",
       "    </tr>\n",
       "  </tbody>\n",
       "</table>\n",
       "</div>"
      ],
      "text/plain": [
       "debt gender          purpose_category     0    1     share\n",
       "1         F  операции с недвижимостью  6641  444  0.066857\n",
       "3         F        проведение свадьбы  1454  108  0.074278\n",
       "2         F     получение образования  2460  207  0.084146\n",
       "0         F    операции с автомобилем  2625  235  0.089524\n",
       "5         M  операции с недвижимостью  3388  338  0.099764\n",
       "7         M        проведение свадьбы   684   78  0.114035\n",
       "4         M    операции с автомобилем  1278  168  0.131455\n",
       "6         M     получение образования  1183  163  0.137785"
      ]
     },
     "execution_count": 32,
     "metadata": {},
     "output_type": "execute_result"
    }
   ],
   "source": [
    "purpose_pivot = df.pivot_table(index=['gender','purpose_category'], columns='debt', values='days_employed', aggfunc='count')\n",
    "purpose_pivot['share'] = purpose_pivot[1] / purpose_pivot[0]\n",
    "purpose_pivot = purpose_pivot.reset_index()\n",
    "purpose_pivot.sort_values(by = 'share')"
   ]
  },
  {
   "cell_type": "markdown",
   "id": "5c53ae42",
   "metadata": {},
   "source": [
    "##### Вывод 4:\n",
    "<a id=\"17\"></a>\n",
    "\n",
    "самые надежные заемщики  - женщины, кредиты на все цели они возвращают лучше мужчин.\n",
    "хуже всего отдают кредит мужчины на получение образования. \n"
   ]
  },
  {
   "cell_type": "markdown",
   "id": "6ed26116",
   "metadata": {},
   "source": [
    "## Общий вывод:\n",
    "<a id=\"18\"></a>"
   ]
  },
  {
   "cell_type": "markdown",
   "id": "a3ba0fc7",
   "metadata": {},
   "source": [
    "в качестве общего вывода предлагаю найти самых надежных и самых ненажедных заёмщиков"
   ]
  },
  {
   "cell_type": "code",
   "execution_count": 33,
   "id": "6dd0db85",
   "metadata": {},
   "outputs": [
    {
     "data": {
      "text/html": [
       "<div>\n",
       "<style scoped>\n",
       "    .dataframe tbody tr th:only-of-type {\n",
       "        vertical-align: middle;\n",
       "    }\n",
       "\n",
       "    .dataframe tbody tr th {\n",
       "        vertical-align: top;\n",
       "    }\n",
       "\n",
       "    .dataframe thead th {\n",
       "        text-align: right;\n",
       "    }\n",
       "</style>\n",
       "<table border=\"1\" class=\"dataframe\">\n",
       "  <thead>\n",
       "    <tr style=\"text-align: right;\">\n",
       "      <th></th>\n",
       "      <th>gender</th>\n",
       "      <th>purpose_category</th>\n",
       "      <th>total_income_category</th>\n",
       "      <th>family_status_id</th>\n",
       "      <th>children</th>\n",
       "      <th>education_id</th>\n",
       "      <th>0</th>\n",
       "      <th>1</th>\n",
       "      <th>share</th>\n",
       "      <th>family_status</th>\n",
       "    </tr>\n",
       "  </thead>\n",
       "  <tbody>\n",
       "    <tr>\n",
       "      <th>325</th>\n",
       "      <td>M</td>\n",
       "      <td>получение образования</td>\n",
       "      <td>C</td>\n",
       "      <td>1</td>\n",
       "      <td>1</td>\n",
       "      <td>1</td>\n",
       "      <td>4.0</td>\n",
       "      <td>5.0</td>\n",
       "      <td>1.25</td>\n",
       "      <td>гражданский брак</td>\n",
       "    </tr>\n",
       "    <tr>\n",
       "      <th>326</th>\n",
       "      <td>M</td>\n",
       "      <td>операции с автомобилем</td>\n",
       "      <td>C</td>\n",
       "      <td>4</td>\n",
       "      <td>2</td>\n",
       "      <td>1</td>\n",
       "      <td>1.0</td>\n",
       "      <td>2.0</td>\n",
       "      <td>2.00</td>\n",
       "      <td>не женат / не замужем</td>\n",
       "    </tr>\n",
       "    <tr>\n",
       "      <th>327</th>\n",
       "      <td>M</td>\n",
       "      <td>операции с недвижимостью</td>\n",
       "      <td>C</td>\n",
       "      <td>1</td>\n",
       "      <td>0</td>\n",
       "      <td>3</td>\n",
       "      <td>1.0</td>\n",
       "      <td>2.0</td>\n",
       "      <td>2.00</td>\n",
       "      <td>гражданский брак</td>\n",
       "    </tr>\n",
       "    <tr>\n",
       "      <th>328</th>\n",
       "      <td>F</td>\n",
       "      <td>операции с автомобилем</td>\n",
       "      <td>A</td>\n",
       "      <td>0</td>\n",
       "      <td>1</td>\n",
       "      <td>0</td>\n",
       "      <td>1.0</td>\n",
       "      <td>NaN</td>\n",
       "      <td>NaN</td>\n",
       "      <td>женат / замужем</td>\n",
       "    </tr>\n",
       "    <tr>\n",
       "      <th>329</th>\n",
       "      <td>F</td>\n",
       "      <td>операции с автомобилем</td>\n",
       "      <td>A</td>\n",
       "      <td>4</td>\n",
       "      <td>1</td>\n",
       "      <td>0</td>\n",
       "      <td>1.0</td>\n",
       "      <td>NaN</td>\n",
       "      <td>NaN</td>\n",
       "      <td>не женат / не замужем</td>\n",
       "    </tr>\n",
       "    <tr>\n",
       "      <th>...</th>\n",
       "      <td>...</td>\n",
       "      <td>...</td>\n",
       "      <td>...</td>\n",
       "      <td>...</td>\n",
       "      <td>...</td>\n",
       "      <td>...</td>\n",
       "      <td>...</td>\n",
       "      <td>...</td>\n",
       "      <td>...</td>\n",
       "      <td>...</td>\n",
       "    </tr>\n",
       "    <tr>\n",
       "      <th>748</th>\n",
       "      <td>M</td>\n",
       "      <td>проведение свадьбы</td>\n",
       "      <td>C</td>\n",
       "      <td>1</td>\n",
       "      <td>4</td>\n",
       "      <td>0</td>\n",
       "      <td>1.0</td>\n",
       "      <td>NaN</td>\n",
       "      <td>NaN</td>\n",
       "      <td>гражданский брак</td>\n",
       "    </tr>\n",
       "    <tr>\n",
       "      <th>749</th>\n",
       "      <td>M</td>\n",
       "      <td>проведение свадьбы</td>\n",
       "      <td>D</td>\n",
       "      <td>1</td>\n",
       "      <td>0</td>\n",
       "      <td>2</td>\n",
       "      <td>1.0</td>\n",
       "      <td>NaN</td>\n",
       "      <td>NaN</td>\n",
       "      <td>гражданский брак</td>\n",
       "    </tr>\n",
       "    <tr>\n",
       "      <th>750</th>\n",
       "      <td>M</td>\n",
       "      <td>проведение свадьбы</td>\n",
       "      <td>D</td>\n",
       "      <td>1</td>\n",
       "      <td>0</td>\n",
       "      <td>3</td>\n",
       "      <td>1.0</td>\n",
       "      <td>NaN</td>\n",
       "      <td>NaN</td>\n",
       "      <td>гражданский брак</td>\n",
       "    </tr>\n",
       "    <tr>\n",
       "      <th>751</th>\n",
       "      <td>M</td>\n",
       "      <td>проведение свадьбы</td>\n",
       "      <td>D</td>\n",
       "      <td>1</td>\n",
       "      <td>1</td>\n",
       "      <td>3</td>\n",
       "      <td>1.0</td>\n",
       "      <td>NaN</td>\n",
       "      <td>NaN</td>\n",
       "      <td>гражданский брак</td>\n",
       "    </tr>\n",
       "    <tr>\n",
       "      <th>752</th>\n",
       "      <td>M</td>\n",
       "      <td>проведение свадьбы</td>\n",
       "      <td>E</td>\n",
       "      <td>1</td>\n",
       "      <td>0</td>\n",
       "      <td>1</td>\n",
       "      <td>2.0</td>\n",
       "      <td>NaN</td>\n",
       "      <td>NaN</td>\n",
       "      <td>гражданский брак</td>\n",
       "    </tr>\n",
       "  </tbody>\n",
       "</table>\n",
       "<p>428 rows × 10 columns</p>\n",
       "</div>"
      ],
      "text/plain": [
       "    gender          purpose_category total_income_category  family_status_id  \\\n",
       "325      M     получение образования                     C                 1   \n",
       "326      M    операции с автомобилем                     C                 4   \n",
       "327      M  операции с недвижимостью                     C                 1   \n",
       "328      F    операции с автомобилем                     A                 0   \n",
       "329      F    операции с автомобилем                     A                 4   \n",
       "..     ...                       ...                   ...               ...   \n",
       "748      M        проведение свадьбы                     C                 1   \n",
       "749      M        проведение свадьбы                     D                 1   \n",
       "750      M        проведение свадьбы                     D                 1   \n",
       "751      M        проведение свадьбы                     D                 1   \n",
       "752      M        проведение свадьбы                     E                 1   \n",
       "\n",
       "     children  education_id    0    1  share          family_status  \n",
       "325         1             1  4.0  5.0   1.25       гражданский брак  \n",
       "326         2             1  1.0  2.0   2.00  не женат / не замужем  \n",
       "327         0             3  1.0  2.0   2.00       гражданский брак  \n",
       "328         1             0  1.0  NaN    NaN        женат / замужем  \n",
       "329         1             0  1.0  NaN    NaN  не женат / не замужем  \n",
       "..        ...           ...  ...  ...    ...                    ...  \n",
       "748         4             0  1.0  NaN    NaN       гражданский брак  \n",
       "749         0             2  1.0  NaN    NaN       гражданский брак  \n",
       "750         0             3  1.0  NaN    NaN       гражданский брак  \n",
       "751         1             3  1.0  NaN    NaN       гражданский брак  \n",
       "752         0             1  2.0  NaN    NaN       гражданский брак  \n",
       "\n",
       "[428 rows x 10 columns]"
      ]
     },
     "execution_count": 33,
     "metadata": {},
     "output_type": "execute_result"
    }
   ],
   "source": [
    "total_pivot = df.pivot_table(index=['gender','purpose_category','total_income_category','family_status_id','children','education_id'], columns='debt', values='days_employed', aggfunc='count')\n",
    "total_pivot = total_pivot.reset_index()\n",
    "total_pivot['share'] = total_pivot[1] / total_pivot[0]\n",
    "total_pivot = total_pivot.sort_values(by = 'share')\n",
    "total_pivot = total_pivot.merge(family_status_dict, on = 'family_status_id', how = 'left')\n",
    "#total_pivot = total_pivot.merge(education_dict, on = 'education_id', how = 'left')\n",
    "total_pivot.tail(428)"
   ]
  },
  {
   "cell_type": "markdown",
   "id": "617cc79d",
   "metadata": {},
   "source": [
    "Портрет надежного заемщика выглоядит так - мужчина, с любым уровнем дохода, состоящий в гражданском браке, с детьми, который берет кредит на проведение свадьбы. Задолжености по таким кредитам и крадиторам отсутствуют\n",
    "\n",
    "Портрет хучшего заёмщика выглядит так - мужчина без детей, с начальным образованием, состоящий в гражданском браке, который берет кредит на операции с недвижимостью"
   ]
  }
 ],
 "metadata": {
  "ExecuteTimeLog": [
   {
    "duration": 443,
    "start_time": "2022-05-27T13:53:12.072Z"
   },
   {
    "duration": 153,
    "start_time": "2022-05-27T13:54:32.651Z"
   },
   {
    "duration": 140,
    "start_time": "2022-05-27T13:54:45.314Z"
   },
   {
    "duration": 104,
    "start_time": "2022-05-27T13:56:02.190Z"
   },
   {
    "duration": 71,
    "start_time": "2022-05-27T13:57:13.441Z"
   },
   {
    "duration": 31,
    "start_time": "2022-05-27T13:58:25.150Z"
   },
   {
    "duration": 46,
    "start_time": "2022-05-27T13:58:31.644Z"
   },
   {
    "duration": 3,
    "start_time": "2022-05-27T13:58:35.712Z"
   },
   {
    "duration": 3,
    "start_time": "2022-05-27T13:58:55.441Z"
   },
   {
    "duration": 25,
    "start_time": "2022-05-27T13:58:56.158Z"
   },
   {
    "duration": 68,
    "start_time": "2022-05-27T13:58:56.618Z"
   },
   {
    "duration": 2,
    "start_time": "2022-05-27T13:59:46.907Z"
   },
   {
    "duration": 67,
    "start_time": "2022-05-27T13:59:49.466Z"
   },
   {
    "duration": 2,
    "start_time": "2022-05-27T14:06:05.642Z"
   },
   {
    "duration": 67,
    "start_time": "2022-05-27T14:06:06.001Z"
   },
   {
    "duration": 67,
    "start_time": "2022-05-27T14:06:27.615Z"
   },
   {
    "duration": 77,
    "start_time": "2022-05-27T14:06:41.115Z"
   },
   {
    "duration": 49,
    "start_time": "2022-05-27T14:07:55.275Z"
   },
   {
    "duration": 15,
    "start_time": "2022-05-27T14:09:12.783Z"
   },
   {
    "duration": 15,
    "start_time": "2022-05-27T14:09:19.453Z"
   },
   {
    "duration": 78,
    "start_time": "2022-05-27T14:11:01.441Z"
   },
   {
    "duration": 82,
    "start_time": "2022-05-27T14:11:18.143Z"
   },
   {
    "duration": 76,
    "start_time": "2022-05-27T14:11:21.019Z"
   },
   {
    "duration": 14,
    "start_time": "2022-05-27T14:12:12.346Z"
   },
   {
    "duration": 13,
    "start_time": "2022-05-27T14:17:14.708Z"
   },
   {
    "duration": 31,
    "start_time": "2022-05-27T14:18:09.050Z"
   },
   {
    "duration": 10,
    "start_time": "2022-05-27T14:19:21.862Z"
   },
   {
    "duration": 79,
    "start_time": "2022-05-27T14:22:15.299Z"
   },
   {
    "duration": 14,
    "start_time": "2022-05-27T14:22:16.610Z"
   },
   {
    "duration": 10,
    "start_time": "2022-05-27T14:22:18.276Z"
   },
   {
    "duration": 32,
    "start_time": "2022-05-27T14:28:15.410Z"
   },
   {
    "duration": 30,
    "start_time": "2022-05-27T14:28:20.172Z"
   },
   {
    "duration": 32,
    "start_time": "2022-05-27T14:29:43.059Z"
   },
   {
    "duration": 108,
    "start_time": "2022-05-27T14:36:31.821Z"
   },
   {
    "duration": 88,
    "start_time": "2022-05-27T14:37:16.860Z"
   },
   {
    "duration": 91,
    "start_time": "2022-05-27T14:37:30.067Z"
   },
   {
    "duration": 15,
    "start_time": "2022-05-27T14:38:10.793Z"
   },
   {
    "duration": 10,
    "start_time": "2022-05-27T14:38:12.710Z"
   },
   {
    "duration": 36,
    "start_time": "2022-05-27T14:40:30.819Z"
   },
   {
    "duration": 28,
    "start_time": "2022-05-27T14:40:52.907Z"
   },
   {
    "duration": 3,
    "start_time": "2022-05-30T08:19:25.381Z"
   },
   {
    "duration": 10,
    "start_time": "2022-05-30T08:19:39.396Z"
   },
   {
    "duration": 5,
    "start_time": "2022-05-30T08:20:08.135Z"
   },
   {
    "duration": 22,
    "start_time": "2022-05-30T08:21:10.130Z"
   },
   {
    "duration": 4,
    "start_time": "2022-05-30T08:21:17.991Z"
   },
   {
    "duration": 4,
    "start_time": "2022-05-30T08:21:24.763Z"
   },
   {
    "duration": 6,
    "start_time": "2022-05-30T08:21:39.455Z"
   },
   {
    "duration": 6,
    "start_time": "2022-05-30T08:21:50.941Z"
   },
   {
    "duration": 5,
    "start_time": "2022-05-30T08:22:17.913Z"
   },
   {
    "duration": 5,
    "start_time": "2022-05-30T08:22:30.753Z"
   },
   {
    "duration": 6,
    "start_time": "2022-05-30T08:24:02.778Z"
   },
   {
    "duration": 6,
    "start_time": "2022-05-30T08:24:33.443Z"
   },
   {
    "duration": 32,
    "start_time": "2022-05-30T08:25:57.411Z"
   },
   {
    "duration": 117,
    "start_time": "2022-05-30T08:26:08.432Z"
   },
   {
    "duration": 36,
    "start_time": "2022-05-30T08:26:33.400Z"
   },
   {
    "duration": 21,
    "start_time": "2022-05-30T08:26:42.100Z"
   },
   {
    "duration": 40,
    "start_time": "2022-05-30T08:28:13.466Z"
   },
   {
    "duration": 5,
    "start_time": "2022-05-30T08:28:17.085Z"
   },
   {
    "duration": 10,
    "start_time": "2022-05-30T08:33:48.711Z"
   },
   {
    "duration": 28,
    "start_time": "2022-05-30T08:34:35.922Z"
   },
   {
    "duration": 23,
    "start_time": "2022-05-30T08:34:48.411Z"
   },
   {
    "duration": 55,
    "start_time": "2022-05-30T08:39:00.654Z"
   },
   {
    "duration": 30,
    "start_time": "2022-05-30T08:39:34.098Z"
   },
   {
    "duration": 20,
    "start_time": "2022-05-30T08:39:42.978Z"
   },
   {
    "duration": 59,
    "start_time": "2022-05-30T08:39:46.536Z"
   },
   {
    "duration": 22,
    "start_time": "2022-05-30T08:40:22.095Z"
   },
   {
    "duration": 25,
    "start_time": "2022-05-30T08:40:50.451Z"
   },
   {
    "duration": 33,
    "start_time": "2022-05-30T08:40:53.655Z"
   },
   {
    "duration": 6,
    "start_time": "2022-05-30T08:43:35.457Z"
   },
   {
    "duration": 6,
    "start_time": "2022-05-30T08:43:48.462Z"
   },
   {
    "duration": 6,
    "start_time": "2022-05-30T08:43:55.199Z"
   },
   {
    "duration": 7,
    "start_time": "2022-05-30T08:44:03.149Z"
   },
   {
    "duration": 9,
    "start_time": "2022-05-30T08:44:31.147Z"
   },
   {
    "duration": 6,
    "start_time": "2022-05-30T08:45:17.589Z"
   },
   {
    "duration": 5,
    "start_time": "2022-05-30T08:51:33.694Z"
   },
   {
    "duration": 73,
    "start_time": "2022-05-30T08:52:09.394Z"
   },
   {
    "duration": 10,
    "start_time": "2022-05-30T08:52:24.633Z"
   },
   {
    "duration": 9,
    "start_time": "2022-05-30T08:52:30.409Z"
   },
   {
    "duration": 4,
    "start_time": "2022-05-30T08:52:36.909Z"
   },
   {
    "duration": 8,
    "start_time": "2022-05-30T08:52:39.510Z"
   },
   {
    "duration": 7,
    "start_time": "2022-05-30T08:52:45.525Z"
   },
   {
    "duration": 7,
    "start_time": "2022-05-30T08:52:50.262Z"
   },
   {
    "duration": 6,
    "start_time": "2022-05-30T08:53:08.612Z"
   },
   {
    "duration": 8,
    "start_time": "2022-05-30T08:53:11.081Z"
   },
   {
    "duration": 7,
    "start_time": "2022-05-30T08:53:12.179Z"
   },
   {
    "duration": 84,
    "start_time": "2022-05-30T08:53:19.064Z"
   },
   {
    "duration": 15,
    "start_time": "2022-05-30T08:53:19.486Z"
   },
   {
    "duration": 10,
    "start_time": "2022-05-30T08:53:20.088Z"
   },
   {
    "duration": 6,
    "start_time": "2022-05-30T08:53:20.850Z"
   },
   {
    "duration": 5,
    "start_time": "2022-05-30T08:53:21.640Z"
   },
   {
    "duration": 13,
    "start_time": "2022-05-30T08:59:23.928Z"
   },
   {
    "duration": 15,
    "start_time": "2022-05-30T09:04:26.542Z"
   },
   {
    "duration": 6,
    "start_time": "2022-05-30T09:04:35.378Z"
   },
   {
    "duration": 13,
    "start_time": "2022-05-30T09:04:36.454Z"
   },
   {
    "duration": 14,
    "start_time": "2022-05-30T09:04:44.844Z"
   },
   {
    "duration": 13,
    "start_time": "2022-05-30T09:05:55.766Z"
   },
   {
    "duration": 11,
    "start_time": "2022-05-30T09:06:00.065Z"
   },
   {
    "duration": 5,
    "start_time": "2022-05-30T09:06:02.477Z"
   },
   {
    "duration": 12,
    "start_time": "2022-05-30T09:06:03.439Z"
   },
   {
    "duration": 11,
    "start_time": "2022-05-30T09:06:07.274Z"
   },
   {
    "duration": 6,
    "start_time": "2022-05-30T09:06:09.938Z"
   },
   {
    "duration": 10,
    "start_time": "2022-05-30T09:06:10.829Z"
   },
   {
    "duration": 7,
    "start_time": "2022-05-30T09:06:48.142Z"
   },
   {
    "duration": 7,
    "start_time": "2022-05-30T09:07:08.855Z"
   },
   {
    "duration": 9,
    "start_time": "2022-05-30T09:08:08.830Z"
   },
   {
    "duration": 6,
    "start_time": "2022-05-30T09:08:16.816Z"
   },
   {
    "duration": 4,
    "start_time": "2022-05-30T09:08:33.871Z"
   },
   {
    "duration": 4,
    "start_time": "2022-05-30T09:08:36.132Z"
   },
   {
    "duration": 8,
    "start_time": "2022-05-30T09:08:40.303Z"
   },
   {
    "duration": 4,
    "start_time": "2022-05-30T09:08:41.503Z"
   },
   {
    "duration": 6,
    "start_time": "2022-05-30T09:08:47.274Z"
   },
   {
    "duration": 8,
    "start_time": "2022-05-30T09:08:58.071Z"
   },
   {
    "duration": 2,
    "start_time": "2022-05-30T09:09:22.458Z"
   },
   {
    "duration": 4,
    "start_time": "2022-05-30T09:09:25.124Z"
   },
   {
    "duration": 5,
    "start_time": "2022-05-30T09:09:36.360Z"
   },
   {
    "duration": 12,
    "start_time": "2022-05-30T09:09:38.239Z"
   },
   {
    "duration": 11,
    "start_time": "2022-05-30T09:09:52.269Z"
   },
   {
    "duration": 11,
    "start_time": "2022-05-30T09:09:54.821Z"
   },
   {
    "duration": 10,
    "start_time": "2022-05-30T09:09:55.635Z"
   },
   {
    "duration": 81,
    "start_time": "2022-05-30T09:09:59.128Z"
   },
   {
    "duration": 18,
    "start_time": "2022-05-30T09:09:59.432Z"
   },
   {
    "duration": 10,
    "start_time": "2022-05-30T09:09:59.952Z"
   },
   {
    "duration": 6,
    "start_time": "2022-05-30T09:10:00.288Z"
   },
   {
    "duration": 5,
    "start_time": "2022-05-30T09:10:00.756Z"
   },
   {
    "duration": 4,
    "start_time": "2022-05-30T09:10:01.682Z"
   },
   {
    "duration": 7,
    "start_time": "2022-05-30T09:10:16.579Z"
   },
   {
    "duration": 4,
    "start_time": "2022-05-30T09:10:56.481Z"
   },
   {
    "duration": 6,
    "start_time": "2022-05-30T09:10:58.801Z"
   },
   {
    "duration": 5,
    "start_time": "2022-05-30T09:13:16.582Z"
   },
   {
    "duration": 74,
    "start_time": "2022-05-30T09:13:24.271Z"
   },
   {
    "duration": 15,
    "start_time": "2022-05-30T09:13:24.642Z"
   },
   {
    "duration": 10,
    "start_time": "2022-05-30T09:13:25.262Z"
   },
   {
    "duration": 6,
    "start_time": "2022-05-30T09:13:25.727Z"
   },
   {
    "duration": 5,
    "start_time": "2022-05-30T09:13:28.309Z"
   },
   {
    "duration": 4,
    "start_time": "2022-05-30T09:13:29.360Z"
   },
   {
    "duration": 6,
    "start_time": "2022-05-30T09:13:47.601Z"
   },
   {
    "duration": 5,
    "start_time": "2022-05-30T09:13:47.945Z"
   },
   {
    "duration": 4,
    "start_time": "2022-05-30T09:13:48.646Z"
   },
   {
    "duration": 59,
    "start_time": "2022-05-30T11:44:45.061Z"
   },
   {
    "duration": 1049,
    "start_time": "2022-05-30T11:44:53.167Z"
   },
   {
    "duration": 17,
    "start_time": "2022-05-30T11:44:54.218Z"
   },
   {
    "duration": 10,
    "start_time": "2022-05-30T11:44:54.237Z"
   },
   {
    "duration": 5,
    "start_time": "2022-05-30T11:44:54.292Z"
   },
   {
    "duration": 7,
    "start_time": "2022-05-30T11:44:54.631Z"
   },
   {
    "duration": 5,
    "start_time": "2022-05-30T11:44:54.977Z"
   },
   {
    "duration": 6,
    "start_time": "2022-05-30T11:46:12.258Z"
   },
   {
    "duration": 8,
    "start_time": "2022-05-30T11:46:57.738Z"
   },
   {
    "duration": 8,
    "start_time": "2022-05-30T11:47:25.118Z"
   },
   {
    "duration": 7,
    "start_time": "2022-05-30T11:47:37.484Z"
   },
   {
    "duration": 278,
    "start_time": "2022-05-30T11:50:00.169Z"
   },
   {
    "duration": 6,
    "start_time": "2022-05-30T11:50:13.566Z"
   },
   {
    "duration": 4,
    "start_time": "2022-05-30T11:50:30.751Z"
   },
   {
    "duration": 4,
    "start_time": "2022-05-30T11:50:41.562Z"
   },
   {
    "duration": 4,
    "start_time": "2022-05-30T11:50:48.762Z"
   },
   {
    "duration": 31,
    "start_time": "2022-05-30T11:51:39.458Z"
   },
   {
    "duration": 6,
    "start_time": "2022-05-30T11:51:53.520Z"
   },
   {
    "duration": 6,
    "start_time": "2022-05-30T11:53:14.705Z"
   },
   {
    "duration": 6,
    "start_time": "2022-05-30T11:53:35.274Z"
   },
   {
    "duration": 21,
    "start_time": "2022-05-30T11:53:40.476Z"
   },
   {
    "duration": 9,
    "start_time": "2022-05-30T11:54:13.174Z"
   },
   {
    "duration": 7,
    "start_time": "2022-05-30T11:55:13.825Z"
   },
   {
    "duration": 39,
    "start_time": "2022-05-30T11:55:32.462Z"
   },
   {
    "duration": 32,
    "start_time": "2022-05-30T11:55:43.268Z"
   },
   {
    "duration": 6,
    "start_time": "2022-05-30T11:55:48.807Z"
   },
   {
    "duration": 6,
    "start_time": "2022-05-30T11:56:06.293Z"
   },
   {
    "duration": 85,
    "start_time": "2022-05-30T11:56:11.359Z"
   },
   {
    "duration": 15,
    "start_time": "2022-05-30T11:56:11.662Z"
   },
   {
    "duration": 13,
    "start_time": "2022-05-30T11:56:12.200Z"
   },
   {
    "duration": 5,
    "start_time": "2022-05-30T11:56:12.598Z"
   },
   {
    "duration": 4,
    "start_time": "2022-05-30T11:56:17.602Z"
   },
   {
    "duration": 5,
    "start_time": "2022-05-30T11:56:18.924Z"
   },
   {
    "duration": 8,
    "start_time": "2022-05-30T12:13:02.149Z"
   },
   {
    "duration": 6,
    "start_time": "2022-05-30T12:31:37.549Z"
   },
   {
    "duration": 6,
    "start_time": "2022-05-30T12:35:21.848Z"
   },
   {
    "duration": 12,
    "start_time": "2022-05-30T12:35:34.208Z"
   },
   {
    "duration": 7,
    "start_time": "2022-05-30T12:36:17.917Z"
   },
   {
    "duration": 7,
    "start_time": "2022-05-30T12:36:20.415Z"
   },
   {
    "duration": 9,
    "start_time": "2022-05-30T12:36:29.404Z"
   },
   {
    "duration": 11,
    "start_time": "2022-05-30T12:36:40.793Z"
   },
   {
    "duration": 14,
    "start_time": "2022-05-30T12:37:26.643Z"
   },
   {
    "duration": 12,
    "start_time": "2022-05-30T12:37:33.098Z"
   },
   {
    "duration": 6,
    "start_time": "2022-05-30T12:38:46.603Z"
   },
   {
    "duration": 80,
    "start_time": "2022-05-30T12:38:51.671Z"
   },
   {
    "duration": 14,
    "start_time": "2022-05-30T12:38:51.973Z"
   },
   {
    "duration": 9,
    "start_time": "2022-05-30T12:38:52.521Z"
   },
   {
    "duration": 6,
    "start_time": "2022-05-30T12:38:52.999Z"
   },
   {
    "duration": 6,
    "start_time": "2022-05-30T12:39:11.445Z"
   },
   {
    "duration": 6,
    "start_time": "2022-05-30T12:39:32.187Z"
   },
   {
    "duration": 6,
    "start_time": "2022-05-30T12:40:30.506Z"
   },
   {
    "duration": 6,
    "start_time": "2022-05-30T12:40:49.826Z"
   },
   {
    "duration": 29,
    "start_time": "2022-05-30T12:41:22.844Z"
   },
   {
    "duration": 8,
    "start_time": "2022-05-30T12:41:56.033Z"
   },
   {
    "duration": 11,
    "start_time": "2022-05-30T12:42:08.192Z"
   },
   {
    "duration": 12,
    "start_time": "2022-05-30T12:42:21.254Z"
   },
   {
    "duration": 11,
    "start_time": "2022-05-30T12:42:35.955Z"
   },
   {
    "duration": 14,
    "start_time": "2022-05-30T12:42:57.865Z"
   },
   {
    "duration": 6,
    "start_time": "2022-05-30T12:49:33.797Z"
   },
   {
    "duration": 5,
    "start_time": "2022-05-30T12:49:47.651Z"
   },
   {
    "duration": 3,
    "start_time": "2022-05-30T12:54:11.544Z"
   },
   {
    "duration": 3,
    "start_time": "2022-05-30T12:54:16.500Z"
   },
   {
    "duration": 467,
    "start_time": "2022-05-30T12:54:30.944Z"
   },
   {
    "duration": 76,
    "start_time": "2022-05-30T12:54:38.777Z"
   },
   {
    "duration": 14,
    "start_time": "2022-05-30T12:54:39.247Z"
   },
   {
    "duration": 10,
    "start_time": "2022-05-30T12:54:39.948Z"
   },
   {
    "duration": 6,
    "start_time": "2022-05-30T12:54:40.284Z"
   },
   {
    "duration": 4,
    "start_time": "2022-05-30T12:54:40.662Z"
   },
   {
    "duration": 5,
    "start_time": "2022-05-30T12:54:41.041Z"
   },
   {
    "duration": 37,
    "start_time": "2022-05-30T12:54:41.387Z"
   },
   {
    "duration": 12,
    "start_time": "2022-05-30T12:54:51.298Z"
   },
   {
    "duration": 11,
    "start_time": "2022-05-30T12:56:15.899Z"
   },
   {
    "duration": 79,
    "start_time": "2022-05-30T12:56:20.103Z"
   },
   {
    "duration": 15,
    "start_time": "2022-05-30T12:56:21.014Z"
   },
   {
    "duration": 9,
    "start_time": "2022-05-30T12:56:22.241Z"
   },
   {
    "duration": 5,
    "start_time": "2022-05-30T12:56:23.360Z"
   },
   {
    "duration": 4,
    "start_time": "2022-05-30T12:56:24.184Z"
   },
   {
    "duration": 5,
    "start_time": "2022-05-30T12:56:24.967Z"
   },
   {
    "duration": 21,
    "start_time": "2022-05-30T12:56:25.749Z"
   },
   {
    "duration": 5,
    "start_time": "2022-05-30T13:01:58.006Z"
   },
   {
    "duration": 21,
    "start_time": "2022-05-30T13:02:03.043Z"
   },
   {
    "duration": 7,
    "start_time": "2022-05-30T13:02:14.858Z"
   },
   {
    "duration": 5,
    "start_time": "2022-05-30T13:05:08.278Z"
   },
   {
    "duration": 3,
    "start_time": "2022-05-30T13:05:36.741Z"
   },
   {
    "duration": 17,
    "start_time": "2022-05-30T13:05:42.870Z"
   },
   {
    "duration": 3,
    "start_time": "2022-05-30T13:09:11.119Z"
   },
   {
    "duration": 19,
    "start_time": "2022-05-30T13:10:39.626Z"
   },
   {
    "duration": 5,
    "start_time": "2022-05-30T13:11:17.065Z"
   },
   {
    "duration": 49,
    "start_time": "2022-05-30T18:45:02.244Z"
   },
   {
    "duration": 724,
    "start_time": "2022-05-30T18:45:07.283Z"
   },
   {
    "duration": 14,
    "start_time": "2022-05-30T18:45:08.008Z"
   },
   {
    "duration": 8,
    "start_time": "2022-05-30T18:45:08.237Z"
   },
   {
    "duration": 4,
    "start_time": "2022-05-30T18:45:08.869Z"
   },
   {
    "duration": 5,
    "start_time": "2022-05-30T18:45:09.262Z"
   },
   {
    "duration": 4,
    "start_time": "2022-05-30T18:45:09.680Z"
   },
   {
    "duration": 6,
    "start_time": "2022-05-30T18:45:10.087Z"
   },
   {
    "duration": 3,
    "start_time": "2022-05-30T18:45:10.290Z"
   },
   {
    "duration": 6,
    "start_time": "2022-05-30T18:45:10.515Z"
   },
   {
    "duration": 26,
    "start_time": "2022-05-30T18:45:38.408Z"
   },
   {
    "duration": 3,
    "start_time": "2022-05-30T18:46:25.414Z"
   },
   {
    "duration": 13,
    "start_time": "2022-05-30T18:46:26.607Z"
   },
   {
    "duration": 6,
    "start_time": "2022-05-30T18:46:51.888Z"
   },
   {
    "duration": 28,
    "start_time": "2022-05-30T18:48:11.272Z"
   },
   {
    "duration": 7,
    "start_time": "2022-05-30T18:48:18.868Z"
   },
   {
    "duration": 7,
    "start_time": "2022-05-30T18:48:26.577Z"
   },
   {
    "duration": 7,
    "start_time": "2022-05-30T18:49:53.989Z"
   },
   {
    "duration": 8,
    "start_time": "2022-05-30T18:52:26.181Z"
   },
   {
    "duration": 8,
    "start_time": "2022-05-30T18:56:38.027Z"
   },
   {
    "duration": 5,
    "start_time": "2022-05-30T18:56:45.100Z"
   },
   {
    "duration": 7,
    "start_time": "2022-05-30T18:56:53.168Z"
   },
   {
    "duration": 5,
    "start_time": "2022-05-30T18:57:28.241Z"
   },
   {
    "duration": 8,
    "start_time": "2022-05-30T18:57:39.310Z"
   },
   {
    "duration": 5,
    "start_time": "2022-05-30T18:58:55.359Z"
   },
   {
    "duration": 6,
    "start_time": "2022-05-30T18:59:04.378Z"
   },
   {
    "duration": 9,
    "start_time": "2022-05-30T19:14:45.835Z"
   },
   {
    "duration": 9,
    "start_time": "2022-05-30T19:15:42.292Z"
   },
   {
    "duration": 13,
    "start_time": "2022-05-30T19:15:44.541Z"
   },
   {
    "duration": 12,
    "start_time": "2022-05-30T19:15:52.904Z"
   },
   {
    "duration": 10,
    "start_time": "2022-05-30T19:18:03.177Z"
   },
   {
    "duration": 11,
    "start_time": "2022-05-30T19:18:14.073Z"
   },
   {
    "duration": 11,
    "start_time": "2022-05-30T19:18:33.076Z"
   },
   {
    "duration": 10,
    "start_time": "2022-05-30T19:18:52.313Z"
   },
   {
    "duration": 10,
    "start_time": "2022-05-30T19:21:42.939Z"
   },
   {
    "duration": 5,
    "start_time": "2022-05-30T19:22:03.151Z"
   },
   {
    "duration": 7,
    "start_time": "2022-05-30T19:28:41.699Z"
   },
   {
    "duration": 15,
    "start_time": "2022-05-30T19:29:21.203Z"
   },
   {
    "duration": 9,
    "start_time": "2022-05-30T19:29:33.339Z"
   },
   {
    "duration": 842,
    "start_time": "2022-05-31T06:42:15.521Z"
   },
   {
    "duration": 17,
    "start_time": "2022-05-31T06:42:16.366Z"
   },
   {
    "duration": 10,
    "start_time": "2022-05-31T06:42:17.088Z"
   },
   {
    "duration": 5,
    "start_time": "2022-05-31T06:42:17.715Z"
   },
   {
    "duration": 4,
    "start_time": "2022-05-31T06:42:18.283Z"
   },
   {
    "duration": 7,
    "start_time": "2022-05-31T06:42:18.847Z"
   },
   {
    "duration": 8,
    "start_time": "2022-05-31T06:42:19.387Z"
   },
   {
    "duration": 6,
    "start_time": "2022-05-31T06:42:19.639Z"
   },
   {
    "duration": 20,
    "start_time": "2022-05-31T06:42:19.925Z"
   },
   {
    "duration": 7,
    "start_time": "2022-05-31T06:42:20.194Z"
   },
   {
    "duration": 5,
    "start_time": "2022-05-31T06:42:20.494Z"
   },
   {
    "duration": 10,
    "start_time": "2022-05-31T06:42:20.797Z"
   },
   {
    "duration": 18,
    "start_time": "2022-05-31T06:42:37.516Z"
   },
   {
    "duration": 4,
    "start_time": "2022-05-31T06:55:59.913Z"
   },
   {
    "duration": 6,
    "start_time": "2022-05-31T06:56:40.668Z"
   },
   {
    "duration": 17,
    "start_time": "2022-05-31T06:56:46.494Z"
   },
   {
    "duration": 27,
    "start_time": "2022-05-31T06:57:09.349Z"
   },
   {
    "duration": 72,
    "start_time": "2022-05-31T06:57:20.103Z"
   },
   {
    "duration": 18,
    "start_time": "2022-05-31T06:57:23.745Z"
   },
   {
    "duration": 42,
    "start_time": "2022-05-31T07:17:56.427Z"
   },
   {
    "duration": 538,
    "start_time": "2022-05-31T07:18:19.703Z"
   },
   {
    "duration": 11,
    "start_time": "2022-05-31T07:18:39.340Z"
   },
   {
    "duration": 28,
    "start_time": "2022-05-31T07:18:53.210Z"
   },
   {
    "duration": 6,
    "start_time": "2022-05-31T07:19:08.921Z"
   },
   {
    "duration": 5,
    "start_time": "2022-05-31T07:19:12.392Z"
   },
   {
    "duration": 78,
    "start_time": "2022-05-31T07:19:17.532Z"
   },
   {
    "duration": 15,
    "start_time": "2022-05-31T07:19:17.815Z"
   },
   {
    "duration": 9,
    "start_time": "2022-05-31T07:19:18.295Z"
   },
   {
    "duration": 12,
    "start_time": "2022-05-31T07:19:18.627Z"
   },
   {
    "duration": 5,
    "start_time": "2022-05-31T07:19:18.943Z"
   },
   {
    "duration": 6,
    "start_time": "2022-05-31T07:19:19.293Z"
   },
   {
    "duration": 6,
    "start_time": "2022-05-31T07:19:19.606Z"
   },
   {
    "duration": 4,
    "start_time": "2022-05-31T07:19:19.794Z"
   },
   {
    "duration": 5,
    "start_time": "2022-05-31T07:19:19.956Z"
   },
   {
    "duration": 9,
    "start_time": "2022-05-31T07:19:20.204Z"
   },
   {
    "duration": 5,
    "start_time": "2022-05-31T07:19:20.416Z"
   },
   {
    "duration": 11,
    "start_time": "2022-05-31T07:19:20.660Z"
   },
   {
    "duration": 11,
    "start_time": "2022-05-31T07:19:20.923Z"
   },
   {
    "duration": 6,
    "start_time": "2022-05-31T07:19:50.749Z"
   },
   {
    "duration": 40,
    "start_time": "2022-05-31T07:20:08.627Z"
   },
   {
    "duration": 6,
    "start_time": "2022-05-31T07:20:12.750Z"
   },
   {
    "duration": 11,
    "start_time": "2022-05-31T07:23:09.019Z"
   },
   {
    "duration": 7,
    "start_time": "2022-05-31T07:24:16.516Z"
   },
   {
    "duration": 7,
    "start_time": "2022-05-31T07:24:52.263Z"
   },
   {
    "duration": 8,
    "start_time": "2022-05-31T07:24:59.048Z"
   },
   {
    "duration": 7,
    "start_time": "2022-05-31T07:25:12.493Z"
   },
   {
    "duration": 7,
    "start_time": "2022-05-31T07:25:21.703Z"
   },
   {
    "duration": 7,
    "start_time": "2022-05-31T07:25:28.472Z"
   },
   {
    "duration": 7,
    "start_time": "2022-05-31T07:28:14.779Z"
   },
   {
    "duration": 73,
    "start_time": "2022-05-31T07:28:18.888Z"
   },
   {
    "duration": 14,
    "start_time": "2022-05-31T07:28:19.372Z"
   },
   {
    "duration": 9,
    "start_time": "2022-05-31T07:28:19.849Z"
   },
   {
    "duration": 5,
    "start_time": "2022-05-31T07:28:20.138Z"
   },
   {
    "duration": 5,
    "start_time": "2022-05-31T07:28:20.565Z"
   },
   {
    "duration": 5,
    "start_time": "2022-05-31T07:28:21.049Z"
   },
   {
    "duration": 7,
    "start_time": "2022-05-31T07:28:21.503Z"
   },
   {
    "duration": 4,
    "start_time": "2022-05-31T07:28:21.701Z"
   },
   {
    "duration": 5,
    "start_time": "2022-05-31T07:28:21.901Z"
   },
   {
    "duration": 7,
    "start_time": "2022-05-31T07:28:22.120Z"
   },
   {
    "duration": 5,
    "start_time": "2022-05-31T07:28:22.325Z"
   },
   {
    "duration": 10,
    "start_time": "2022-05-31T07:28:22.550Z"
   },
   {
    "duration": 5,
    "start_time": "2022-05-31T07:28:22.771Z"
   },
   {
    "duration": 7,
    "start_time": "2022-05-31T07:28:23.017Z"
   },
   {
    "duration": 7,
    "start_time": "2022-05-31T07:29:20.599Z"
   },
   {
    "duration": 7,
    "start_time": "2022-05-31T07:29:26.517Z"
   },
   {
    "duration": 7,
    "start_time": "2022-05-31T07:30:49.150Z"
   },
   {
    "duration": 8,
    "start_time": "2022-05-31T07:31:12.176Z"
   },
   {
    "duration": 7,
    "start_time": "2022-05-31T07:31:30.407Z"
   },
   {
    "duration": 32,
    "start_time": "2022-05-31T07:31:54.550Z"
   },
   {
    "duration": 7,
    "start_time": "2022-05-31T07:33:15.727Z"
   },
   {
    "duration": 7,
    "start_time": "2022-05-31T07:36:04.199Z"
   },
   {
    "duration": 7,
    "start_time": "2022-05-31T07:36:14.010Z"
   },
   {
    "duration": 80,
    "start_time": "2022-05-31T07:36:18.692Z"
   },
   {
    "duration": 15,
    "start_time": "2022-05-31T07:36:19.043Z"
   },
   {
    "duration": 9,
    "start_time": "2022-05-31T07:36:19.609Z"
   },
   {
    "duration": 6,
    "start_time": "2022-05-31T07:36:19.998Z"
   },
   {
    "duration": 5,
    "start_time": "2022-05-31T07:36:20.377Z"
   },
   {
    "duration": 5,
    "start_time": "2022-05-31T07:36:20.767Z"
   },
   {
    "duration": 8,
    "start_time": "2022-05-31T07:36:21.130Z"
   },
   {
    "duration": 3,
    "start_time": "2022-05-31T07:36:21.307Z"
   },
   {
    "duration": 6,
    "start_time": "2022-05-31T07:36:21.481Z"
   },
   {
    "duration": 8,
    "start_time": "2022-05-31T07:36:21.662Z"
   },
   {
    "duration": 5,
    "start_time": "2022-05-31T07:36:21.858Z"
   },
   {
    "duration": 11,
    "start_time": "2022-05-31T07:36:22.032Z"
   },
   {
    "duration": 6,
    "start_time": "2022-05-31T07:36:22.223Z"
   },
   {
    "duration": 5,
    "start_time": "2022-05-31T07:36:22.417Z"
   },
   {
    "duration": 7,
    "start_time": "2022-05-31T07:37:07.818Z"
   },
   {
    "duration": 7,
    "start_time": "2022-05-31T07:37:31.157Z"
   },
   {
    "duration": 7,
    "start_time": "2022-05-31T07:37:37.350Z"
   },
   {
    "duration": 8,
    "start_time": "2022-05-31T07:37:42.367Z"
   },
   {
    "duration": 75,
    "start_time": "2022-05-31T07:37:54.377Z"
   },
   {
    "duration": 13,
    "start_time": "2022-05-31T07:37:54.454Z"
   },
   {
    "duration": 9,
    "start_time": "2022-05-31T07:37:54.469Z"
   },
   {
    "duration": 5,
    "start_time": "2022-05-31T07:37:54.479Z"
   },
   {
    "duration": 5,
    "start_time": "2022-05-31T07:37:54.486Z"
   },
   {
    "duration": 8,
    "start_time": "2022-05-31T07:37:54.492Z"
   },
   {
    "duration": 26,
    "start_time": "2022-05-31T07:37:54.502Z"
   },
   {
    "duration": 7,
    "start_time": "2022-05-31T07:37:54.529Z"
   },
   {
    "duration": 8,
    "start_time": "2022-05-31T07:37:54.537Z"
   },
   {
    "duration": 8,
    "start_time": "2022-05-31T07:37:54.546Z"
   },
   {
    "duration": 6,
    "start_time": "2022-05-31T07:37:54.555Z"
   },
   {
    "duration": 11,
    "start_time": "2022-05-31T07:37:54.563Z"
   },
   {
    "duration": 7,
    "start_time": "2022-05-31T07:37:54.575Z"
   },
   {
    "duration": 8,
    "start_time": "2022-05-31T07:37:54.584Z"
   },
   {
    "duration": 75,
    "start_time": "2022-05-31T07:38:01.411Z"
   },
   {
    "duration": 13,
    "start_time": "2022-05-31T07:38:01.488Z"
   },
   {
    "duration": 27,
    "start_time": "2022-05-31T07:38:01.503Z"
   },
   {
    "duration": 15,
    "start_time": "2022-05-31T07:38:01.532Z"
   },
   {
    "duration": 29,
    "start_time": "2022-05-31T07:38:01.549Z"
   },
   {
    "duration": 23,
    "start_time": "2022-05-31T07:38:01.579Z"
   },
   {
    "duration": 22,
    "start_time": "2022-05-31T07:38:01.603Z"
   },
   {
    "duration": 22,
    "start_time": "2022-05-31T07:38:01.626Z"
   },
   {
    "duration": 19,
    "start_time": "2022-05-31T07:38:01.649Z"
   },
   {
    "duration": 15,
    "start_time": "2022-05-31T07:38:01.670Z"
   },
   {
    "duration": 24,
    "start_time": "2022-05-31T07:38:01.686Z"
   },
   {
    "duration": 22,
    "start_time": "2022-05-31T07:38:01.712Z"
   },
   {
    "duration": 32,
    "start_time": "2022-05-31T07:38:01.736Z"
   },
   {
    "duration": 5,
    "start_time": "2022-05-31T07:38:06.783Z"
   },
   {
    "duration": 9,
    "start_time": "2022-05-31T07:38:09.583Z"
   },
   {
    "duration": 9,
    "start_time": "2022-05-31T07:41:31.595Z"
   },
   {
    "duration": 7,
    "start_time": "2022-05-31T07:41:34.243Z"
   },
   {
    "duration": 75,
    "start_time": "2022-05-31T07:41:38.368Z"
   },
   {
    "duration": 13,
    "start_time": "2022-05-31T07:41:38.445Z"
   },
   {
    "duration": 34,
    "start_time": "2022-05-31T07:41:38.459Z"
   },
   {
    "duration": 36,
    "start_time": "2022-05-31T07:41:38.495Z"
   },
   {
    "duration": 44,
    "start_time": "2022-05-31T07:41:38.532Z"
   },
   {
    "duration": 38,
    "start_time": "2022-05-31T07:41:38.578Z"
   },
   {
    "duration": 36,
    "start_time": "2022-05-31T07:41:38.618Z"
   },
   {
    "duration": 28,
    "start_time": "2022-05-31T07:41:38.656Z"
   },
   {
    "duration": 53,
    "start_time": "2022-05-31T07:41:38.685Z"
   },
   {
    "duration": 16,
    "start_time": "2022-05-31T07:41:38.742Z"
   },
   {
    "duration": 37,
    "start_time": "2022-05-31T07:41:38.760Z"
   },
   {
    "duration": 66,
    "start_time": "2022-05-31T07:41:38.799Z"
   },
   {
    "duration": 47,
    "start_time": "2022-05-31T07:41:38.867Z"
   },
   {
    "duration": 78,
    "start_time": "2022-05-31T07:41:46.060Z"
   },
   {
    "duration": 13,
    "start_time": "2022-05-31T07:41:46.140Z"
   },
   {
    "duration": 13,
    "start_time": "2022-05-31T07:41:46.155Z"
   },
   {
    "duration": 7,
    "start_time": "2022-05-31T07:41:46.169Z"
   },
   {
    "duration": 10,
    "start_time": "2022-05-31T07:41:46.178Z"
   },
   {
    "duration": 31,
    "start_time": "2022-05-31T07:41:46.190Z"
   },
   {
    "duration": 27,
    "start_time": "2022-05-31T07:41:46.222Z"
   },
   {
    "duration": 16,
    "start_time": "2022-05-31T07:41:46.251Z"
   },
   {
    "duration": 32,
    "start_time": "2022-05-31T07:41:46.269Z"
   },
   {
    "duration": 14,
    "start_time": "2022-05-31T07:41:46.303Z"
   },
   {
    "duration": 14,
    "start_time": "2022-05-31T07:41:46.319Z"
   },
   {
    "duration": 25,
    "start_time": "2022-05-31T07:41:46.335Z"
   },
   {
    "duration": 17,
    "start_time": "2022-05-31T07:41:46.362Z"
   },
   {
    "duration": 19,
    "start_time": "2022-05-31T07:41:46.382Z"
   },
   {
    "duration": 9,
    "start_time": "2022-05-31T07:41:55.513Z"
   },
   {
    "duration": 8,
    "start_time": "2022-05-31T07:42:01.321Z"
   },
   {
    "duration": 8,
    "start_time": "2022-05-31T07:42:03.545Z"
   },
   {
    "duration": 8,
    "start_time": "2022-05-31T07:42:04.978Z"
   },
   {
    "duration": 9,
    "start_time": "2022-05-31T07:42:10.100Z"
   },
   {
    "duration": 552,
    "start_time": "2022-05-31T07:42:34.598Z"
   },
   {
    "duration": 22,
    "start_time": "2022-05-31T07:42:35.152Z"
   },
   {
    "duration": 14,
    "start_time": "2022-05-31T07:42:35.176Z"
   },
   {
    "duration": 8,
    "start_time": "2022-05-31T07:42:35.192Z"
   },
   {
    "duration": 8,
    "start_time": "2022-05-31T07:42:35.202Z"
   },
   {
    "duration": 5,
    "start_time": "2022-05-31T07:42:35.227Z"
   },
   {
    "duration": 13,
    "start_time": "2022-05-31T07:42:35.233Z"
   },
   {
    "duration": 8,
    "start_time": "2022-05-31T07:42:35.248Z"
   },
   {
    "duration": 14,
    "start_time": "2022-05-31T07:42:35.258Z"
   },
   {
    "duration": 17,
    "start_time": "2022-05-31T07:42:35.274Z"
   },
   {
    "duration": 19,
    "start_time": "2022-05-31T07:42:35.293Z"
   },
   {
    "duration": 29,
    "start_time": "2022-05-31T07:42:35.314Z"
   },
   {
    "duration": 17,
    "start_time": "2022-05-31T07:42:35.345Z"
   },
   {
    "duration": 8,
    "start_time": "2022-05-31T07:42:35.363Z"
   },
   {
    "duration": 82,
    "start_time": "2022-05-31T07:42:58.953Z"
   },
   {
    "duration": 6,
    "start_time": "2022-05-31T07:43:02.042Z"
   },
   {
    "duration": 17,
    "start_time": "2022-05-31T07:43:02.428Z"
   },
   {
    "duration": 10,
    "start_time": "2022-05-31T07:43:11.409Z"
   },
   {
    "duration": 9,
    "start_time": "2022-05-31T07:44:12.497Z"
   },
   {
    "duration": 10,
    "start_time": "2022-05-31T07:44:16.333Z"
   },
   {
    "duration": 9,
    "start_time": "2022-05-31T07:44:18.415Z"
   },
   {
    "duration": 8,
    "start_time": "2022-05-31T07:44:22.284Z"
   },
   {
    "duration": 91,
    "start_time": "2022-05-31T07:44:26.141Z"
   },
   {
    "duration": 21,
    "start_time": "2022-05-31T07:44:26.234Z"
   },
   {
    "duration": 13,
    "start_time": "2022-05-31T07:44:26.257Z"
   },
   {
    "duration": 24,
    "start_time": "2022-05-31T07:44:26.272Z"
   },
   {
    "duration": 11,
    "start_time": "2022-05-31T07:44:26.298Z"
   },
   {
    "duration": 12,
    "start_time": "2022-05-31T07:44:26.311Z"
   },
   {
    "duration": 16,
    "start_time": "2022-05-31T07:44:26.325Z"
   },
   {
    "duration": 8,
    "start_time": "2022-05-31T07:44:26.343Z"
   },
   {
    "duration": 14,
    "start_time": "2022-05-31T07:44:26.352Z"
   },
   {
    "duration": 24,
    "start_time": "2022-05-31T07:44:26.368Z"
   },
   {
    "duration": 19,
    "start_time": "2022-05-31T07:44:26.394Z"
   },
   {
    "duration": 23,
    "start_time": "2022-05-31T07:44:26.414Z"
   },
   {
    "duration": 20,
    "start_time": "2022-05-31T07:44:26.439Z"
   },
   {
    "duration": 14,
    "start_time": "2022-05-31T07:44:26.462Z"
   },
   {
    "duration": 8,
    "start_time": "2022-05-31T07:44:54.305Z"
   },
   {
    "duration": 9,
    "start_time": "2022-05-31T07:45:25.428Z"
   },
   {
    "duration": 8,
    "start_time": "2022-05-31T07:45:30.161Z"
   },
   {
    "duration": 12,
    "start_time": "2022-05-31T07:45:32.797Z"
   },
   {
    "duration": 7,
    "start_time": "2022-05-31T07:45:37.185Z"
   },
   {
    "duration": 78,
    "start_time": "2022-05-31T07:45:41.592Z"
   },
   {
    "duration": 14,
    "start_time": "2022-05-31T07:45:43.011Z"
   },
   {
    "duration": 10,
    "start_time": "2022-05-31T07:45:44.294Z"
   },
   {
    "duration": 6,
    "start_time": "2022-05-31T07:45:44.690Z"
   },
   {
    "duration": 4,
    "start_time": "2022-05-31T07:45:45.026Z"
   },
   {
    "duration": 5,
    "start_time": "2022-05-31T07:45:45.385Z"
   },
   {
    "duration": 8,
    "start_time": "2022-05-31T07:45:45.738Z"
   },
   {
    "duration": 4,
    "start_time": "2022-05-31T07:45:45.874Z"
   },
   {
    "duration": 6,
    "start_time": "2022-05-31T07:45:46.050Z"
   },
   {
    "duration": 15,
    "start_time": "2022-05-31T07:45:46.199Z"
   },
   {
    "duration": 9,
    "start_time": "2022-05-31T07:45:46.369Z"
   },
   {
    "duration": 16,
    "start_time": "2022-05-31T07:45:46.528Z"
   },
   {
    "duration": 6,
    "start_time": "2022-05-31T07:45:46.707Z"
   },
   {
    "duration": 7,
    "start_time": "2022-05-31T07:45:46.871Z"
   },
   {
    "duration": 93,
    "start_time": "2022-05-31T07:50:58.599Z"
   },
   {
    "duration": 14,
    "start_time": "2022-05-31T07:50:59.707Z"
   },
   {
    "duration": 10,
    "start_time": "2022-05-31T07:51:00.267Z"
   },
   {
    "duration": 6,
    "start_time": "2022-05-31T07:51:00.620Z"
   },
   {
    "duration": 4,
    "start_time": "2022-05-31T07:51:00.944Z"
   },
   {
    "duration": 6,
    "start_time": "2022-05-31T07:51:01.292Z"
   },
   {
    "duration": 8,
    "start_time": "2022-05-31T07:51:01.635Z"
   },
   {
    "duration": 5,
    "start_time": "2022-05-31T07:51:01.779Z"
   },
   {
    "duration": 5,
    "start_time": "2022-05-31T07:51:01.988Z"
   },
   {
    "duration": 8,
    "start_time": "2022-05-31T07:51:02.153Z"
   },
   {
    "duration": 5,
    "start_time": "2022-05-31T07:51:02.333Z"
   },
   {
    "duration": 13,
    "start_time": "2022-05-31T07:51:02.522Z"
   },
   {
    "duration": 6,
    "start_time": "2022-05-31T07:51:02.706Z"
   },
   {
    "duration": 7,
    "start_time": "2022-05-31T07:51:02.906Z"
   },
   {
    "duration": 549,
    "start_time": "2022-05-31T07:51:25.973Z"
   },
   {
    "duration": 17,
    "start_time": "2022-05-31T07:51:27.672Z"
   },
   {
    "duration": 10,
    "start_time": "2022-05-31T07:51:28.272Z"
   },
   {
    "duration": 7,
    "start_time": "2022-05-31T07:51:28.594Z"
   },
   {
    "duration": 6,
    "start_time": "2022-05-31T07:51:28.935Z"
   },
   {
    "duration": 5,
    "start_time": "2022-05-31T07:51:29.282Z"
   },
   {
    "duration": 7,
    "start_time": "2022-05-31T07:51:29.602Z"
   },
   {
    "duration": 4,
    "start_time": "2022-05-31T07:51:29.791Z"
   },
   {
    "duration": 5,
    "start_time": "2022-05-31T07:51:29.881Z"
   },
   {
    "duration": 8,
    "start_time": "2022-05-31T07:51:30.084Z"
   },
   {
    "duration": 6,
    "start_time": "2022-05-31T07:51:30.268Z"
   },
   {
    "duration": 11,
    "start_time": "2022-05-31T07:51:30.457Z"
   },
   {
    "duration": 6,
    "start_time": "2022-05-31T07:51:30.650Z"
   },
   {
    "duration": 70,
    "start_time": "2022-05-31T07:51:30.972Z"
   },
   {
    "duration": 7,
    "start_time": "2022-05-31T07:52:22.227Z"
   },
   {
    "duration": 7,
    "start_time": "2022-05-31T07:52:24.094Z"
   },
   {
    "duration": 11,
    "start_time": "2022-05-31T07:52:26.287Z"
   },
   {
    "duration": 83,
    "start_time": "2022-05-31T07:52:41.228Z"
   },
   {
    "duration": 14,
    "start_time": "2022-05-31T07:52:41.313Z"
   },
   {
    "duration": 10,
    "start_time": "2022-05-31T07:52:41.328Z"
   },
   {
    "duration": 7,
    "start_time": "2022-05-31T07:52:41.339Z"
   },
   {
    "duration": 6,
    "start_time": "2022-05-31T07:52:41.348Z"
   },
   {
    "duration": 6,
    "start_time": "2022-05-31T07:52:41.356Z"
   },
   {
    "duration": 7,
    "start_time": "2022-05-31T07:52:41.364Z"
   },
   {
    "duration": 6,
    "start_time": "2022-05-31T07:52:41.373Z"
   },
   {
    "duration": 14,
    "start_time": "2022-05-31T07:52:41.380Z"
   },
   {
    "duration": 33,
    "start_time": "2022-05-31T07:52:41.395Z"
   },
   {
    "duration": 5,
    "start_time": "2022-05-31T07:52:41.429Z"
   },
   {
    "duration": 13,
    "start_time": "2022-05-31T07:52:41.435Z"
   },
   {
    "duration": 10,
    "start_time": "2022-05-31T07:52:41.449Z"
   },
   {
    "duration": 8,
    "start_time": "2022-05-31T07:52:41.461Z"
   },
   {
    "duration": 7,
    "start_time": "2022-05-31T07:52:56.491Z"
   },
   {
    "duration": 74,
    "start_time": "2022-05-31T07:54:03.345Z"
   },
   {
    "duration": 1090,
    "start_time": "2022-05-31T07:54:07.460Z"
   },
   {
    "duration": 16,
    "start_time": "2022-05-31T07:54:08.552Z"
   },
   {
    "duration": 10,
    "start_time": "2022-05-31T07:54:08.570Z"
   },
   {
    "duration": 6,
    "start_time": "2022-05-31T07:54:08.817Z"
   },
   {
    "duration": 6,
    "start_time": "2022-05-31T07:54:09.245Z"
   },
   {
    "duration": 4,
    "start_time": "2022-05-31T07:54:09.648Z"
   },
   {
    "duration": 7,
    "start_time": "2022-05-31T07:54:10.062Z"
   },
   {
    "duration": 4,
    "start_time": "2022-05-31T07:54:10.273Z"
   },
   {
    "duration": 6,
    "start_time": "2022-05-31T07:54:10.516Z"
   },
   {
    "duration": 7,
    "start_time": "2022-05-31T07:54:10.760Z"
   },
   {
    "duration": 6,
    "start_time": "2022-05-31T07:54:11.035Z"
   },
   {
    "duration": 11,
    "start_time": "2022-05-31T07:54:11.639Z"
   },
   {
    "duration": 6,
    "start_time": "2022-05-31T07:54:12.179Z"
   },
   {
    "duration": 27,
    "start_time": "2022-05-31T07:54:15.150Z"
   },
   {
    "duration": 8,
    "start_time": "2022-05-31T07:54:58.041Z"
   },
   {
    "duration": 9,
    "start_time": "2022-05-31T07:55:06.313Z"
   },
   {
    "duration": 75,
    "start_time": "2022-05-31T07:55:09.856Z"
   },
   {
    "duration": 18,
    "start_time": "2022-05-31T07:55:10.142Z"
   },
   {
    "duration": 10,
    "start_time": "2022-05-31T07:55:10.600Z"
   },
   {
    "duration": 5,
    "start_time": "2022-05-31T07:55:10.940Z"
   },
   {
    "duration": 6,
    "start_time": "2022-05-31T07:55:11.290Z"
   },
   {
    "duration": 6,
    "start_time": "2022-05-31T07:55:11.677Z"
   },
   {
    "duration": 8,
    "start_time": "2022-05-31T07:55:12.054Z"
   },
   {
    "duration": 4,
    "start_time": "2022-05-31T07:55:12.231Z"
   },
   {
    "duration": 6,
    "start_time": "2022-05-31T07:55:12.422Z"
   },
   {
    "duration": 8,
    "start_time": "2022-05-31T07:55:12.606Z"
   },
   {
    "duration": 5,
    "start_time": "2022-05-31T07:55:12.792Z"
   },
   {
    "duration": 16,
    "start_time": "2022-05-31T07:55:12.961Z"
   },
   {
    "duration": 6,
    "start_time": "2022-05-31T07:55:13.156Z"
   },
   {
    "duration": 8,
    "start_time": "2022-05-31T07:55:13.316Z"
   },
   {
    "duration": 6,
    "start_time": "2022-05-31T07:55:34.432Z"
   },
   {
    "duration": 23,
    "start_time": "2022-05-31T07:56:11.318Z"
   },
   {
    "duration": 10,
    "start_time": "2022-05-31T07:56:21.687Z"
   },
   {
    "duration": 311,
    "start_time": "2022-05-31T07:56:36.639Z"
   },
   {
    "duration": 297,
    "start_time": "2022-05-31T07:56:51.288Z"
   },
   {
    "duration": 9,
    "start_time": "2022-05-31T07:57:02.885Z"
   },
   {
    "duration": 6,
    "start_time": "2022-05-31T07:57:21.157Z"
   },
   {
    "duration": 12,
    "start_time": "2022-05-31T07:57:32.172Z"
   },
   {
    "duration": 8,
    "start_time": "2022-05-31T07:57:40.659Z"
   },
   {
    "duration": 10,
    "start_time": "2022-05-31T07:57:42.906Z"
   },
   {
    "duration": 94,
    "start_time": "2022-05-31T07:57:46.411Z"
   },
   {
    "duration": 17,
    "start_time": "2022-05-31T07:57:46.732Z"
   },
   {
    "duration": 14,
    "start_time": "2022-05-31T07:57:47.295Z"
   },
   {
    "duration": 6,
    "start_time": "2022-05-31T07:57:47.661Z"
   },
   {
    "duration": 5,
    "start_time": "2022-05-31T07:57:48.020Z"
   },
   {
    "duration": 7,
    "start_time": "2022-05-31T07:57:48.405Z"
   },
   {
    "duration": 9,
    "start_time": "2022-05-31T07:57:48.962Z"
   },
   {
    "duration": 4,
    "start_time": "2022-05-31T07:57:49.179Z"
   },
   {
    "duration": 5,
    "start_time": "2022-05-31T07:57:49.415Z"
   },
   {
    "duration": 7,
    "start_time": "2022-05-31T07:57:49.637Z"
   },
   {
    "duration": 6,
    "start_time": "2022-05-31T07:57:49.858Z"
   },
   {
    "duration": 11,
    "start_time": "2022-05-31T07:57:50.102Z"
   },
   {
    "duration": 5,
    "start_time": "2022-05-31T07:57:50.331Z"
   },
   {
    "duration": 7,
    "start_time": "2022-05-31T07:57:50.559Z"
   },
   {
    "duration": 8,
    "start_time": "2022-05-31T07:58:02.936Z"
   },
   {
    "duration": 6,
    "start_time": "2022-05-31T07:58:06.110Z"
   },
   {
    "duration": 8,
    "start_time": "2022-05-31T07:58:10.245Z"
   },
   {
    "duration": 8,
    "start_time": "2022-05-31T07:58:12.708Z"
   },
   {
    "duration": 9,
    "start_time": "2022-05-31T07:59:00.242Z"
   },
   {
    "duration": 95,
    "start_time": "2022-05-31T07:59:05.934Z"
   },
   {
    "duration": 16,
    "start_time": "2022-05-31T07:59:06.031Z"
   },
   {
    "duration": 19,
    "start_time": "2022-05-31T07:59:06.049Z"
   },
   {
    "duration": 16,
    "start_time": "2022-05-31T07:59:06.070Z"
   },
   {
    "duration": 6,
    "start_time": "2022-05-31T07:59:06.088Z"
   },
   {
    "duration": 16,
    "start_time": "2022-05-31T07:59:06.095Z"
   },
   {
    "duration": 18,
    "start_time": "2022-05-31T07:59:06.113Z"
   },
   {
    "duration": 9,
    "start_time": "2022-05-31T07:59:06.132Z"
   },
   {
    "duration": 14,
    "start_time": "2022-05-31T07:59:06.143Z"
   },
   {
    "duration": 14,
    "start_time": "2022-05-31T07:59:06.159Z"
   },
   {
    "duration": 26,
    "start_time": "2022-05-31T07:59:06.175Z"
   },
   {
    "duration": 56,
    "start_time": "2022-05-31T07:59:06.204Z"
   },
   {
    "duration": 40,
    "start_time": "2022-05-31T07:59:06.263Z"
   },
   {
    "duration": 30,
    "start_time": "2022-05-31T07:59:06.305Z"
   },
   {
    "duration": 4,
    "start_time": "2022-05-31T07:59:18.715Z"
   },
   {
    "duration": 286,
    "start_time": "2022-05-31T07:59:22.836Z"
   },
   {
    "duration": 314,
    "start_time": "2022-05-31T07:59:29.419Z"
   },
   {
    "duration": 308,
    "start_time": "2022-05-31T07:59:32.445Z"
   },
   {
    "duration": 113,
    "start_time": "2022-05-31T07:59:36.445Z"
   },
   {
    "duration": 17,
    "start_time": "2022-05-31T07:59:36.795Z"
   },
   {
    "duration": 21,
    "start_time": "2022-05-31T07:59:37.276Z"
   },
   {
    "duration": 7,
    "start_time": "2022-05-31T07:59:37.604Z"
   },
   {
    "duration": 6,
    "start_time": "2022-05-31T07:59:38.089Z"
   },
   {
    "duration": 5,
    "start_time": "2022-05-31T07:59:38.415Z"
   },
   {
    "duration": 9,
    "start_time": "2022-05-31T07:59:38.759Z"
   },
   {
    "duration": 4,
    "start_time": "2022-05-31T07:59:38.923Z"
   },
   {
    "duration": 7,
    "start_time": "2022-05-31T07:59:39.127Z"
   },
   {
    "duration": 9,
    "start_time": "2022-05-31T07:59:39.320Z"
   },
   {
    "duration": 8,
    "start_time": "2022-05-31T07:59:39.511Z"
   },
   {
    "duration": 14,
    "start_time": "2022-05-31T07:59:39.689Z"
   },
   {
    "duration": 8,
    "start_time": "2022-05-31T07:59:39.877Z"
   },
   {
    "duration": 8,
    "start_time": "2022-05-31T07:59:40.073Z"
   },
   {
    "duration": 306,
    "start_time": "2022-05-31T07:59:54.319Z"
   },
   {
    "duration": 354,
    "start_time": "2022-05-31T07:59:56.711Z"
   },
   {
    "duration": 558,
    "start_time": "2022-05-31T08:00:12.385Z"
   },
   {
    "duration": 24,
    "start_time": "2022-05-31T08:00:14.891Z"
   },
   {
    "duration": 15,
    "start_time": "2022-05-31T08:00:16.386Z"
   },
   {
    "duration": 6,
    "start_time": "2022-05-31T08:00:16.848Z"
   },
   {
    "duration": 6,
    "start_time": "2022-05-31T08:00:17.287Z"
   },
   {
    "duration": 6,
    "start_time": "2022-05-31T08:00:17.738Z"
   },
   {
    "duration": 9,
    "start_time": "2022-05-31T08:00:18.174Z"
   },
   {
    "duration": 4,
    "start_time": "2022-05-31T08:00:18.387Z"
   },
   {
    "duration": 7,
    "start_time": "2022-05-31T08:00:18.593Z"
   },
   {
    "duration": 11,
    "start_time": "2022-05-31T08:00:18.795Z"
   },
   {
    "duration": 7,
    "start_time": "2022-05-31T08:00:19.023Z"
   },
   {
    "duration": 13,
    "start_time": "2022-05-31T08:00:19.252Z"
   },
   {
    "duration": 6,
    "start_time": "2022-05-31T08:00:19.500Z"
   },
   {
    "duration": 9,
    "start_time": "2022-05-31T08:00:20.113Z"
   },
   {
    "duration": 95,
    "start_time": "2022-05-31T08:00:39.551Z"
   },
   {
    "duration": 507,
    "start_time": "2022-05-31T08:00:52.348Z"
   },
   {
    "duration": 17,
    "start_time": "2022-05-31T08:00:52.857Z"
   },
   {
    "duration": 15,
    "start_time": "2022-05-31T08:00:53.048Z"
   },
   {
    "duration": 7,
    "start_time": "2022-05-31T08:00:53.356Z"
   },
   {
    "duration": 6,
    "start_time": "2022-05-31T08:00:53.662Z"
   },
   {
    "duration": 5,
    "start_time": "2022-05-31T08:00:53.977Z"
   },
   {
    "duration": 9,
    "start_time": "2022-05-31T08:00:54.312Z"
   },
   {
    "duration": 4,
    "start_time": "2022-05-31T08:00:54.478Z"
   },
   {
    "duration": 6,
    "start_time": "2022-05-31T08:00:54.665Z"
   },
   {
    "duration": 8,
    "start_time": "2022-05-31T08:00:54.832Z"
   },
   {
    "duration": 7,
    "start_time": "2022-05-31T08:00:55.041Z"
   },
   {
    "duration": 11,
    "start_time": "2022-05-31T08:00:55.215Z"
   },
   {
    "duration": 8,
    "start_time": "2022-05-31T08:00:55.408Z"
   },
   {
    "duration": 98,
    "start_time": "2022-05-31T08:00:56.368Z"
   },
   {
    "duration": 9,
    "start_time": "2022-05-31T08:01:53.052Z"
   },
   {
    "duration": 10,
    "start_time": "2022-05-31T08:02:02.861Z"
   },
   {
    "duration": 601,
    "start_time": "2022-05-31T08:02:15.869Z"
   },
   {
    "duration": 26,
    "start_time": "2022-05-31T08:02:16.473Z"
   },
   {
    "duration": 11,
    "start_time": "2022-05-31T08:02:16.753Z"
   },
   {
    "duration": 6,
    "start_time": "2022-05-31T08:02:17.131Z"
   },
   {
    "duration": 6,
    "start_time": "2022-05-31T08:02:17.492Z"
   },
   {
    "duration": 5,
    "start_time": "2022-05-31T08:02:17.847Z"
   },
   {
    "duration": 10,
    "start_time": "2022-05-31T08:02:18.199Z"
   },
   {
    "duration": 4,
    "start_time": "2022-05-31T08:02:18.335Z"
   },
   {
    "duration": 5,
    "start_time": "2022-05-31T08:02:18.551Z"
   },
   {
    "duration": 9,
    "start_time": "2022-05-31T08:02:18.920Z"
   },
   {
    "duration": 7,
    "start_time": "2022-05-31T08:02:19.324Z"
   },
   {
    "duration": 13,
    "start_time": "2022-05-31T08:02:19.990Z"
   },
   {
    "duration": 7,
    "start_time": "2022-05-31T08:02:21.051Z"
   },
   {
    "duration": 80,
    "start_time": "2022-05-31T08:02:22.591Z"
   },
   {
    "duration": 11,
    "start_time": "2022-05-31T08:03:56.390Z"
   },
   {
    "duration": 10,
    "start_time": "2022-05-31T08:03:58.494Z"
   },
   {
    "duration": 11,
    "start_time": "2022-05-31T08:03:59.121Z"
   },
   {
    "duration": 12,
    "start_time": "2022-05-31T08:04:02.139Z"
   },
   {
    "duration": 564,
    "start_time": "2022-05-31T08:04:08.979Z"
   },
   {
    "duration": 26,
    "start_time": "2022-05-31T08:04:09.546Z"
   },
   {
    "duration": 12,
    "start_time": "2022-05-31T08:04:09.984Z"
   },
   {
    "duration": 7,
    "start_time": "2022-05-31T08:04:10.360Z"
   },
   {
    "duration": 6,
    "start_time": "2022-05-31T08:04:10.743Z"
   },
   {
    "duration": 6,
    "start_time": "2022-05-31T08:04:11.158Z"
   },
   {
    "duration": 9,
    "start_time": "2022-05-31T08:04:11.549Z"
   },
   {
    "duration": 4,
    "start_time": "2022-05-31T08:04:11.748Z"
   },
   {
    "duration": 8,
    "start_time": "2022-05-31T08:04:11.968Z"
   },
   {
    "duration": 11,
    "start_time": "2022-05-31T08:04:12.240Z"
   },
   {
    "duration": 8,
    "start_time": "2022-05-31T08:04:12.568Z"
   },
   {
    "duration": 17,
    "start_time": "2022-05-31T08:04:13.089Z"
   },
   {
    "duration": 7,
    "start_time": "2022-05-31T08:04:13.586Z"
   },
   {
    "duration": 5,
    "start_time": "2022-05-31T08:04:14.744Z"
   },
   {
    "duration": 659,
    "start_time": "2022-05-31T08:04:30.182Z"
   },
   {
    "duration": 22,
    "start_time": "2022-05-31T08:04:30.844Z"
   },
   {
    "duration": 17,
    "start_time": "2022-05-31T08:04:30.977Z"
   },
   {
    "duration": 9,
    "start_time": "2022-05-31T08:04:31.351Z"
   },
   {
    "duration": 7,
    "start_time": "2022-05-31T08:04:31.699Z"
   },
   {
    "duration": 6,
    "start_time": "2022-05-31T08:04:32.067Z"
   },
   {
    "duration": 13,
    "start_time": "2022-05-31T08:04:32.378Z"
   },
   {
    "duration": 4,
    "start_time": "2022-05-31T08:04:32.553Z"
   },
   {
    "duration": 9,
    "start_time": "2022-05-31T08:04:32.727Z"
   },
   {
    "duration": 13,
    "start_time": "2022-05-31T08:04:32.877Z"
   },
   {
    "duration": 7,
    "start_time": "2022-05-31T08:04:33.070Z"
   },
   {
    "duration": 20,
    "start_time": "2022-05-31T08:04:33.261Z"
   },
   {
    "duration": 7,
    "start_time": "2022-05-31T08:04:33.468Z"
   },
   {
    "duration": 106,
    "start_time": "2022-05-31T08:04:33.593Z"
   },
   {
    "duration": 8,
    "start_time": "2022-05-31T08:05:54.355Z"
   },
   {
    "duration": 99,
    "start_time": "2022-05-31T08:06:04.942Z"
   },
   {
    "duration": 17,
    "start_time": "2022-05-31T08:06:05.295Z"
   },
   {
    "duration": 17,
    "start_time": "2022-05-31T08:06:05.851Z"
   },
   {
    "duration": 7,
    "start_time": "2022-05-31T08:06:06.171Z"
   },
   {
    "duration": 6,
    "start_time": "2022-05-31T08:06:06.490Z"
   },
   {
    "duration": 6,
    "start_time": "2022-05-31T08:06:06.861Z"
   },
   {
    "duration": 9,
    "start_time": "2022-05-31T08:06:07.173Z"
   },
   {
    "duration": 8,
    "start_time": "2022-05-31T08:06:07.349Z"
   },
   {
    "duration": 6,
    "start_time": "2022-05-31T08:06:07.496Z"
   },
   {
    "duration": 11,
    "start_time": "2022-05-31T08:06:07.697Z"
   },
   {
    "duration": 8,
    "start_time": "2022-05-31T08:06:07.874Z"
   },
   {
    "duration": 13,
    "start_time": "2022-05-31T08:06:08.099Z"
   },
   {
    "duration": 7,
    "start_time": "2022-05-31T08:06:08.416Z"
   },
   {
    "duration": 248,
    "start_time": "2022-05-31T08:06:08.807Z"
   },
   {
    "duration": 8,
    "start_time": "2022-05-31T08:06:18.295Z"
   },
   {
    "duration": 615,
    "start_time": "2022-05-31T08:06:42.010Z"
   },
   {
    "duration": 23,
    "start_time": "2022-05-31T08:06:42.629Z"
   },
   {
    "duration": 15,
    "start_time": "2022-05-31T08:06:42.823Z"
   },
   {
    "duration": 6,
    "start_time": "2022-05-31T08:06:43.141Z"
   },
   {
    "duration": 6,
    "start_time": "2022-05-31T08:06:43.449Z"
   },
   {
    "duration": 5,
    "start_time": "2022-05-31T08:06:43.775Z"
   },
   {
    "duration": 10,
    "start_time": "2022-05-31T08:06:44.098Z"
   },
   {
    "duration": 5,
    "start_time": "2022-05-31T08:06:44.258Z"
   },
   {
    "duration": 16,
    "start_time": "2022-05-31T08:06:44.428Z"
   },
   {
    "duration": 8,
    "start_time": "2022-05-31T08:06:44.596Z"
   },
   {
    "duration": 8,
    "start_time": "2022-05-31T08:06:44.770Z"
   },
   {
    "duration": 14,
    "start_time": "2022-05-31T08:06:44.942Z"
   },
   {
    "duration": 7,
    "start_time": "2022-05-31T08:06:45.117Z"
   },
   {
    "duration": 16,
    "start_time": "2022-05-31T08:06:45.302Z"
   },
   {
    "duration": 5,
    "start_time": "2022-05-31T08:08:10.687Z"
   },
   {
    "duration": 6,
    "start_time": "2022-05-31T08:09:57.539Z"
   },
   {
    "duration": 7,
    "start_time": "2022-05-31T08:10:16.560Z"
   },
   {
    "duration": 8,
    "start_time": "2022-05-31T08:12:04.717Z"
   },
   {
    "duration": 14,
    "start_time": "2022-05-31T08:12:13.555Z"
   },
   {
    "duration": 76,
    "start_time": "2022-05-31T08:12:54.352Z"
   },
   {
    "duration": 7,
    "start_time": "2022-05-31T08:13:01.098Z"
   },
   {
    "duration": 11,
    "start_time": "2022-05-31T08:14:27.674Z"
   },
   {
    "duration": 3,
    "start_time": "2022-05-31T08:15:05.527Z"
   },
   {
    "duration": 8,
    "start_time": "2022-05-31T08:16:09.657Z"
   },
   {
    "duration": 6,
    "start_time": "2022-05-31T08:16:15.786Z"
   },
   {
    "duration": 12,
    "start_time": "2022-05-31T08:16:23.395Z"
   },
   {
    "duration": 7,
    "start_time": "2022-05-31T08:17:17.792Z"
   },
   {
    "duration": 11,
    "start_time": "2022-05-31T08:17:27.605Z"
   },
   {
    "duration": 575,
    "start_time": "2022-05-31T08:17:39.205Z"
   },
   {
    "duration": 16,
    "start_time": "2022-05-31T08:17:39.782Z"
   },
   {
    "duration": 33,
    "start_time": "2022-05-31T08:17:39.802Z"
   },
   {
    "duration": 12,
    "start_time": "2022-05-31T08:17:40.470Z"
   },
   {
    "duration": 7,
    "start_time": "2022-05-31T08:17:40.886Z"
   },
   {
    "duration": 6,
    "start_time": "2022-05-31T08:17:41.261Z"
   },
   {
    "duration": 9,
    "start_time": "2022-05-31T08:17:41.619Z"
   },
   {
    "duration": 4,
    "start_time": "2022-05-31T08:17:41.772Z"
   },
   {
    "duration": 6,
    "start_time": "2022-05-31T08:17:41.962Z"
   },
   {
    "duration": 12,
    "start_time": "2022-05-31T08:17:42.136Z"
   },
   {
    "duration": 5,
    "start_time": "2022-05-31T08:17:42.302Z"
   },
   {
    "duration": 10,
    "start_time": "2022-05-31T08:17:42.473Z"
   },
   {
    "duration": 6,
    "start_time": "2022-05-31T08:17:42.657Z"
   },
   {
    "duration": 10,
    "start_time": "2022-05-31T08:17:42.844Z"
   },
   {
    "duration": 9,
    "start_time": "2022-05-31T08:17:42.998Z"
   },
   {
    "duration": 16,
    "start_time": "2022-05-31T08:17:43.167Z"
   },
   {
    "duration": 15,
    "start_time": "2022-05-31T08:17:43.388Z"
   },
   {
    "duration": 6,
    "start_time": "2022-05-31T08:19:04.120Z"
   },
   {
    "duration": 5,
    "start_time": "2022-05-31T08:19:29.449Z"
   },
   {
    "duration": 10,
    "start_time": "2022-05-31T08:20:45.455Z"
   },
   {
    "duration": 7,
    "start_time": "2022-05-31T08:21:43.906Z"
   },
   {
    "duration": 70,
    "start_time": "2022-05-31T09:06:39.205Z"
   },
   {
    "duration": 12,
    "start_time": "2022-05-31T09:07:13.911Z"
   },
   {
    "duration": 6,
    "start_time": "2022-05-31T09:08:12.275Z"
   },
   {
    "duration": 28,
    "start_time": "2022-05-31T09:10:20.558Z"
   },
   {
    "duration": 551,
    "start_time": "2022-05-31T09:10:31.895Z"
   },
   {
    "duration": 18,
    "start_time": "2022-05-31T09:10:32.448Z"
   },
   {
    "duration": 11,
    "start_time": "2022-05-31T09:10:32.664Z"
   },
   {
    "duration": 6,
    "start_time": "2022-05-31T09:10:32.958Z"
   },
   {
    "duration": 6,
    "start_time": "2022-05-31T09:10:33.307Z"
   },
   {
    "duration": 7,
    "start_time": "2022-05-31T09:10:33.804Z"
   },
   {
    "duration": 8,
    "start_time": "2022-05-31T09:10:34.151Z"
   },
   {
    "duration": 4,
    "start_time": "2022-05-31T09:10:34.319Z"
   },
   {
    "duration": 7,
    "start_time": "2022-05-31T09:10:34.509Z"
   },
   {
    "duration": 9,
    "start_time": "2022-05-31T09:10:34.835Z"
   },
   {
    "duration": 7,
    "start_time": "2022-05-31T09:10:35.011Z"
   },
   {
    "duration": 17,
    "start_time": "2022-05-31T09:10:35.198Z"
   },
   {
    "duration": 7,
    "start_time": "2022-05-31T09:10:35.387Z"
   },
   {
    "duration": 12,
    "start_time": "2022-05-31T09:10:35.576Z"
   },
   {
    "duration": 10,
    "start_time": "2022-05-31T09:10:35.787Z"
   },
   {
    "duration": 14,
    "start_time": "2022-05-31T09:10:35.962Z"
   },
   {
    "duration": 10,
    "start_time": "2022-05-31T09:10:36.138Z"
   },
   {
    "duration": 20,
    "start_time": "2022-05-31T09:10:40.014Z"
   },
   {
    "duration": 25,
    "start_time": "2022-05-31T09:12:26.979Z"
   },
   {
    "duration": 25,
    "start_time": "2022-05-31T09:12:33.247Z"
   },
   {
    "duration": 24,
    "start_time": "2022-05-31T09:13:35.395Z"
   },
   {
    "duration": 25,
    "start_time": "2022-05-31T09:14:09.202Z"
   },
   {
    "duration": 34,
    "start_time": "2022-05-31T09:16:14.993Z"
   },
   {
    "duration": 21,
    "start_time": "2022-05-31T09:16:38.021Z"
   },
   {
    "duration": 96,
    "start_time": "2022-05-31T09:16:45.443Z"
   },
   {
    "duration": 505,
    "start_time": "2022-05-31T09:16:55.294Z"
   },
   {
    "duration": 17,
    "start_time": "2022-05-31T09:16:55.819Z"
   },
   {
    "duration": 13,
    "start_time": "2022-05-31T09:16:56.405Z"
   },
   {
    "duration": 9,
    "start_time": "2022-05-31T09:16:56.734Z"
   },
   {
    "duration": 6,
    "start_time": "2022-05-31T09:16:57.063Z"
   },
   {
    "duration": 5,
    "start_time": "2022-05-31T09:16:57.407Z"
   },
   {
    "duration": 8,
    "start_time": "2022-05-31T09:16:57.743Z"
   },
   {
    "duration": 5,
    "start_time": "2022-05-31T09:16:57.899Z"
   },
   {
    "duration": 8,
    "start_time": "2022-05-31T09:16:58.057Z"
   },
   {
    "duration": 9,
    "start_time": "2022-05-31T09:16:58.242Z"
   },
   {
    "duration": 5,
    "start_time": "2022-05-31T09:16:58.403Z"
   },
   {
    "duration": 11,
    "start_time": "2022-05-31T09:16:58.575Z"
   },
   {
    "duration": 7,
    "start_time": "2022-05-31T09:16:58.740Z"
   },
   {
    "duration": 10,
    "start_time": "2022-05-31T09:16:58.899Z"
   },
   {
    "duration": 11,
    "start_time": "2022-05-31T09:16:59.078Z"
   },
   {
    "duration": 26,
    "start_time": "2022-05-31T09:16:59.228Z"
   },
   {
    "duration": 14,
    "start_time": "2022-05-31T09:16:59.401Z"
   },
   {
    "duration": 47,
    "start_time": "2022-05-31T09:17:02.909Z"
   },
   {
    "duration": 82,
    "start_time": "2022-05-31T09:44:04.781Z"
   },
   {
    "duration": 17,
    "start_time": "2022-05-31T09:44:05.099Z"
   },
   {
    "duration": 11,
    "start_time": "2022-05-31T09:44:05.646Z"
   },
   {
    "duration": 5,
    "start_time": "2022-05-31T09:44:06.095Z"
   },
   {
    "duration": 5,
    "start_time": "2022-05-31T09:44:06.461Z"
   },
   {
    "duration": 5,
    "start_time": "2022-05-31T09:44:06.820Z"
   },
   {
    "duration": 8,
    "start_time": "2022-05-31T09:44:07.173Z"
   },
   {
    "duration": 4,
    "start_time": "2022-05-31T09:44:07.359Z"
   },
   {
    "duration": 15,
    "start_time": "2022-05-31T09:44:07.556Z"
   },
   {
    "duration": 8,
    "start_time": "2022-05-31T09:44:07.762Z"
   },
   {
    "duration": 4,
    "start_time": "2022-05-31T09:44:07.959Z"
   },
   {
    "duration": 11,
    "start_time": "2022-05-31T09:44:08.168Z"
   },
   {
    "duration": 6,
    "start_time": "2022-05-31T09:44:08.370Z"
   },
   {
    "duration": 8,
    "start_time": "2022-05-31T09:44:08.590Z"
   },
   {
    "duration": 7,
    "start_time": "2022-05-31T09:44:08.801Z"
   },
   {
    "duration": 19,
    "start_time": "2022-05-31T09:44:09.022Z"
   },
   {
    "duration": 9,
    "start_time": "2022-05-31T09:44:09.239Z"
   },
   {
    "duration": 16,
    "start_time": "2022-05-31T09:44:11.423Z"
   },
   {
    "duration": 4,
    "start_time": "2022-05-31T09:48:58.362Z"
   },
   {
    "duration": 74,
    "start_time": "2022-05-31T09:52:03.750Z"
   },
   {
    "duration": 14,
    "start_time": "2022-05-31T09:52:20.558Z"
   },
   {
    "duration": 13,
    "start_time": "2022-05-31T09:52:35.142Z"
   },
   {
    "duration": 55,
    "start_time": "2022-05-31T09:52:41.721Z"
   },
   {
    "duration": 595,
    "start_time": "2022-05-31T09:52:46.191Z"
   },
   {
    "duration": 18,
    "start_time": "2022-05-31T09:52:46.789Z"
   },
   {
    "duration": 11,
    "start_time": "2022-05-31T09:52:47.199Z"
   },
   {
    "duration": 5,
    "start_time": "2022-05-31T09:52:47.562Z"
   },
   {
    "duration": 5,
    "start_time": "2022-05-31T09:52:47.943Z"
   },
   {
    "duration": 6,
    "start_time": "2022-05-31T09:52:48.277Z"
   },
   {
    "duration": 9,
    "start_time": "2022-05-31T09:52:48.637Z"
   },
   {
    "duration": 4,
    "start_time": "2022-05-31T09:52:48.795Z"
   },
   {
    "duration": 7,
    "start_time": "2022-05-31T09:52:48.993Z"
   },
   {
    "duration": 10,
    "start_time": "2022-05-31T09:52:49.159Z"
   },
   {
    "duration": 7,
    "start_time": "2022-05-31T09:52:49.332Z"
   },
   {
    "duration": 17,
    "start_time": "2022-05-31T09:52:49.512Z"
   },
   {
    "duration": 7,
    "start_time": "2022-05-31T09:52:49.686Z"
   },
   {
    "duration": 11,
    "start_time": "2022-05-31T09:52:49.860Z"
   },
   {
    "duration": 10,
    "start_time": "2022-05-31T09:52:50.027Z"
   },
   {
    "duration": 19,
    "start_time": "2022-05-31T09:52:50.226Z"
   },
   {
    "duration": 10,
    "start_time": "2022-05-31T09:52:50.385Z"
   },
   {
    "duration": 17,
    "start_time": "2022-05-31T09:52:52.235Z"
   },
   {
    "duration": 33,
    "start_time": "2022-05-31T09:52:52.630Z"
   },
   {
    "duration": 13,
    "start_time": "2022-05-31T09:54:50.825Z"
   },
   {
    "duration": 24,
    "start_time": "2022-05-31T09:54:55.692Z"
   },
   {
    "duration": 2,
    "start_time": "2022-05-31T10:00:09.683Z"
   },
   {
    "duration": 9,
    "start_time": "2022-05-31T10:01:19.285Z"
   },
   {
    "duration": 5,
    "start_time": "2022-05-31T10:04:18.384Z"
   },
   {
    "duration": 8,
    "start_time": "2022-05-31T10:04:36.500Z"
   },
   {
    "duration": 9,
    "start_time": "2022-05-31T10:04:46.981Z"
   },
   {
    "duration": 6,
    "start_time": "2022-05-31T10:05:00.690Z"
   },
   {
    "duration": 443,
    "start_time": "2022-05-31T10:18:43.597Z"
   },
   {
    "duration": 10,
    "start_time": "2022-05-31T10:19:09.123Z"
   },
   {
    "duration": 28,
    "start_time": "2022-05-31T10:19:16.307Z"
   },
   {
    "duration": 12,
    "start_time": "2022-05-31T10:19:48.555Z"
   },
   {
    "duration": 12,
    "start_time": "2022-05-31T10:20:43.965Z"
   },
   {
    "duration": 22,
    "start_time": "2022-05-31T10:21:00.612Z"
   },
   {
    "duration": 14,
    "start_time": "2022-05-31T10:23:36.570Z"
   },
   {
    "duration": 17,
    "start_time": "2022-05-31T10:26:07.488Z"
   },
   {
    "duration": 13,
    "start_time": "2022-05-31T10:26:54.044Z"
   },
   {
    "duration": 12,
    "start_time": "2022-05-31T10:26:54.545Z"
   },
   {
    "duration": 89,
    "start_time": "2022-05-31T10:27:01.784Z"
   },
   {
    "duration": 21,
    "start_time": "2022-05-31T10:27:02.138Z"
   },
   {
    "duration": 16,
    "start_time": "2022-05-31T10:27:02.625Z"
   },
   {
    "duration": 7,
    "start_time": "2022-05-31T10:27:02.993Z"
   },
   {
    "duration": 5,
    "start_time": "2022-05-31T10:27:03.375Z"
   },
   {
    "duration": 5,
    "start_time": "2022-05-31T10:27:03.771Z"
   },
   {
    "duration": 9,
    "start_time": "2022-05-31T10:27:04.163Z"
   },
   {
    "duration": 4,
    "start_time": "2022-05-31T10:27:04.346Z"
   },
   {
    "duration": 6,
    "start_time": "2022-05-31T10:27:04.543Z"
   },
   {
    "duration": 9,
    "start_time": "2022-05-31T10:27:04.749Z"
   },
   {
    "duration": 7,
    "start_time": "2022-05-31T10:27:04.974Z"
   },
   {
    "duration": 17,
    "start_time": "2022-05-31T10:27:05.199Z"
   },
   {
    "duration": 5,
    "start_time": "2022-05-31T10:27:05.442Z"
   },
   {
    "duration": 8,
    "start_time": "2022-05-31T10:27:05.671Z"
   },
   {
    "duration": 6,
    "start_time": "2022-05-31T10:27:05.942Z"
   },
   {
    "duration": 17,
    "start_time": "2022-05-31T10:27:06.515Z"
   },
   {
    "duration": 9,
    "start_time": "2022-05-31T10:27:06.892Z"
   },
   {
    "duration": 21,
    "start_time": "2022-05-31T10:27:13.581Z"
   },
   {
    "duration": 9,
    "start_time": "2022-05-31T10:27:14.547Z"
   },
   {
    "duration": 7,
    "start_time": "2022-05-31T10:27:15.742Z"
   },
   {
    "duration": 22,
    "start_time": "2022-05-31T10:27:16.304Z"
   },
   {
    "duration": 10,
    "start_time": "2022-05-31T10:28:11.759Z"
   },
   {
    "duration": 9,
    "start_time": "2022-05-31T10:28:25.887Z"
   },
   {
    "duration": 12,
    "start_time": "2022-05-31T10:28:39.839Z"
   },
   {
    "duration": 14,
    "start_time": "2022-05-31T10:29:53.778Z"
   },
   {
    "duration": 14,
    "start_time": "2022-05-31T10:29:55.720Z"
   },
   {
    "duration": 19,
    "start_time": "2022-05-31T10:33:02.420Z"
   },
   {
    "duration": 13,
    "start_time": "2022-05-31T10:33:05.873Z"
   },
   {
    "duration": 14,
    "start_time": "2022-05-31T10:33:06.309Z"
   },
   {
    "duration": 19,
    "start_time": "2022-05-31T10:34:18.048Z"
   },
   {
    "duration": 540,
    "start_time": "2022-05-31T10:34:37.612Z"
   },
   {
    "duration": 15,
    "start_time": "2022-05-31T10:34:38.154Z"
   },
   {
    "duration": 9,
    "start_time": "2022-05-31T10:34:38.454Z"
   },
   {
    "duration": 5,
    "start_time": "2022-05-31T10:34:38.750Z"
   },
   {
    "duration": 5,
    "start_time": "2022-05-31T10:34:39.086Z"
   },
   {
    "duration": 5,
    "start_time": "2022-05-31T10:34:39.417Z"
   },
   {
    "duration": 7,
    "start_time": "2022-05-31T10:34:39.743Z"
   },
   {
    "duration": 4,
    "start_time": "2022-05-31T10:34:39.911Z"
   },
   {
    "duration": 5,
    "start_time": "2022-05-31T10:34:40.080Z"
   },
   {
    "duration": 8,
    "start_time": "2022-05-31T10:34:40.238Z"
   },
   {
    "duration": 4,
    "start_time": "2022-05-31T10:34:40.396Z"
   },
   {
    "duration": 11,
    "start_time": "2022-05-31T10:34:40.574Z"
   },
   {
    "duration": 7,
    "start_time": "2022-05-31T10:34:40.739Z"
   },
   {
    "duration": 8,
    "start_time": "2022-05-31T10:34:40.892Z"
   },
   {
    "duration": 7,
    "start_time": "2022-05-31T10:34:41.098Z"
   },
   {
    "duration": 15,
    "start_time": "2022-05-31T10:34:41.275Z"
   },
   {
    "duration": 8,
    "start_time": "2022-05-31T10:34:41.413Z"
   },
   {
    "duration": 16,
    "start_time": "2022-05-31T10:34:43.081Z"
   },
   {
    "duration": 15,
    "start_time": "2022-05-31T10:34:43.429Z"
   },
   {
    "duration": 10,
    "start_time": "2022-05-31T10:34:43.868Z"
   },
   {
    "duration": 91,
    "start_time": "2022-05-31T10:34:44.783Z"
   },
   {
    "duration": 13,
    "start_time": "2022-05-31T10:34:45.610Z"
   },
   {
    "duration": 12,
    "start_time": "2022-05-31T10:34:57.175Z"
   },
   {
    "duration": 24,
    "start_time": "2022-06-01T11:58:24.969Z"
   },
   {
    "duration": 10,
    "start_time": "2022-06-01T11:59:16.913Z"
   },
   {
    "duration": 17,
    "start_time": "2022-06-01T11:59:45.788Z"
   },
   {
    "duration": 18,
    "start_time": "2022-06-01T12:00:05.046Z"
   },
   {
    "duration": 138,
    "start_time": "2022-06-01T12:00:37.536Z"
   },
   {
    "duration": 100,
    "start_time": "2022-06-01T12:00:45.095Z"
   },
   {
    "duration": 13,
    "start_time": "2022-06-01T12:00:47.928Z"
   },
   {
    "duration": 44,
    "start_time": "2022-06-01T12:00:50.176Z"
   },
   {
    "duration": 40,
    "start_time": "2022-06-01T12:01:04.818Z"
   },
   {
    "duration": 58,
    "start_time": "2022-06-01T12:02:15.927Z"
   },
   {
    "duration": 21,
    "start_time": "2022-06-01T12:02:32.748Z"
   },
   {
    "duration": 18,
    "start_time": "2022-06-01T12:02:48.714Z"
   },
   {
    "duration": 41,
    "start_time": "2022-06-01T12:03:30.896Z"
   },
   {
    "duration": 19,
    "start_time": "2022-06-01T12:03:46.856Z"
   },
   {
    "duration": 18,
    "start_time": "2022-06-01T12:03:54.560Z"
   },
   {
    "duration": 19,
    "start_time": "2022-06-01T12:04:00.388Z"
   },
   {
    "duration": 18,
    "start_time": "2022-06-01T12:04:04.218Z"
   },
   {
    "duration": 18,
    "start_time": "2022-06-01T12:04:23.736Z"
   },
   {
    "duration": 19,
    "start_time": "2022-06-01T12:04:37.526Z"
   },
   {
    "duration": 11,
    "start_time": "2022-06-01T12:07:56.628Z"
   },
   {
    "duration": 14,
    "start_time": "2022-06-01T12:08:07.578Z"
   },
   {
    "duration": 12,
    "start_time": "2022-06-01T12:08:56.428Z"
   },
   {
    "duration": 14,
    "start_time": "2022-06-01T12:09:02.430Z"
   },
   {
    "duration": 12,
    "start_time": "2022-06-01T12:09:18.280Z"
   },
   {
    "duration": 13,
    "start_time": "2022-06-01T12:11:26.338Z"
   },
   {
    "duration": 16,
    "start_time": "2022-06-01T12:11:33.811Z"
   },
   {
    "duration": 21,
    "start_time": "2022-06-01T12:17:23.479Z"
   },
   {
    "duration": 23,
    "start_time": "2022-06-01T12:18:04.709Z"
   },
   {
    "duration": 28,
    "start_time": "2022-06-01T12:18:52.448Z"
   },
   {
    "duration": 23,
    "start_time": "2022-06-01T12:24:26.467Z"
   },
   {
    "duration": 20,
    "start_time": "2022-06-01T12:24:41.069Z"
   },
   {
    "duration": 13,
    "start_time": "2022-06-01T12:30:57.137Z"
   },
   {
    "duration": 84,
    "start_time": "2022-06-01T12:31:12.969Z"
   },
   {
    "duration": 15,
    "start_time": "2022-06-01T12:31:13.329Z"
   },
   {
    "duration": 11,
    "start_time": "2022-06-01T12:31:13.907Z"
   },
   {
    "duration": 5,
    "start_time": "2022-06-01T12:31:14.279Z"
   },
   {
    "duration": 5,
    "start_time": "2022-06-01T12:31:14.667Z"
   },
   {
    "duration": 5,
    "start_time": "2022-06-01T12:31:15.021Z"
   },
   {
    "duration": 7,
    "start_time": "2022-06-01T12:31:15.389Z"
   },
   {
    "duration": 4,
    "start_time": "2022-06-01T12:31:15.577Z"
   },
   {
    "duration": 5,
    "start_time": "2022-06-01T12:31:15.770Z"
   },
   {
    "duration": 7,
    "start_time": "2022-06-01T12:31:15.927Z"
   },
   {
    "duration": 5,
    "start_time": "2022-06-01T12:31:16.109Z"
   },
   {
    "duration": 10,
    "start_time": "2022-06-01T12:31:16.330Z"
   },
   {
    "duration": 5,
    "start_time": "2022-06-01T12:31:16.501Z"
   },
   {
    "duration": 8,
    "start_time": "2022-06-01T12:31:16.706Z"
   },
   {
    "duration": 7,
    "start_time": "2022-06-01T12:31:16.901Z"
   },
   {
    "duration": 12,
    "start_time": "2022-06-01T12:31:17.080Z"
   },
   {
    "duration": 9,
    "start_time": "2022-06-01T12:31:17.307Z"
   },
   {
    "duration": 17,
    "start_time": "2022-06-01T12:31:19.388Z"
   },
   {
    "duration": 9,
    "start_time": "2022-06-01T12:31:19.794Z"
   },
   {
    "duration": 7,
    "start_time": "2022-06-01T12:31:20.208Z"
   },
   {
    "duration": 14,
    "start_time": "2022-06-01T12:31:20.436Z"
   },
   {
    "duration": 12,
    "start_time": "2022-06-01T12:31:20.658Z"
   },
   {
    "duration": 22,
    "start_time": "2022-06-01T12:31:21.279Z"
   },
   {
    "duration": 16,
    "start_time": "2022-06-01T12:31:22.414Z"
   },
   {
    "duration": 14,
    "start_time": "2022-06-01T12:32:00.999Z"
   },
   {
    "duration": 27,
    "start_time": "2022-06-01T12:32:10.270Z"
   },
   {
    "duration": 30,
    "start_time": "2022-06-01T12:32:22.609Z"
   },
   {
    "duration": 23,
    "start_time": "2022-06-01T12:32:32.684Z"
   },
   {
    "duration": 22,
    "start_time": "2022-06-01T12:33:52.018Z"
   },
   {
    "duration": 20,
    "start_time": "2022-06-01T12:34:00.647Z"
   },
   {
    "duration": 20,
    "start_time": "2022-06-01T12:34:11.509Z"
   },
   {
    "duration": 21,
    "start_time": "2022-06-01T12:34:42.386Z"
   },
   {
    "duration": 17,
    "start_time": "2022-06-01T12:35:05.241Z"
   },
   {
    "duration": 32,
    "start_time": "2022-06-01T12:35:18.891Z"
   },
   {
    "duration": 21,
    "start_time": "2022-06-01T12:36:56.644Z"
   },
   {
    "duration": 17,
    "start_time": "2022-06-01T12:37:04.410Z"
   },
   {
    "duration": 21,
    "start_time": "2022-06-01T12:37:11.408Z"
   },
   {
    "duration": 23,
    "start_time": "2022-06-01T12:37:35.332Z"
   },
   {
    "duration": 20,
    "start_time": "2022-06-01T12:37:46.811Z"
   },
   {
    "duration": 480,
    "start_time": "2022-06-01T12:38:21.919Z"
   },
   {
    "duration": 24,
    "start_time": "2022-06-01T12:38:57.466Z"
   },
   {
    "duration": 23,
    "start_time": "2022-06-01T12:40:17.011Z"
   },
   {
    "duration": 21,
    "start_time": "2022-06-01T12:41:23.789Z"
   },
   {
    "duration": 21,
    "start_time": "2022-06-01T12:43:00.310Z"
   },
   {
    "duration": 25,
    "start_time": "2022-06-01T12:43:15.229Z"
   },
   {
    "duration": 31,
    "start_time": "2022-06-01T12:58:32.000Z"
   },
   {
    "duration": 24,
    "start_time": "2022-06-01T13:13:03.910Z"
   },
   {
    "duration": 36,
    "start_time": "2022-06-01T13:41:41.414Z"
   },
   {
    "duration": 31,
    "start_time": "2022-06-01T13:41:58.754Z"
   },
   {
    "duration": 34,
    "start_time": "2022-06-01T13:42:11.374Z"
   },
   {
    "duration": 40,
    "start_time": "2022-06-01T13:43:01.693Z"
   },
   {
    "duration": 33,
    "start_time": "2022-06-01T13:43:50.742Z"
   },
   {
    "duration": 23,
    "start_time": "2022-06-01T13:44:44.893Z"
   },
   {
    "duration": 37,
    "start_time": "2022-06-01T13:44:58.263Z"
   },
   {
    "duration": 31,
    "start_time": "2022-06-01T13:45:12.113Z"
   },
   {
    "duration": 31,
    "start_time": "2022-06-01T13:45:35.999Z"
   },
   {
    "duration": 31,
    "start_time": "2022-06-01T13:45:40.851Z"
   },
   {
    "duration": 35,
    "start_time": "2022-06-01T13:45:47.782Z"
   },
   {
    "duration": 15,
    "start_time": "2022-06-01T13:47:07.599Z"
   },
   {
    "duration": 539,
    "start_time": "2022-06-01T13:47:20.544Z"
   },
   {
    "duration": 16,
    "start_time": "2022-06-01T13:47:21.085Z"
   },
   {
    "duration": 11,
    "start_time": "2022-06-01T13:47:21.510Z"
   },
   {
    "duration": 5,
    "start_time": "2022-06-01T13:47:21.938Z"
   },
   {
    "duration": 6,
    "start_time": "2022-06-01T13:47:22.284Z"
   },
   {
    "duration": 4,
    "start_time": "2022-06-01T13:47:22.652Z"
   },
   {
    "duration": 8,
    "start_time": "2022-06-01T13:47:23.003Z"
   },
   {
    "duration": 4,
    "start_time": "2022-06-01T13:47:23.170Z"
   },
   {
    "duration": 5,
    "start_time": "2022-06-01T13:47:23.324Z"
   },
   {
    "duration": 8,
    "start_time": "2022-06-01T13:47:23.483Z"
   },
   {
    "duration": 7,
    "start_time": "2022-06-01T13:47:23.668Z"
   },
   {
    "duration": 12,
    "start_time": "2022-06-01T13:47:23.862Z"
   },
   {
    "duration": 6,
    "start_time": "2022-06-01T13:47:24.054Z"
   },
   {
    "duration": 9,
    "start_time": "2022-06-01T13:47:24.226Z"
   },
   {
    "duration": 7,
    "start_time": "2022-06-01T13:47:24.391Z"
   },
   {
    "duration": 14,
    "start_time": "2022-06-01T13:47:24.579Z"
   },
   {
    "duration": 9,
    "start_time": "2022-06-01T13:47:24.772Z"
   },
   {
    "duration": 18,
    "start_time": "2022-06-01T13:47:26.972Z"
   },
   {
    "duration": 10,
    "start_time": "2022-06-01T13:47:27.462Z"
   },
   {
    "duration": 8,
    "start_time": "2022-06-01T13:47:27.963Z"
   },
   {
    "duration": 16,
    "start_time": "2022-06-01T13:47:28.227Z"
   },
   {
    "duration": 13,
    "start_time": "2022-06-01T13:47:28.383Z"
   },
   {
    "duration": 21,
    "start_time": "2022-06-01T13:47:29.042Z"
   },
   {
    "duration": 27,
    "start_time": "2022-06-01T13:47:30.355Z"
   },
   {
    "duration": 25,
    "start_time": "2022-06-01T13:47:31.174Z"
   },
   {
    "duration": 25,
    "start_time": "2022-06-01T13:47:32.187Z"
   },
   {
    "duration": 34,
    "start_time": "2022-06-01T13:47:34.962Z"
   },
   {
    "duration": 41,
    "start_time": "2022-06-01T13:49:05.554Z"
   },
   {
    "duration": 35,
    "start_time": "2022-06-01T13:52:29.961Z"
   },
   {
    "duration": 40,
    "start_time": "2022-06-01T13:53:21.205Z"
   },
   {
    "duration": 35,
    "start_time": "2022-06-01T13:53:56.870Z"
   },
   {
    "duration": 40,
    "start_time": "2022-06-01T13:55:26.083Z"
   },
   {
    "duration": 45,
    "start_time": "2022-06-01T13:55:36.683Z"
   },
   {
    "duration": 46,
    "start_time": "2022-06-01T13:55:49.324Z"
   },
   {
    "duration": 48,
    "start_time": "2022-06-01T13:56:02.713Z"
   },
   {
    "duration": 41,
    "start_time": "2022-06-01T13:56:09.639Z"
   },
   {
    "duration": 39,
    "start_time": "2022-06-01T13:56:16.024Z"
   },
   {
    "duration": 5,
    "start_time": "2022-06-01T13:56:22.432Z"
   },
   {
    "duration": 39,
    "start_time": "2022-06-01T13:56:26.763Z"
   },
   {
    "duration": 37,
    "start_time": "2022-06-01T13:56:39.236Z"
   },
   {
    "duration": 42,
    "start_time": "2022-06-01T13:56:56.124Z"
   },
   {
    "duration": 39,
    "start_time": "2022-06-01T13:57:11.334Z"
   },
   {
    "duration": 46,
    "start_time": "2022-06-01T13:57:21.449Z"
   },
   {
    "duration": 39,
    "start_time": "2022-06-01T13:57:32.158Z"
   },
   {
    "duration": 36,
    "start_time": "2022-06-01T13:57:52.167Z"
   },
   {
    "duration": 38,
    "start_time": "2022-06-01T13:57:57.049Z"
   },
   {
    "duration": 39,
    "start_time": "2022-06-01T13:58:04.782Z"
   },
   {
    "duration": 40,
    "start_time": "2022-06-01T13:58:09.507Z"
   },
   {
    "duration": 43,
    "start_time": "2022-06-01T13:58:15.726Z"
   },
   {
    "duration": 41,
    "start_time": "2022-06-01T13:58:22.169Z"
   },
   {
    "duration": 6,
    "start_time": "2022-06-01T14:00:47.367Z"
   },
   {
    "duration": 473,
    "start_time": "2022-06-01T14:08:30.583Z"
   },
   {
    "duration": 14,
    "start_time": "2022-06-01T14:08:31.057Z"
   },
   {
    "duration": 9,
    "start_time": "2022-06-01T14:08:31.493Z"
   },
   {
    "duration": 5,
    "start_time": "2022-06-01T14:08:31.904Z"
   },
   {
    "duration": 6,
    "start_time": "2022-06-01T14:08:32.280Z"
   },
   {
    "duration": 6,
    "start_time": "2022-06-01T14:08:32.694Z"
   },
   {
    "duration": 7,
    "start_time": "2022-06-01T14:08:33.119Z"
   },
   {
    "duration": 3,
    "start_time": "2022-06-01T14:08:33.503Z"
   },
   {
    "duration": 7,
    "start_time": "2022-06-01T14:08:33.893Z"
   },
   {
    "duration": 7,
    "start_time": "2022-06-01T14:08:34.073Z"
   },
   {
    "duration": 6,
    "start_time": "2022-06-01T14:08:34.322Z"
   },
   {
    "duration": 10,
    "start_time": "2022-06-01T14:08:34.514Z"
   },
   {
    "duration": 5,
    "start_time": "2022-06-01T14:08:34.805Z"
   },
   {
    "duration": 8,
    "start_time": "2022-06-01T14:08:34.884Z"
   },
   {
    "duration": 7,
    "start_time": "2022-06-01T14:08:35.058Z"
   },
   {
    "duration": 12,
    "start_time": "2022-06-01T14:08:35.305Z"
   },
   {
    "duration": 9,
    "start_time": "2022-06-01T14:08:35.533Z"
   },
   {
    "duration": 15,
    "start_time": "2022-06-01T14:08:36.283Z"
   },
   {
    "duration": 11,
    "start_time": "2022-06-01T14:08:36.775Z"
   },
   {
    "duration": 6,
    "start_time": "2022-06-01T14:08:38.002Z"
   },
   {
    "duration": 13,
    "start_time": "2022-06-01T14:08:38.010Z"
   },
   {
    "duration": 14,
    "start_time": "2022-06-01T14:08:38.024Z"
   },
   {
    "duration": 19,
    "start_time": "2022-06-01T14:08:39.914Z"
   },
   {
    "duration": 21,
    "start_time": "2022-06-01T14:08:39.934Z"
   },
   {
    "duration": 21,
    "start_time": "2022-06-01T14:08:40.932Z"
   },
   {
    "duration": 26,
    "start_time": "2022-06-01T14:08:42.404Z"
   },
   {
    "duration": 36,
    "start_time": "2022-06-01T14:08:47.805Z"
   },
   {
    "duration": 69,
    "start_time": "2022-06-01T14:13:30.423Z"
   },
   {
    "duration": 74,
    "start_time": "2022-06-01T14:13:34.991Z"
   },
   {
    "duration": 15,
    "start_time": "2022-06-01T14:13:35.392Z"
   },
   {
    "duration": 14,
    "start_time": "2022-06-01T14:13:36.200Z"
   },
   {
    "duration": 7,
    "start_time": "2022-06-01T14:13:36.621Z"
   },
   {
    "duration": 5,
    "start_time": "2022-06-01T14:13:37.102Z"
   },
   {
    "duration": 6,
    "start_time": "2022-06-01T14:13:37.482Z"
   },
   {
    "duration": 7,
    "start_time": "2022-06-01T14:13:37.892Z"
   },
   {
    "duration": 4,
    "start_time": "2022-06-01T14:13:38.289Z"
   },
   {
    "duration": 6,
    "start_time": "2022-06-01T14:13:38.689Z"
   },
   {
    "duration": 9,
    "start_time": "2022-06-01T14:13:38.862Z"
   },
   {
    "duration": 7,
    "start_time": "2022-06-01T14:13:39.054Z"
   },
   {
    "duration": 11,
    "start_time": "2022-06-01T14:13:39.242Z"
   },
   {
    "duration": 6,
    "start_time": "2022-06-01T14:13:39.446Z"
   },
   {
    "duration": 7,
    "start_time": "2022-06-01T14:13:39.622Z"
   },
   {
    "duration": 6,
    "start_time": "2022-06-01T14:13:39.802Z"
   },
   {
    "duration": 12,
    "start_time": "2022-06-01T14:13:39.999Z"
   },
   {
    "duration": 9,
    "start_time": "2022-06-01T14:13:40.190Z"
   },
   {
    "duration": 16,
    "start_time": "2022-06-01T14:13:40.802Z"
   },
   {
    "duration": 9,
    "start_time": "2022-06-01T14:13:41.263Z"
   },
   {
    "duration": 6,
    "start_time": "2022-06-01T14:13:41.693Z"
   },
   {
    "duration": 16,
    "start_time": "2022-06-01T14:13:42.086Z"
   },
   {
    "duration": 14,
    "start_time": "2022-06-01T14:13:42.561Z"
   },
   {
    "duration": 20,
    "start_time": "2022-06-01T14:13:43.269Z"
   },
   {
    "duration": 23,
    "start_time": "2022-06-01T14:13:44.826Z"
   },
   {
    "duration": 24,
    "start_time": "2022-06-01T14:13:45.875Z"
   },
   {
    "duration": 24,
    "start_time": "2022-06-01T14:13:46.734Z"
   },
   {
    "duration": 62,
    "start_time": "2022-06-02T08:28:12.648Z"
   },
   {
    "duration": 511,
    "start_time": "2022-06-02T08:28:23.907Z"
   },
   {
    "duration": 17,
    "start_time": "2022-06-02T08:28:24.420Z"
   },
   {
    "duration": 11,
    "start_time": "2022-06-02T08:28:24.438Z"
   },
   {
    "duration": 5,
    "start_time": "2022-06-02T08:28:24.451Z"
   },
   {
    "duration": 24,
    "start_time": "2022-06-02T08:28:24.458Z"
   },
   {
    "duration": 5,
    "start_time": "2022-06-02T08:28:24.484Z"
   },
   {
    "duration": 9,
    "start_time": "2022-06-02T08:28:24.491Z"
   },
   {
    "duration": 5,
    "start_time": "2022-06-02T08:28:24.501Z"
   },
   {
    "duration": 13,
    "start_time": "2022-06-02T08:28:24.507Z"
   },
   {
    "duration": 8,
    "start_time": "2022-06-02T08:28:24.523Z"
   },
   {
    "duration": 6,
    "start_time": "2022-06-02T08:28:24.532Z"
   },
   {
    "duration": 43,
    "start_time": "2022-06-02T08:28:24.539Z"
   },
   {
    "duration": 10,
    "start_time": "2022-06-02T08:28:24.584Z"
   },
   {
    "duration": 9,
    "start_time": "2022-06-02T08:28:24.596Z"
   },
   {
    "duration": 6,
    "start_time": "2022-06-02T08:28:24.606Z"
   },
   {
    "duration": 14,
    "start_time": "2022-06-02T08:28:24.614Z"
   },
   {
    "duration": 10,
    "start_time": "2022-06-02T08:28:24.629Z"
   },
   {
    "duration": 46,
    "start_time": "2022-06-02T08:28:24.640Z"
   },
   {
    "duration": 11,
    "start_time": "2022-06-02T08:28:24.688Z"
   },
   {
    "duration": 13,
    "start_time": "2022-06-02T08:28:24.700Z"
   },
   {
    "duration": 22,
    "start_time": "2022-06-02T08:28:24.715Z"
   },
   {
    "duration": 32,
    "start_time": "2022-06-02T08:28:24.739Z"
   },
   {
    "duration": 30,
    "start_time": "2022-06-02T08:28:24.773Z"
   },
   {
    "duration": 31,
    "start_time": "2022-06-02T08:28:24.805Z"
   },
   {
    "duration": 54,
    "start_time": "2022-06-02T08:28:24.838Z"
   },
   {
    "duration": 26,
    "start_time": "2022-06-02T08:28:24.894Z"
   },
   {
    "duration": 61,
    "start_time": "2022-06-02T08:28:24.922Z"
   },
   {
    "duration": 18,
    "start_time": "2022-06-02T08:29:38.416Z"
   },
   {
    "duration": 7,
    "start_time": "2022-06-02T08:29:48.584Z"
   },
   {
    "duration": 7,
    "start_time": "2022-06-02T08:29:58.760Z"
   },
   {
    "duration": 18,
    "start_time": "2022-06-02T08:30:14.897Z"
   },
   {
    "duration": 74,
    "start_time": "2022-06-02T08:32:45.242Z"
   },
   {
    "duration": 18,
    "start_time": "2022-06-02T08:32:47.617Z"
   },
   {
    "duration": 18,
    "start_time": "2022-06-02T08:44:14.082Z"
   },
   {
    "duration": 22,
    "start_time": "2022-06-02T08:44:53.249Z"
   },
   {
    "duration": 737,
    "start_time": "2022-06-07T11:42:21.510Z"
   },
   {
    "duration": 18,
    "start_time": "2022-06-07T11:42:22.249Z"
   },
   {
    "duration": 10,
    "start_time": "2022-06-07T11:42:22.865Z"
   },
   {
    "duration": 6,
    "start_time": "2022-06-07T11:42:23.346Z"
   },
   {
    "duration": 5,
    "start_time": "2022-06-07T11:42:24.055Z"
   },
   {
    "duration": 4,
    "start_time": "2022-06-07T11:42:24.525Z"
   },
   {
    "duration": 10,
    "start_time": "2022-06-07T11:42:25.239Z"
   },
   {
    "duration": 7,
    "start_time": "2022-06-07T11:42:25.982Z"
   },
   {
    "duration": 8,
    "start_time": "2022-06-07T11:42:26.201Z"
   },
   {
    "duration": 5,
    "start_time": "2022-06-07T11:42:26.449Z"
   },
   {
    "duration": 11,
    "start_time": "2022-06-07T11:42:26.697Z"
   },
   {
    "duration": 5,
    "start_time": "2022-06-07T11:42:26.933Z"
   },
   {
    "duration": 12,
    "start_time": "2022-06-07T11:42:27.176Z"
   },
   {
    "duration": 9,
    "start_time": "2022-06-07T11:42:27.441Z"
   },
   {
    "duration": 14,
    "start_time": "2022-06-07T11:42:27.676Z"
   },
   {
    "duration": 13,
    "start_time": "2022-06-07T11:42:27.934Z"
   },
   {
    "duration": 4,
    "start_time": "2022-06-07T11:42:34.028Z"
   },
   {
    "duration": 21,
    "start_time": "2022-06-07T11:43:31.283Z"
   },
   {
    "duration": 16,
    "start_time": "2022-06-07T11:43:37.449Z"
   },
   {
    "duration": 4,
    "start_time": "2022-06-07T11:44:08.362Z"
   },
   {
    "duration": 5,
    "start_time": "2022-06-07T11:44:13.376Z"
   },
   {
    "duration": 6,
    "start_time": "2022-06-07T11:44:19.398Z"
   },
   {
    "duration": 5,
    "start_time": "2022-06-07T11:44:27.527Z"
   },
   {
    "duration": 21,
    "start_time": "2022-06-07T11:46:17.435Z"
   },
   {
    "duration": 23,
    "start_time": "2022-06-07T11:47:25.988Z"
   },
   {
    "duration": 69,
    "start_time": "2022-06-07T11:50:40.234Z"
   },
   {
    "duration": 20,
    "start_time": "2022-06-07T11:50:45.527Z"
   },
   {
    "duration": 3,
    "start_time": "2022-06-07T11:50:48.823Z"
   },
   {
    "duration": 45,
    "start_time": "2022-06-07T11:50:54.460Z"
   },
   {
    "duration": 16,
    "start_time": "2022-06-07T11:51:00.892Z"
   },
   {
    "duration": 9,
    "start_time": "2022-06-07T11:51:04.443Z"
   },
   {
    "duration": 7,
    "start_time": "2022-06-07T11:51:07.531Z"
   },
   {
    "duration": 13,
    "start_time": "2022-06-07T11:51:11.066Z"
   },
   {
    "duration": 13,
    "start_time": "2022-06-07T11:51:12.893Z"
   },
   {
    "duration": 21,
    "start_time": "2022-06-07T11:51:17.689Z"
   },
   {
    "duration": 26,
    "start_time": "2022-06-07T11:51:39.352Z"
   },
   {
    "duration": 25,
    "start_time": "2022-06-07T11:51:43.942Z"
   },
   {
    "duration": 35,
    "start_time": "2022-06-07T11:51:51.439Z"
   },
   {
    "duration": 47,
    "start_time": "2022-06-07T11:52:22.632Z"
   },
   {
    "duration": 20,
    "start_time": "2022-06-07T11:58:21.070Z"
   },
   {
    "duration": 42,
    "start_time": "2022-06-07T11:59:06.765Z"
   },
   {
    "duration": 21,
    "start_time": "2022-06-07T11:59:10.476Z"
   },
   {
    "duration": 22,
    "start_time": "2022-06-07T11:59:33.534Z"
   },
   {
    "duration": 31,
    "start_time": "2022-06-07T11:59:39.958Z"
   },
   {
    "duration": 15,
    "start_time": "2022-06-07T12:00:14.374Z"
   },
   {
    "duration": 553,
    "start_time": "2022-06-07T12:00:33.103Z"
   },
   {
    "duration": 17,
    "start_time": "2022-06-07T12:00:33.659Z"
   },
   {
    "duration": 10,
    "start_time": "2022-06-07T12:00:34.356Z"
   },
   {
    "duration": 6,
    "start_time": "2022-06-07T12:00:34.711Z"
   },
   {
    "duration": 6,
    "start_time": "2022-06-07T12:00:35.303Z"
   },
   {
    "duration": 5,
    "start_time": "2022-06-07T12:00:35.523Z"
   },
   {
    "duration": 8,
    "start_time": "2022-06-07T12:00:36.128Z"
   },
   {
    "duration": 5,
    "start_time": "2022-06-07T12:00:36.658Z"
   },
   {
    "duration": 8,
    "start_time": "2022-06-07T12:00:37.012Z"
   },
   {
    "duration": 5,
    "start_time": "2022-06-07T12:00:37.046Z"
   },
   {
    "duration": 11,
    "start_time": "2022-06-07T12:00:37.223Z"
   },
   {
    "duration": 5,
    "start_time": "2022-06-07T12:00:37.416Z"
   },
   {
    "duration": 9,
    "start_time": "2022-06-07T12:00:37.606Z"
   },
   {
    "duration": 8,
    "start_time": "2022-06-07T12:00:37.785Z"
   },
   {
    "duration": 13,
    "start_time": "2022-06-07T12:00:37.977Z"
   },
   {
    "duration": 8,
    "start_time": "2022-06-07T12:00:38.187Z"
   },
   {
    "duration": 16,
    "start_time": "2022-06-07T12:00:38.834Z"
   },
   {
    "duration": 19,
    "start_time": "2022-06-07T12:00:40.061Z"
   },
   {
    "duration": 32,
    "start_time": "2022-06-07T12:00:40.423Z"
   },
   {
    "duration": 84,
    "start_time": "2022-06-07T12:06:23.170Z"
   },
   {
    "duration": 498,
    "start_time": "2022-06-07T12:06:29.010Z"
   },
   {
    "duration": 18,
    "start_time": "2022-06-07T12:06:29.510Z"
   },
   {
    "duration": 14,
    "start_time": "2022-06-07T12:06:30.171Z"
   },
   {
    "duration": 6,
    "start_time": "2022-06-07T12:06:30.575Z"
   },
   {
    "duration": 6,
    "start_time": "2022-06-07T12:06:31.170Z"
   },
   {
    "duration": 5,
    "start_time": "2022-06-07T12:06:31.535Z"
   },
   {
    "duration": 8,
    "start_time": "2022-06-07T12:06:32.157Z"
   },
   {
    "duration": 5,
    "start_time": "2022-06-07T12:06:32.766Z"
   },
   {
    "duration": 7,
    "start_time": "2022-06-07T12:06:32.974Z"
   },
   {
    "duration": 6,
    "start_time": "2022-06-07T12:06:33.170Z"
   },
   {
    "duration": 13,
    "start_time": "2022-06-07T12:06:33.584Z"
   },
   {
    "duration": 7,
    "start_time": "2022-06-07T12:06:33.781Z"
   },
   {
    "duration": 9,
    "start_time": "2022-06-07T12:06:33.962Z"
   },
   {
    "duration": 9,
    "start_time": "2022-06-07T12:06:34.158Z"
   },
   {
    "duration": 19,
    "start_time": "2022-06-07T12:06:34.335Z"
   },
   {
    "duration": 9,
    "start_time": "2022-06-07T12:06:34.524Z"
   },
   {
    "duration": 5,
    "start_time": "2022-06-07T12:06:34.921Z"
   },
   {
    "duration": 20,
    "start_time": "2022-06-07T12:06:37.012Z"
   },
   {
    "duration": 4,
    "start_time": "2022-06-07T12:06:37.974Z"
   },
   {
    "duration": 539,
    "start_time": "2022-06-07T12:10:10.223Z"
   },
   {
    "duration": 15,
    "start_time": "2022-06-07T12:10:10.800Z"
   },
   {
    "duration": 9,
    "start_time": "2022-06-07T12:10:11.413Z"
   },
   {
    "duration": 5,
    "start_time": "2022-06-07T12:10:11.833Z"
   },
   {
    "duration": 5,
    "start_time": "2022-06-07T12:10:12.498Z"
   },
   {
    "duration": 5,
    "start_time": "2022-06-07T12:10:12.866Z"
   },
   {
    "duration": 7,
    "start_time": "2022-06-07T12:10:13.474Z"
   },
   {
    "duration": 6,
    "start_time": "2022-06-07T12:10:14.122Z"
   },
   {
    "duration": 10,
    "start_time": "2022-06-07T12:10:14.287Z"
   },
   {
    "duration": 6,
    "start_time": "2022-06-07T12:10:14.507Z"
   },
   {
    "duration": 16,
    "start_time": "2022-06-07T12:10:14.706Z"
   },
   {
    "duration": 6,
    "start_time": "2022-06-07T12:10:15.106Z"
   },
   {
    "duration": 11,
    "start_time": "2022-06-07T12:10:15.323Z"
   },
   {
    "duration": 10,
    "start_time": "2022-06-07T12:10:15.574Z"
   },
   {
    "duration": 18,
    "start_time": "2022-06-07T12:10:15.863Z"
   },
   {
    "duration": 13,
    "start_time": "2022-06-07T12:10:16.082Z"
   },
   {
    "duration": 4,
    "start_time": "2022-06-07T12:10:16.622Z"
   },
   {
    "duration": 20,
    "start_time": "2022-06-07T12:10:17.494Z"
   },
   {
    "duration": 97,
    "start_time": "2022-06-07T12:10:17.961Z"
   },
   {
    "duration": 9,
    "start_time": "2022-06-07T12:10:46.004Z"
   },
   {
    "duration": 18,
    "start_time": "2022-06-07T12:11:21.714Z"
   },
   {
    "duration": 8,
    "start_time": "2022-06-07T12:11:22.018Z"
   },
   {
    "duration": 37,
    "start_time": "2022-06-07T12:11:32.506Z"
   },
   {
    "duration": 16,
    "start_time": "2022-06-07T12:11:38.539Z"
   },
   {
    "duration": 9,
    "start_time": "2022-06-07T12:11:39.691Z"
   },
   {
    "duration": 7,
    "start_time": "2022-06-07T12:11:41.735Z"
   },
   {
    "duration": 14,
    "start_time": "2022-06-07T12:11:42.328Z"
   },
   {
    "duration": 16,
    "start_time": "2022-06-07T12:11:42.636Z"
   },
   {
    "duration": 28,
    "start_time": "2022-06-07T12:11:45.417Z"
   },
   {
    "duration": 26,
    "start_time": "2022-06-07T12:42:49.154Z"
   },
   {
    "duration": 25,
    "start_time": "2022-06-07T12:42:50.372Z"
   },
   {
    "duration": 24,
    "start_time": "2022-06-07T12:42:51.257Z"
   },
   {
    "duration": 43,
    "start_time": "2022-06-07T12:42:54.912Z"
   },
   {
    "duration": 526,
    "start_time": "2023-05-25T20:03:20.853Z"
   },
   {
    "duration": 17,
    "start_time": "2023-05-25T20:03:45.719Z"
   }
  ],
  "kernelspec": {
   "display_name": "Python 3 (ipykernel)",
   "language": "python",
   "name": "python3"
  },
  "language_info": {
   "codemirror_mode": {
    "name": "ipython",
    "version": 3
   },
   "file_extension": ".py",
   "mimetype": "text/x-python",
   "name": "python",
   "nbconvert_exporter": "python",
   "pygments_lexer": "ipython3",
   "version": "3.9.5"
  },
  "toc": {
   "base_numbering": 1,
   "nav_menu": {},
   "number_sections": false,
   "sideBar": true,
   "skip_h1_title": true,
   "title_cell": "Table of Contents",
   "title_sidebar": "Contents",
   "toc_cell": false,
   "toc_position": {},
   "toc_section_display": true,
   "toc_window_display": true
  }
 },
 "nbformat": 4,
 "nbformat_minor": 5
}
